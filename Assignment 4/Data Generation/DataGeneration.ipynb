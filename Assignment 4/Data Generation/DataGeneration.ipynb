{
  "nbformat": 4,
  "nbformat_minor": 0,
  "metadata": {
    "colab": {
      "name": "DataGeneration.ipynb",
      "provenance": [],
      "collapsed_sections": []
    },
    "kernelspec": {
      "name": "python3",
      "display_name": "Python 3"
    }
  },
  "cells": [
    {
      "cell_type": "code",
      "metadata": {
        "id": "n6VMqVM8NkSM"
      },
      "source": [
        "#from faker import Faker\n",
        "import numpy as np\n",
        "import pandas as pd\n",
        "import random"
      ],
      "execution_count": 1,
      "outputs": []
    },
    {
      "cell_type": "code",
      "metadata": {
        "id": "4y-YjuQxNrG7"
      },
      "source": [
        "random.seed(30)\n",
        "low=1\n",
        "high=1000\n",
        "a=[]\n",
        "for i in range(0,10000):\n",
        "  a.append(random.randint(low, high))"
      ],
      "execution_count": 2,
      "outputs": []
    },
    {
      "cell_type": "code",
      "metadata": {
        "id": "TDdCRlaLTnLJ"
      },
      "source": [
        "snacks=['Bitterballen'\t    ,\n",
        "'Bonda'             ,\n",
        "'Cereal '           ,\n",
        "'Cokodok'           ,\n",
        "'Cracker nuts'      ,\n",
        "'Crepe'             ,\n",
        "'Croquette'         ,\n",
        "'Doughnut'          ,\n",
        "'Gulha'             ,\n",
        "'Khanom buang'      ,\n",
        "'Pakora'            ,\n",
        "'Pancakes'          ,\n",
        "'Parippu Vada'      ,\n",
        "'Pazham Pori'       ,\n",
        "'Pizza '            ,\n",
        "'Poffertjes'        ,\n",
        "'Pretzel,'          ,\n",
        "'Tele-bhaja'        ,\n",
        "'Waffle'            ,\n",
        "'Brittle'           ,\n",
        "'Imli Candy'        ,\n",
        "'Bubblegum'         ,\n",
        "'Candy'             ,\n",
        "'Chocolate'         ,\n",
        "'Chocolate rugelach',\n",
        "'Fudge'             ,\n",
        "'Geplak'            ,\n",
        "'Grass jelly'       ,\n",
        "'Marshmallow'       ,\n",
        "'Marzipan'          ,\n",
        "'Nougat'            ,\n",
        "'Panforte'          ,\n",
        "'Pudding '          ,\n",
        "'Arrowroot'         ,\n",
        "'Chebakia'          ,\n",
        "'Cookie'            ,\n",
        "'Ginger snaps'      ,\n",
        "'Graham crackers'   ,]"
      ],
      "execution_count": 3,
      "outputs": []
    },
    {
      "cell_type": "code",
      "metadata": {
        "id": "IeIQcTb3gZJH"
      },
      "source": [
        "snacks_dict={v: k for v, k in enumerate(snacks)}"
      ],
      "execution_count": 4,
      "outputs": []
    },
    {
      "cell_type": "code",
      "metadata": {
        "id": "NMsy8yurhntm"
      },
      "source": [
        "b=[]\n",
        "for i in range(0,10000):\n",
        "  b.append(random.randint(0, 37))"
      ],
      "execution_count": 5,
      "outputs": []
    },
    {
      "cell_type": "code",
      "metadata": {
        "id": "eubPNNkmhzAb"
      },
      "source": [
        "snacks_list=[snacks_dict[k] for k in b]"
      ],
      "execution_count": 6,
      "outputs": []
    },
    {
      "cell_type": "code",
      "metadata": {
        "id": "CMrBUqwXhzNF"
      },
      "source": [
        "df=pd.DataFrame(data={'Userid':pd.Series(a),'SnackId':pd.Series(b),'Snack':pd.Series(snacks_list)})"
      ],
      "execution_count": 7,
      "outputs": []
    },
    {
      "cell_type": "code",
      "metadata": {
        "id": "7gMg49Jzmm-X"
      },
      "source": [
        "df.drop_duplicates(inplace=True)\n",
        "df.reset_index(inplace=True)"
      ],
      "execution_count": 8,
      "outputs": []
    },
    {
      "cell_type": "code",
      "metadata": {
        "id": "Bp1DJjLBn6MK"
      },
      "source": [
        "c=[]\n",
        "for i in range(0,len(df)):\n",
        "  c.append(round(random.uniform(1, 5),2))"
      ],
      "execution_count": 9,
      "outputs": []
    },
    {
      "cell_type": "code",
      "metadata": {
        "id": "JimluVvRhzR9"
      },
      "source": [
        "df['Rating']=pd.Series(c)"
      ],
      "execution_count": 10,
      "outputs": []
    },
    {
      "cell_type": "code",
      "metadata": {
        "id": "OGpU-6PMoCqn"
      },
      "source": [
        "df.drop(labels='index',axis=1,inplace=True)"
      ],
      "execution_count": 11,
      "outputs": []
    },
    {
      "cell_type": "code",
      "metadata": {
        "id": "mXhLlONlhzVH",
        "outputId": "e95f6e43-9a9d-431a-dde6-26694d1c1417",
        "colab": {
          "base_uri": "https://localhost:8080/",
          "height": 417
        }
      },
      "source": [
        "df"
      ],
      "execution_count": 12,
      "outputs": [
        {
          "output_type": "execute_result",
          "data": {
            "text/html": [
              "<div>\n",
              "<style scoped>\n",
              "    .dataframe tbody tr th:only-of-type {\n",
              "        vertical-align: middle;\n",
              "    }\n",
              "\n",
              "    .dataframe tbody tr th {\n",
              "        vertical-align: top;\n",
              "    }\n",
              "\n",
              "    .dataframe thead th {\n",
              "        text-align: right;\n",
              "    }\n",
              "</style>\n",
              "<table border=\"1\" class=\"dataframe\">\n",
              "  <thead>\n",
              "    <tr style=\"text-align: right;\">\n",
              "      <th></th>\n",
              "      <th>Userid</th>\n",
              "      <th>SnackId</th>\n",
              "      <th>Snack</th>\n",
              "      <th>Rating</th>\n",
              "    </tr>\n",
              "  </thead>\n",
              "  <tbody>\n",
              "    <tr>\n",
              "      <th>0</th>\n",
              "      <td>553</td>\n",
              "      <td>26</td>\n",
              "      <td>Geplak</td>\n",
              "      <td>2.11</td>\n",
              "    </tr>\n",
              "    <tr>\n",
              "      <th>1</th>\n",
              "      <td>828</td>\n",
              "      <td>23</td>\n",
              "      <td>Chocolate</td>\n",
              "      <td>3.90</td>\n",
              "    </tr>\n",
              "    <tr>\n",
              "      <th>2</th>\n",
              "      <td>297</td>\n",
              "      <td>28</td>\n",
              "      <td>Marshmallow</td>\n",
              "      <td>2.90</td>\n",
              "    </tr>\n",
              "    <tr>\n",
              "      <th>3</th>\n",
              "      <td>626</td>\n",
              "      <td>26</td>\n",
              "      <td>Geplak</td>\n",
              "      <td>4.10</td>\n",
              "    </tr>\n",
              "    <tr>\n",
              "      <th>4</th>\n",
              "      <td>31</td>\n",
              "      <td>26</td>\n",
              "      <td>Geplak</td>\n",
              "      <td>1.23</td>\n",
              "    </tr>\n",
              "    <tr>\n",
              "      <th>...</th>\n",
              "      <td>...</td>\n",
              "      <td>...</td>\n",
              "      <td>...</td>\n",
              "      <td>...</td>\n",
              "    </tr>\n",
              "    <tr>\n",
              "      <th>8818</th>\n",
              "      <td>802</td>\n",
              "      <td>7</td>\n",
              "      <td>Doughnut</td>\n",
              "      <td>3.52</td>\n",
              "    </tr>\n",
              "    <tr>\n",
              "      <th>8819</th>\n",
              "      <td>989</td>\n",
              "      <td>7</td>\n",
              "      <td>Doughnut</td>\n",
              "      <td>2.20</td>\n",
              "    </tr>\n",
              "    <tr>\n",
              "      <th>8820</th>\n",
              "      <td>789</td>\n",
              "      <td>33</td>\n",
              "      <td>Arrowroot</td>\n",
              "      <td>3.23</td>\n",
              "    </tr>\n",
              "    <tr>\n",
              "      <th>8821</th>\n",
              "      <td>930</td>\n",
              "      <td>18</td>\n",
              "      <td>Waffle</td>\n",
              "      <td>2.90</td>\n",
              "    </tr>\n",
              "    <tr>\n",
              "      <th>8822</th>\n",
              "      <td>851</td>\n",
              "      <td>20</td>\n",
              "      <td>Imli Candy</td>\n",
              "      <td>3.12</td>\n",
              "    </tr>\n",
              "  </tbody>\n",
              "</table>\n",
              "<p>8823 rows × 4 columns</p>\n",
              "</div>"
            ],
            "text/plain": [
              "      Userid  SnackId        Snack  Rating\n",
              "0        553       26       Geplak    2.11\n",
              "1        828       23    Chocolate    3.90\n",
              "2        297       28  Marshmallow    2.90\n",
              "3        626       26       Geplak    4.10\n",
              "4         31       26       Geplak    1.23\n",
              "...      ...      ...          ...     ...\n",
              "8818     802        7     Doughnut    3.52\n",
              "8819     989        7     Doughnut    2.20\n",
              "8820     789       33    Arrowroot    3.23\n",
              "8821     930       18       Waffle    2.90\n",
              "8822     851       20   Imli Candy    3.12\n",
              "\n",
              "[8823 rows x 4 columns]"
            ]
          },
          "metadata": {
            "tags": []
          },
          "execution_count": 12
        }
      ]
    },
    {
      "cell_type": "code",
      "metadata": {
        "id": "LoGuTebrEPN-",
        "outputId": "37f05eea-6a84-405f-d30b-a8cc17192521",
        "colab": {
          "base_uri": "https://localhost:8080/"
        }
      },
      "source": [
        "import datetime\n",
        "random.random() * datetime.timedelta(days=1)"
      ],
      "execution_count": 18,
      "outputs": [
        {
          "output_type": "execute_result",
          "data": {
            "text/plain": [
              "datetime.timedelta(0, 54325, 315249)"
            ]
          },
          "metadata": {
            "tags": []
          },
          "execution_count": 18
        }
      ]
    },
    {
      "cell_type": "code",
      "metadata": {
        "id": "cpLcLUemE9VT",
        "outputId": "445b3ec7-3e11-4eb2-d839-81a129876f45",
        "colab": {
          "base_uri": "https://localhost:8080/"
        }
      },
      "source": [
        "pip install randomtimestamp"
      ],
      "execution_count": 20,
      "outputs": [
        {
          "output_type": "stream",
          "text": [
            "Collecting randomtimestamp\n",
            "  Downloading https://files.pythonhosted.org/packages/ae/8f/ac1c8e1ea0e15fe8e77654b9bec938d1bdf50bf9543975eec577af09adb5/randomtimestamp-1.0.0-py3-none-any.whl\n",
            "Installing collected packages: randomtimestamp\n",
            "Successfully installed randomtimestamp-1.0.0\n"
          ],
          "name": "stdout"
        }
      ]
    },
    {
      "cell_type": "code",
      "metadata": {
        "id": "Lb55ytRlFBvR"
      },
      "source": [
        "from randomtimestamp import randomtimestamp\n",
        "from datetime import timezone"
      ],
      "execution_count": 33,
      "outputs": []
    },
    {
      "cell_type": "code",
      "metadata": {
        "id": "eaAv4brDFF9a"
      },
      "source": [
        "t=[]\n",
        "for i in range(len(df)):\n",
        "  dt=randomtimestamp(start_year=2016,text=False)\n",
        "  t.append(dt.replace(tzinfo=timezone.utc).timestamp())"
      ],
      "execution_count": 38,
      "outputs": []
    },
    {
      "cell_type": "code",
      "metadata": {
        "id": "ECSwLgsQHjFu"
      },
      "source": [
        "df['timestamp']=pd.Series(t)"
      ],
      "execution_count": 40,
      "outputs": []
    },
    {
      "cell_type": "code",
      "metadata": {
        "id": "LDxfgvPYHxAq",
        "outputId": "74f8ed53-c96c-4d4d-d1bf-18c331b1a419",
        "colab": {
          "base_uri": "https://localhost:8080/",
          "height": 417
        }
      },
      "source": [
        "df"
      ],
      "execution_count": 41,
      "outputs": [
        {
          "output_type": "execute_result",
          "data": {
            "text/html": [
              "<div>\n",
              "<style scoped>\n",
              "    .dataframe tbody tr th:only-of-type {\n",
              "        vertical-align: middle;\n",
              "    }\n",
              "\n",
              "    .dataframe tbody tr th {\n",
              "        vertical-align: top;\n",
              "    }\n",
              "\n",
              "    .dataframe thead th {\n",
              "        text-align: right;\n",
              "    }\n",
              "</style>\n",
              "<table border=\"1\" class=\"dataframe\">\n",
              "  <thead>\n",
              "    <tr style=\"text-align: right;\">\n",
              "      <th></th>\n",
              "      <th>Userid</th>\n",
              "      <th>SnackId</th>\n",
              "      <th>Snack</th>\n",
              "      <th>Rating</th>\n",
              "      <th>timestamp</th>\n",
              "    </tr>\n",
              "  </thead>\n",
              "  <tbody>\n",
              "    <tr>\n",
              "      <th>0</th>\n",
              "      <td>553</td>\n",
              "      <td>26</td>\n",
              "      <td>Geplak</td>\n",
              "      <td>2.11</td>\n",
              "      <td>1.464982e+09</td>\n",
              "    </tr>\n",
              "    <tr>\n",
              "      <th>1</th>\n",
              "      <td>828</td>\n",
              "      <td>23</td>\n",
              "      <td>Chocolate</td>\n",
              "      <td>3.90</td>\n",
              "      <td>1.519172e+09</td>\n",
              "    </tr>\n",
              "    <tr>\n",
              "      <th>2</th>\n",
              "      <td>297</td>\n",
              "      <td>28</td>\n",
              "      <td>Marshmallow</td>\n",
              "      <td>2.90</td>\n",
              "      <td>1.527641e+09</td>\n",
              "    </tr>\n",
              "    <tr>\n",
              "      <th>3</th>\n",
              "      <td>626</td>\n",
              "      <td>26</td>\n",
              "      <td>Geplak</td>\n",
              "      <td>4.10</td>\n",
              "      <td>1.489416e+09</td>\n",
              "    </tr>\n",
              "    <tr>\n",
              "      <th>4</th>\n",
              "      <td>31</td>\n",
              "      <td>26</td>\n",
              "      <td>Geplak</td>\n",
              "      <td>1.23</td>\n",
              "      <td>1.459609e+09</td>\n",
              "    </tr>\n",
              "    <tr>\n",
              "      <th>...</th>\n",
              "      <td>...</td>\n",
              "      <td>...</td>\n",
              "      <td>...</td>\n",
              "      <td>...</td>\n",
              "      <td>...</td>\n",
              "    </tr>\n",
              "    <tr>\n",
              "      <th>8818</th>\n",
              "      <td>802</td>\n",
              "      <td>7</td>\n",
              "      <td>Doughnut</td>\n",
              "      <td>3.52</td>\n",
              "      <td>1.502676e+09</td>\n",
              "    </tr>\n",
              "    <tr>\n",
              "      <th>8819</th>\n",
              "      <td>989</td>\n",
              "      <td>7</td>\n",
              "      <td>Doughnut</td>\n",
              "      <td>2.20</td>\n",
              "      <td>1.599127e+09</td>\n",
              "    </tr>\n",
              "    <tr>\n",
              "      <th>8820</th>\n",
              "      <td>789</td>\n",
              "      <td>33</td>\n",
              "      <td>Arrowroot</td>\n",
              "      <td>3.23</td>\n",
              "      <td>1.531234e+09</td>\n",
              "    </tr>\n",
              "    <tr>\n",
              "      <th>8821</th>\n",
              "      <td>930</td>\n",
              "      <td>18</td>\n",
              "      <td>Waffle</td>\n",
              "      <td>2.90</td>\n",
              "      <td>1.581391e+09</td>\n",
              "    </tr>\n",
              "    <tr>\n",
              "      <th>8822</th>\n",
              "      <td>851</td>\n",
              "      <td>20</td>\n",
              "      <td>Imli Candy</td>\n",
              "      <td>3.12</td>\n",
              "      <td>1.505939e+09</td>\n",
              "    </tr>\n",
              "  </tbody>\n",
              "</table>\n",
              "<p>8823 rows × 5 columns</p>\n",
              "</div>"
            ],
            "text/plain": [
              "      Userid  SnackId        Snack  Rating     timestamp\n",
              "0        553       26       Geplak    2.11  1.464982e+09\n",
              "1        828       23    Chocolate    3.90  1.519172e+09\n",
              "2        297       28  Marshmallow    2.90  1.527641e+09\n",
              "3        626       26       Geplak    4.10  1.489416e+09\n",
              "4         31       26       Geplak    1.23  1.459609e+09\n",
              "...      ...      ...          ...     ...           ...\n",
              "8818     802        7     Doughnut    3.52  1.502676e+09\n",
              "8819     989        7     Doughnut    2.20  1.599127e+09\n",
              "8820     789       33    Arrowroot    3.23  1.531234e+09\n",
              "8821     930       18       Waffle    2.90  1.581391e+09\n",
              "8822     851       20   Imli Candy    3.12  1.505939e+09\n",
              "\n",
              "[8823 rows x 5 columns]"
            ]
          },
          "metadata": {
            "tags": []
          },
          "execution_count": 41
        }
      ]
    },
    {
      "cell_type": "code",
      "metadata": {
        "id": "GAkleM_cqHgG",
        "outputId": "5c9a3f6a-1cca-4c2f-8300-4a193d868a7e",
        "colab": {
          "base_uri": "https://localhost:8080/",
          "height": 417
        }
      },
      "source": [
        "df"
      ],
      "execution_count": 45,
      "outputs": [
        {
          "output_type": "execute_result",
          "data": {
            "text/html": [
              "<div>\n",
              "<style scoped>\n",
              "    .dataframe tbody tr th:only-of-type {\n",
              "        vertical-align: middle;\n",
              "    }\n",
              "\n",
              "    .dataframe tbody tr th {\n",
              "        vertical-align: top;\n",
              "    }\n",
              "\n",
              "    .dataframe thead th {\n",
              "        text-align: right;\n",
              "    }\n",
              "</style>\n",
              "<table border=\"1\" class=\"dataframe\">\n",
              "  <thead>\n",
              "    <tr style=\"text-align: right;\">\n",
              "      <th></th>\n",
              "      <th>Userid</th>\n",
              "      <th>SnackId</th>\n",
              "      <th>Snack</th>\n",
              "      <th>Rating</th>\n",
              "      <th>timestamp</th>\n",
              "    </tr>\n",
              "  </thead>\n",
              "  <tbody>\n",
              "    <tr>\n",
              "      <th>0</th>\n",
              "      <td>553</td>\n",
              "      <td>26</td>\n",
              "      <td>Geplak</td>\n",
              "      <td>2.11</td>\n",
              "      <td>1.464982e+09</td>\n",
              "    </tr>\n",
              "    <tr>\n",
              "      <th>1</th>\n",
              "      <td>828</td>\n",
              "      <td>23</td>\n",
              "      <td>Chocolate</td>\n",
              "      <td>3.90</td>\n",
              "      <td>1.519172e+09</td>\n",
              "    </tr>\n",
              "    <tr>\n",
              "      <th>2</th>\n",
              "      <td>297</td>\n",
              "      <td>28</td>\n",
              "      <td>Marshmallow</td>\n",
              "      <td>2.90</td>\n",
              "      <td>1.527641e+09</td>\n",
              "    </tr>\n",
              "    <tr>\n",
              "      <th>3</th>\n",
              "      <td>626</td>\n",
              "      <td>26</td>\n",
              "      <td>Geplak</td>\n",
              "      <td>4.10</td>\n",
              "      <td>1.489416e+09</td>\n",
              "    </tr>\n",
              "    <tr>\n",
              "      <th>4</th>\n",
              "      <td>31</td>\n",
              "      <td>26</td>\n",
              "      <td>Geplak</td>\n",
              "      <td>1.23</td>\n",
              "      <td>1.459609e+09</td>\n",
              "    </tr>\n",
              "    <tr>\n",
              "      <th>...</th>\n",
              "      <td>...</td>\n",
              "      <td>...</td>\n",
              "      <td>...</td>\n",
              "      <td>...</td>\n",
              "      <td>...</td>\n",
              "    </tr>\n",
              "    <tr>\n",
              "      <th>8818</th>\n",
              "      <td>802</td>\n",
              "      <td>7</td>\n",
              "      <td>Doughnut</td>\n",
              "      <td>3.52</td>\n",
              "      <td>1.502676e+09</td>\n",
              "    </tr>\n",
              "    <tr>\n",
              "      <th>8819</th>\n",
              "      <td>989</td>\n",
              "      <td>7</td>\n",
              "      <td>Doughnut</td>\n",
              "      <td>2.20</td>\n",
              "      <td>1.599127e+09</td>\n",
              "    </tr>\n",
              "    <tr>\n",
              "      <th>8820</th>\n",
              "      <td>789</td>\n",
              "      <td>33</td>\n",
              "      <td>Arrowroot</td>\n",
              "      <td>3.23</td>\n",
              "      <td>1.531234e+09</td>\n",
              "    </tr>\n",
              "    <tr>\n",
              "      <th>8821</th>\n",
              "      <td>930</td>\n",
              "      <td>18</td>\n",
              "      <td>Waffle</td>\n",
              "      <td>2.90</td>\n",
              "      <td>1.581391e+09</td>\n",
              "    </tr>\n",
              "    <tr>\n",
              "      <th>8822</th>\n",
              "      <td>851</td>\n",
              "      <td>20</td>\n",
              "      <td>Imli Candy</td>\n",
              "      <td>3.12</td>\n",
              "      <td>1.505939e+09</td>\n",
              "    </tr>\n",
              "  </tbody>\n",
              "</table>\n",
              "<p>8823 rows × 5 columns</p>\n",
              "</div>"
            ],
            "text/plain": [
              "      Userid  SnackId        Snack  Rating     timestamp\n",
              "0        553       26       Geplak    2.11  1.464982e+09\n",
              "1        828       23    Chocolate    3.90  1.519172e+09\n",
              "2        297       28  Marshmallow    2.90  1.527641e+09\n",
              "3        626       26       Geplak    4.10  1.489416e+09\n",
              "4         31       26       Geplak    1.23  1.459609e+09\n",
              "...      ...      ...          ...     ...           ...\n",
              "8818     802        7     Doughnut    3.52  1.502676e+09\n",
              "8819     989        7     Doughnut    2.20  1.599127e+09\n",
              "8820     789       33    Arrowroot    3.23  1.531234e+09\n",
              "8821     930       18       Waffle    2.90  1.581391e+09\n",
              "8822     851       20   Imli Candy    3.12  1.505939e+09\n",
              "\n",
              "[8823 rows x 5 columns]"
            ]
          },
          "metadata": {
            "tags": []
          },
          "execution_count": 45
        }
      ]
    },
    {
      "cell_type": "code",
      "metadata": {
        "id": "3IXEqH-xqa4d"
      },
      "source": [
        "df.to_csv('snackreviews.csv',index=False)"
      ],
      "execution_count": 44,
      "outputs": []
    }
  ]
}