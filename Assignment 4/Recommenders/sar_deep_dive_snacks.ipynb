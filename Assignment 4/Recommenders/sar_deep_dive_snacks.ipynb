{
 "cells": [
  {
   "cell_type": "markdown",
   "metadata": {},
   "source": [
    "<i>Copyright (c) Microsoft Corporation. All rights reserved.</i>\n",
    "\n",
    "<i>Licensed under the MIT License.</i>"
   ]
  },
  {
   "cell_type": "markdown",
   "metadata": {},
   "source": [
    "# SAR Single Node on MovieLens (Python, CPU)\n",
    "\n",
    "In this example, we will walk through each step of the Simple Algorithm for Recommendation (SAR) algorithm using a Python single-node implementation.\n",
    "\n",
    "SAR is a fast, scalable, adaptive algorithm for personalized recommendations based on user transaction history. It is powered by understanding the similarity between items, and recommending similar items to those a user has an existing affinity for."
   ]
  },
  {
   "cell_type": "markdown",
   "metadata": {},
   "source": [
    "## 1 SAR algorithm\n",
    "\n",
    "The following figure presents a high-level architecture of SAR. \n",
    "\n",
    "At a very high level, two intermediate matrices are created and used to generate a set of recommendation scores:\n",
    "\n",
    "- An item similarity matrix $S$ estimates item-item relationships.\n",
    "- An affinity matrix $A$ estimates user-item relationships.\n",
    "\n",
    "Recommendation scores are then created by computing the matrix multiplication $A\\times S$.\n",
    "\n",
    "Optional steps (e.g. \"time decay\" and \"remove seen items\") are described in the details below.\n",
    "\n",
    "<img src=\"https://recodatasets.blob.core.windows.net/images/sar_schema.svg?sanitize=true\">\n",
    "\n",
    "### 1.1 Compute item co-occurrence and item similarity\n",
    "\n",
    "SAR defines similarity based on item-to-item co-occurrence data. Co-occurrence is defined as the number of times two items appear together for a given user. We can represent the co-occurrence of all items as a $m\\times m$ matrix $C$, where $c_{i,j}$ is the number of times item $i$ occurred with item $j$, and $m$ is the total number of items.\n",
    "\n",
    "The co-occurence matric $C$ has the following properties:\n",
    "\n",
    "- It is symmetric, so $c_{i,j} = c_{j,i}$\n",
    "- It is nonnegative: $c_{i,j} \\geq 0$\n",
    "- The occurrences are at least as large as the co-occurrences. I.e., the largest element for each row (and column) is on the main diagonal: $\\forall(i,j) C_{i,i},C_{j,j} \\geq C_{i,j}$.\n",
    "\n",
    "Once we have a co-occurrence matrix, an item similarity matrix $S$ can be obtained by rescaling the co-occurrences according to a given metric. Options for the metric include `Jaccard`, `lift`, and `counts` (meaning no rescaling).\n",
    "\n",
    "\n",
    "If $c_{ii}$ and $c_{jj}$ are the $i$th and $j$th diagonal elements of $C$, the rescaling options are:\n",
    "\n",
    "- `Jaccard`: $s_{ij}=\\frac{c_{ij}}{(c_{ii}+c_{jj}-c_{ij})}$\n",
    "- `lift`: $s_{ij}=\\frac{c_{ij}}{(c_{ii} \\times c_{jj})}$\n",
    "- `counts`: $s_{ij}=c_{ij}$\n",
    "\n",
    "In general, using `counts` as a similarity metric favours predictability, meaning that the most popular items will be recommended most of the time. `lift` by contrast favours discoverability/serendipity: an item that is less popular overall but highly favoured by a small subset of users is more likely to be recommended. `Jaccard` is a compromise between the two.\n",
    "\n",
    "\n",
    "### 1.2 Compute user affinity scores\n",
    "\n",
    "The affinity matrix in SAR captures the strength of the relationship between each individual user and the items that user has already interacted with. SAR incorporates two factors that can impact users' affinities: \n",
    "\n",
    "- It can consider information about the **type** of user-item interaction through differential weighting of different events (e.g. it may weigh events in which a user rated a particular item more heavily than events in which a user viewed the item).\n",
    "- It can consider information about **when** a user-item event occurred (e.g. it may discount the value of events that take place in the distant past.\n",
    "\n",
    "Formalizing these factors produces us an expression for user-item affinity:\n",
    "\n",
    "$$a_{ij}=\\sum_k w_k \\left(\\frac{1}{2}\\right)^{\\frac{t_0-t_k}{T}} $$\n",
    "\n",
    "where the affinity $a_{ij}$ for user $i$ and item $j$ is the weighted sum of all $k$ events involving user $i$ and item $j$. $w_k$ represents the weight of a particular event, and the power of 2 term reflects the temporally-discounted event. The $(\\frac{1}{2})^n$ scaling factor causes the parameter $T$ to serve as a half-life: events $T$ units before $t_0$ will be given half the weight as those taking place at $t_0$.\n",
    "\n",
    "Repeating this computation for all $n$ users and $m$ items results in an $n\\times m$ matrix $A$. Simplifications of the above expression can be obtained by setting all the weights equal to 1 (effectively ignoring event types), or by setting the half-life parameter $T$ to infinity (ignoring transaction times).\n",
    "\n",
    "### 1.3 Remove seen item\n",
    "\n",
    "Optionally we remove items which have already been seen in the training set, i.e. don't recommend items which have been previously bought by the user again.\n",
    "\n",
    "### 1.4 Top-k item calculation\n",
    "\n",
    "The personalized recommendations for a set of users can then be obtained by multiplying the affinity matrix ($A$) by the similarity matrix ($S$). The result is a recommendation score matrix, where each row corresponds to a user, each column corresponds to an item, and each entry corresponds to a user / item pair. Higher scores correspond to more strongly recommended items.\n",
    "\n",
    "It is worth noting that the complexity of recommending operation depends on the data size. SAR algorithm itself has $O(n^3)$ complexity. Therefore the single-node implementation is not supposed to handle large dataset in a scalable manner. Whenever one uses the algorithm, it is recommended to run with sufficiently large memory. "
   ]
  },
  {
   "cell_type": "markdown",
   "metadata": {},
   "source": [
    "## 2 SAR single-node implementation\n",
    "\n",
    "The SAR implementation illustrated in this notebook was developed in Python, primarily with Python packages like `numpy`, `pandas`, and `scipy` which are commonly used in most of the data analytics / machine learning tasks. Details of the implementation can be found in [Recommenders/reco_utils/recommender/sar/sar_singlenode.py](../../reco_utils/recommender/sar/sar_singlenode.py)."
   ]
  },
  {
   "cell_type": "markdown",
   "metadata": {},
   "source": [
    "## 3 SAR single-node based movie recommender"
   ]
  },
  {
   "cell_type": "code",
   "execution_count": 1,
   "metadata": {},
   "outputs": [
    {
     "name": "stdout",
     "output_type": "stream",
     "text": [
      "System version: 3.7.6 (default, Jan  8 2020, 20:23:39) [MSC v.1916 64 bit (AMD64)]\n",
      "Pandas version: 1.0.1\n"
     ]
    }
   ],
   "source": [
    "# set the environment path to find Recommenders\n",
    "import sys\n",
    "sys.path.append(\"../../\")\n",
    "\n",
    "import itertools\n",
    "import logging\n",
    "import os\n",
    "\n",
    "import numpy as np\n",
    "import pandas as pd\n",
    "import papermill as pm\n",
    "\n",
    "\n",
    "from reco_utils.dataset.python_splitters import python_stratified_split\n",
    "from reco_utils.evaluation.python_evaluation import map_at_k, ndcg_at_k, precision_at_k, recall_at_k\n",
    "from reco_utils.recommender.sar.sar_singlenode import SARSingleNode\n",
    "\n",
    "print(\"System version: {}\".format(sys.version))\n",
    "print(\"Pandas version: {}\".format(pd.__version__))"
   ]
  },
  {
   "cell_type": "code",
   "execution_count": 2,
   "metadata": {
    "tags": [
     "parameters"
    ]
   },
   "outputs": [],
   "source": [
    "# top k items to recommend\n",
    "TOP_K = 10\n"
   ]
  },
  {
   "cell_type": "markdown",
   "metadata": {},
   "source": [
    "### 3.1 Load Data\n",
    "\n",
    "SAR is intended to be used on interactions with the following schema:\n",
    "`<User ID>, <Item ID>, <Time>`. \n",
    "\n",
    "Each row represents a single interaction between a user and an item. These interactions might be different types of events on an e-commerce website, such as a user clicking to view an item, adding it to a shopping basket, following a recommendation link, and so on. \n",
    "\n",
    "The MovieLens dataset is well formatted interactions of Users providing Ratings to Movies (movie ratings are used as the event weight) - we will use it for the rest of the example."
   ]
  },
  {
   "cell_type": "code",
   "execution_count": 3,
   "metadata": {},
   "outputs": [],
   "source": [
    "data=pd.read_csv('snackreviews.csv',header=0)"
   ]
  },
  {
   "cell_type": "code",
   "execution_count": 4,
   "metadata": {},
   "outputs": [
    {
     "data": {
      "text/html": [
       "<div>\n",
       "<style scoped>\n",
       "    .dataframe tbody tr th:only-of-type {\n",
       "        vertical-align: middle;\n",
       "    }\n",
       "\n",
       "    .dataframe tbody tr th {\n",
       "        vertical-align: top;\n",
       "    }\n",
       "\n",
       "    .dataframe thead th {\n",
       "        text-align: right;\n",
       "    }\n",
       "</style>\n",
       "<table border=\"1\" class=\"dataframe\">\n",
       "  <thead>\n",
       "    <tr style=\"text-align: right;\">\n",
       "      <th></th>\n",
       "      <th>Userid</th>\n",
       "      <th>SnackId</th>\n",
       "      <th>Snack</th>\n",
       "      <th>Rating</th>\n",
       "      <th>timestamp</th>\n",
       "    </tr>\n",
       "  </thead>\n",
       "  <tbody>\n",
       "    <tr>\n",
       "      <th>0</th>\n",
       "      <td>553</td>\n",
       "      <td>26</td>\n",
       "      <td>Geplak</td>\n",
       "      <td>2.11</td>\n",
       "      <td>1.464982e+09</td>\n",
       "    </tr>\n",
       "    <tr>\n",
       "      <th>1</th>\n",
       "      <td>828</td>\n",
       "      <td>23</td>\n",
       "      <td>Chocolate</td>\n",
       "      <td>3.90</td>\n",
       "      <td>1.519172e+09</td>\n",
       "    </tr>\n",
       "    <tr>\n",
       "      <th>2</th>\n",
       "      <td>297</td>\n",
       "      <td>28</td>\n",
       "      <td>Marshmallow</td>\n",
       "      <td>2.90</td>\n",
       "      <td>1.527641e+09</td>\n",
       "    </tr>\n",
       "    <tr>\n",
       "      <th>3</th>\n",
       "      <td>626</td>\n",
       "      <td>26</td>\n",
       "      <td>Geplak</td>\n",
       "      <td>4.10</td>\n",
       "      <td>1.489416e+09</td>\n",
       "    </tr>\n",
       "    <tr>\n",
       "      <th>4</th>\n",
       "      <td>31</td>\n",
       "      <td>26</td>\n",
       "      <td>Geplak</td>\n",
       "      <td>1.23</td>\n",
       "      <td>1.459609e+09</td>\n",
       "    </tr>\n",
       "  </tbody>\n",
       "</table>\n",
       "</div>"
      ],
      "text/plain": [
       "   Userid  SnackId        Snack  Rating     timestamp\n",
       "0     553       26       Geplak    2.11  1.464982e+09\n",
       "1     828       23    Chocolate    3.90  1.519172e+09\n",
       "2     297       28  Marshmallow    2.90  1.527641e+09\n",
       "3     626       26       Geplak    4.10  1.489416e+09\n",
       "4      31       26       Geplak    1.23  1.459609e+09"
      ]
     },
     "execution_count": 4,
     "metadata": {},
     "output_type": "execute_result"
    }
   ],
   "source": [
    "data.head()"
   ]
  },
  {
   "cell_type": "markdown",
   "metadata": {},
   "source": [
    "### 3.2 Split the data using the python random splitter provided in utilities:\n",
    "\n",
    "We split the full dataset into a `train` and `test` dataset to evaluate performance of the algorithm against a held-out set not seen during training. Because SAR generates recommendations based on user preferences, all users that are in the test set must also exist in the training set. For this case, we can use the provided `python_stratified_split` function which holds out a percentage (in this case 25%) of items from each user, but ensures all users are in both `train` and `test` datasets. Other options are available in the `dataset.python_splitters` module which provide more control over how the split occurs.\n"
   ]
  },
  {
   "cell_type": "code",
   "execution_count": 5,
   "metadata": {},
   "outputs": [],
   "source": [
    "header = {\n",
    "    \"col_user\": \"Userid\",\n",
    "    \"col_item\": \"SnackId\",\n",
    "    \"col_rating\": \"Rating\",\n",
    "    \"col_timestamp\": \"timestamp\",\n",
    "    \"col_prediction\": \"Prediction\",\n",
    "}"
   ]
  },
  {
   "cell_type": "code",
   "execution_count": 35,
   "metadata": {},
   "outputs": [],
   "source": [
    "train, test = python_stratified_split(data, ratio=0.75, col_user=header[\"col_user\"], col_item=header[\"col_item\"], seed=42)"
   ]
  },
  {
   "cell_type": "code",
   "execution_count": 36,
   "metadata": {},
   "outputs": [
    {
     "data": {
      "text/html": [
       "<div>\n",
       "<style scoped>\n",
       "    .dataframe tbody tr th:only-of-type {\n",
       "        vertical-align: middle;\n",
       "    }\n",
       "\n",
       "    .dataframe tbody tr th {\n",
       "        vertical-align: top;\n",
       "    }\n",
       "\n",
       "    .dataframe thead th {\n",
       "        text-align: right;\n",
       "    }\n",
       "</style>\n",
       "<table border=\"1\" class=\"dataframe\">\n",
       "  <thead>\n",
       "    <tr style=\"text-align: right;\">\n",
       "      <th></th>\n",
       "      <th>Userid</th>\n",
       "      <th>SnackId</th>\n",
       "      <th>Snack</th>\n",
       "      <th>Rating</th>\n",
       "      <th>timestamp</th>\n",
       "    </tr>\n",
       "  </thead>\n",
       "  <tbody>\n",
       "    <tr>\n",
       "      <th>2274</th>\n",
       "      <td>1</td>\n",
       "      <td>28</td>\n",
       "      <td>Marshmallow</td>\n",
       "      <td>1.48</td>\n",
       "      <td>1.476706e+09</td>\n",
       "    </tr>\n",
       "    <tr>\n",
       "      <th>7064</th>\n",
       "      <td>1</td>\n",
       "      <td>32</td>\n",
       "      <td>Pudding</td>\n",
       "      <td>3.98</td>\n",
       "      <td>1.492009e+09</td>\n",
       "    </tr>\n",
       "    <tr>\n",
       "      <th>2700</th>\n",
       "      <td>2</td>\n",
       "      <td>31</td>\n",
       "      <td>Panforte</td>\n",
       "      <td>2.06</td>\n",
       "      <td>1.471227e+09</td>\n",
       "    </tr>\n",
       "    <tr>\n",
       "      <th>7564</th>\n",
       "      <td>2</td>\n",
       "      <td>28</td>\n",
       "      <td>Marshmallow</td>\n",
       "      <td>3.63</td>\n",
       "      <td>1.589557e+09</td>\n",
       "    </tr>\n",
       "    <tr>\n",
       "      <th>4809</th>\n",
       "      <td>3</td>\n",
       "      <td>36</td>\n",
       "      <td>Ginger snaps</td>\n",
       "      <td>2.22</td>\n",
       "      <td>1.522902e+09</td>\n",
       "    </tr>\n",
       "    <tr>\n",
       "      <th>...</th>\n",
       "      <td>...</td>\n",
       "      <td>...</td>\n",
       "      <td>...</td>\n",
       "      <td>...</td>\n",
       "      <td>...</td>\n",
       "    </tr>\n",
       "    <tr>\n",
       "      <th>5359</th>\n",
       "      <td>998</td>\n",
       "      <td>17</td>\n",
       "      <td>Tele-bhaja</td>\n",
       "      <td>2.25</td>\n",
       "      <td>1.587568e+09</td>\n",
       "    </tr>\n",
       "    <tr>\n",
       "      <th>4204</th>\n",
       "      <td>999</td>\n",
       "      <td>1</td>\n",
       "      <td>Bonda</td>\n",
       "      <td>4.88</td>\n",
       "      <td>1.552053e+09</td>\n",
       "    </tr>\n",
       "    <tr>\n",
       "      <th>5531</th>\n",
       "      <td>999</td>\n",
       "      <td>9</td>\n",
       "      <td>Khanom buang</td>\n",
       "      <td>2.37</td>\n",
       "      <td>1.462034e+09</td>\n",
       "    </tr>\n",
       "    <tr>\n",
       "      <th>5280</th>\n",
       "      <td>1000</td>\n",
       "      <td>36</td>\n",
       "      <td>Ginger snaps</td>\n",
       "      <td>3.60</td>\n",
       "      <td>1.517637e+09</td>\n",
       "    </tr>\n",
       "    <tr>\n",
       "      <th>8200</th>\n",
       "      <td>1000</td>\n",
       "      <td>37</td>\n",
       "      <td>Graham crackers</td>\n",
       "      <td>1.21</td>\n",
       "      <td>1.559293e+09</td>\n",
       "    </tr>\n",
       "  </tbody>\n",
       "</table>\n",
       "<p>2197 rows × 5 columns</p>\n",
       "</div>"
      ],
      "text/plain": [
       "      Userid  SnackId            Snack  Rating     timestamp\n",
       "2274       1       28      Marshmallow    1.48  1.476706e+09\n",
       "7064       1       32         Pudding     3.98  1.492009e+09\n",
       "2700       2       31         Panforte    2.06  1.471227e+09\n",
       "7564       2       28      Marshmallow    3.63  1.589557e+09\n",
       "4809       3       36     Ginger snaps    2.22  1.522902e+09\n",
       "...      ...      ...              ...     ...           ...\n",
       "5359     998       17       Tele-bhaja    2.25  1.587568e+09\n",
       "4204     999        1            Bonda    4.88  1.552053e+09\n",
       "5531     999        9     Khanom buang    2.37  1.462034e+09\n",
       "5280    1000       36     Ginger snaps    3.60  1.517637e+09\n",
       "8200    1000       37  Graham crackers    1.21  1.559293e+09\n",
       "\n",
       "[2197 rows x 5 columns]"
      ]
     },
     "execution_count": 36,
     "metadata": {},
     "output_type": "execute_result"
    }
   ],
   "source": [
    "test"
   ]
  },
  {
   "cell_type": "markdown",
   "metadata": {},
   "source": [
    "In this case, for the illustration purpose, the following parameter values are used:\n",
    "\n",
    "|Parameter|Value|Description|\n",
    "|---------|---------|-------------|\n",
    "|`similarity_type`|`jaccard`|Method used to calculate item similarity.|\n",
    "|`time_decay_coefficient`|30|Period in days (term of $T$ shown in the formula of Section 1.2)|\n",
    "|`time_now`|`None`|Time decay reference.|\n",
    "|`timedecay_formula`|`True`|Whether time decay formula is used.|"
   ]
  },
  {
   "cell_type": "code",
   "execution_count": 8,
   "metadata": {},
   "outputs": [],
   "source": [
    "# set log level to INFO\n",
    "logging.basicConfig(level=logging.DEBUG, \n",
    "                    format='%(asctime)s %(levelname)-8s %(message)s')\n",
    "\n",
    "model = SARSingleNode(\n",
    "    similarity_type=\"jaccard\", \n",
    "    time_decay_coefficient=30, \n",
    "    time_now=None, \n",
    "    timedecay_formula=True, \n",
    "    **header\n",
    ")"
   ]
  },
  {
   "cell_type": "code",
   "execution_count": 9,
   "metadata": {},
   "outputs": [
    {
     "name": "stderr",
     "output_type": "stream",
     "text": [
      "2020-11-18 19:42:16,760 INFO     Collecting user affinity matrix\n",
      "2020-11-18 19:42:16,763 INFO     Calculating time-decayed affinities\n",
      "2020-11-18 19:42:16,779 INFO     NumExpr defaulting to 8 threads.\n",
      "2020-11-18 19:42:16,791 INFO     Creating index columns\n",
      "2020-11-18 19:42:16,805 INFO     Building user affinity sparse matrix\n",
      "2020-11-18 19:42:16,811 INFO     Calculating item co-occurrence\n",
      "2020-11-18 19:42:16,817 INFO     Calculating item similarity\n",
      "2020-11-18 19:42:16,818 INFO     Using jaccard based similarity\n",
      "2020-11-18 19:42:16,820 INFO     Done training\n"
     ]
    }
   ],
   "source": [
    "model.fit(train)"
   ]
  },
  {
   "cell_type": "code",
   "execution_count": 10,
   "metadata": {
    "scrolled": true
   },
   "outputs": [
    {
     "name": "stderr",
     "output_type": "stream",
     "text": [
      "2020-11-18 19:42:21,068 INFO     Calculating recommendation scores\n",
      "2020-11-18 19:42:21,070 INFO     Removing seen items\n"
     ]
    }
   ],
   "source": [
    "top_k = model.recommend_k_items(test, remove_seen=True)"
   ]
  },
  {
   "cell_type": "markdown",
   "metadata": {},
   "source": [
    "The final output from the `recommend_k_items` method generates recommendation scores for each user-item pair, which are shown as follows."
   ]
  },
  {
   "cell_type": "code",
   "execution_count": 11,
   "metadata": {
    "scrolled": true
   },
   "outputs": [
    {
     "data": {
      "text/html": [
       "<div>\n",
       "<style scoped>\n",
       "    .dataframe tbody tr th:only-of-type {\n",
       "        vertical-align: middle;\n",
       "    }\n",
       "\n",
       "    .dataframe tbody tr th {\n",
       "        vertical-align: top;\n",
       "    }\n",
       "\n",
       "    .dataframe thead th {\n",
       "        text-align: right;\n",
       "    }\n",
       "</style>\n",
       "<table border=\"1\" class=\"dataframe\">\n",
       "  <thead>\n",
       "    <tr style=\"text-align: right;\">\n",
       "      <th></th>\n",
       "      <th>Userid</th>\n",
       "      <th>SnackId</th>\n",
       "      <th>Prediction</th>\n",
       "      <th>Snack</th>\n",
       "    </tr>\n",
       "  </thead>\n",
       "  <tbody>\n",
       "    <tr>\n",
       "      <th>9960</th>\n",
       "      <td>1000</td>\n",
       "      <td>24</td>\n",
       "      <td>0.002170</td>\n",
       "      <td>Chocolate rugelach</td>\n",
       "    </tr>\n",
       "    <tr>\n",
       "      <th>9961</th>\n",
       "      <td>1000</td>\n",
       "      <td>36</td>\n",
       "      <td>0.002148</td>\n",
       "      <td>Ginger snaps</td>\n",
       "    </tr>\n",
       "    <tr>\n",
       "      <th>9962</th>\n",
       "      <td>1000</td>\n",
       "      <td>31</td>\n",
       "      <td>0.001935</td>\n",
       "      <td>Panforte</td>\n",
       "    </tr>\n",
       "    <tr>\n",
       "      <th>9963</th>\n",
       "      <td>1000</td>\n",
       "      <td>35</td>\n",
       "      <td>0.001883</td>\n",
       "      <td>Cookie</td>\n",
       "    </tr>\n",
       "    <tr>\n",
       "      <th>9964</th>\n",
       "      <td>1000</td>\n",
       "      <td>20</td>\n",
       "      <td>0.001800</td>\n",
       "      <td>Imli Candy</td>\n",
       "    </tr>\n",
       "    <tr>\n",
       "      <th>9965</th>\n",
       "      <td>1000</td>\n",
       "      <td>16</td>\n",
       "      <td>0.001759</td>\n",
       "      <td>Pretzel,</td>\n",
       "    </tr>\n",
       "    <tr>\n",
       "      <th>9966</th>\n",
       "      <td>1000</td>\n",
       "      <td>19</td>\n",
       "      <td>0.001736</td>\n",
       "      <td>Brittle</td>\n",
       "    </tr>\n",
       "    <tr>\n",
       "      <th>9967</th>\n",
       "      <td>1000</td>\n",
       "      <td>7</td>\n",
       "      <td>0.001730</td>\n",
       "      <td>Doughnut</td>\n",
       "    </tr>\n",
       "    <tr>\n",
       "      <th>9968</th>\n",
       "      <td>1000</td>\n",
       "      <td>2</td>\n",
       "      <td>0.001656</td>\n",
       "      <td>Cereal</td>\n",
       "    </tr>\n",
       "    <tr>\n",
       "      <th>9969</th>\n",
       "      <td>1000</td>\n",
       "      <td>11</td>\n",
       "      <td>0.001615</td>\n",
       "      <td>Pancakes</td>\n",
       "    </tr>\n",
       "  </tbody>\n",
       "</table>\n",
       "</div>"
      ],
      "text/plain": [
       "      Userid  SnackId  Prediction               Snack\n",
       "9960    1000       24    0.002170  Chocolate rugelach\n",
       "9961    1000       36    0.002148        Ginger snaps\n",
       "9962    1000       31    0.001935            Panforte\n",
       "9963    1000       35    0.001883              Cookie\n",
       "9964    1000       20    0.001800          Imli Candy\n",
       "9965    1000       16    0.001759            Pretzel,\n",
       "9966    1000       19    0.001736             Brittle\n",
       "9967    1000        7    0.001730            Doughnut\n",
       "9968    1000        2    0.001656             Cereal \n",
       "9969    1000       11    0.001615            Pancakes"
      ]
     },
     "metadata": {},
     "output_type": "display_data"
    }
   ],
   "source": [
    "top_k_with_titles = (top_k.join(data[['SnackId', 'Snack']].drop_duplicates().set_index('SnackId'), \n",
    "                                on='SnackId', \n",
    "                                how='inner').sort_values(by=['Userid', 'Prediction'], ascending=False))\n",
    "display(top_k_with_titles.head(10))"
   ]
  },
  {
   "cell_type": "code",
   "execution_count": 12,
   "metadata": {},
   "outputs": [
    {
     "data": {
      "text/html": [
       "<div>\n",
       "<style scoped>\n",
       "    .dataframe tbody tr th:only-of-type {\n",
       "        vertical-align: middle;\n",
       "    }\n",
       "\n",
       "    .dataframe tbody tr th {\n",
       "        vertical-align: top;\n",
       "    }\n",
       "\n",
       "    .dataframe thead th {\n",
       "        text-align: right;\n",
       "    }\n",
       "</style>\n",
       "<table border=\"1\" class=\"dataframe\">\n",
       "  <thead>\n",
       "    <tr style=\"text-align: right;\">\n",
       "      <th></th>\n",
       "      <th>Userid</th>\n",
       "      <th>SnackId</th>\n",
       "      <th>Prediction</th>\n",
       "      <th>Snack</th>\n",
       "    </tr>\n",
       "  </thead>\n",
       "  <tbody>\n",
       "    <tr>\n",
       "      <th>20</th>\n",
       "      <td>3</td>\n",
       "      <td>35</td>\n",
       "      <td>0.001726</td>\n",
       "      <td>Cookie</td>\n",
       "    </tr>\n",
       "    <tr>\n",
       "      <th>21</th>\n",
       "      <td>3</td>\n",
       "      <td>24</td>\n",
       "      <td>0.001569</td>\n",
       "      <td>Chocolate rugelach</td>\n",
       "    </tr>\n",
       "    <tr>\n",
       "      <th>22</th>\n",
       "      <td>3</td>\n",
       "      <td>16</td>\n",
       "      <td>0.001509</td>\n",
       "      <td>Pretzel,</td>\n",
       "    </tr>\n",
       "    <tr>\n",
       "      <th>23</th>\n",
       "      <td>3</td>\n",
       "      <td>37</td>\n",
       "      <td>0.001476</td>\n",
       "      <td>Graham crackers</td>\n",
       "    </tr>\n",
       "    <tr>\n",
       "      <th>24</th>\n",
       "      <td>3</td>\n",
       "      <td>10</td>\n",
       "      <td>0.001468</td>\n",
       "      <td>Pakora</td>\n",
       "    </tr>\n",
       "    <tr>\n",
       "      <th>25</th>\n",
       "      <td>3</td>\n",
       "      <td>4</td>\n",
       "      <td>0.001466</td>\n",
       "      <td>Cracker nuts</td>\n",
       "    </tr>\n",
       "    <tr>\n",
       "      <th>26</th>\n",
       "      <td>3</td>\n",
       "      <td>11</td>\n",
       "      <td>0.001461</td>\n",
       "      <td>Pancakes</td>\n",
       "    </tr>\n",
       "    <tr>\n",
       "      <th>27</th>\n",
       "      <td>3</td>\n",
       "      <td>28</td>\n",
       "      <td>0.001443</td>\n",
       "      <td>Marshmallow</td>\n",
       "    </tr>\n",
       "    <tr>\n",
       "      <th>28</th>\n",
       "      <td>3</td>\n",
       "      <td>5</td>\n",
       "      <td>0.001440</td>\n",
       "      <td>Crepe</td>\n",
       "    </tr>\n",
       "    <tr>\n",
       "      <th>29</th>\n",
       "      <td>3</td>\n",
       "      <td>33</td>\n",
       "      <td>0.001356</td>\n",
       "      <td>Arrowroot</td>\n",
       "    </tr>\n",
       "  </tbody>\n",
       "</table>\n",
       "</div>"
      ],
      "text/plain": [
       "    Userid  SnackId  Prediction               Snack\n",
       "20       3       35    0.001726              Cookie\n",
       "21       3       24    0.001569  Chocolate rugelach\n",
       "22       3       16    0.001509            Pretzel,\n",
       "23       3       37    0.001476     Graham crackers\n",
       "24       3       10    0.001468              Pakora\n",
       "25       3        4    0.001466        Cracker nuts\n",
       "26       3       11    0.001461            Pancakes\n",
       "27       3       28    0.001443         Marshmallow\n",
       "28       3        5    0.001440               Crepe\n",
       "29       3       33    0.001356           Arrowroot"
      ]
     },
     "execution_count": 12,
     "metadata": {},
     "output_type": "execute_result"
    }
   ],
   "source": [
    "#for user 3:\n",
    "top_k_with_titles[top_k_with_titles['Userid']==3]"
   ]
  },
  {
   "cell_type": "markdown",
   "metadata": {},
   "source": [
    "### 3.3 Evaluate the results\n",
    "\n",
    "It should be known that the recommendation scores generated by multiplying the item similarity matrix $S$ and the user affinity matrix $A$ **DOES NOT** have the same scale with the original explicit ratings in the movielens dataset. That is to say, SAR algorithm is meant for the task of *recommending relevent items to users* rather than *predicting explicit ratings for user-item pairs*. \n",
    "\n",
    "To this end, ranking metrics like precision@k, recall@k, etc., are more applicable to evaluate SAR algorithm. The following illustrates how to evaluate SAR model by using the evaluation functions provided in the `reco_utils`."
   ]
  },
  {
   "cell_type": "code",
   "execution_count": 13,
   "metadata": {},
   "outputs": [],
   "source": [
    "# all ranking metrics have the same arguments\n",
    "args = [test, top_k]\n",
    "kwargs = dict(col_user='Userid', \n",
    "              col_item='SnackId', \n",
    "              col_rating='Rating', \n",
    "              col_prediction='Prediction', \n",
    "              relevancy_method='top_k', \n",
    "              k=TOP_K)\n",
    "\n",
    "eval_map = map_at_k(*args, **kwargs)\n",
    "eval_ndcg = ndcg_at_k(*args, **kwargs)\n",
    "eval_precision = precision_at_k(*args, **kwargs)\n",
    "eval_recall = recall_at_k(*args, **kwargs)"
   ]
  },
  {
   "cell_type": "code",
   "execution_count": 14,
   "metadata": {},
   "outputs": [
    {
     "name": "stdout",
     "output_type": "stream",
     "text": [
      "Model:\n",
      "Top K:\t\t 10\n",
      "MAP:\t\t 0.107698\n",
      "NDCG:\t\t 0.191562\n",
      "Precision@K:\t 0.074022\n",
      "Recall@K:\t 0.334002\n"
     ]
    }
   ],
   "source": [
    "print(f\"Model:\",\n",
    "      f\"Top K:\\t\\t {TOP_K}\",\n",
    "      f\"MAP:\\t\\t {eval_map:f}\",\n",
    "      f\"NDCG:\\t\\t {eval_ndcg:f}\",\n",
    "      f\"Precision@K:\\t {eval_precision:f}\",\n",
    "      f\"Recall@K:\\t {eval_recall:f}\", sep='\\n')"
   ]
  },
  {
   "cell_type": "code",
   "execution_count": 25,
   "metadata": {},
   "outputs": [
    {
     "name": "stderr",
     "output_type": "stream",
     "text": [
      "2020-11-18 19:47:00,199 INFO     Collecting user affinity matrix\n",
      "2020-11-18 19:47:00,201 INFO     Calculating time-decayed affinities\n",
      "2020-11-18 19:47:00,210 INFO     Creating index columns\n",
      "2020-11-18 19:47:00,223 INFO     Building user affinity sparse matrix\n",
      "2020-11-18 19:47:00,225 INFO     Calculating item co-occurrence\n",
      "2020-11-18 19:47:00,228 INFO     Calculating item similarity\n",
      "2020-11-18 19:47:00,229 INFO     Using co-occurrence based similarity\n",
      "2020-11-18 19:47:00,229 INFO     Done training\n",
      "2020-11-18 19:47:00,231 INFO     Calculating recommendation scores\n",
      "2020-11-18 19:47:00,233 INFO     Removing seen items\n"
     ]
    }
   ],
   "source": [
    "#Cooccurrence method :\n",
    "\n",
    "model = SARSingleNode(\n",
    "    similarity_type=\"cooccurrence\", \n",
    "    time_decay_coefficient=30, \n",
    "    time_now=None, \n",
    "    timedecay_formula=True, \n",
    "    **header\n",
    ")\n",
    "model.fit(train)\n",
    "top_k = model.recommend_k_items(test, remove_seen=True)\n",
    "args = [test, top_k]\n",
    "kwargs = dict(col_user='Userid', \n",
    "              col_item='SnackId', \n",
    "              col_rating='Rating', \n",
    "              col_prediction='Prediction', \n",
    "              relevancy_method='top_k', \n",
    "              k=TOP_K)\n",
    "\n",
    "eval_map = map_at_k(*args, **kwargs)\n",
    "eval_ndcg = ndcg_at_k(*args, **kwargs)\n",
    "eval_precision = precision_at_k(*args, **kwargs)\n",
    "eval_recall = recall_at_k(*args, **kwargs)"
   ]
  },
  {
   "cell_type": "code",
   "execution_count": 26,
   "metadata": {},
   "outputs": [
    {
     "name": "stdout",
     "output_type": "stream",
     "text": [
      "Model:\n",
      "Top K:\t\t 10\n",
      "MAP:\t\t 0.107803\n",
      "NDCG:\t\t 0.191457\n",
      "Precision@K:\t 0.073420\n",
      "Recall@K:\t 0.330241\n"
     ]
    }
   ],
   "source": [
    "print(f\"Model:\",\n",
    "      f\"Top K:\\t\\t {TOP_K}\",\n",
    "      f\"MAP:\\t\\t {eval_map:f}\",\n",
    "      f\"NDCG:\\t\\t {eval_ndcg:f}\",\n",
    "      f\"Precision@K:\\t {eval_precision:f}\",\n",
    "      f\"Recall@K:\\t {eval_recall:f}\", sep='\\n')"
   ]
  },
  {
   "cell_type": "code",
   "execution_count": 22,
   "metadata": {},
   "outputs": [
    {
     "name": "stderr",
     "output_type": "stream",
     "text": [
      "2020-11-18 19:46:41,511 INFO     Collecting user affinity matrix\n",
      "2020-11-18 19:46:41,513 INFO     Calculating time-decayed affinities\n",
      "2020-11-18 19:46:41,521 INFO     Creating index columns\n",
      "2020-11-18 19:46:41,534 INFO     Building user affinity sparse matrix\n",
      "2020-11-18 19:46:41,537 INFO     Calculating item co-occurrence\n",
      "2020-11-18 19:46:41,540 INFO     Calculating item similarity\n",
      "2020-11-18 19:46:41,541 INFO     Using lift based similarity\n",
      "2020-11-18 19:46:41,542 INFO     Done training\n",
      "2020-11-18 19:46:41,543 INFO     Calculating recommendation scores\n",
      "2020-11-18 19:46:41,545 INFO     Removing seen items\n"
     ]
    }
   ],
   "source": [
    "#Life Similarlity method :\n",
    "\n",
    "model = SARSingleNode(\n",
    "    similarity_type=\"lift\", \n",
    "    time_decay_coefficient=30, \n",
    "    time_now=None, \n",
    "    timedecay_formula=True, \n",
    "    **header\n",
    ")\n",
    "model.fit(train)\n",
    "top_k = model.recommend_k_items(test, remove_seen=True)\n",
    "args = [test, top_k]\n",
    "kwargs = dict(col_user='Userid', \n",
    "              col_item='SnackId', \n",
    "              col_rating='Rating', \n",
    "              col_prediction='Prediction', \n",
    "              relevancy_method='top_k', \n",
    "              k=TOP_K)\n",
    "\n",
    "eval_map = map_at_k(*args, **kwargs)\n",
    "eval_ndcg = ndcg_at_k(*args, **kwargs)\n",
    "eval_precision = precision_at_k(*args, **kwargs)\n",
    "eval_recall = recall_at_k(*args, **kwargs)"
   ]
  },
  {
   "cell_type": "code",
   "execution_count": 23,
   "metadata": {},
   "outputs": [
    {
     "name": "stdout",
     "output_type": "stream",
     "text": [
      "Model:\n",
      "Top K:\t\t 10\n",
      "MAP:\t\t 0.106315\n",
      "NDCG:\t\t 0.189390\n",
      "Precision@K:\t 0.073922\n",
      "Recall@K:\t 0.333835\n"
     ]
    }
   ],
   "source": [
    "print(f\"Model:\",\n",
    "      f\"Top K:\\t\\t {TOP_K}\",\n",
    "      f\"MAP:\\t\\t {eval_map:f}\",\n",
    "      f\"NDCG:\\t\\t {eval_ndcg:f}\",\n",
    "      f\"Precision@K:\\t {eval_precision:f}\",\n",
    "      f\"Recall@K:\\t {eval_recall:f}\", sep='\\n')"
   ]
  },
  {
   "cell_type": "code",
   "execution_count": 40,
   "metadata": {},
   "outputs": [],
   "source": [
    "import warnings\n",
    "warnings.filterwarnings('ignore')\n",
    "import matplotlib.pyplot as plt"
   ]
  },
  {
   "cell_type": "code",
   "execution_count": 54,
   "metadata": {},
   "outputs": [
    {
     "name": "stderr",
     "output_type": "stream",
     "text": [
      "2020-11-18 20:44:30,016 INFO     Collecting user affinity matrix\n",
      "2020-11-18 20:44:30,018 INFO     Calculating time-decayed affinities\n",
      "2020-11-18 20:44:30,027 INFO     Creating index columns\n",
      "2020-11-18 20:44:30,042 INFO     Building user affinity sparse matrix\n",
      "2020-11-18 20:44:30,044 INFO     Calculating item co-occurrence\n",
      "2020-11-18 20:44:30,048 INFO     Calculating item similarity\n",
      "2020-11-18 20:44:30,048 INFO     Using jaccard based similarity\n",
      "2020-11-18 20:44:30,050 INFO     Done training\n",
      "2020-11-18 20:44:30,052 INFO     Calculating recommendation scores\n",
      "2020-11-18 20:44:30,054 INFO     Removing seen items\n",
      "2020-11-18 20:44:39,346 INFO     Collecting user affinity matrix\n",
      "2020-11-18 20:44:39,349 INFO     Calculating time-decayed affinities\n",
      "2020-11-18 20:44:39,360 INFO     Creating index columns\n",
      "2020-11-18 20:44:39,379 INFO     Building user affinity sparse matrix\n",
      "2020-11-18 20:44:39,381 INFO     Calculating item co-occurrence\n",
      "2020-11-18 20:44:39,384 INFO     Calculating item similarity\n",
      "2020-11-18 20:44:39,385 INFO     Using jaccard based similarity\n",
      "2020-11-18 20:44:39,386 INFO     Done training\n",
      "2020-11-18 20:44:39,389 INFO     Calculating recommendation scores\n",
      "2020-11-18 20:44:39,391 INFO     Removing seen items\n",
      "2020-11-18 20:44:52,307 INFO     Collecting user affinity matrix\n",
      "2020-11-18 20:44:52,310 INFO     Calculating time-decayed affinities\n",
      "2020-11-18 20:44:52,322 INFO     Creating index columns\n",
      "2020-11-18 20:44:52,340 INFO     Building user affinity sparse matrix\n",
      "2020-11-18 20:44:52,342 INFO     Calculating item co-occurrence\n",
      "2020-11-18 20:44:52,345 INFO     Calculating item similarity\n",
      "2020-11-18 20:44:52,346 INFO     Using jaccard based similarity\n",
      "2020-11-18 20:44:52,347 INFO     Done training\n",
      "2020-11-18 20:44:52,349 INFO     Calculating recommendation scores\n",
      "2020-11-18 20:44:52,351 INFO     Removing seen items\n",
      "2020-11-18 20:45:05,718 INFO     Collecting user affinity matrix\n",
      "2020-11-18 20:45:05,722 INFO     Calculating time-decayed affinities\n",
      "2020-11-18 20:45:05,734 INFO     Creating index columns\n",
      "2020-11-18 20:45:05,764 INFO     Building user affinity sparse matrix\n",
      "2020-11-18 20:45:05,769 INFO     Calculating item co-occurrence\n",
      "2020-11-18 20:45:05,774 INFO     Calculating item similarity\n",
      "2020-11-18 20:45:05,775 INFO     Using jaccard based similarity\n",
      "2020-11-18 20:45:05,777 INFO     Done training\n",
      "2020-11-18 20:45:05,779 INFO     Calculating recommendation scores\n",
      "2020-11-18 20:45:05,781 INFO     Removing seen items\n",
      "2020-11-18 20:45:19,612 INFO     Collecting user affinity matrix\n",
      "2020-11-18 20:45:19,614 INFO     Calculating time-decayed affinities\n",
      "2020-11-18 20:45:19,625 INFO     Creating index columns\n",
      "2020-11-18 20:45:19,646 INFO     Building user affinity sparse matrix\n",
      "2020-11-18 20:45:19,648 INFO     Calculating item co-occurrence\n",
      "2020-11-18 20:45:19,651 INFO     Calculating item similarity\n",
      "2020-11-18 20:45:19,652 INFO     Using jaccard based similarity\n",
      "2020-11-18 20:45:19,653 INFO     Done training\n",
      "2020-11-18 20:45:19,654 INFO     Calculating recommendation scores\n",
      "2020-11-18 20:45:19,656 INFO     Removing seen items\n",
      "2020-11-18 20:45:31,950 INFO     Collecting user affinity matrix\n",
      "2020-11-18 20:45:31,952 INFO     Calculating time-decayed affinities\n",
      "2020-11-18 20:45:32,010 INFO     Creating index columns\n",
      "2020-11-18 20:45:32,092 INFO     Building user affinity sparse matrix\n",
      "2020-11-18 20:45:32,102 INFO     Calculating item co-occurrence\n",
      "2020-11-18 20:45:32,121 INFO     Calculating item similarity\n",
      "2020-11-18 20:45:32,125 INFO     Using jaccard based similarity\n",
      "2020-11-18 20:45:32,129 INFO     Done training\n",
      "2020-11-18 20:45:32,139 INFO     Calculating recommendation scores\n",
      "2020-11-18 20:45:32,155 INFO     Removing seen items\n",
      "2020-11-18 20:45:43,586 INFO     Collecting user affinity matrix\n",
      "2020-11-18 20:45:43,590 INFO     Calculating time-decayed affinities\n",
      "2020-11-18 20:45:43,605 INFO     Creating index columns\n",
      "2020-11-18 20:45:43,626 INFO     Building user affinity sparse matrix\n",
      "2020-11-18 20:45:43,629 INFO     Calculating item co-occurrence\n",
      "2020-11-18 20:45:43,633 INFO     Calculating item similarity\n",
      "2020-11-18 20:45:43,634 INFO     Using jaccard based similarity\n",
      "2020-11-18 20:45:43,635 INFO     Done training\n",
      "2020-11-18 20:45:43,637 INFO     Calculating recommendation scores\n",
      "2020-11-18 20:45:43,639 INFO     Removing seen items\n",
      "2020-11-18 20:45:54,342 INFO     Collecting user affinity matrix\n",
      "2020-11-18 20:45:54,345 INFO     Calculating time-decayed affinities\n",
      "2020-11-18 20:45:54,355 INFO     Creating index columns\n",
      "2020-11-18 20:45:54,373 INFO     Building user affinity sparse matrix\n",
      "2020-11-18 20:45:54,375 INFO     Calculating item co-occurrence\n",
      "2020-11-18 20:45:54,378 INFO     Calculating item similarity\n",
      "2020-11-18 20:45:54,379 INFO     Using jaccard based similarity\n",
      "2020-11-18 20:45:54,380 INFO     Done training\n",
      "2020-11-18 20:45:54,382 INFO     Calculating recommendation scores\n",
      "2020-11-18 20:45:54,384 INFO     Removing seen items\n",
      "2020-11-18 20:46:05,733 INFO     Collecting user affinity matrix\n",
      "2020-11-18 20:46:05,735 INFO     Calculating time-decayed affinities\n",
      "2020-11-18 20:46:05,744 INFO     Creating index columns\n",
      "2020-11-18 20:46:05,760 INFO     Building user affinity sparse matrix\n",
      "2020-11-18 20:46:05,762 INFO     Calculating item co-occurrence\n",
      "2020-11-18 20:46:05,766 INFO     Calculating item similarity\n",
      "2020-11-18 20:46:05,766 INFO     Using jaccard based similarity\n",
      "2020-11-18 20:46:05,768 INFO     Done training\n",
      "2020-11-18 20:46:05,770 INFO     Calculating recommendation scores\n",
      "2020-11-18 20:46:05,772 INFO     Removing seen items\n",
      "2020-11-18 20:46:15,757 INFO     Collecting user affinity matrix\n",
      "2020-11-18 20:46:15,760 INFO     Calculating time-decayed affinities\n",
      "2020-11-18 20:46:15,769 INFO     Creating index columns\n",
      "2020-11-18 20:46:15,787 INFO     Building user affinity sparse matrix\n",
      "2020-11-18 20:46:15,789 INFO     Calculating item co-occurrence\n",
      "2020-11-18 20:46:15,793 INFO     Calculating item similarity\n",
      "2020-11-18 20:46:15,793 INFO     Using jaccard based similarity\n",
      "2020-11-18 20:46:15,795 INFO     Done training\n",
      "2020-11-18 20:46:15,797 INFO     Calculating recommendation scores\n",
      "2020-11-18 20:46:15,799 INFO     Removing seen items\n"
     ]
    },
    {
     "data": {
      "text/plain": [
       "<Figure size 432x288 with 0 Axes>"
      ]
     },
     "metadata": {},
     "output_type": "display_data"
    }
   ],
   "source": [
    "#Varying Time coefficient and precision values\n",
    "logging.basicConfig(level=logging.DEBUG, \n",
    "                    format='%(asctime)s %(levelname)-8s %(message)s')\n",
    "plt.figure()\n",
    "a=[]\n",
    "b=[]\n",
    "for i in range(0,50,5):\n",
    "    model = SARSingleNode(\n",
    "        similarity_type=\"jaccard\", \n",
    "        time_decay_coefficient=i, \n",
    "        time_now=None, \n",
    "        timedecay_formula=True, \n",
    "        **header\n",
    "    )\n",
    "    model.fit(train)\n",
    "    top_k = model.recommend_k_items(test, remove_seen=True)\n",
    "    args = [test, top_k]\n",
    "    kwargs = dict(col_user='Userid', \n",
    "                  col_item='SnackId', \n",
    "                  col_rating='Rating', \n",
    "                  col_prediction='Prediction', \n",
    "                  relevancy_method='top_k', \n",
    "                  k=TOP_K)\n",
    "\n",
    "    eval_map = map_at_k(*args, **kwargs)\n",
    "    eval_ndcg = ndcg_at_k(*args, **kwargs)\n",
    "    eval_precision = precision_at_k(*args, **kwargs)\n",
    "    eval_recall = recall_at_k(*args, **kwargs)\n",
    "    a.append(eval_precision)\n",
    "    b.append(eval_recall)\n",
    "    #plt.plot(i,eval_precision)\n",
    "    \n",
    "#     print(f\"Model:\",\n",
    "#           f\"Top K:\\t\\t {TOP_K}\",\n",
    "#           f\"MAP:\\t\\t {eval_map:f}\",\n",
    "#           f\"NDCG:\\t\\t {eval_ndcg:f}\",\n",
    "#           f\"Precision@K:\\t {eval_precision:f}\",\n",
    "#           f\"Recall@K:\\t {eval_recall:f}\", sep='\\n')"
   ]
  },
  {
   "cell_type": "code",
   "execution_count": 48,
   "metadata": {},
   "outputs": [],
   "source": [
    "x=[]\n",
    "for i in range(0,50,5):\n",
    "    x.append(i)"
   ]
  },
  {
   "cell_type": "code",
   "execution_count": 59,
   "metadata": {},
   "outputs": [
    {
     "data": {
      "text/plain": [
       "Text(0.5, 1.0, 'Time Decay v/s Precision')"
      ]
     },
     "execution_count": 59,
     "metadata": {},
     "output_type": "execute_result"
    },
    {
     "data": {
      "image/png": "[encoded data removed]",
      "text/plain": [
       "<Figure size 432x288 with 1 Axes>"
      ]
     },
     "metadata": {
      "needs_background": "light"
     },
     "output_type": "display_data"
    }
   ],
   "source": [
    "plt.plot(x,a)\n",
    "#plt.plot(x,b,'Recall')\n",
    "plt.xlabel('Time Decay Coefficient')\n",
    "plt.ylabel('Precision')\n",
    "plt.title('Time Decay v/s Precision')"
   ]
  },
  {
   "cell_type": "code",
   "execution_count": 60,
   "metadata": {},
   "outputs": [
    {
     "data": {
      "text/plain": [
       "Text(0.5, 1.0, 'Time Decay v/s Recall')"
      ]
     },
     "execution_count": 60,
     "metadata": {},
     "output_type": "execute_result"
    },
    {
     "data": {
      "image/png": "[encoded data removed]",
      "text/plain": [
       "<Figure size 432x288 with 1 Axes>"
      ]
     },
     "metadata": {
      "needs_background": "light"
     },
     "output_type": "display_data"
    }
   ],
   "source": [
    "plt.plot(x,b)\n",
    "#plt.plot(x,b,'Recall')\n",
    "plt.xlabel('Time Decay Coefficient')\n",
    "plt.ylabel('Recall')\n",
    "plt.title('Time Decay v/s Recall')"
   ]
  },
  {
   "cell_type": "code",
   "execution_count": null,
   "metadata": {},
   "outputs": [],
   "source": [
    "plt.plot(x,a)\n",
    "plt.xlabel('Time Decay Coefficient')\n",
    "plt.ylabel('Recall')\n",
    "plt.title('Time Decay v/s Precision')"
   ]
  },
  {
   "cell_type": "code",
   "execution_count": 41,
   "metadata": {},
   "outputs": [],
   "source": [
    "#Saving model in pickle file\n",
    "import pickle\n",
    "file_name = 'sar_snacks.pkl'\n",
    "pickle.dump(model, open(file_name, 'wb'))"
   ]
  },
  {
   "cell_type": "code",
   "execution_count": 42,
   "metadata": {},
   "outputs": [],
   "source": [
    "#mod = pickle.load(open(file_name, 'rb')) --Used for reading the model"
   ]
  },
  {
   "cell_type": "code",
   "execution_count": 15,
   "metadata": {},
   "outputs": [],
   "source": [
    "#saving recommender scores to csv\n",
    "top_k.to_csv('recom_items.csv')"
   ]
  },
  {
   "cell_type": "markdown",
   "metadata": {},
   "source": [
    "## References\n",
    "Note SAR is a combinational algorithm that implements different industry heuristics. The followings are references that may be helpful in understanding the SAR logic and implementation. \n",
    "\n",
    "1. Badrul Sarwar, *et al*, \"Item-based collaborative filtering recommendation algorithms\", WWW, 2001.\n",
    "2. Scipy (sparse matrix), url: https://docs.scipy.org/doc/scipy/reference/sparse.html\n",
    "3. Asela Gunawardana and Guy Shani, \"A survey of accuracy evaluation metrics of recommendation tasks\", The Journal of Machine Learning Research, vol. 10, pp 2935-2962, 2009.\t"
   ]
  }
 ],
 "metadata": {
  "kernelspec": {
   "display_name": "Python 3",
   "language": "python",
   "name": "python3"
  },
  "language_info": {
   "codemirror_mode": {
    "name": "ipython",
    "version": 3
   },
   "file_extension": ".py",
   "mimetype": "text/x-python",
   "name": "python",
   "nbconvert_exporter": "python",
   "pygments_lexer": "ipython3",
   "version": "3.7.6"
  }
 },
 "nbformat": 4,
 "nbformat_minor": 2
}
