{
 "cells": [
  {
   "cell_type": "code",
   "execution_count": 104,
   "metadata": {},
   "outputs": [],
   "source": [
    "import tensorflow as tf\n",
    "import tensorflow_hub as hub\n",
    "# For saving 'feature vectors' into a txt file\n",
    "import numpy as np\n",
    "# Glob for reading file names in a folder\n",
    "import glob\n",
    "import os.path\n",
    "from tqdm import tqdm\n",
    "import ntpath\n",
    "import warnings\n",
    "import cv2\n",
    "from annoy import AnnoyIndex\n",
    "from scipy import spatial\n",
    "warnings.filterwarnings('ignore')\n",
    "from operator import itemgetter"
   ]
  },
  {
   "cell_type": "code",
   "execution_count": 38,
   "metadata": {},
   "outputs": [],
   "source": [
    "def load_img(path):\n",
    "    # Reads the image file and returns data type of string\n",
    "    img = tf.io.read_file(path)\n",
    "    # Decodes the image to W x H x 3 shape tensor with type of uint8\n",
    "    img = tf.io.decode_jpeg(img, channels=3)\n",
    "    # Resizes the image to 224 x 224 x 3 shape tensor\n",
    "    img = tf.image.resize_with_pad(img, 224, 224)\n",
    "    # Converts the data type of uint8 to float32 by adding a new axis\n",
    "    # img becomes 1 x 224 x 224 x 3 tensor with data type of float32\n",
    "    # This is required for the mobilenet model we are using\n",
    "    img = tf.image.convert_image_dtype(img,tf.float32)[tf.newaxis, ...]\n",
    "\n",
    "    return img"
   ]
  },
  {
   "cell_type": "code",
   "execution_count": 50,
   "metadata": {},
   "outputs": [],
   "source": [
    "def match_id(filename):\n",
    "    product_id = '_'.join(filename.split('_')[:-1])\n",
    "    return product_id"
   ]
  },
  {
   "cell_type": "code",
   "execution_count": 3,
   "metadata": {},
   "outputs": [],
   "source": [
    "image_paths= glob.glob('D:\\\\Documents\\\\Semester3\\\\ADM\\\\A3\\\\Images\\\\*.jpg')"
   ]
  },
  {
   "cell_type": "code",
   "execution_count": 51,
   "metadata": {},
   "outputs": [],
   "source": [
    "def get_image_feature_vectors(path):\n",
    "    module_handle = \"https://tfhub.dev/google/imagenet/mobilenet_v2_140_224/feature_vector/4\"\n",
    "    # Loads the module\n",
    "    module = hub.load(module_handle)\n",
    "    # Loops through all images in a local folder\n",
    "\n",
    "    #print(path)\n",
    "    # Loads and pre-process the image\n",
    "    img = load_img(path)\n",
    "    # Calculate the image feature vector of the img\n",
    "    features = module(img)\n",
    "    # Remove single-dimensional entries from the 'features' array  \n",
    "    feature_set = np.squeeze(features)\n",
    "\n",
    "    # Saves the image feature vectors into a file for later use\n",
    "    outfile_name = os.path.basename(filename) + \".npz\"\n",
    "\n",
    "    out_path = os.path.join('D:/Documents/Semester3/ADM/Assignment 3/Images/Images_Scraped/',outfile_name)\n",
    "    # Saves the 'feature_set' to a text file\n",
    "    np.savetxt(out_path, feature_set, delimiter=',')"
   ]
  },
  {
   "cell_type": "code",
   "execution_count": 52,
   "metadata": {},
   "outputs": [],
   "source": [
    "def get_features(img, image_path): \n",
    "     # Definition of module with using tfhub.dev\n",
    "    module_handle = \"https://tfhub.dev/google/imagenet/mobilenet_v2_140_224/feature_vector/4\"\n",
    "    # Loads the module\n",
    "    module = hub.load(module_handle)\n",
    "    features = module(img)\n",
    "    # Remove single-dimensional entries from the 'features' array  \n",
    "    feature_set = np.squeeze(features)\n",
    "    #print(image_path)\n",
    "\n",
    "    # Saves the image feature vectors into a file for later use\n",
    "    outfile_name = os.path.basename(image_path) + \".npz\"\n",
    "\n",
    "    out_path = os.path.join('D:/Documents/Semester3/ADM/A3/Images/ImagesScraped/',outfile_name)\n",
    "    # Saves the 'feature_set' to a text file\n",
    "    np.savetxt(out_path, feature_set, delimiter=',')\n",
    "    vector = np.loadtxt(out_path)\n",
    "    return vector\n",
    "    "
   ]
  },
  {
   "cell_type": "code",
   "execution_count": 61,
   "metadata": {},
   "outputs": [
    {
     "name": "stderr",
     "output_type": "stream",
     "text": [
      "\r",
      "  0%|                                                                                          | 0/107 [00:00<?, ?it/s]"
     ]
    },
    {
     "name": "stdout",
     "output_type": "stream",
     "text": [
      "WARNING:tensorflow:11 out of the last 11 calls to <function recreate_function.<locals>.restored_function_body at 0x000002113FE14040> triggered tf.function retracing. Tracing is expensive and the excessive number of tracings could be due to (1) creating @tf.function repeatedly in a loop, (2) passing tensors with different shapes, (3) passing Python objects instead of tensors. For (1), please define your @tf.function outside of the loop. For (2), @tf.function has experimental_relax_shapes=True option that relaxes argument shapes that can avoid unnecessary retracing. For (3), please refer to https://www.tensorflow.org/tutorials/customization/performance#python_or_tensor_args and https://www.tensorflow.org/api_docs/python/tf/function for  more details.\n"
     ]
    },
    {
     "name": "stderr",
     "output_type": "stream",
     "text": [
      "WARNING:tensorflow:11 out of the last 11 calls to <function recreate_function.<locals>.restored_function_body at 0x000002113FE14040> triggered tf.function retracing. Tracing is expensive and the excessive number of tracings could be due to (1) creating @tf.function repeatedly in a loop, (2) passing tensors with different shapes, (3) passing Python objects instead of tensors. For (1), please define your @tf.function outside of the loop. For (2), @tf.function has experimental_relax_shapes=True option that relaxes argument shapes that can avoid unnecessary retracing. For (3), please refer to https://www.tensorflow.org/tutorials/customization/performance#python_or_tensor_args and https://www.tensorflow.org/api_docs/python/tf/function for  more details.\n",
      "  1%|▊                                                                                 | 1/107 [00:12<22:55, 12.97s/it]"
     ]
    },
    {
     "name": "stdout",
     "output_type": "stream",
     "text": [
      "WARNING:tensorflow:11 out of the last 11 calls to <function recreate_function.<locals>.restored_function_body at 0x000002113F40B0D0> triggered tf.function retracing. Tracing is expensive and the excessive number of tracings could be due to (1) creating @tf.function repeatedly in a loop, (2) passing tensors with different shapes, (3) passing Python objects instead of tensors. For (1), please define your @tf.function outside of the loop. For (2), @tf.function has experimental_relax_shapes=True option that relaxes argument shapes that can avoid unnecessary retracing. For (3), please refer to https://www.tensorflow.org/tutorials/customization/performance#python_or_tensor_args and https://www.tensorflow.org/api_docs/python/tf/function for  more details.\n"
     ]
    },
    {
     "name": "stderr",
     "output_type": "stream",
     "text": [
      "WARNING:tensorflow:11 out of the last 11 calls to <function recreate_function.<locals>.restored_function_body at 0x000002113F40B0D0> triggered tf.function retracing. Tracing is expensive and the excessive number of tracings could be due to (1) creating @tf.function repeatedly in a loop, (2) passing tensors with different shapes, (3) passing Python objects instead of tensors. For (1), please define your @tf.function outside of the loop. For (2), @tf.function has experimental_relax_shapes=True option that relaxes argument shapes that can avoid unnecessary retracing. For (3), please refer to https://www.tensorflow.org/tutorials/customization/performance#python_or_tensor_args and https://www.tensorflow.org/api_docs/python/tf/function for  more details.\n",
      "  2%|█▌                                                                                | 2/107 [00:24<22:09, 12.66s/it]"
     ]
    },
    {
     "name": "stdout",
     "output_type": "stream",
     "text": [
      "WARNING:tensorflow:11 out of the last 11 calls to <function recreate_function.<locals>.restored_function_body at 0x0000021141A36160> triggered tf.function retracing. Tracing is expensive and the excessive number of tracings could be due to (1) creating @tf.function repeatedly in a loop, (2) passing tensors with different shapes, (3) passing Python objects instead of tensors. For (1), please define your @tf.function outside of the loop. For (2), @tf.function has experimental_relax_shapes=True option that relaxes argument shapes that can avoid unnecessary retracing. For (3), please refer to https://www.tensorflow.org/tutorials/customization/performance#python_or_tensor_args and https://www.tensorflow.org/api_docs/python/tf/function for  more details.\n"
     ]
    },
    {
     "name": "stderr",
     "output_type": "stream",
     "text": [
      "WARNING:tensorflow:11 out of the last 11 calls to <function recreate_function.<locals>.restored_function_body at 0x0000021141A36160> triggered tf.function retracing. Tracing is expensive and the excessive number of tracings could be due to (1) creating @tf.function repeatedly in a loop, (2) passing tensors with different shapes, (3) passing Python objects instead of tensors. For (1), please define your @tf.function outside of the loop. For (2), @tf.function has experimental_relax_shapes=True option that relaxes argument shapes that can avoid unnecessary retracing. For (3), please refer to https://www.tensorflow.org/tutorials/customization/performance#python_or_tensor_args and https://www.tensorflow.org/api_docs/python/tf/function for  more details.\n",
      "  3%|██▎                                                                               | 3/107 [00:36<21:35, 12.46s/it]"
     ]
    },
    {
     "name": "stdout",
     "output_type": "stream",
     "text": [
      "WARNING:tensorflow:11 out of the last 11 calls to <function recreate_function.<locals>.restored_function_body at 0x00000211419541F0> triggered tf.function retracing. Tracing is expensive and the excessive number of tracings could be due to (1) creating @tf.function repeatedly in a loop, (2) passing tensors with different shapes, (3) passing Python objects instead of tensors. For (1), please define your @tf.function outside of the loop. For (2), @tf.function has experimental_relax_shapes=True option that relaxes argument shapes that can avoid unnecessary retracing. For (3), please refer to https://www.tensorflow.org/tutorials/customization/performance#python_or_tensor_args and https://www.tensorflow.org/api_docs/python/tf/function for  more details.\n"
     ]
    },
    {
     "name": "stderr",
     "output_type": "stream",
     "text": [
      "WARNING:tensorflow:11 out of the last 11 calls to <function recreate_function.<locals>.restored_function_body at 0x00000211419541F0> triggered tf.function retracing. Tracing is expensive and the excessive number of tracings could be due to (1) creating @tf.function repeatedly in a loop, (2) passing tensors with different shapes, (3) passing Python objects instead of tensors. For (1), please define your @tf.function outside of the loop. For (2), @tf.function has experimental_relax_shapes=True option that relaxes argument shapes that can avoid unnecessary retracing. For (3), please refer to https://www.tensorflow.org/tutorials/customization/performance#python_or_tensor_args and https://www.tensorflow.org/api_docs/python/tf/function for  more details.\n",
      "  4%|███                                                                               | 4/107 [00:48<21:06, 12.30s/it]"
     ]
    },
    {
     "name": "stdout",
     "output_type": "stream",
     "text": [
      "WARNING:tensorflow:11 out of the last 11 calls to <function recreate_function.<locals>.restored_function_body at 0x000002113BD7F280> triggered tf.function retracing. Tracing is expensive and the excessive number of tracings could be due to (1) creating @tf.function repeatedly in a loop, (2) passing tensors with different shapes, (3) passing Python objects instead of tensors. For (1), please define your @tf.function outside of the loop. For (2), @tf.function has experimental_relax_shapes=True option that relaxes argument shapes that can avoid unnecessary retracing. For (3), please refer to https://www.tensorflow.org/tutorials/customization/performance#python_or_tensor_args and https://www.tensorflow.org/api_docs/python/tf/function for  more details.\n"
     ]
    },
    {
     "name": "stderr",
     "output_type": "stream",
     "text": [
      "WARNING:tensorflow:11 out of the last 11 calls to <function recreate_function.<locals>.restored_function_body at 0x000002113BD7F280> triggered tf.function retracing. Tracing is expensive and the excessive number of tracings could be due to (1) creating @tf.function repeatedly in a loop, (2) passing tensors with different shapes, (3) passing Python objects instead of tensors. For (1), please define your @tf.function outside of the loop. For (2), @tf.function has experimental_relax_shapes=True option that relaxes argument shapes that can avoid unnecessary retracing. For (3), please refer to https://www.tensorflow.org/tutorials/customization/performance#python_or_tensor_args and https://www.tensorflow.org/api_docs/python/tf/function for  more details.\n",
      "  5%|███▊                                                                              | 5/107 [01:00<20:42, 12.18s/it]"
     ]
    },
    {
     "name": "stdout",
     "output_type": "stream",
     "text": [
      "WARNING:tensorflow:11 out of the last 11 calls to <function recreate_function.<locals>.restored_function_body at 0x000002113D276790> triggered tf.function retracing. Tracing is expensive and the excessive number of tracings could be due to (1) creating @tf.function repeatedly in a loop, (2) passing tensors with different shapes, (3) passing Python objects instead of tensors. For (1), please define your @tf.function outside of the loop. For (2), @tf.function has experimental_relax_shapes=True option that relaxes argument shapes that can avoid unnecessary retracing. For (3), please refer to https://www.tensorflow.org/tutorials/customization/performance#python_or_tensor_args and https://www.tensorflow.org/api_docs/python/tf/function for  more details.\n"
     ]
    },
    {
     "name": "stderr",
     "output_type": "stream",
     "text": [
      "WARNING:tensorflow:11 out of the last 11 calls to <function recreate_function.<locals>.restored_function_body at 0x000002113D276790> triggered tf.function retracing. Tracing is expensive and the excessive number of tracings could be due to (1) creating @tf.function repeatedly in a loop, (2) passing tensors with different shapes, (3) passing Python objects instead of tensors. For (1), please define your @tf.function outside of the loop. For (2), @tf.function has experimental_relax_shapes=True option that relaxes argument shapes that can avoid unnecessary retracing. For (3), please refer to https://www.tensorflow.org/tutorials/customization/performance#python_or_tensor_args and https://www.tensorflow.org/api_docs/python/tf/function for  more details.\n",
      "  6%|████▌                                                                             | 6/107 [01:12<20:22, 12.11s/it]"
     ]
    },
    {
     "name": "stdout",
     "output_type": "stream",
     "text": [
      "WARNING:tensorflow:11 out of the last 11 calls to <function recreate_function.<locals>.restored_function_body at 0x000002114179D820> triggered tf.function retracing. Tracing is expensive and the excessive number of tracings could be due to (1) creating @tf.function repeatedly in a loop, (2) passing tensors with different shapes, (3) passing Python objects instead of tensors. For (1), please define your @tf.function outside of the loop. For (2), @tf.function has experimental_relax_shapes=True option that relaxes argument shapes that can avoid unnecessary retracing. For (3), please refer to https://www.tensorflow.org/tutorials/customization/performance#python_or_tensor_args and https://www.tensorflow.org/api_docs/python/tf/function for  more details.\n"
     ]
    },
    {
     "name": "stderr",
     "output_type": "stream",
     "text": [
      "WARNING:tensorflow:11 out of the last 11 calls to <function recreate_function.<locals>.restored_function_body at 0x000002114179D820> triggered tf.function retracing. Tracing is expensive and the excessive number of tracings could be due to (1) creating @tf.function repeatedly in a loop, (2) passing tensors with different shapes, (3) passing Python objects instead of tensors. For (1), please define your @tf.function outside of the loop. For (2), @tf.function has experimental_relax_shapes=True option that relaxes argument shapes that can avoid unnecessary retracing. For (3), please refer to https://www.tensorflow.org/tutorials/customization/performance#python_or_tensor_args and https://www.tensorflow.org/api_docs/python/tf/function for  more details.\n",
      "  7%|█████▎                                                                            | 7/107 [01:24<20:02, 12.03s/it]"
     ]
    },
    {
     "name": "stdout",
     "output_type": "stream",
     "text": [
      "WARNING:tensorflow:11 out of the last 11 calls to <function recreate_function.<locals>.restored_function_body at 0x000002113D9258B0> triggered tf.function retracing. Tracing is expensive and the excessive number of tracings could be due to (1) creating @tf.function repeatedly in a loop, (2) passing tensors with different shapes, (3) passing Python objects instead of tensors. For (1), please define your @tf.function outside of the loop. For (2), @tf.function has experimental_relax_shapes=True option that relaxes argument shapes that can avoid unnecessary retracing. For (3), please refer to https://www.tensorflow.org/tutorials/customization/performance#python_or_tensor_args and https://www.tensorflow.org/api_docs/python/tf/function for  more details.\n"
     ]
    },
    {
     "name": "stderr",
     "output_type": "stream",
     "text": [
      "WARNING:tensorflow:11 out of the last 11 calls to <function recreate_function.<locals>.restored_function_body at 0x000002113D9258B0> triggered tf.function retracing. Tracing is expensive and the excessive number of tracings could be due to (1) creating @tf.function repeatedly in a loop, (2) passing tensors with different shapes, (3) passing Python objects instead of tensors. For (1), please define your @tf.function outside of the loop. For (2), @tf.function has experimental_relax_shapes=True option that relaxes argument shapes that can avoid unnecessary retracing. For (3), please refer to https://www.tensorflow.org/tutorials/customization/performance#python_or_tensor_args and https://www.tensorflow.org/api_docs/python/tf/function for  more details.\n",
      "  7%|██████▏                                                                           | 8/107 [01:36<19:45, 11.98s/it]"
     ]
    },
    {
     "name": "stdout",
     "output_type": "stream",
     "text": [
      "WARNING:tensorflow:11 out of the last 11 calls to <function recreate_function.<locals>.restored_function_body at 0x0000021146BDD940> triggered tf.function retracing. Tracing is expensive and the excessive number of tracings could be due to (1) creating @tf.function repeatedly in a loop, (2) passing tensors with different shapes, (3) passing Python objects instead of tensors. For (1), please define your @tf.function outside of the loop. For (2), @tf.function has experimental_relax_shapes=True option that relaxes argument shapes that can avoid unnecessary retracing. For (3), please refer to https://www.tensorflow.org/tutorials/customization/performance#python_or_tensor_args and https://www.tensorflow.org/api_docs/python/tf/function for  more details.\n"
     ]
    },
    {
     "name": "stderr",
     "output_type": "stream",
     "text": [
      "WARNING:tensorflow:11 out of the last 11 calls to <function recreate_function.<locals>.restored_function_body at 0x0000021146BDD940> triggered tf.function retracing. Tracing is expensive and the excessive number of tracings could be due to (1) creating @tf.function repeatedly in a loop, (2) passing tensors with different shapes, (3) passing Python objects instead of tensors. For (1), please define your @tf.function outside of the loop. For (2), @tf.function has experimental_relax_shapes=True option that relaxes argument shapes that can avoid unnecessary retracing. For (3), please refer to https://www.tensorflow.org/tutorials/customization/performance#python_or_tensor_args and https://www.tensorflow.org/api_docs/python/tf/function for  more details.\n",
      "  8%|██████▉                                                                           | 9/107 [01:48<19:28, 11.92s/it]"
     ]
    },
    {
     "name": "stdout",
     "output_type": "stream",
     "text": [
      "WARNING:tensorflow:11 out of the last 11 calls to <function recreate_function.<locals>.restored_function_body at 0x000002113F5769D0> triggered tf.function retracing. Tracing is expensive and the excessive number of tracings could be due to (1) creating @tf.function repeatedly in a loop, (2) passing tensors with different shapes, (3) passing Python objects instead of tensors. For (1), please define your @tf.function outside of the loop. For (2), @tf.function has experimental_relax_shapes=True option that relaxes argument shapes that can avoid unnecessary retracing. For (3), please refer to https://www.tensorflow.org/tutorials/customization/performance#python_or_tensor_args and https://www.tensorflow.org/api_docs/python/tf/function for  more details.\n"
     ]
    },
    {
     "name": "stderr",
     "output_type": "stream",
     "text": [
      "WARNING:tensorflow:11 out of the last 11 calls to <function recreate_function.<locals>.restored_function_body at 0x000002113F5769D0> triggered tf.function retracing. Tracing is expensive and the excessive number of tracings could be due to (1) creating @tf.function repeatedly in a loop, (2) passing tensors with different shapes, (3) passing Python objects instead of tensors. For (1), please define your @tf.function outside of the loop. For (2), @tf.function has experimental_relax_shapes=True option that relaxes argument shapes that can avoid unnecessary retracing. For (3), please refer to https://www.tensorflow.org/tutorials/customization/performance#python_or_tensor_args and https://www.tensorflow.org/api_docs/python/tf/function for  more details.\n",
      "  9%|███████▌                                                                         | 10/107 [02:00<19:15, 11.91s/it]"
     ]
    },
    {
     "name": "stdout",
     "output_type": "stream",
     "text": [
      "WARNING:tensorflow:11 out of the last 11 calls to <function recreate_function.<locals>.restored_function_body at 0x0000021141A26A60> triggered tf.function retracing. Tracing is expensive and the excessive number of tracings could be due to (1) creating @tf.function repeatedly in a loop, (2) passing tensors with different shapes, (3) passing Python objects instead of tensors. For (1), please define your @tf.function outside of the loop. For (2), @tf.function has experimental_relax_shapes=True option that relaxes argument shapes that can avoid unnecessary retracing. For (3), please refer to https://www.tensorflow.org/tutorials/customization/performance#python_or_tensor_args and https://www.tensorflow.org/api_docs/python/tf/function for  more details.\n"
     ]
    },
    {
     "name": "stderr",
     "output_type": "stream",
     "text": [
      "WARNING:tensorflow:11 out of the last 11 calls to <function recreate_function.<locals>.restored_function_body at 0x0000021141A26A60> triggered tf.function retracing. Tracing is expensive and the excessive number of tracings could be due to (1) creating @tf.function repeatedly in a loop, (2) passing tensors with different shapes, (3) passing Python objects instead of tensors. For (1), please define your @tf.function outside of the loop. For (2), @tf.function has experimental_relax_shapes=True option that relaxes argument shapes that can avoid unnecessary retracing. For (3), please refer to https://www.tensorflow.org/tutorials/customization/performance#python_or_tensor_args and https://www.tensorflow.org/api_docs/python/tf/function for  more details.\n",
      " 10%|████████▎                                                                        | 11/107 [02:12<19:05, 11.94s/it]"
     ]
    },
    {
     "name": "stdout",
     "output_type": "stream",
     "text": [
      "WARNING:tensorflow:11 out of the last 11 calls to <function recreate_function.<locals>.restored_function_body at 0x000002113FACDAF0> triggered tf.function retracing. Tracing is expensive and the excessive number of tracings could be due to (1) creating @tf.function repeatedly in a loop, (2) passing tensors with different shapes, (3) passing Python objects instead of tensors. For (1), please define your @tf.function outside of the loop. For (2), @tf.function has experimental_relax_shapes=True option that relaxes argument shapes that can avoid unnecessary retracing. For (3), please refer to https://www.tensorflow.org/tutorials/customization/performance#python_or_tensor_args and https://www.tensorflow.org/api_docs/python/tf/function for  more details.\n"
     ]
    },
    {
     "name": "stderr",
     "output_type": "stream",
     "text": [
      "WARNING:tensorflow:11 out of the last 11 calls to <function recreate_function.<locals>.restored_function_body at 0x000002113FACDAF0> triggered tf.function retracing. Tracing is expensive and the excessive number of tracings could be due to (1) creating @tf.function repeatedly in a loop, (2) passing tensors with different shapes, (3) passing Python objects instead of tensors. For (1), please define your @tf.function outside of the loop. For (2), @tf.function has experimental_relax_shapes=True option that relaxes argument shapes that can avoid unnecessary retracing. For (3), please refer to https://www.tensorflow.org/tutorials/customization/performance#python_or_tensor_args and https://www.tensorflow.org/api_docs/python/tf/function for  more details.\n",
      " 11%|█████████                                                                        | 12/107 [02:23<18:50, 11.90s/it]"
     ]
    },
    {
     "name": "stdout",
     "output_type": "stream",
     "text": [
      "WARNING:tensorflow:11 out of the last 11 calls to <function recreate_function.<locals>.restored_function_body at 0x0000021141BA5B80> triggered tf.function retracing. Tracing is expensive and the excessive number of tracings could be due to (1) creating @tf.function repeatedly in a loop, (2) passing tensors with different shapes, (3) passing Python objects instead of tensors. For (1), please define your @tf.function outside of the loop. For (2), @tf.function has experimental_relax_shapes=True option that relaxes argument shapes that can avoid unnecessary retracing. For (3), please refer to https://www.tensorflow.org/tutorials/customization/performance#python_or_tensor_args and https://www.tensorflow.org/api_docs/python/tf/function for  more details.\n"
     ]
    },
    {
     "name": "stderr",
     "output_type": "stream",
     "text": [
      "WARNING:tensorflow:11 out of the last 11 calls to <function recreate_function.<locals>.restored_function_body at 0x0000021141BA5B80> triggered tf.function retracing. Tracing is expensive and the excessive number of tracings could be due to (1) creating @tf.function repeatedly in a loop, (2) passing tensors with different shapes, (3) passing Python objects instead of tensors. For (1), please define your @tf.function outside of the loop. For (2), @tf.function has experimental_relax_shapes=True option that relaxes argument shapes that can avoid unnecessary retracing. For (3), please refer to https://www.tensorflow.org/tutorials/customization/performance#python_or_tensor_args and https://www.tensorflow.org/api_docs/python/tf/function for  more details.\n",
      " 12%|█████████▊                                                                       | 13/107 [02:36<18:46, 11.98s/it]"
     ]
    },
    {
     "name": "stdout",
     "output_type": "stream",
     "text": [
      "WARNING:tensorflow:11 out of the last 11 calls to <function recreate_function.<locals>.restored_function_body at 0x0000021141811C10> triggered tf.function retracing. Tracing is expensive and the excessive number of tracings could be due to (1) creating @tf.function repeatedly in a loop, (2) passing tensors with different shapes, (3) passing Python objects instead of tensors. For (1), please define your @tf.function outside of the loop. For (2), @tf.function has experimental_relax_shapes=True option that relaxes argument shapes that can avoid unnecessary retracing. For (3), please refer to https://www.tensorflow.org/tutorials/customization/performance#python_or_tensor_args and https://www.tensorflow.org/api_docs/python/tf/function for  more details.\n"
     ]
    },
    {
     "name": "stderr",
     "output_type": "stream",
     "text": [
      "WARNING:tensorflow:11 out of the last 11 calls to <function recreate_function.<locals>.restored_function_body at 0x0000021141811C10> triggered tf.function retracing. Tracing is expensive and the excessive number of tracings could be due to (1) creating @tf.function repeatedly in a loop, (2) passing tensors with different shapes, (3) passing Python objects instead of tensors. For (1), please define your @tf.function outside of the loop. For (2), @tf.function has experimental_relax_shapes=True option that relaxes argument shapes that can avoid unnecessary retracing. For (3), please refer to https://www.tensorflow.org/tutorials/customization/performance#python_or_tensor_args and https://www.tensorflow.org/api_docs/python/tf/function for  more details.\n",
      " 13%|██████████▌                                                                      | 14/107 [02:47<18:29, 11.93s/it]"
     ]
    },
    {
     "name": "stdout",
     "output_type": "stream",
     "text": [
      "WARNING:tensorflow:11 out of the last 11 calls to <function recreate_function.<locals>.restored_function_body at 0x000002113F741CA0> triggered tf.function retracing. Tracing is expensive and the excessive number of tracings could be due to (1) creating @tf.function repeatedly in a loop, (2) passing tensors with different shapes, (3) passing Python objects instead of tensors. For (1), please define your @tf.function outside of the loop. For (2), @tf.function has experimental_relax_shapes=True option that relaxes argument shapes that can avoid unnecessary retracing. For (3), please refer to https://www.tensorflow.org/tutorials/customization/performance#python_or_tensor_args and https://www.tensorflow.org/api_docs/python/tf/function for  more details.\n"
     ]
    },
    {
     "name": "stderr",
     "output_type": "stream",
     "text": [
      "WARNING:tensorflow:11 out of the last 11 calls to <function recreate_function.<locals>.restored_function_body at 0x000002113F741CA0> triggered tf.function retracing. Tracing is expensive and the excessive number of tracings could be due to (1) creating @tf.function repeatedly in a loop, (2) passing tensors with different shapes, (3) passing Python objects instead of tensors. For (1), please define your @tf.function outside of the loop. For (2), @tf.function has experimental_relax_shapes=True option that relaxes argument shapes that can avoid unnecessary retracing. For (3), please refer to https://www.tensorflow.org/tutorials/customization/performance#python_or_tensor_args and https://www.tensorflow.org/api_docs/python/tf/function for  more details.\n",
      " 14%|███████████▎                                                                     | 15/107 [02:59<18:19, 11.95s/it]"
     ]
    },
    {
     "name": "stdout",
     "output_type": "stream",
     "text": [
      "WARNING:tensorflow:11 out of the last 11 calls to <function recreate_function.<locals>.restored_function_body at 0x00000211410D1D30> triggered tf.function retracing. Tracing is expensive and the excessive number of tracings could be due to (1) creating @tf.function repeatedly in a loop, (2) passing tensors with different shapes, (3) passing Python objects instead of tensors. For (1), please define your @tf.function outside of the loop. For (2), @tf.function has experimental_relax_shapes=True option that relaxes argument shapes that can avoid unnecessary retracing. For (3), please refer to https://www.tensorflow.org/tutorials/customization/performance#python_or_tensor_args and https://www.tensorflow.org/api_docs/python/tf/function for  more details.\n"
     ]
    },
    {
     "name": "stderr",
     "output_type": "stream",
     "text": [
      "WARNING:tensorflow:11 out of the last 11 calls to <function recreate_function.<locals>.restored_function_body at 0x00000211410D1D30> triggered tf.function retracing. Tracing is expensive and the excessive number of tracings could be due to (1) creating @tf.function repeatedly in a loop, (2) passing tensors with different shapes, (3) passing Python objects instead of tensors. For (1), please define your @tf.function outside of the loop. For (2), @tf.function has experimental_relax_shapes=True option that relaxes argument shapes that can avoid unnecessary retracing. For (3), please refer to https://www.tensorflow.org/tutorials/customization/performance#python_or_tensor_args and https://www.tensorflow.org/api_docs/python/tf/function for  more details.\n",
      " 15%|████████████                                                                     | 16/107 [03:11<18:10, 11.98s/it]"
     ]
    },
    {
     "name": "stdout",
     "output_type": "stream",
     "text": [
      "WARNING:tensorflow:11 out of the last 11 calls to <function recreate_function.<locals>.restored_function_body at 0x0000021141711DC0> triggered tf.function retracing. Tracing is expensive and the excessive number of tracings could be due to (1) creating @tf.function repeatedly in a loop, (2) passing tensors with different shapes, (3) passing Python objects instead of tensors. For (1), please define your @tf.function outside of the loop. For (2), @tf.function has experimental_relax_shapes=True option that relaxes argument shapes that can avoid unnecessary retracing. For (3), please refer to https://www.tensorflow.org/tutorials/customization/performance#python_or_tensor_args and https://www.tensorflow.org/api_docs/python/tf/function for  more details.\n"
     ]
    },
    {
     "name": "stderr",
     "output_type": "stream",
     "text": [
      "WARNING:tensorflow:11 out of the last 11 calls to <function recreate_function.<locals>.restored_function_body at 0x0000021141711DC0> triggered tf.function retracing. Tracing is expensive and the excessive number of tracings could be due to (1) creating @tf.function repeatedly in a loop, (2) passing tensors with different shapes, (3) passing Python objects instead of tensors. For (1), please define your @tf.function outside of the loop. For (2), @tf.function has experimental_relax_shapes=True option that relaxes argument shapes that can avoid unnecessary retracing. For (3), please refer to https://www.tensorflow.org/tutorials/customization/performance#python_or_tensor_args and https://www.tensorflow.org/api_docs/python/tf/function for  more details.\n",
      " 16%|████████████▊                                                                    | 17/107 [03:23<17:53, 11.93s/it]"
     ]
    },
    {
     "name": "stdout",
     "output_type": "stream",
     "text": [
      "WARNING:tensorflow:11 out of the last 11 calls to <function recreate_function.<locals>.restored_function_body at 0x000002113F742E50> triggered tf.function retracing. Tracing is expensive and the excessive number of tracings could be due to (1) creating @tf.function repeatedly in a loop, (2) passing tensors with different shapes, (3) passing Python objects instead of tensors. For (1), please define your @tf.function outside of the loop. For (2), @tf.function has experimental_relax_shapes=True option that relaxes argument shapes that can avoid unnecessary retracing. For (3), please refer to https://www.tensorflow.org/tutorials/customization/performance#python_or_tensor_args and https://www.tensorflow.org/api_docs/python/tf/function for  more details.\n"
     ]
    },
    {
     "name": "stderr",
     "output_type": "stream",
     "text": [
      "WARNING:tensorflow:11 out of the last 11 calls to <function recreate_function.<locals>.restored_function_body at 0x000002113F742E50> triggered tf.function retracing. Tracing is expensive and the excessive number of tracings could be due to (1) creating @tf.function repeatedly in a loop, (2) passing tensors with different shapes, (3) passing Python objects instead of tensors. For (1), please define your @tf.function outside of the loop. For (2), @tf.function has experimental_relax_shapes=True option that relaxes argument shapes that can avoid unnecessary retracing. For (3), please refer to https://www.tensorflow.org/tutorials/customization/performance#python_or_tensor_args and https://www.tensorflow.org/api_docs/python/tf/function for  more details.\n",
      " 17%|█████████████▋                                                                   | 18/107 [03:35<17:37, 11.89s/it]"
     ]
    },
    {
     "name": "stdout",
     "output_type": "stream",
     "text": [
      "WARNING:tensorflow:11 out of the last 11 calls to <function recreate_function.<locals>.restored_function_body at 0x00000211410D2EE0> triggered tf.function retracing. Tracing is expensive and the excessive number of tracings could be due to (1) creating @tf.function repeatedly in a loop, (2) passing tensors with different shapes, (3) passing Python objects instead of tensors. For (1), please define your @tf.function outside of the loop. For (2), @tf.function has experimental_relax_shapes=True option that relaxes argument shapes that can avoid unnecessary retracing. For (3), please refer to https://www.tensorflow.org/tutorials/customization/performance#python_or_tensor_args and https://www.tensorflow.org/api_docs/python/tf/function for  more details.\n"
     ]
    },
    {
     "name": "stderr",
     "output_type": "stream",
     "text": [
      "WARNING:tensorflow:11 out of the last 11 calls to <function recreate_function.<locals>.restored_function_body at 0x00000211410D2EE0> triggered tf.function retracing. Tracing is expensive and the excessive number of tracings could be due to (1) creating @tf.function repeatedly in a loop, (2) passing tensors with different shapes, (3) passing Python objects instead of tensors. For (1), please define your @tf.function outside of the loop. For (2), @tf.function has experimental_relax_shapes=True option that relaxes argument shapes that can avoid unnecessary retracing. For (3), please refer to https://www.tensorflow.org/tutorials/customization/performance#python_or_tensor_args and https://www.tensorflow.org/api_docs/python/tf/function for  more details.\n",
      " 18%|██████████████▍                                                                  | 19/107 [03:47<17:29, 11.93s/it]"
     ]
    },
    {
     "name": "stdout",
     "output_type": "stream",
     "text": [
      "WARNING:tensorflow:11 out of the last 11 calls to <function recreate_function.<locals>.restored_function_body at 0x00000211418D2F70> triggered tf.function retracing. Tracing is expensive and the excessive number of tracings could be due to (1) creating @tf.function repeatedly in a loop, (2) passing tensors with different shapes, (3) passing Python objects instead of tensors. For (1), please define your @tf.function outside of the loop. For (2), @tf.function has experimental_relax_shapes=True option that relaxes argument shapes that can avoid unnecessary retracing. For (3), please refer to https://www.tensorflow.org/tutorials/customization/performance#python_or_tensor_args and https://www.tensorflow.org/api_docs/python/tf/function for  more details.\n"
     ]
    },
    {
     "name": "stderr",
     "output_type": "stream",
     "text": [
      "WARNING:tensorflow:11 out of the last 11 calls to <function recreate_function.<locals>.restored_function_body at 0x00000211418D2F70> triggered tf.function retracing. Tracing is expensive and the excessive number of tracings could be due to (1) creating @tf.function repeatedly in a loop, (2) passing tensors with different shapes, (3) passing Python objects instead of tensors. For (1), please define your @tf.function outside of the loop. For (2), @tf.function has experimental_relax_shapes=True option that relaxes argument shapes that can avoid unnecessary retracing. For (3), please refer to https://www.tensorflow.org/tutorials/customization/performance#python_or_tensor_args and https://www.tensorflow.org/api_docs/python/tf/function for  more details.\n",
      " 19%|███████████████▏                                                                 | 20/107 [03:59<17:12, 11.87s/it]"
     ]
    },
    {
     "name": "stdout",
     "output_type": "stream",
     "text": [
      "WARNING:tensorflow:11 out of the last 11 calls to <function recreate_function.<locals>.restored_function_body at 0x0000021140FF9040> triggered tf.function retracing. Tracing is expensive and the excessive number of tracings could be due to (1) creating @tf.function repeatedly in a loop, (2) passing tensors with different shapes, (3) passing Python objects instead of tensors. For (1), please define your @tf.function outside of the loop. For (2), @tf.function has experimental_relax_shapes=True option that relaxes argument shapes that can avoid unnecessary retracing. For (3), please refer to https://www.tensorflow.org/tutorials/customization/performance#python_or_tensor_args and https://www.tensorflow.org/api_docs/python/tf/function for  more details.\n"
     ]
    },
    {
     "name": "stderr",
     "output_type": "stream",
     "text": [
      "WARNING:tensorflow:11 out of the last 11 calls to <function recreate_function.<locals>.restored_function_body at 0x0000021140FF9040> triggered tf.function retracing. Tracing is expensive and the excessive number of tracings could be due to (1) creating @tf.function repeatedly in a loop, (2) passing tensors with different shapes, (3) passing Python objects instead of tensors. For (1), please define your @tf.function outside of the loop. For (2), @tf.function has experimental_relax_shapes=True option that relaxes argument shapes that can avoid unnecessary retracing. For (3), please refer to https://www.tensorflow.org/tutorials/customization/performance#python_or_tensor_args and https://www.tensorflow.org/api_docs/python/tf/function for  more details.\n",
      " 20%|███████████████▉                                                                 | 21/107 [04:11<17:06, 11.94s/it]"
     ]
    },
    {
     "name": "stdout",
     "output_type": "stream",
     "text": [
      "WARNING:tensorflow:11 out of the last 11 calls to <function recreate_function.<locals>.restored_function_body at 0x000002113D12A0D0> triggered tf.function retracing. Tracing is expensive and the excessive number of tracings could be due to (1) creating @tf.function repeatedly in a loop, (2) passing tensors with different shapes, (3) passing Python objects instead of tensors. For (1), please define your @tf.function outside of the loop. For (2), @tf.function has experimental_relax_shapes=True option that relaxes argument shapes that can avoid unnecessary retracing. For (3), please refer to https://www.tensorflow.org/tutorials/customization/performance#python_or_tensor_args and https://www.tensorflow.org/api_docs/python/tf/function for  more details.\n"
     ]
    },
    {
     "name": "stderr",
     "output_type": "stream",
     "text": [
      "WARNING:tensorflow:11 out of the last 11 calls to <function recreate_function.<locals>.restored_function_body at 0x000002113D12A0D0> triggered tf.function retracing. Tracing is expensive and the excessive number of tracings could be due to (1) creating @tf.function repeatedly in a loop, (2) passing tensors with different shapes, (3) passing Python objects instead of tensors. For (1), please define your @tf.function outside of the loop. For (2), @tf.function has experimental_relax_shapes=True option that relaxes argument shapes that can avoid unnecessary retracing. For (3), please refer to https://www.tensorflow.org/tutorials/customization/performance#python_or_tensor_args and https://www.tensorflow.org/api_docs/python/tf/function for  more details.\n",
      " 21%|████████████████▋                                                                | 22/107 [04:23<16:54, 11.94s/it]"
     ]
    },
    {
     "name": "stdout",
     "output_type": "stream",
     "text": [
      "WARNING:tensorflow:11 out of the last 11 calls to <function recreate_function.<locals>.restored_function_body at 0x000002113E0B1160> triggered tf.function retracing. Tracing is expensive and the excessive number of tracings could be due to (1) creating @tf.function repeatedly in a loop, (2) passing tensors with different shapes, (3) passing Python objects instead of tensors. For (1), please define your @tf.function outside of the loop. For (2), @tf.function has experimental_relax_shapes=True option that relaxes argument shapes that can avoid unnecessary retracing. For (3), please refer to https://www.tensorflow.org/tutorials/customization/performance#python_or_tensor_args and https://www.tensorflow.org/api_docs/python/tf/function for  more details.\n"
     ]
    },
    {
     "name": "stderr",
     "output_type": "stream",
     "text": [
      "WARNING:tensorflow:11 out of the last 11 calls to <function recreate_function.<locals>.restored_function_body at 0x000002113E0B1160> triggered tf.function retracing. Tracing is expensive and the excessive number of tracings could be due to (1) creating @tf.function repeatedly in a loop, (2) passing tensors with different shapes, (3) passing Python objects instead of tensors. For (1), please define your @tf.function outside of the loop. For (2), @tf.function has experimental_relax_shapes=True option that relaxes argument shapes that can avoid unnecessary retracing. For (3), please refer to https://www.tensorflow.org/tutorials/customization/performance#python_or_tensor_args and https://www.tensorflow.org/api_docs/python/tf/function for  more details.\n",
      " 21%|█████████████████▍                                                               | 23/107 [04:35<16:50, 12.03s/it]"
     ]
    },
    {
     "name": "stdout",
     "output_type": "stream",
     "text": [
      "WARNING:tensorflow:11 out of the last 11 calls to <function recreate_function.<locals>.restored_function_body at 0x000002113D68C1F0> triggered tf.function retracing. Tracing is expensive and the excessive number of tracings could be due to (1) creating @tf.function repeatedly in a loop, (2) passing tensors with different shapes, (3) passing Python objects instead of tensors. For (1), please define your @tf.function outside of the loop. For (2), @tf.function has experimental_relax_shapes=True option that relaxes argument shapes that can avoid unnecessary retracing. For (3), please refer to https://www.tensorflow.org/tutorials/customization/performance#python_or_tensor_args and https://www.tensorflow.org/api_docs/python/tf/function for  more details.\n"
     ]
    },
    {
     "name": "stderr",
     "output_type": "stream",
     "text": [
      "WARNING:tensorflow:11 out of the last 11 calls to <function recreate_function.<locals>.restored_function_body at 0x000002113D68C1F0> triggered tf.function retracing. Tracing is expensive and the excessive number of tracings could be due to (1) creating @tf.function repeatedly in a loop, (2) passing tensors with different shapes, (3) passing Python objects instead of tensors. For (1), please define your @tf.function outside of the loop. For (2), @tf.function has experimental_relax_shapes=True option that relaxes argument shapes that can avoid unnecessary retracing. For (3), please refer to https://www.tensorflow.org/tutorials/customization/performance#python_or_tensor_args and https://www.tensorflow.org/api_docs/python/tf/function for  more details.\n",
      " 22%|██████████████████▏                                                              | 24/107 [04:47<16:41, 12.07s/it]"
     ]
    },
    {
     "name": "stdout",
     "output_type": "stream",
     "text": [
      "WARNING:tensorflow:11 out of the last 11 calls to <function recreate_function.<locals>.restored_function_body at 0x0000021141C85280> triggered tf.function retracing. Tracing is expensive and the excessive number of tracings could be due to (1) creating @tf.function repeatedly in a loop, (2) passing tensors with different shapes, (3) passing Python objects instead of tensors. For (1), please define your @tf.function outside of the loop. For (2), @tf.function has experimental_relax_shapes=True option that relaxes argument shapes that can avoid unnecessary retracing. For (3), please refer to https://www.tensorflow.org/tutorials/customization/performance#python_or_tensor_args and https://www.tensorflow.org/api_docs/python/tf/function for  more details.\n"
     ]
    },
    {
     "name": "stderr",
     "output_type": "stream",
     "text": [
      "WARNING:tensorflow:11 out of the last 11 calls to <function recreate_function.<locals>.restored_function_body at 0x0000021141C85280> triggered tf.function retracing. Tracing is expensive and the excessive number of tracings could be due to (1) creating @tf.function repeatedly in a loop, (2) passing tensors with different shapes, (3) passing Python objects instead of tensors. For (1), please define your @tf.function outside of the loop. For (2), @tf.function has experimental_relax_shapes=True option that relaxes argument shapes that can avoid unnecessary retracing. For (3), please refer to https://www.tensorflow.org/tutorials/customization/performance#python_or_tensor_args and https://www.tensorflow.org/api_docs/python/tf/function for  more details.\n",
      " 23%|██████████████████▉                                                              | 25/107 [04:59<16:24, 12.00s/it]"
     ]
    },
    {
     "name": "stdout",
     "output_type": "stream",
     "text": [
      "WARNING:tensorflow:11 out of the last 11 calls to <function recreate_function.<locals>.restored_function_body at 0x000002113C221790> triggered tf.function retracing. Tracing is expensive and the excessive number of tracings could be due to (1) creating @tf.function repeatedly in a loop, (2) passing tensors with different shapes, (3) passing Python objects instead of tensors. For (1), please define your @tf.function outside of the loop. For (2), @tf.function has experimental_relax_shapes=True option that relaxes argument shapes that can avoid unnecessary retracing. For (3), please refer to https://www.tensorflow.org/tutorials/customization/performance#python_or_tensor_args and https://www.tensorflow.org/api_docs/python/tf/function for  more details.\n"
     ]
    },
    {
     "name": "stderr",
     "output_type": "stream",
     "text": [
      "WARNING:tensorflow:11 out of the last 11 calls to <function recreate_function.<locals>.restored_function_body at 0x000002113C221790> triggered tf.function retracing. Tracing is expensive and the excessive number of tracings could be due to (1) creating @tf.function repeatedly in a loop, (2) passing tensors with different shapes, (3) passing Python objects instead of tensors. For (1), please define your @tf.function outside of the loop. For (2), @tf.function has experimental_relax_shapes=True option that relaxes argument shapes that can avoid unnecessary retracing. For (3), please refer to https://www.tensorflow.org/tutorials/customization/performance#python_or_tensor_args and https://www.tensorflow.org/api_docs/python/tf/function for  more details.\n",
      " 24%|███████████████████▋                                                             | 26/107 [05:11<16:06, 11.93s/it]"
     ]
    },
    {
     "name": "stdout",
     "output_type": "stream",
     "text": [
      "WARNING:tensorflow:11 out of the last 11 calls to <function recreate_function.<locals>.restored_function_body at 0x000002113F43A820> triggered tf.function retracing. Tracing is expensive and the excessive number of tracings could be due to (1) creating @tf.function repeatedly in a loop, (2) passing tensors with different shapes, (3) passing Python objects instead of tensors. For (1), please define your @tf.function outside of the loop. For (2), @tf.function has experimental_relax_shapes=True option that relaxes argument shapes that can avoid unnecessary retracing. For (3), please refer to https://www.tensorflow.org/tutorials/customization/performance#python_or_tensor_args and https://www.tensorflow.org/api_docs/python/tf/function for  more details.\n"
     ]
    },
    {
     "name": "stderr",
     "output_type": "stream",
     "text": [
      "WARNING:tensorflow:11 out of the last 11 calls to <function recreate_function.<locals>.restored_function_body at 0x000002113F43A820> triggered tf.function retracing. Tracing is expensive and the excessive number of tracings could be due to (1) creating @tf.function repeatedly in a loop, (2) passing tensors with different shapes, (3) passing Python objects instead of tensors. For (1), please define your @tf.function outside of the loop. For (2), @tf.function has experimental_relax_shapes=True option that relaxes argument shapes that can avoid unnecessary retracing. For (3), please refer to https://www.tensorflow.org/tutorials/customization/performance#python_or_tensor_args and https://www.tensorflow.org/api_docs/python/tf/function for  more details.\n",
      " 25%|████████████████████▍                                                            | 27/107 [05:23<15:53, 11.92s/it]"
     ]
    },
    {
     "name": "stdout",
     "output_type": "stream",
     "text": [
      "WARNING:tensorflow:11 out of the last 11 calls to <function recreate_function.<locals>.restored_function_body at 0x000002113D7288B0> triggered tf.function retracing. Tracing is expensive and the excessive number of tracings could be due to (1) creating @tf.function repeatedly in a loop, (2) passing tensors with different shapes, (3) passing Python objects instead of tensors. For (1), please define your @tf.function outside of the loop. For (2), @tf.function has experimental_relax_shapes=True option that relaxes argument shapes that can avoid unnecessary retracing. For (3), please refer to https://www.tensorflow.org/tutorials/customization/performance#python_or_tensor_args and https://www.tensorflow.org/api_docs/python/tf/function for  more details.\n"
     ]
    },
    {
     "name": "stderr",
     "output_type": "stream",
     "text": [
      "WARNING:tensorflow:11 out of the last 11 calls to <function recreate_function.<locals>.restored_function_body at 0x000002113D7288B0> triggered tf.function retracing. Tracing is expensive and the excessive number of tracings could be due to (1) creating @tf.function repeatedly in a loop, (2) passing tensors with different shapes, (3) passing Python objects instead of tensors. For (1), please define your @tf.function outside of the loop. For (2), @tf.function has experimental_relax_shapes=True option that relaxes argument shapes that can avoid unnecessary retracing. For (3), please refer to https://www.tensorflow.org/tutorials/customization/performance#python_or_tensor_args and https://www.tensorflow.org/api_docs/python/tf/function for  more details.\n",
      " 26%|█████████████████████▏                                                           | 28/107 [05:35<15:44, 11.96s/it]"
     ]
    },
    {
     "name": "stdout",
     "output_type": "stream",
     "text": [
      "WARNING:tensorflow:11 out of the last 11 calls to <function recreate_function.<locals>.restored_function_body at 0x000002113C160940> triggered tf.function retracing. Tracing is expensive and the excessive number of tracings could be due to (1) creating @tf.function repeatedly in a loop, (2) passing tensors with different shapes, (3) passing Python objects instead of tensors. For (1), please define your @tf.function outside of the loop. For (2), @tf.function has experimental_relax_shapes=True option that relaxes argument shapes that can avoid unnecessary retracing. For (3), please refer to https://www.tensorflow.org/tutorials/customization/performance#python_or_tensor_args and https://www.tensorflow.org/api_docs/python/tf/function for  more details.\n"
     ]
    },
    {
     "name": "stderr",
     "output_type": "stream",
     "text": [
      "WARNING:tensorflow:11 out of the last 11 calls to <function recreate_function.<locals>.restored_function_body at 0x000002113C160940> triggered tf.function retracing. Tracing is expensive and the excessive number of tracings could be due to (1) creating @tf.function repeatedly in a loop, (2) passing tensors with different shapes, (3) passing Python objects instead of tensors. For (1), please define your @tf.function outside of the loop. For (2), @tf.function has experimental_relax_shapes=True option that relaxes argument shapes that can avoid unnecessary retracing. For (3), please refer to https://www.tensorflow.org/tutorials/customization/performance#python_or_tensor_args and https://www.tensorflow.org/api_docs/python/tf/function for  more details.\n",
      " 27%|█████████████████████▉                                                           | 29/107 [05:47<15:32, 11.95s/it]"
     ]
    },
    {
     "name": "stdout",
     "output_type": "stream",
     "text": [
      "WARNING:tensorflow:11 out of the last 11 calls to <function recreate_function.<locals>.restored_function_body at 0x0000021141BA29D0> triggered tf.function retracing. Tracing is expensive and the excessive number of tracings could be due to (1) creating @tf.function repeatedly in a loop, (2) passing tensors with different shapes, (3) passing Python objects instead of tensors. For (1), please define your @tf.function outside of the loop. For (2), @tf.function has experimental_relax_shapes=True option that relaxes argument shapes that can avoid unnecessary retracing. For (3), please refer to https://www.tensorflow.org/tutorials/customization/performance#python_or_tensor_args and https://www.tensorflow.org/api_docs/python/tf/function for  more details.\n"
     ]
    },
    {
     "name": "stderr",
     "output_type": "stream",
     "text": [
      "WARNING:tensorflow:11 out of the last 11 calls to <function recreate_function.<locals>.restored_function_body at 0x0000021141BA29D0> triggered tf.function retracing. Tracing is expensive and the excessive number of tracings could be due to (1) creating @tf.function repeatedly in a loop, (2) passing tensors with different shapes, (3) passing Python objects instead of tensors. For (1), please define your @tf.function outside of the loop. For (2), @tf.function has experimental_relax_shapes=True option that relaxes argument shapes that can avoid unnecessary retracing. For (3), please refer to https://www.tensorflow.org/tutorials/customization/performance#python_or_tensor_args and https://www.tensorflow.org/api_docs/python/tf/function for  more details.\n",
      " 28%|██████████████████████▋                                                          | 30/107 [05:59<15:17, 11.92s/it]"
     ]
    },
    {
     "name": "stdout",
     "output_type": "stream",
     "text": [
      "WARNING:tensorflow:11 out of the last 11 calls to <function recreate_function.<locals>.restored_function_body at 0x0000021146E83A60> triggered tf.function retracing. Tracing is expensive and the excessive number of tracings could be due to (1) creating @tf.function repeatedly in a loop, (2) passing tensors with different shapes, (3) passing Python objects instead of tensors. For (1), please define your @tf.function outside of the loop. For (2), @tf.function has experimental_relax_shapes=True option that relaxes argument shapes that can avoid unnecessary retracing. For (3), please refer to https://www.tensorflow.org/tutorials/customization/performance#python_or_tensor_args and https://www.tensorflow.org/api_docs/python/tf/function for  more details.\n"
     ]
    },
    {
     "name": "stderr",
     "output_type": "stream",
     "text": [
      "WARNING:tensorflow:11 out of the last 11 calls to <function recreate_function.<locals>.restored_function_body at 0x0000021146E83A60> triggered tf.function retracing. Tracing is expensive and the excessive number of tracings could be due to (1) creating @tf.function repeatedly in a loop, (2) passing tensors with different shapes, (3) passing Python objects instead of tensors. For (1), please define your @tf.function outside of the loop. For (2), @tf.function has experimental_relax_shapes=True option that relaxes argument shapes that can avoid unnecessary retracing. For (3), please refer to https://www.tensorflow.org/tutorials/customization/performance#python_or_tensor_args and https://www.tensorflow.org/api_docs/python/tf/function for  more details.\n",
      " 29%|███████████████████████▍                                                         | 31/107 [06:11<15:14, 12.03s/it]"
     ]
    },
    {
     "name": "stdout",
     "output_type": "stream",
     "text": [
      "WARNING:tensorflow:11 out of the last 11 calls to <function recreate_function.<locals>.restored_function_body at 0x000002113C417AF0> triggered tf.function retracing. Tracing is expensive and the excessive number of tracings could be due to (1) creating @tf.function repeatedly in a loop, (2) passing tensors with different shapes, (3) passing Python objects instead of tensors. For (1), please define your @tf.function outside of the loop. For (2), @tf.function has experimental_relax_shapes=True option that relaxes argument shapes that can avoid unnecessary retracing. For (3), please refer to https://www.tensorflow.org/tutorials/customization/performance#python_or_tensor_args and https://www.tensorflow.org/api_docs/python/tf/function for  more details.\n"
     ]
    },
    {
     "name": "stderr",
     "output_type": "stream",
     "text": [
      "WARNING:tensorflow:11 out of the last 11 calls to <function recreate_function.<locals>.restored_function_body at 0x000002113C417AF0> triggered tf.function retracing. Tracing is expensive and the excessive number of tracings could be due to (1) creating @tf.function repeatedly in a loop, (2) passing tensors with different shapes, (3) passing Python objects instead of tensors. For (1), please define your @tf.function outside of the loop. For (2), @tf.function has experimental_relax_shapes=True option that relaxes argument shapes that can avoid unnecessary retracing. For (3), please refer to https://www.tensorflow.org/tutorials/customization/performance#python_or_tensor_args and https://www.tensorflow.org/api_docs/python/tf/function for  more details.\n",
      " 30%|████████████████████████▏                                                        | 32/107 [06:23<15:10, 12.15s/it]"
     ]
    },
    {
     "name": "stdout",
     "output_type": "stream",
     "text": [
      "WARNING:tensorflow:11 out of the last 11 calls to <function recreate_function.<locals>.restored_function_body at 0x0000021141962B80> triggered tf.function retracing. Tracing is expensive and the excessive number of tracings could be due to (1) creating @tf.function repeatedly in a loop, (2) passing tensors with different shapes, (3) passing Python objects instead of tensors. For (1), please define your @tf.function outside of the loop. For (2), @tf.function has experimental_relax_shapes=True option that relaxes argument shapes that can avoid unnecessary retracing. For (3), please refer to https://www.tensorflow.org/tutorials/customization/performance#python_or_tensor_args and https://www.tensorflow.org/api_docs/python/tf/function for  more details.\n"
     ]
    },
    {
     "name": "stderr",
     "output_type": "stream",
     "text": [
      "WARNING:tensorflow:11 out of the last 11 calls to <function recreate_function.<locals>.restored_function_body at 0x0000021141962B80> triggered tf.function retracing. Tracing is expensive and the excessive number of tracings could be due to (1) creating @tf.function repeatedly in a loop, (2) passing tensors with different shapes, (3) passing Python objects instead of tensors. For (1), please define your @tf.function outside of the loop. For (2), @tf.function has experimental_relax_shapes=True option that relaxes argument shapes that can avoid unnecessary retracing. For (3), please refer to https://www.tensorflow.org/tutorials/customization/performance#python_or_tensor_args and https://www.tensorflow.org/api_docs/python/tf/function for  more details.\n",
      " 31%|████████████████████████▉                                                        | 33/107 [06:35<14:58, 12.14s/it]"
     ]
    },
    {
     "name": "stdout",
     "output_type": "stream",
     "text": [
      "WARNING:tensorflow:11 out of the last 11 calls to <function recreate_function.<locals>.restored_function_body at 0x0000021141112C10> triggered tf.function retracing. Tracing is expensive and the excessive number of tracings could be due to (1) creating @tf.function repeatedly in a loop, (2) passing tensors with different shapes, (3) passing Python objects instead of tensors. For (1), please define your @tf.function outside of the loop. For (2), @tf.function has experimental_relax_shapes=True option that relaxes argument shapes that can avoid unnecessary retracing. For (3), please refer to https://www.tensorflow.org/tutorials/customization/performance#python_or_tensor_args and https://www.tensorflow.org/api_docs/python/tf/function for  more details.\n"
     ]
    },
    {
     "name": "stderr",
     "output_type": "stream",
     "text": [
      "WARNING:tensorflow:11 out of the last 11 calls to <function recreate_function.<locals>.restored_function_body at 0x0000021141112C10> triggered tf.function retracing. Tracing is expensive and the excessive number of tracings could be due to (1) creating @tf.function repeatedly in a loop, (2) passing tensors with different shapes, (3) passing Python objects instead of tensors. For (1), please define your @tf.function outside of the loop. For (2), @tf.function has experimental_relax_shapes=True option that relaxes argument shapes that can avoid unnecessary retracing. For (3), please refer to https://www.tensorflow.org/tutorials/customization/performance#python_or_tensor_args and https://www.tensorflow.org/api_docs/python/tf/function for  more details.\n",
      " 32%|█████████████████████████▋                                                       | 34/107 [06:48<15:07, 12.44s/it]"
     ]
    },
    {
     "name": "stdout",
     "output_type": "stream",
     "text": [
      "WARNING:tensorflow:11 out of the last 11 calls to <function recreate_function.<locals>.restored_function_body at 0x0000021141912CA0> triggered tf.function retracing. Tracing is expensive and the excessive number of tracings could be due to (1) creating @tf.function repeatedly in a loop, (2) passing tensors with different shapes, (3) passing Python objects instead of tensors. For (1), please define your @tf.function outside of the loop. For (2), @tf.function has experimental_relax_shapes=True option that relaxes argument shapes that can avoid unnecessary retracing. For (3), please refer to https://www.tensorflow.org/tutorials/customization/performance#python_or_tensor_args and https://www.tensorflow.org/api_docs/python/tf/function for  more details.\n"
     ]
    },
    {
     "name": "stderr",
     "output_type": "stream",
     "text": [
      "WARNING:tensorflow:11 out of the last 11 calls to <function recreate_function.<locals>.restored_function_body at 0x0000021141912CA0> triggered tf.function retracing. Tracing is expensive and the excessive number of tracings could be due to (1) creating @tf.function repeatedly in a loop, (2) passing tensors with different shapes, (3) passing Python objects instead of tensors. For (1), please define your @tf.function outside of the loop. For (2), @tf.function has experimental_relax_shapes=True option that relaxes argument shapes that can avoid unnecessary retracing. For (3), please refer to https://www.tensorflow.org/tutorials/customization/performance#python_or_tensor_args and https://www.tensorflow.org/api_docs/python/tf/function for  more details.\n",
      " 33%|██████████████████████████▍                                                      | 35/107 [07:01<15:02, 12.53s/it]"
     ]
    },
    {
     "name": "stdout",
     "output_type": "stream",
     "text": [
      "WARNING:tensorflow:11 out of the last 11 calls to <function recreate_function.<locals>.restored_function_body at 0x00000211414D2D30> triggered tf.function retracing. Tracing is expensive and the excessive number of tracings could be due to (1) creating @tf.function repeatedly in a loop, (2) passing tensors with different shapes, (3) passing Python objects instead of tensors. For (1), please define your @tf.function outside of the loop. For (2), @tf.function has experimental_relax_shapes=True option that relaxes argument shapes that can avoid unnecessary retracing. For (3), please refer to https://www.tensorflow.org/tutorials/customization/performance#python_or_tensor_args and https://www.tensorflow.org/api_docs/python/tf/function for  more details.\n"
     ]
    },
    {
     "name": "stderr",
     "output_type": "stream",
     "text": [
      "WARNING:tensorflow:11 out of the last 11 calls to <function recreate_function.<locals>.restored_function_body at 0x00000211414D2D30> triggered tf.function retracing. Tracing is expensive and the excessive number of tracings could be due to (1) creating @tf.function repeatedly in a loop, (2) passing tensors with different shapes, (3) passing Python objects instead of tensors. For (1), please define your @tf.function outside of the loop. For (2), @tf.function has experimental_relax_shapes=True option that relaxes argument shapes that can avoid unnecessary retracing. For (3), please refer to https://www.tensorflow.org/tutorials/customization/performance#python_or_tensor_args and https://www.tensorflow.org/api_docs/python/tf/function for  more details.\n",
      " 34%|███████████████████████████▎                                                     | 36/107 [07:13<14:35, 12.33s/it]"
     ]
    },
    {
     "name": "stdout",
     "output_type": "stream",
     "text": [
      "WARNING:tensorflow:11 out of the last 11 calls to <function recreate_function.<locals>.restored_function_body at 0x00000211410D2DC0> triggered tf.function retracing. Tracing is expensive and the excessive number of tracings could be due to (1) creating @tf.function repeatedly in a loop, (2) passing tensors with different shapes, (3) passing Python objects instead of tensors. For (1), please define your @tf.function outside of the loop. For (2), @tf.function has experimental_relax_shapes=True option that relaxes argument shapes that can avoid unnecessary retracing. For (3), please refer to https://www.tensorflow.org/tutorials/customization/performance#python_or_tensor_args and https://www.tensorflow.org/api_docs/python/tf/function for  more details.\n"
     ]
    },
    {
     "name": "stderr",
     "output_type": "stream",
     "text": [
      "WARNING:tensorflow:11 out of the last 11 calls to <function recreate_function.<locals>.restored_function_body at 0x00000211410D2DC0> triggered tf.function retracing. Tracing is expensive and the excessive number of tracings could be due to (1) creating @tf.function repeatedly in a loop, (2) passing tensors with different shapes, (3) passing Python objects instead of tensors. For (1), please define your @tf.function outside of the loop. For (2), @tf.function has experimental_relax_shapes=True option that relaxes argument shapes that can avoid unnecessary retracing. For (3), please refer to https://www.tensorflow.org/tutorials/customization/performance#python_or_tensor_args and https://www.tensorflow.org/api_docs/python/tf/function for  more details.\n",
      " 35%|████████████████████████████                                                     | 37/107 [07:25<14:24, 12.34s/it]"
     ]
    },
    {
     "name": "stdout",
     "output_type": "stream",
     "text": [
      "WARNING:tensorflow:11 out of the last 11 calls to <function recreate_function.<locals>.restored_function_body at 0x00000211417D2E50> triggered tf.function retracing. Tracing is expensive and the excessive number of tracings could be due to (1) creating @tf.function repeatedly in a loop, (2) passing tensors with different shapes, (3) passing Python objects instead of tensors. For (1), please define your @tf.function outside of the loop. For (2), @tf.function has experimental_relax_shapes=True option that relaxes argument shapes that can avoid unnecessary retracing. For (3), please refer to https://www.tensorflow.org/tutorials/customization/performance#python_or_tensor_args and https://www.tensorflow.org/api_docs/python/tf/function for  more details.\n"
     ]
    },
    {
     "name": "stderr",
     "output_type": "stream",
     "text": [
      "WARNING:tensorflow:11 out of the last 11 calls to <function recreate_function.<locals>.restored_function_body at 0x00000211417D2E50> triggered tf.function retracing. Tracing is expensive and the excessive number of tracings could be due to (1) creating @tf.function repeatedly in a loop, (2) passing tensors with different shapes, (3) passing Python objects instead of tensors. For (1), please define your @tf.function outside of the loop. For (2), @tf.function has experimental_relax_shapes=True option that relaxes argument shapes that can avoid unnecessary retracing. For (3), please refer to https://www.tensorflow.org/tutorials/customization/performance#python_or_tensor_args and https://www.tensorflow.org/api_docs/python/tf/function for  more details.\n",
      " 36%|████████████████████████████▊                                                    | 38/107 [07:37<14:01, 12.19s/it]"
     ]
    },
    {
     "name": "stdout",
     "output_type": "stream",
     "text": [
      "WARNING:tensorflow:11 out of the last 11 calls to <function recreate_function.<locals>.restored_function_body at 0x0000021141112EE0> triggered tf.function retracing. Tracing is expensive and the excessive number of tracings could be due to (1) creating @tf.function repeatedly in a loop, (2) passing tensors with different shapes, (3) passing Python objects instead of tensors. For (1), please define your @tf.function outside of the loop. For (2), @tf.function has experimental_relax_shapes=True option that relaxes argument shapes that can avoid unnecessary retracing. For (3), please refer to https://www.tensorflow.org/tutorials/customization/performance#python_or_tensor_args and https://www.tensorflow.org/api_docs/python/tf/function for  more details.\n"
     ]
    },
    {
     "name": "stderr",
     "output_type": "stream",
     "text": [
      "WARNING:tensorflow:11 out of the last 11 calls to <function recreate_function.<locals>.restored_function_body at 0x0000021141112EE0> triggered tf.function retracing. Tracing is expensive and the excessive number of tracings could be due to (1) creating @tf.function repeatedly in a loop, (2) passing tensors with different shapes, (3) passing Python objects instead of tensors. For (1), please define your @tf.function outside of the loop. For (2), @tf.function has experimental_relax_shapes=True option that relaxes argument shapes that can avoid unnecessary retracing. For (3), please refer to https://www.tensorflow.org/tutorials/customization/performance#python_or_tensor_args and https://www.tensorflow.org/api_docs/python/tf/function for  more details.\n",
      " 36%|█████████████████████████████▌                                                   | 39/107 [07:50<14:04, 12.43s/it]"
     ]
    },
    {
     "name": "stdout",
     "output_type": "stream",
     "text": [
      "WARNING:tensorflow:11 out of the last 11 calls to <function recreate_function.<locals>.restored_function_body at 0x0000021141952F70> triggered tf.function retracing. Tracing is expensive and the excessive number of tracings could be due to (1) creating @tf.function repeatedly in a loop, (2) passing tensors with different shapes, (3) passing Python objects instead of tensors. For (1), please define your @tf.function outside of the loop. For (2), @tf.function has experimental_relax_shapes=True option that relaxes argument shapes that can avoid unnecessary retracing. For (3), please refer to https://www.tensorflow.org/tutorials/customization/performance#python_or_tensor_args and https://www.tensorflow.org/api_docs/python/tf/function for  more details.\n"
     ]
    },
    {
     "name": "stderr",
     "output_type": "stream",
     "text": [
      "WARNING:tensorflow:11 out of the last 11 calls to <function recreate_function.<locals>.restored_function_body at 0x0000021141952F70> triggered tf.function retracing. Tracing is expensive and the excessive number of tracings could be due to (1) creating @tf.function repeatedly in a loop, (2) passing tensors with different shapes, (3) passing Python objects instead of tensors. For (1), please define your @tf.function outside of the loop. For (2), @tf.function has experimental_relax_shapes=True option that relaxes argument shapes that can avoid unnecessary retracing. For (3), please refer to https://www.tensorflow.org/tutorials/customization/performance#python_or_tensor_args and https://www.tensorflow.org/api_docs/python/tf/function for  more details.\n",
      " 37%|██████████████████████████████▎                                                  | 40/107 [08:03<13:52, 12.43s/it]"
     ]
    },
    {
     "name": "stdout",
     "output_type": "stream",
     "text": [
      "WARNING:tensorflow:11 out of the last 11 calls to <function recreate_function.<locals>.restored_function_body at 0x0000021141835040> triggered tf.function retracing. Tracing is expensive and the excessive number of tracings could be due to (1) creating @tf.function repeatedly in a loop, (2) passing tensors with different shapes, (3) passing Python objects instead of tensors. For (1), please define your @tf.function outside of the loop. For (2), @tf.function has experimental_relax_shapes=True option that relaxes argument shapes that can avoid unnecessary retracing. For (3), please refer to https://www.tensorflow.org/tutorials/customization/performance#python_or_tensor_args and https://www.tensorflow.org/api_docs/python/tf/function for  more details.\n"
     ]
    },
    {
     "name": "stderr",
     "output_type": "stream",
     "text": [
      "WARNING:tensorflow:11 out of the last 11 calls to <function recreate_function.<locals>.restored_function_body at 0x0000021141835040> triggered tf.function retracing. Tracing is expensive and the excessive number of tracings could be due to (1) creating @tf.function repeatedly in a loop, (2) passing tensors with different shapes, (3) passing Python objects instead of tensors. For (1), please define your @tf.function outside of the loop. For (2), @tf.function has experimental_relax_shapes=True option that relaxes argument shapes that can avoid unnecessary retracing. For (3), please refer to https://www.tensorflow.org/tutorials/customization/performance#python_or_tensor_args and https://www.tensorflow.org/api_docs/python/tf/function for  more details.\n",
      " 38%|███████████████████████████████                                                  | 41/107 [08:15<13:42, 12.47s/it]"
     ]
    },
    {
     "name": "stdout",
     "output_type": "stream",
     "text": [
      "WARNING:tensorflow:11 out of the last 11 calls to <function recreate_function.<locals>.restored_function_body at 0x000002113CE550D0> triggered tf.function retracing. Tracing is expensive and the excessive number of tracings could be due to (1) creating @tf.function repeatedly in a loop, (2) passing tensors with different shapes, (3) passing Python objects instead of tensors. For (1), please define your @tf.function outside of the loop. For (2), @tf.function has experimental_relax_shapes=True option that relaxes argument shapes that can avoid unnecessary retracing. For (3), please refer to https://www.tensorflow.org/tutorials/customization/performance#python_or_tensor_args and https://www.tensorflow.org/api_docs/python/tf/function for  more details.\n"
     ]
    },
    {
     "name": "stderr",
     "output_type": "stream",
     "text": [
      "WARNING:tensorflow:11 out of the last 11 calls to <function recreate_function.<locals>.restored_function_body at 0x000002113CE550D0> triggered tf.function retracing. Tracing is expensive and the excessive number of tracings could be due to (1) creating @tf.function repeatedly in a loop, (2) passing tensors with different shapes, (3) passing Python objects instead of tensors. For (1), please define your @tf.function outside of the loop. For (2), @tf.function has experimental_relax_shapes=True option that relaxes argument shapes that can avoid unnecessary retracing. For (3), please refer to https://www.tensorflow.org/tutorials/customization/performance#python_or_tensor_args and https://www.tensorflow.org/api_docs/python/tf/function for  more details.\n",
      " 39%|███████████████████████████████▊                                                 | 42/107 [08:28<13:25, 12.40s/it]"
     ]
    },
    {
     "name": "stdout",
     "output_type": "stream",
     "text": [
      "WARNING:tensorflow:11 out of the last 11 calls to <function recreate_function.<locals>.restored_function_body at 0x0000021141927160> triggered tf.function retracing. Tracing is expensive and the excessive number of tracings could be due to (1) creating @tf.function repeatedly in a loop, (2) passing tensors with different shapes, (3) passing Python objects instead of tensors. For (1), please define your @tf.function outside of the loop. For (2), @tf.function has experimental_relax_shapes=True option that relaxes argument shapes that can avoid unnecessary retracing. For (3), please refer to https://www.tensorflow.org/tutorials/customization/performance#python_or_tensor_args and https://www.tensorflow.org/api_docs/python/tf/function for  more details.\n"
     ]
    },
    {
     "name": "stderr",
     "output_type": "stream",
     "text": [
      "WARNING:tensorflow:11 out of the last 11 calls to <function recreate_function.<locals>.restored_function_body at 0x0000021141927160> triggered tf.function retracing. Tracing is expensive and the excessive number of tracings could be due to (1) creating @tf.function repeatedly in a loop, (2) passing tensors with different shapes, (3) passing Python objects instead of tensors. For (1), please define your @tf.function outside of the loop. For (2), @tf.function has experimental_relax_shapes=True option that relaxes argument shapes that can avoid unnecessary retracing. For (3), please refer to https://www.tensorflow.org/tutorials/customization/performance#python_or_tensor_args and https://www.tensorflow.org/api_docs/python/tf/function for  more details.\n",
      " 40%|████████████████████████████████▌                                                | 43/107 [08:40<13:06, 12.29s/it]"
     ]
    },
    {
     "name": "stdout",
     "output_type": "stream",
     "text": [
      "WARNING:tensorflow:11 out of the last 11 calls to <function recreate_function.<locals>.restored_function_body at 0x000002113E1241F0> triggered tf.function retracing. Tracing is expensive and the excessive number of tracings could be due to (1) creating @tf.function repeatedly in a loop, (2) passing tensors with different shapes, (3) passing Python objects instead of tensors. For (1), please define your @tf.function outside of the loop. For (2), @tf.function has experimental_relax_shapes=True option that relaxes argument shapes that can avoid unnecessary retracing. For (3), please refer to https://www.tensorflow.org/tutorials/customization/performance#python_or_tensor_args and https://www.tensorflow.org/api_docs/python/tf/function for  more details.\n"
     ]
    },
    {
     "name": "stderr",
     "output_type": "stream",
     "text": [
      "WARNING:tensorflow:11 out of the last 11 calls to <function recreate_function.<locals>.restored_function_body at 0x000002113E1241F0> triggered tf.function retracing. Tracing is expensive and the excessive number of tracings could be due to (1) creating @tf.function repeatedly in a loop, (2) passing tensors with different shapes, (3) passing Python objects instead of tensors. For (1), please define your @tf.function outside of the loop. For (2), @tf.function has experimental_relax_shapes=True option that relaxes argument shapes that can avoid unnecessary retracing. For (3), please refer to https://www.tensorflow.org/tutorials/customization/performance#python_or_tensor_args and https://www.tensorflow.org/api_docs/python/tf/function for  more details.\n",
      " 41%|█████████████████████████████████▎                                               | 44/107 [08:51<12:46, 12.16s/it]"
     ]
    },
    {
     "name": "stdout",
     "output_type": "stream",
     "text": [
      "WARNING:tensorflow:11 out of the last 11 calls to <function recreate_function.<locals>.restored_function_body at 0x000002113C482280> triggered tf.function retracing. Tracing is expensive and the excessive number of tracings could be due to (1) creating @tf.function repeatedly in a loop, (2) passing tensors with different shapes, (3) passing Python objects instead of tensors. For (1), please define your @tf.function outside of the loop. For (2), @tf.function has experimental_relax_shapes=True option that relaxes argument shapes that can avoid unnecessary retracing. For (3), please refer to https://www.tensorflow.org/tutorials/customization/performance#python_or_tensor_args and https://www.tensorflow.org/api_docs/python/tf/function for  more details.\n"
     ]
    },
    {
     "name": "stderr",
     "output_type": "stream",
     "text": [
      "WARNING:tensorflow:11 out of the last 11 calls to <function recreate_function.<locals>.restored_function_body at 0x000002113C482280> triggered tf.function retracing. Tracing is expensive and the excessive number of tracings could be due to (1) creating @tf.function repeatedly in a loop, (2) passing tensors with different shapes, (3) passing Python objects instead of tensors. For (1), please define your @tf.function outside of the loop. For (2), @tf.function has experimental_relax_shapes=True option that relaxes argument shapes that can avoid unnecessary retracing. For (3), please refer to https://www.tensorflow.org/tutorials/customization/performance#python_or_tensor_args and https://www.tensorflow.org/api_docs/python/tf/function for  more details.\n",
      " 42%|██████████████████████████████████                                               | 45/107 [09:04<12:37, 12.22s/it]"
     ]
    },
    {
     "name": "stdout",
     "output_type": "stream",
     "text": [
      "WARNING:tensorflow:11 out of the last 11 calls to <function recreate_function.<locals>.restored_function_body at 0x000002114B614790> triggered tf.function retracing. Tracing is expensive and the excessive number of tracings could be due to (1) creating @tf.function repeatedly in a loop, (2) passing tensors with different shapes, (3) passing Python objects instead of tensors. For (1), please define your @tf.function outside of the loop. For (2), @tf.function has experimental_relax_shapes=True option that relaxes argument shapes that can avoid unnecessary retracing. For (3), please refer to https://www.tensorflow.org/tutorials/customization/performance#python_or_tensor_args and https://www.tensorflow.org/api_docs/python/tf/function for  more details.\n"
     ]
    },
    {
     "name": "stderr",
     "output_type": "stream",
     "text": [
      "WARNING:tensorflow:11 out of the last 11 calls to <function recreate_function.<locals>.restored_function_body at 0x000002114B614790> triggered tf.function retracing. Tracing is expensive and the excessive number of tracings could be due to (1) creating @tf.function repeatedly in a loop, (2) passing tensors with different shapes, (3) passing Python objects instead of tensors. For (1), please define your @tf.function outside of the loop. For (2), @tf.function has experimental_relax_shapes=True option that relaxes argument shapes that can avoid unnecessary retracing. For (3), please refer to https://www.tensorflow.org/tutorials/customization/performance#python_or_tensor_args and https://www.tensorflow.org/api_docs/python/tf/function for  more details.\n",
      " 43%|██████████████████████████████████▊                                              | 46/107 [09:16<12:30, 12.31s/it]"
     ]
    },
    {
     "name": "stdout",
     "output_type": "stream",
     "text": [
      "WARNING:tensorflow:11 out of the last 11 calls to <function recreate_function.<locals>.restored_function_body at 0x0000021141C25820> triggered tf.function retracing. Tracing is expensive and the excessive number of tracings could be due to (1) creating @tf.function repeatedly in a loop, (2) passing tensors with different shapes, (3) passing Python objects instead of tensors. For (1), please define your @tf.function outside of the loop. For (2), @tf.function has experimental_relax_shapes=True option that relaxes argument shapes that can avoid unnecessary retracing. For (3), please refer to https://www.tensorflow.org/tutorials/customization/performance#python_or_tensor_args and https://www.tensorflow.org/api_docs/python/tf/function for  more details.\n"
     ]
    },
    {
     "name": "stderr",
     "output_type": "stream",
     "text": [
      "WARNING:tensorflow:11 out of the last 11 calls to <function recreate_function.<locals>.restored_function_body at 0x0000021141C25820> triggered tf.function retracing. Tracing is expensive and the excessive number of tracings could be due to (1) creating @tf.function repeatedly in a loop, (2) passing tensors with different shapes, (3) passing Python objects instead of tensors. For (1), please define your @tf.function outside of the loop. For (2), @tf.function has experimental_relax_shapes=True option that relaxes argument shapes that can avoid unnecessary retracing. For (3), please refer to https://www.tensorflow.org/tutorials/customization/performance#python_or_tensor_args and https://www.tensorflow.org/api_docs/python/tf/function for  more details.\n",
      " 44%|███████████████████████████████████▌                                             | 47/107 [09:29<12:28, 12.47s/it]"
     ]
    },
    {
     "name": "stdout",
     "output_type": "stream",
     "text": [
      "WARNING:tensorflow:11 out of the last 11 calls to <function recreate_function.<locals>.restored_function_body at 0x0000021142CF28B0> triggered tf.function retracing. Tracing is expensive and the excessive number of tracings could be due to (1) creating @tf.function repeatedly in a loop, (2) passing tensors with different shapes, (3) passing Python objects instead of tensors. For (1), please define your @tf.function outside of the loop. For (2), @tf.function has experimental_relax_shapes=True option that relaxes argument shapes that can avoid unnecessary retracing. For (3), please refer to https://www.tensorflow.org/tutorials/customization/performance#python_or_tensor_args and https://www.tensorflow.org/api_docs/python/tf/function for  more details.\n"
     ]
    },
    {
     "name": "stderr",
     "output_type": "stream",
     "text": [
      "WARNING:tensorflow:11 out of the last 11 calls to <function recreate_function.<locals>.restored_function_body at 0x0000021142CF28B0> triggered tf.function retracing. Tracing is expensive and the excessive number of tracings could be due to (1) creating @tf.function repeatedly in a loop, (2) passing tensors with different shapes, (3) passing Python objects instead of tensors. For (1), please define your @tf.function outside of the loop. For (2), @tf.function has experimental_relax_shapes=True option that relaxes argument shapes that can avoid unnecessary retracing. For (3), please refer to https://www.tensorflow.org/tutorials/customization/performance#python_or_tensor_args and https://www.tensorflow.org/api_docs/python/tf/function for  more details.\n",
      " 45%|████████████████████████████████████▎                                            | 48/107 [09:42<12:25, 12.63s/it]"
     ]
    },
    {
     "name": "stdout",
     "output_type": "stream",
     "text": [
      "WARNING:tensorflow:11 out of the last 11 calls to <function recreate_function.<locals>.restored_function_body at 0x000002113D92E940> triggered tf.function retracing. Tracing is expensive and the excessive number of tracings could be due to (1) creating @tf.function repeatedly in a loop, (2) passing tensors with different shapes, (3) passing Python objects instead of tensors. For (1), please define your @tf.function outside of the loop. For (2), @tf.function has experimental_relax_shapes=True option that relaxes argument shapes that can avoid unnecessary retracing. For (3), please refer to https://www.tensorflow.org/tutorials/customization/performance#python_or_tensor_args and https://www.tensorflow.org/api_docs/python/tf/function for  more details.\n"
     ]
    },
    {
     "name": "stderr",
     "output_type": "stream",
     "text": [
      "WARNING:tensorflow:11 out of the last 11 calls to <function recreate_function.<locals>.restored_function_body at 0x000002113D92E940> triggered tf.function retracing. Tracing is expensive and the excessive number of tracings could be due to (1) creating @tf.function repeatedly in a loop, (2) passing tensors with different shapes, (3) passing Python objects instead of tensors. For (1), please define your @tf.function outside of the loop. For (2), @tf.function has experimental_relax_shapes=True option that relaxes argument shapes that can avoid unnecessary retracing. For (3), please refer to https://www.tensorflow.org/tutorials/customization/performance#python_or_tensor_args and https://www.tensorflow.org/api_docs/python/tf/function for  more details.\n",
      " 46%|█████████████████████████████████████                                            | 49/107 [09:54<12:03, 12.47s/it]"
     ]
    },
    {
     "name": "stdout",
     "output_type": "stream",
     "text": [
      "WARNING:tensorflow:11 out of the last 11 calls to <function recreate_function.<locals>.restored_function_body at 0x000002113C3209D0> triggered tf.function retracing. Tracing is expensive and the excessive number of tracings could be due to (1) creating @tf.function repeatedly in a loop, (2) passing tensors with different shapes, (3) passing Python objects instead of tensors. For (1), please define your @tf.function outside of the loop. For (2), @tf.function has experimental_relax_shapes=True option that relaxes argument shapes that can avoid unnecessary retracing. For (3), please refer to https://www.tensorflow.org/tutorials/customization/performance#python_or_tensor_args and https://www.tensorflow.org/api_docs/python/tf/function for  more details.\n"
     ]
    },
    {
     "name": "stderr",
     "output_type": "stream",
     "text": [
      "WARNING:tensorflow:11 out of the last 11 calls to <function recreate_function.<locals>.restored_function_body at 0x000002113C3209D0> triggered tf.function retracing. Tracing is expensive and the excessive number of tracings could be due to (1) creating @tf.function repeatedly in a loop, (2) passing tensors with different shapes, (3) passing Python objects instead of tensors. For (1), please define your @tf.function outside of the loop. For (2), @tf.function has experimental_relax_shapes=True option that relaxes argument shapes that can avoid unnecessary retracing. For (3), please refer to https://www.tensorflow.org/tutorials/customization/performance#python_or_tensor_args and https://www.tensorflow.org/api_docs/python/tf/function for  more details.\n",
      " 47%|█████████████████████████████████████▊                                           | 50/107 [10:07<11:54, 12.54s/it]"
     ]
    },
    {
     "name": "stdout",
     "output_type": "stream",
     "text": [
      "WARNING:tensorflow:11 out of the last 11 calls to <function recreate_function.<locals>.restored_function_body at 0x0000021141927A60> triggered tf.function retracing. Tracing is expensive and the excessive number of tracings could be due to (1) creating @tf.function repeatedly in a loop, (2) passing tensors with different shapes, (3) passing Python objects instead of tensors. For (1), please define your @tf.function outside of the loop. For (2), @tf.function has experimental_relax_shapes=True option that relaxes argument shapes that can avoid unnecessary retracing. For (3), please refer to https://www.tensorflow.org/tutorials/customization/performance#python_or_tensor_args and https://www.tensorflow.org/api_docs/python/tf/function for  more details.\n"
     ]
    },
    {
     "name": "stderr",
     "output_type": "stream",
     "text": [
      "WARNING:tensorflow:11 out of the last 11 calls to <function recreate_function.<locals>.restored_function_body at 0x0000021141927A60> triggered tf.function retracing. Tracing is expensive and the excessive number of tracings could be due to (1) creating @tf.function repeatedly in a loop, (2) passing tensors with different shapes, (3) passing Python objects instead of tensors. For (1), please define your @tf.function outside of the loop. For (2), @tf.function has experimental_relax_shapes=True option that relaxes argument shapes that can avoid unnecessary retracing. For (3), please refer to https://www.tensorflow.org/tutorials/customization/performance#python_or_tensor_args and https://www.tensorflow.org/api_docs/python/tf/function for  more details.\n",
      " 48%|██████████████████████████████████████▌                                          | 51/107 [10:19<11:41, 12.53s/it]"
     ]
    },
    {
     "name": "stdout",
     "output_type": "stream",
     "text": [
      "WARNING:tensorflow:11 out of the last 11 calls to <function recreate_function.<locals>.restored_function_body at 0x0000021141C24AF0> triggered tf.function retracing. Tracing is expensive and the excessive number of tracings could be due to (1) creating @tf.function repeatedly in a loop, (2) passing tensors with different shapes, (3) passing Python objects instead of tensors. For (1), please define your @tf.function outside of the loop. For (2), @tf.function has experimental_relax_shapes=True option that relaxes argument shapes that can avoid unnecessary retracing. For (3), please refer to https://www.tensorflow.org/tutorials/customization/performance#python_or_tensor_args and https://www.tensorflow.org/api_docs/python/tf/function for  more details.\n"
     ]
    },
    {
     "name": "stderr",
     "output_type": "stream",
     "text": [
      "WARNING:tensorflow:11 out of the last 11 calls to <function recreate_function.<locals>.restored_function_body at 0x0000021141C24AF0> triggered tf.function retracing. Tracing is expensive and the excessive number of tracings could be due to (1) creating @tf.function repeatedly in a loop, (2) passing tensors with different shapes, (3) passing Python objects instead of tensors. For (1), please define your @tf.function outside of the loop. For (2), @tf.function has experimental_relax_shapes=True option that relaxes argument shapes that can avoid unnecessary retracing. For (3), please refer to https://www.tensorflow.org/tutorials/customization/performance#python_or_tensor_args and https://www.tensorflow.org/api_docs/python/tf/function for  more details.\n",
      " 49%|███████████████████████████████████████▎                                         | 52/107 [10:32<11:28, 12.52s/it]"
     ]
    },
    {
     "name": "stdout",
     "output_type": "stream",
     "text": [
      "WARNING:tensorflow:11 out of the last 11 calls to <function recreate_function.<locals>.restored_function_body at 0x0000021141BA4B80> triggered tf.function retracing. Tracing is expensive and the excessive number of tracings could be due to (1) creating @tf.function repeatedly in a loop, (2) passing tensors with different shapes, (3) passing Python objects instead of tensors. For (1), please define your @tf.function outside of the loop. For (2), @tf.function has experimental_relax_shapes=True option that relaxes argument shapes that can avoid unnecessary retracing. For (3), please refer to https://www.tensorflow.org/tutorials/customization/performance#python_or_tensor_args and https://www.tensorflow.org/api_docs/python/tf/function for  more details.\n"
     ]
    },
    {
     "name": "stderr",
     "output_type": "stream",
     "text": [
      "WARNING:tensorflow:11 out of the last 11 calls to <function recreate_function.<locals>.restored_function_body at 0x0000021141BA4B80> triggered tf.function retracing. Tracing is expensive and the excessive number of tracings could be due to (1) creating @tf.function repeatedly in a loop, (2) passing tensors with different shapes, (3) passing Python objects instead of tensors. For (1), please define your @tf.function outside of the loop. For (2), @tf.function has experimental_relax_shapes=True option that relaxes argument shapes that can avoid unnecessary retracing. For (3), please refer to https://www.tensorflow.org/tutorials/customization/performance#python_or_tensor_args and https://www.tensorflow.org/api_docs/python/tf/function for  more details.\n",
      " 50%|████████████████████████████████████████                                         | 53/107 [10:44<11:05, 12.33s/it]"
     ]
    },
    {
     "name": "stdout",
     "output_type": "stream",
     "text": [
      "WARNING:tensorflow:11 out of the last 11 calls to <function recreate_function.<locals>.restored_function_body at 0x0000021141112C10> triggered tf.function retracing. Tracing is expensive and the excessive number of tracings could be due to (1) creating @tf.function repeatedly in a loop, (2) passing tensors with different shapes, (3) passing Python objects instead of tensors. For (1), please define your @tf.function outside of the loop. For (2), @tf.function has experimental_relax_shapes=True option that relaxes argument shapes that can avoid unnecessary retracing. For (3), please refer to https://www.tensorflow.org/tutorials/customization/performance#python_or_tensor_args and https://www.tensorflow.org/api_docs/python/tf/function for  more details.\n"
     ]
    },
    {
     "name": "stderr",
     "output_type": "stream",
     "text": [
      "WARNING:tensorflow:11 out of the last 11 calls to <function recreate_function.<locals>.restored_function_body at 0x0000021141112C10> triggered tf.function retracing. Tracing is expensive and the excessive number of tracings could be due to (1) creating @tf.function repeatedly in a loop, (2) passing tensors with different shapes, (3) passing Python objects instead of tensors. For (1), please define your @tf.function outside of the loop. For (2), @tf.function has experimental_relax_shapes=True option that relaxes argument shapes that can avoid unnecessary retracing. For (3), please refer to https://www.tensorflow.org/tutorials/customization/performance#python_or_tensor_args and https://www.tensorflow.org/api_docs/python/tf/function for  more details.\n",
      " 50%|████████████████████████████████████████▉                                        | 54/107 [10:56<10:45, 12.18s/it]"
     ]
    },
    {
     "name": "stdout",
     "output_type": "stream",
     "text": [
      "WARNING:tensorflow:11 out of the last 11 calls to <function recreate_function.<locals>.restored_function_body at 0x0000021141812CA0> triggered tf.function retracing. Tracing is expensive and the excessive number of tracings could be due to (1) creating @tf.function repeatedly in a loop, (2) passing tensors with different shapes, (3) passing Python objects instead of tensors. For (1), please define your @tf.function outside of the loop. For (2), @tf.function has experimental_relax_shapes=True option that relaxes argument shapes that can avoid unnecessary retracing. For (3), please refer to https://www.tensorflow.org/tutorials/customization/performance#python_or_tensor_args and https://www.tensorflow.org/api_docs/python/tf/function for  more details.\n"
     ]
    },
    {
     "name": "stderr",
     "output_type": "stream",
     "text": [
      "WARNING:tensorflow:11 out of the last 11 calls to <function recreate_function.<locals>.restored_function_body at 0x0000021141812CA0> triggered tf.function retracing. Tracing is expensive and the excessive number of tracings could be due to (1) creating @tf.function repeatedly in a loop, (2) passing tensors with different shapes, (3) passing Python objects instead of tensors. For (1), please define your @tf.function outside of the loop. For (2), @tf.function has experimental_relax_shapes=True option that relaxes argument shapes that can avoid unnecessary retracing. For (3), please refer to https://www.tensorflow.org/tutorials/customization/performance#python_or_tensor_args and https://www.tensorflow.org/api_docs/python/tf/function for  more details.\n",
      " 51%|█████████████████████████████████████████▋                                       | 55/107 [11:08<10:40, 12.32s/it]"
     ]
    },
    {
     "name": "stdout",
     "output_type": "stream",
     "text": [
      "WARNING:tensorflow:11 out of the last 11 calls to <function recreate_function.<locals>.restored_function_body at 0x00000211410D2D30> triggered tf.function retracing. Tracing is expensive and the excessive number of tracings could be due to (1) creating @tf.function repeatedly in a loop, (2) passing tensors with different shapes, (3) passing Python objects instead of tensors. For (1), please define your @tf.function outside of the loop. For (2), @tf.function has experimental_relax_shapes=True option that relaxes argument shapes that can avoid unnecessary retracing. For (3), please refer to https://www.tensorflow.org/tutorials/customization/performance#python_or_tensor_args and https://www.tensorflow.org/api_docs/python/tf/function for  more details.\n"
     ]
    },
    {
     "name": "stderr",
     "output_type": "stream",
     "text": [
      "WARNING:tensorflow:11 out of the last 11 calls to <function recreate_function.<locals>.restored_function_body at 0x00000211410D2D30> triggered tf.function retracing. Tracing is expensive and the excessive number of tracings could be due to (1) creating @tf.function repeatedly in a loop, (2) passing tensors with different shapes, (3) passing Python objects instead of tensors. For (1), please define your @tf.function outside of the loop. For (2), @tf.function has experimental_relax_shapes=True option that relaxes argument shapes that can avoid unnecessary retracing. For (3), please refer to https://www.tensorflow.org/tutorials/customization/performance#python_or_tensor_args and https://www.tensorflow.org/api_docs/python/tf/function for  more details.\n",
      " 52%|██████████████████████████████████████████▍                                      | 56/107 [11:20<10:20, 12.18s/it]"
     ]
    },
    {
     "name": "stdout",
     "output_type": "stream",
     "text": [
      "WARNING:tensorflow:11 out of the last 11 calls to <function recreate_function.<locals>.restored_function_body at 0x0000021141852DC0> triggered tf.function retracing. Tracing is expensive and the excessive number of tracings could be due to (1) creating @tf.function repeatedly in a loop, (2) passing tensors with different shapes, (3) passing Python objects instead of tensors. For (1), please define your @tf.function outside of the loop. For (2), @tf.function has experimental_relax_shapes=True option that relaxes argument shapes that can avoid unnecessary retracing. For (3), please refer to https://www.tensorflow.org/tutorials/customization/performance#python_or_tensor_args and https://www.tensorflow.org/api_docs/python/tf/function for  more details.\n"
     ]
    },
    {
     "name": "stderr",
     "output_type": "stream",
     "text": [
      "WARNING:tensorflow:11 out of the last 11 calls to <function recreate_function.<locals>.restored_function_body at 0x0000021141852DC0> triggered tf.function retracing. Tracing is expensive and the excessive number of tracings could be due to (1) creating @tf.function repeatedly in a loop, (2) passing tensors with different shapes, (3) passing Python objects instead of tensors. For (1), please define your @tf.function outside of the loop. For (2), @tf.function has experimental_relax_shapes=True option that relaxes argument shapes that can avoid unnecessary retracing. For (3), please refer to https://www.tensorflow.org/tutorials/customization/performance#python_or_tensor_args and https://www.tensorflow.org/api_docs/python/tf/function for  more details.\n",
      " 53%|███████████████████████████████████████████▏                                     | 57/107 [11:33<10:21, 12.43s/it]"
     ]
    },
    {
     "name": "stdout",
     "output_type": "stream",
     "text": [
      "WARNING:tensorflow:11 out of the last 11 calls to <function recreate_function.<locals>.restored_function_body at 0x000002113D372E50> triggered tf.function retracing. Tracing is expensive and the excessive number of tracings could be due to (1) creating @tf.function repeatedly in a loop, (2) passing tensors with different shapes, (3) passing Python objects instead of tensors. For (1), please define your @tf.function outside of the loop. For (2), @tf.function has experimental_relax_shapes=True option that relaxes argument shapes that can avoid unnecessary retracing. For (3), please refer to https://www.tensorflow.org/tutorials/customization/performance#python_or_tensor_args and https://www.tensorflow.org/api_docs/python/tf/function for  more details.\n"
     ]
    },
    {
     "name": "stderr",
     "output_type": "stream",
     "text": [
      "WARNING:tensorflow:11 out of the last 11 calls to <function recreate_function.<locals>.restored_function_body at 0x000002113D372E50> triggered tf.function retracing. Tracing is expensive and the excessive number of tracings could be due to (1) creating @tf.function repeatedly in a loop, (2) passing tensors with different shapes, (3) passing Python objects instead of tensors. For (1), please define your @tf.function outside of the loop. For (2), @tf.function has experimental_relax_shapes=True option that relaxes argument shapes that can avoid unnecessary retracing. For (3), please refer to https://www.tensorflow.org/tutorials/customization/performance#python_or_tensor_args and https://www.tensorflow.org/api_docs/python/tf/function for  more details.\n",
      " 54%|███████████████████████████████████████████▉                                     | 58/107 [11:47<10:26, 12.78s/it]"
     ]
    },
    {
     "name": "stdout",
     "output_type": "stream",
     "text": [
      "WARNING:tensorflow:11 out of the last 11 calls to <function recreate_function.<locals>.restored_function_body at 0x0000021141712F70> triggered tf.function retracing. Tracing is expensive and the excessive number of tracings could be due to (1) creating @tf.function repeatedly in a loop, (2) passing tensors with different shapes, (3) passing Python objects instead of tensors. For (1), please define your @tf.function outside of the loop. For (2), @tf.function has experimental_relax_shapes=True option that relaxes argument shapes that can avoid unnecessary retracing. For (3), please refer to https://www.tensorflow.org/tutorials/customization/performance#python_or_tensor_args and https://www.tensorflow.org/api_docs/python/tf/function for  more details.\n"
     ]
    },
    {
     "name": "stderr",
     "output_type": "stream",
     "text": [
      "WARNING:tensorflow:11 out of the last 11 calls to <function recreate_function.<locals>.restored_function_body at 0x0000021141712F70> triggered tf.function retracing. Tracing is expensive and the excessive number of tracings could be due to (1) creating @tf.function repeatedly in a loop, (2) passing tensors with different shapes, (3) passing Python objects instead of tensors. For (1), please define your @tf.function outside of the loop. For (2), @tf.function has experimental_relax_shapes=True option that relaxes argument shapes that can avoid unnecessary retracing. For (3), please refer to https://www.tensorflow.org/tutorials/customization/performance#python_or_tensor_args and https://www.tensorflow.org/api_docs/python/tf/function for  more details.\n",
      " 55%|████████████████████████████████████████████▋                                    | 59/107 [12:00<10:25, 13.02s/it]"
     ]
    },
    {
     "name": "stdout",
     "output_type": "stream",
     "text": [
      "WARNING:tensorflow:11 out of the last 11 calls to <function recreate_function.<locals>.restored_function_body at 0x0000021141951040> triggered tf.function retracing. Tracing is expensive and the excessive number of tracings could be due to (1) creating @tf.function repeatedly in a loop, (2) passing tensors with different shapes, (3) passing Python objects instead of tensors. For (1), please define your @tf.function outside of the loop. For (2), @tf.function has experimental_relax_shapes=True option that relaxes argument shapes that can avoid unnecessary retracing. For (3), please refer to https://www.tensorflow.org/tutorials/customization/performance#python_or_tensor_args and https://www.tensorflow.org/api_docs/python/tf/function for  more details.\n"
     ]
    },
    {
     "name": "stderr",
     "output_type": "stream",
     "text": [
      "WARNING:tensorflow:11 out of the last 11 calls to <function recreate_function.<locals>.restored_function_body at 0x0000021141951040> triggered tf.function retracing. Tracing is expensive and the excessive number of tracings could be due to (1) creating @tf.function repeatedly in a loop, (2) passing tensors with different shapes, (3) passing Python objects instead of tensors. For (1), please define your @tf.function outside of the loop. For (2), @tf.function has experimental_relax_shapes=True option that relaxes argument shapes that can avoid unnecessary retracing. For (3), please refer to https://www.tensorflow.org/tutorials/customization/performance#python_or_tensor_args and https://www.tensorflow.org/api_docs/python/tf/function for  more details.\n",
      " 56%|█████████████████████████████████████████████▍                                   | 60/107 [12:13<10:13, 13.06s/it]"
     ]
    },
    {
     "name": "stdout",
     "output_type": "stream",
     "text": [
      "WARNING:tensorflow:11 out of the last 11 calls to <function recreate_function.<locals>.restored_function_body at 0x00000211410EC0D0> triggered tf.function retracing. Tracing is expensive and the excessive number of tracings could be due to (1) creating @tf.function repeatedly in a loop, (2) passing tensors with different shapes, (3) passing Python objects instead of tensors. For (1), please define your @tf.function outside of the loop. For (2), @tf.function has experimental_relax_shapes=True option that relaxes argument shapes that can avoid unnecessary retracing. For (3), please refer to https://www.tensorflow.org/tutorials/customization/performance#python_or_tensor_args and https://www.tensorflow.org/api_docs/python/tf/function for  more details.\n"
     ]
    },
    {
     "name": "stderr",
     "output_type": "stream",
     "text": [
      "WARNING:tensorflow:11 out of the last 11 calls to <function recreate_function.<locals>.restored_function_body at 0x00000211410EC0D0> triggered tf.function retracing. Tracing is expensive and the excessive number of tracings could be due to (1) creating @tf.function repeatedly in a loop, (2) passing tensors with different shapes, (3) passing Python objects instead of tensors. For (1), please define your @tf.function outside of the loop. For (2), @tf.function has experimental_relax_shapes=True option that relaxes argument shapes that can avoid unnecessary retracing. For (3), please refer to https://www.tensorflow.org/tutorials/customization/performance#python_or_tensor_args and https://www.tensorflow.org/api_docs/python/tf/function for  more details.\n",
      " 57%|██████████████████████████████████████████████▏                                  | 61/107 [12:26<09:46, 12.75s/it]"
     ]
    },
    {
     "name": "stdout",
     "output_type": "stream",
     "text": [
      "WARNING:tensorflow:11 out of the last 11 calls to <function recreate_function.<locals>.restored_function_body at 0x000002113D43B160> triggered tf.function retracing. Tracing is expensive and the excessive number of tracings could be due to (1) creating @tf.function repeatedly in a loop, (2) passing tensors with different shapes, (3) passing Python objects instead of tensors. For (1), please define your @tf.function outside of the loop. For (2), @tf.function has experimental_relax_shapes=True option that relaxes argument shapes that can avoid unnecessary retracing. For (3), please refer to https://www.tensorflow.org/tutorials/customization/performance#python_or_tensor_args and https://www.tensorflow.org/api_docs/python/tf/function for  more details.\n"
     ]
    },
    {
     "name": "stderr",
     "output_type": "stream",
     "text": [
      "WARNING:tensorflow:11 out of the last 11 calls to <function recreate_function.<locals>.restored_function_body at 0x000002113D43B160> triggered tf.function retracing. Tracing is expensive and the excessive number of tracings could be due to (1) creating @tf.function repeatedly in a loop, (2) passing tensors with different shapes, (3) passing Python objects instead of tensors. For (1), please define your @tf.function outside of the loop. For (2), @tf.function has experimental_relax_shapes=True option that relaxes argument shapes that can avoid unnecessary retracing. For (3), please refer to https://www.tensorflow.org/tutorials/customization/performance#python_or_tensor_args and https://www.tensorflow.org/api_docs/python/tf/function for  more details.\n",
      " 58%|██████████████████████████████████████████████▉                                  | 62/107 [12:38<09:34, 12.78s/it]"
     ]
    },
    {
     "name": "stdout",
     "output_type": "stream",
     "text": [
      "WARNING:tensorflow:11 out of the last 11 calls to <function recreate_function.<locals>.restored_function_body at 0x000002113C2C41F0> triggered tf.function retracing. Tracing is expensive and the excessive number of tracings could be due to (1) creating @tf.function repeatedly in a loop, (2) passing tensors with different shapes, (3) passing Python objects instead of tensors. For (1), please define your @tf.function outside of the loop. For (2), @tf.function has experimental_relax_shapes=True option that relaxes argument shapes that can avoid unnecessary retracing. For (3), please refer to https://www.tensorflow.org/tutorials/customization/performance#python_or_tensor_args and https://www.tensorflow.org/api_docs/python/tf/function for  more details.\n"
     ]
    },
    {
     "name": "stderr",
     "output_type": "stream",
     "text": [
      "WARNING:tensorflow:11 out of the last 11 calls to <function recreate_function.<locals>.restored_function_body at 0x000002113C2C41F0> triggered tf.function retracing. Tracing is expensive and the excessive number of tracings could be due to (1) creating @tf.function repeatedly in a loop, (2) passing tensors with different shapes, (3) passing Python objects instead of tensors. For (1), please define your @tf.function outside of the loop. For (2), @tf.function has experimental_relax_shapes=True option that relaxes argument shapes that can avoid unnecessary retracing. For (3), please refer to https://www.tensorflow.org/tutorials/customization/performance#python_or_tensor_args and https://www.tensorflow.org/api_docs/python/tf/function for  more details.\n",
      " 59%|███████████████████████████████████████████████▋                                 | 63/107 [12:51<09:19, 12.71s/it]"
     ]
    },
    {
     "name": "stdout",
     "output_type": "stream",
     "text": [
      "WARNING:tensorflow:11 out of the last 11 calls to <function recreate_function.<locals>.restored_function_body at 0x000002113E118280> triggered tf.function retracing. Tracing is expensive and the excessive number of tracings could be due to (1) creating @tf.function repeatedly in a loop, (2) passing tensors with different shapes, (3) passing Python objects instead of tensors. For (1), please define your @tf.function outside of the loop. For (2), @tf.function has experimental_relax_shapes=True option that relaxes argument shapes that can avoid unnecessary retracing. For (3), please refer to https://www.tensorflow.org/tutorials/customization/performance#python_or_tensor_args and https://www.tensorflow.org/api_docs/python/tf/function for  more details.\n"
     ]
    },
    {
     "name": "stderr",
     "output_type": "stream",
     "text": [
      "WARNING:tensorflow:11 out of the last 11 calls to <function recreate_function.<locals>.restored_function_body at 0x000002113E118280> triggered tf.function retracing. Tracing is expensive and the excessive number of tracings could be due to (1) creating @tf.function repeatedly in a loop, (2) passing tensors with different shapes, (3) passing Python objects instead of tensors. For (1), please define your @tf.function outside of the loop. For (2), @tf.function has experimental_relax_shapes=True option that relaxes argument shapes that can avoid unnecessary retracing. For (3), please refer to https://www.tensorflow.org/tutorials/customization/performance#python_or_tensor_args and https://www.tensorflow.org/api_docs/python/tf/function for  more details.\n",
      " 60%|████████████████████████████████████████████████▍                                | 64/107 [13:03<08:55, 12.45s/it]"
     ]
    },
    {
     "name": "stdout",
     "output_type": "stream",
     "text": [
      "WARNING:tensorflow:11 out of the last 11 calls to <function recreate_function.<locals>.restored_function_body at 0x000002113DFF5310> triggered tf.function retracing. Tracing is expensive and the excessive number of tracings could be due to (1) creating @tf.function repeatedly in a loop, (2) passing tensors with different shapes, (3) passing Python objects instead of tensors. For (1), please define your @tf.function outside of the loop. For (2), @tf.function has experimental_relax_shapes=True option that relaxes argument shapes that can avoid unnecessary retracing. For (3), please refer to https://www.tensorflow.org/tutorials/customization/performance#python_or_tensor_args and https://www.tensorflow.org/api_docs/python/tf/function for  more details.\n"
     ]
    },
    {
     "name": "stderr",
     "output_type": "stream",
     "text": [
      "WARNING:tensorflow:11 out of the last 11 calls to <function recreate_function.<locals>.restored_function_body at 0x000002113DFF5310> triggered tf.function retracing. Tracing is expensive and the excessive number of tracings could be due to (1) creating @tf.function repeatedly in a loop, (2) passing tensors with different shapes, (3) passing Python objects instead of tensors. For (1), please define your @tf.function outside of the loop. For (2), @tf.function has experimental_relax_shapes=True option that relaxes argument shapes that can avoid unnecessary retracing. For (3), please refer to https://www.tensorflow.org/tutorials/customization/performance#python_or_tensor_args and https://www.tensorflow.org/api_docs/python/tf/function for  more details.\n",
      " 61%|█████████████████████████████████████████████████▏                               | 65/107 [13:14<08:32, 12.20s/it]"
     ]
    },
    {
     "name": "stdout",
     "output_type": "stream",
     "text": [
      "WARNING:tensorflow:11 out of the last 11 calls to <function recreate_function.<locals>.restored_function_body at 0x000002113D92C820> triggered tf.function retracing. Tracing is expensive and the excessive number of tracings could be due to (1) creating @tf.function repeatedly in a loop, (2) passing tensors with different shapes, (3) passing Python objects instead of tensors. For (1), please define your @tf.function outside of the loop. For (2), @tf.function has experimental_relax_shapes=True option that relaxes argument shapes that can avoid unnecessary retracing. For (3), please refer to https://www.tensorflow.org/tutorials/customization/performance#python_or_tensor_args and https://www.tensorflow.org/api_docs/python/tf/function for  more details.\n"
     ]
    },
    {
     "name": "stderr",
     "output_type": "stream",
     "text": [
      "WARNING:tensorflow:11 out of the last 11 calls to <function recreate_function.<locals>.restored_function_body at 0x000002113D92C820> triggered tf.function retracing. Tracing is expensive and the excessive number of tracings could be due to (1) creating @tf.function repeatedly in a loop, (2) passing tensors with different shapes, (3) passing Python objects instead of tensors. For (1), please define your @tf.function outside of the loop. For (2), @tf.function has experimental_relax_shapes=True option that relaxes argument shapes that can avoid unnecessary retracing. For (3), please refer to https://www.tensorflow.org/tutorials/customization/performance#python_or_tensor_args and https://www.tensorflow.org/api_docs/python/tf/function for  more details.\n",
      " 62%|█████████████████████████████████████████████████▉                               | 66/107 [13:26<08:19, 12.17s/it]"
     ]
    },
    {
     "name": "stdout",
     "output_type": "stream",
     "text": [
      "WARNING:tensorflow:11 out of the last 11 calls to <function recreate_function.<locals>.restored_function_body at 0x000002114134E8B0> triggered tf.function retracing. Tracing is expensive and the excessive number of tracings could be due to (1) creating @tf.function repeatedly in a loop, (2) passing tensors with different shapes, (3) passing Python objects instead of tensors. For (1), please define your @tf.function outside of the loop. For (2), @tf.function has experimental_relax_shapes=True option that relaxes argument shapes that can avoid unnecessary retracing. For (3), please refer to https://www.tensorflow.org/tutorials/customization/performance#python_or_tensor_args and https://www.tensorflow.org/api_docs/python/tf/function for  more details.\n"
     ]
    },
    {
     "name": "stderr",
     "output_type": "stream",
     "text": [
      "WARNING:tensorflow:11 out of the last 11 calls to <function recreate_function.<locals>.restored_function_body at 0x000002114134E8B0> triggered tf.function retracing. Tracing is expensive and the excessive number of tracings could be due to (1) creating @tf.function repeatedly in a loop, (2) passing tensors with different shapes, (3) passing Python objects instead of tensors. For (1), please define your @tf.function outside of the loop. For (2), @tf.function has experimental_relax_shapes=True option that relaxes argument shapes that can avoid unnecessary retracing. For (3), please refer to https://www.tensorflow.org/tutorials/customization/performance#python_or_tensor_args and https://www.tensorflow.org/api_docs/python/tf/function for  more details.\n",
      " 63%|██████████████████████████████████████████████████▋                              | 67/107 [13:38<08:04, 12.12s/it]"
     ]
    },
    {
     "name": "stdout",
     "output_type": "stream",
     "text": [
      "WARNING:tensorflow:11 out of the last 11 calls to <function recreate_function.<locals>.restored_function_body at 0x000002113D388940> triggered tf.function retracing. Tracing is expensive and the excessive number of tracings could be due to (1) creating @tf.function repeatedly in a loop, (2) passing tensors with different shapes, (3) passing Python objects instead of tensors. For (1), please define your @tf.function outside of the loop. For (2), @tf.function has experimental_relax_shapes=True option that relaxes argument shapes that can avoid unnecessary retracing. For (3), please refer to https://www.tensorflow.org/tutorials/customization/performance#python_or_tensor_args and https://www.tensorflow.org/api_docs/python/tf/function for  more details.\n"
     ]
    },
    {
     "name": "stderr",
     "output_type": "stream",
     "text": [
      "WARNING:tensorflow:11 out of the last 11 calls to <function recreate_function.<locals>.restored_function_body at 0x000002113D388940> triggered tf.function retracing. Tracing is expensive and the excessive number of tracings could be due to (1) creating @tf.function repeatedly in a loop, (2) passing tensors with different shapes, (3) passing Python objects instead of tensors. For (1), please define your @tf.function outside of the loop. For (2), @tf.function has experimental_relax_shapes=True option that relaxes argument shapes that can avoid unnecessary retracing. For (3), please refer to https://www.tensorflow.org/tutorials/customization/performance#python_or_tensor_args and https://www.tensorflow.org/api_docs/python/tf/function for  more details.\n",
      " 64%|███████████████████████████████████████████████████▍                             | 68/107 [13:50<07:50, 12.06s/it]"
     ]
    },
    {
     "name": "stdout",
     "output_type": "stream",
     "text": [
      "WARNING:tensorflow:11 out of the last 11 calls to <function recreate_function.<locals>.restored_function_body at 0x0000021141A689D0> triggered tf.function retracing. Tracing is expensive and the excessive number of tracings could be due to (1) creating @tf.function repeatedly in a loop, (2) passing tensors with different shapes, (3) passing Python objects instead of tensors. For (1), please define your @tf.function outside of the loop. For (2), @tf.function has experimental_relax_shapes=True option that relaxes argument shapes that can avoid unnecessary retracing. For (3), please refer to https://www.tensorflow.org/tutorials/customization/performance#python_or_tensor_args and https://www.tensorflow.org/api_docs/python/tf/function for  more details.\n"
     ]
    },
    {
     "name": "stderr",
     "output_type": "stream",
     "text": [
      "WARNING:tensorflow:11 out of the last 11 calls to <function recreate_function.<locals>.restored_function_body at 0x0000021141A689D0> triggered tf.function retracing. Tracing is expensive and the excessive number of tracings could be due to (1) creating @tf.function repeatedly in a loop, (2) passing tensors with different shapes, (3) passing Python objects instead of tensors. For (1), please define your @tf.function outside of the loop. For (2), @tf.function has experimental_relax_shapes=True option that relaxes argument shapes that can avoid unnecessary retracing. For (3), please refer to https://www.tensorflow.org/tutorials/customization/performance#python_or_tensor_args and https://www.tensorflow.org/api_docs/python/tf/function for  more details.\n",
      " 64%|████████████████████████████████████████████████████▏                            | 69/107 [14:03<07:43, 12.20s/it]"
     ]
    },
    {
     "name": "stdout",
     "output_type": "stream",
     "text": [
      "WARNING:tensorflow:11 out of the last 11 calls to <function recreate_function.<locals>.restored_function_body at 0x000002113D548A60> triggered tf.function retracing. Tracing is expensive and the excessive number of tracings could be due to (1) creating @tf.function repeatedly in a loop, (2) passing tensors with different shapes, (3) passing Python objects instead of tensors. For (1), please define your @tf.function outside of the loop. For (2), @tf.function has experimental_relax_shapes=True option that relaxes argument shapes that can avoid unnecessary retracing. For (3), please refer to https://www.tensorflow.org/tutorials/customization/performance#python_or_tensor_args and https://www.tensorflow.org/api_docs/python/tf/function for  more details.\n"
     ]
    },
    {
     "name": "stderr",
     "output_type": "stream",
     "text": [
      "WARNING:tensorflow:11 out of the last 11 calls to <function recreate_function.<locals>.restored_function_body at 0x000002113D548A60> triggered tf.function retracing. Tracing is expensive and the excessive number of tracings could be due to (1) creating @tf.function repeatedly in a loop, (2) passing tensors with different shapes, (3) passing Python objects instead of tensors. For (1), please define your @tf.function outside of the loop. For (2), @tf.function has experimental_relax_shapes=True option that relaxes argument shapes that can avoid unnecessary retracing. For (3), please refer to https://www.tensorflow.org/tutorials/customization/performance#python_or_tensor_args and https://www.tensorflow.org/api_docs/python/tf/function for  more details.\n",
      " 65%|████████████████████████████████████████████████████▉                            | 70/107 [14:16<07:42, 12.49s/it]"
     ]
    },
    {
     "name": "stdout",
     "output_type": "stream",
     "text": [
      "WARNING:tensorflow:11 out of the last 11 calls to <function recreate_function.<locals>.restored_function_body at 0x00000211412E3AF0> triggered tf.function retracing. Tracing is expensive and the excessive number of tracings could be due to (1) creating @tf.function repeatedly in a loop, (2) passing tensors with different shapes, (3) passing Python objects instead of tensors. For (1), please define your @tf.function outside of the loop. For (2), @tf.function has experimental_relax_shapes=True option that relaxes argument shapes that can avoid unnecessary retracing. For (3), please refer to https://www.tensorflow.org/tutorials/customization/performance#python_or_tensor_args and https://www.tensorflow.org/api_docs/python/tf/function for  more details.\n"
     ]
    },
    {
     "name": "stderr",
     "output_type": "stream",
     "text": [
      "WARNING:tensorflow:11 out of the last 11 calls to <function recreate_function.<locals>.restored_function_body at 0x00000211412E3AF0> triggered tf.function retracing. Tracing is expensive and the excessive number of tracings could be due to (1) creating @tf.function repeatedly in a loop, (2) passing tensors with different shapes, (3) passing Python objects instead of tensors. For (1), please define your @tf.function outside of the loop. For (2), @tf.function has experimental_relax_shapes=True option that relaxes argument shapes that can avoid unnecessary retracing. For (3), please refer to https://www.tensorflow.org/tutorials/customization/performance#python_or_tensor_args and https://www.tensorflow.org/api_docs/python/tf/function for  more details.\n",
      " 66%|█████████████████████████████████████████████████████▋                           | 71/107 [14:29<07:36, 12.67s/it]"
     ]
    },
    {
     "name": "stdout",
     "output_type": "stream",
     "text": [
      "WARNING:tensorflow:11 out of the last 11 calls to <function recreate_function.<locals>.restored_function_body at 0x00000211410E5B80> triggered tf.function retracing. Tracing is expensive and the excessive number of tracings could be due to (1) creating @tf.function repeatedly in a loop, (2) passing tensors with different shapes, (3) passing Python objects instead of tensors. For (1), please define your @tf.function outside of the loop. For (2), @tf.function has experimental_relax_shapes=True option that relaxes argument shapes that can avoid unnecessary retracing. For (3), please refer to https://www.tensorflow.org/tutorials/customization/performance#python_or_tensor_args and https://www.tensorflow.org/api_docs/python/tf/function for  more details.\n"
     ]
    },
    {
     "name": "stderr",
     "output_type": "stream",
     "text": [
      "WARNING:tensorflow:11 out of the last 11 calls to <function recreate_function.<locals>.restored_function_body at 0x00000211410E5B80> triggered tf.function retracing. Tracing is expensive and the excessive number of tracings could be due to (1) creating @tf.function repeatedly in a loop, (2) passing tensors with different shapes, (3) passing Python objects instead of tensors. For (1), please define your @tf.function outside of the loop. For (2), @tf.function has experimental_relax_shapes=True option that relaxes argument shapes that can avoid unnecessary retracing. For (3), please refer to https://www.tensorflow.org/tutorials/customization/performance#python_or_tensor_args and https://www.tensorflow.org/api_docs/python/tf/function for  more details.\n",
      " 67%|██████████████████████████████████████████████████████▌                          | 72/107 [14:42<07:20, 12.60s/it]"
     ]
    },
    {
     "name": "stdout",
     "output_type": "stream",
     "text": [
      "WARNING:tensorflow:11 out of the last 11 calls to <function recreate_function.<locals>.restored_function_body at 0x00000211417D4C10> triggered tf.function retracing. Tracing is expensive and the excessive number of tracings could be due to (1) creating @tf.function repeatedly in a loop, (2) passing tensors with different shapes, (3) passing Python objects instead of tensors. For (1), please define your @tf.function outside of the loop. For (2), @tf.function has experimental_relax_shapes=True option that relaxes argument shapes that can avoid unnecessary retracing. For (3), please refer to https://www.tensorflow.org/tutorials/customization/performance#python_or_tensor_args and https://www.tensorflow.org/api_docs/python/tf/function for  more details.\n"
     ]
    },
    {
     "name": "stderr",
     "output_type": "stream",
     "text": [
      "WARNING:tensorflow:11 out of the last 11 calls to <function recreate_function.<locals>.restored_function_body at 0x00000211417D4C10> triggered tf.function retracing. Tracing is expensive and the excessive number of tracings could be due to (1) creating @tf.function repeatedly in a loop, (2) passing tensors with different shapes, (3) passing Python objects instead of tensors. For (1), please define your @tf.function outside of the loop. For (2), @tf.function has experimental_relax_shapes=True option that relaxes argument shapes that can avoid unnecessary retracing. For (3), please refer to https://www.tensorflow.org/tutorials/customization/performance#python_or_tensor_args and https://www.tensorflow.org/api_docs/python/tf/function for  more details.\n",
      " 68%|███████████████████████████████████████████████████████▎                         | 73/107 [14:55<07:18, 12.91s/it]"
     ]
    },
    {
     "name": "stdout",
     "output_type": "stream",
     "text": [
      "WARNING:tensorflow:11 out of the last 11 calls to <function recreate_function.<locals>.restored_function_body at 0x0000021141814CA0> triggered tf.function retracing. Tracing is expensive and the excessive number of tracings could be due to (1) creating @tf.function repeatedly in a loop, (2) passing tensors with different shapes, (3) passing Python objects instead of tensors. For (1), please define your @tf.function outside of the loop. For (2), @tf.function has experimental_relax_shapes=True option that relaxes argument shapes that can avoid unnecessary retracing. For (3), please refer to https://www.tensorflow.org/tutorials/customization/performance#python_or_tensor_args and https://www.tensorflow.org/api_docs/python/tf/function for  more details.\n"
     ]
    },
    {
     "name": "stderr",
     "output_type": "stream",
     "text": [
      "WARNING:tensorflow:11 out of the last 11 calls to <function recreate_function.<locals>.restored_function_body at 0x0000021141814CA0> triggered tf.function retracing. Tracing is expensive and the excessive number of tracings could be due to (1) creating @tf.function repeatedly in a loop, (2) passing tensors with different shapes, (3) passing Python objects instead of tensors. For (1), please define your @tf.function outside of the loop. For (2), @tf.function has experimental_relax_shapes=True option that relaxes argument shapes that can avoid unnecessary retracing. For (3), please refer to https://www.tensorflow.org/tutorials/customization/performance#python_or_tensor_args and https://www.tensorflow.org/api_docs/python/tf/function for  more details.\n",
      " 69%|████████████████████████████████████████████████████████                         | 74/107 [15:08<07:03, 12.84s/it]"
     ]
    },
    {
     "name": "stdout",
     "output_type": "stream",
     "text": [
      "WARNING:tensorflow:11 out of the last 11 calls to <function recreate_function.<locals>.restored_function_body at 0x000002113C1B4D30> triggered tf.function retracing. Tracing is expensive and the excessive number of tracings could be due to (1) creating @tf.function repeatedly in a loop, (2) passing tensors with different shapes, (3) passing Python objects instead of tensors. For (1), please define your @tf.function outside of the loop. For (2), @tf.function has experimental_relax_shapes=True option that relaxes argument shapes that can avoid unnecessary retracing. For (3), please refer to https://www.tensorflow.org/tutorials/customization/performance#python_or_tensor_args and https://www.tensorflow.org/api_docs/python/tf/function for  more details.\n"
     ]
    },
    {
     "name": "stderr",
     "output_type": "stream",
     "text": [
      "WARNING:tensorflow:11 out of the last 11 calls to <function recreate_function.<locals>.restored_function_body at 0x000002113C1B4D30> triggered tf.function retracing. Tracing is expensive and the excessive number of tracings could be due to (1) creating @tf.function repeatedly in a loop, (2) passing tensors with different shapes, (3) passing Python objects instead of tensors. For (1), please define your @tf.function outside of the loop. For (2), @tf.function has experimental_relax_shapes=True option that relaxes argument shapes that can avoid unnecessary retracing. For (3), please refer to https://www.tensorflow.org/tutorials/customization/performance#python_or_tensor_args and https://www.tensorflow.org/api_docs/python/tf/function for  more details.\n",
      " 70%|████████████████████████████████████████████████████████▊                        | 75/107 [15:21<06:56, 13.02s/it]"
     ]
    },
    {
     "name": "stdout",
     "output_type": "stream",
     "text": [
      "WARNING:tensorflow:11 out of the last 11 calls to <function recreate_function.<locals>.restored_function_body at 0x0000021141894DC0> triggered tf.function retracing. Tracing is expensive and the excessive number of tracings could be due to (1) creating @tf.function repeatedly in a loop, (2) passing tensors with different shapes, (3) passing Python objects instead of tensors. For (1), please define your @tf.function outside of the loop. For (2), @tf.function has experimental_relax_shapes=True option that relaxes argument shapes that can avoid unnecessary retracing. For (3), please refer to https://www.tensorflow.org/tutorials/customization/performance#python_or_tensor_args and https://www.tensorflow.org/api_docs/python/tf/function for  more details.\n"
     ]
    },
    {
     "name": "stderr",
     "output_type": "stream",
     "text": [
      "WARNING:tensorflow:11 out of the last 11 calls to <function recreate_function.<locals>.restored_function_body at 0x0000021141894DC0> triggered tf.function retracing. Tracing is expensive and the excessive number of tracings could be due to (1) creating @tf.function repeatedly in a loop, (2) passing tensors with different shapes, (3) passing Python objects instead of tensors. For (1), please define your @tf.function outside of the loop. For (2), @tf.function has experimental_relax_shapes=True option that relaxes argument shapes that can avoid unnecessary retracing. For (3), please refer to https://www.tensorflow.org/tutorials/customization/performance#python_or_tensor_args and https://www.tensorflow.org/api_docs/python/tf/function for  more details.\n",
      " 71%|█████████████████████████████████████████████████████████▌                       | 76/107 [15:34<06:43, 13.00s/it]"
     ]
    },
    {
     "name": "stdout",
     "output_type": "stream",
     "text": [
      "WARNING:tensorflow:11 out of the last 11 calls to <function recreate_function.<locals>.restored_function_body at 0x000002113D1B4E50> triggered tf.function retracing. Tracing is expensive and the excessive number of tracings could be due to (1) creating @tf.function repeatedly in a loop, (2) passing tensors with different shapes, (3) passing Python objects instead of tensors. For (1), please define your @tf.function outside of the loop. For (2), @tf.function has experimental_relax_shapes=True option that relaxes argument shapes that can avoid unnecessary retracing. For (3), please refer to https://www.tensorflow.org/tutorials/customization/performance#python_or_tensor_args and https://www.tensorflow.org/api_docs/python/tf/function for  more details.\n"
     ]
    },
    {
     "name": "stderr",
     "output_type": "stream",
     "text": [
      "WARNING:tensorflow:11 out of the last 11 calls to <function recreate_function.<locals>.restored_function_body at 0x000002113D1B4E50> triggered tf.function retracing. Tracing is expensive and the excessive number of tracings could be due to (1) creating @tf.function repeatedly in a loop, (2) passing tensors with different shapes, (3) passing Python objects instead of tensors. For (1), please define your @tf.function outside of the loop. For (2), @tf.function has experimental_relax_shapes=True option that relaxes argument shapes that can avoid unnecessary retracing. For (3), please refer to https://www.tensorflow.org/tutorials/customization/performance#python_or_tensor_args and https://www.tensorflow.org/api_docs/python/tf/function for  more details.\n",
      " 72%|██████████████████████████████████████████████████████████▎                      | 77/107 [15:46<06:19, 12.65s/it]"
     ]
    },
    {
     "name": "stdout",
     "output_type": "stream",
     "text": [
      "WARNING:tensorflow:11 out of the last 11 calls to <function recreate_function.<locals>.restored_function_body at 0x000002113E034EE0> triggered tf.function retracing. Tracing is expensive and the excessive number of tracings could be due to (1) creating @tf.function repeatedly in a loop, (2) passing tensors with different shapes, (3) passing Python objects instead of tensors. For (1), please define your @tf.function outside of the loop. For (2), @tf.function has experimental_relax_shapes=True option that relaxes argument shapes that can avoid unnecessary retracing. For (3), please refer to https://www.tensorflow.org/tutorials/customization/performance#python_or_tensor_args and https://www.tensorflow.org/api_docs/python/tf/function for  more details.\n"
     ]
    },
    {
     "name": "stderr",
     "output_type": "stream",
     "text": [
      "WARNING:tensorflow:11 out of the last 11 calls to <function recreate_function.<locals>.restored_function_body at 0x000002113E034EE0> triggered tf.function retracing. Tracing is expensive and the excessive number of tracings could be due to (1) creating @tf.function repeatedly in a loop, (2) passing tensors with different shapes, (3) passing Python objects instead of tensors. For (1), please define your @tf.function outside of the loop. For (2), @tf.function has experimental_relax_shapes=True option that relaxes argument shapes that can avoid unnecessary retracing. For (3), please refer to https://www.tensorflow.org/tutorials/customization/performance#python_or_tensor_args and https://www.tensorflow.org/api_docs/python/tf/function for  more details.\n",
      " 73%|███████████████████████████████████████████████████████████                      | 78/107 [15:59<06:08, 12.70s/it]"
     ]
    },
    {
     "name": "stdout",
     "output_type": "stream",
     "text": [
      "WARNING:tensorflow:11 out of the last 11 calls to <function recreate_function.<locals>.restored_function_body at 0x0000021141854F70> triggered tf.function retracing. Tracing is expensive and the excessive number of tracings could be due to (1) creating @tf.function repeatedly in a loop, (2) passing tensors with different shapes, (3) passing Python objects instead of tensors. For (1), please define your @tf.function outside of the loop. For (2), @tf.function has experimental_relax_shapes=True option that relaxes argument shapes that can avoid unnecessary retracing. For (3), please refer to https://www.tensorflow.org/tutorials/customization/performance#python_or_tensor_args and https://www.tensorflow.org/api_docs/python/tf/function for  more details.\n"
     ]
    },
    {
     "name": "stderr",
     "output_type": "stream",
     "text": [
      "WARNING:tensorflow:11 out of the last 11 calls to <function recreate_function.<locals>.restored_function_body at 0x0000021141854F70> triggered tf.function retracing. Tracing is expensive and the excessive number of tracings could be due to (1) creating @tf.function repeatedly in a loop, (2) passing tensors with different shapes, (3) passing Python objects instead of tensors. For (1), please define your @tf.function outside of the loop. For (2), @tf.function has experimental_relax_shapes=True option that relaxes argument shapes that can avoid unnecessary retracing. For (3), please refer to https://www.tensorflow.org/tutorials/customization/performance#python_or_tensor_args and https://www.tensorflow.org/api_docs/python/tf/function for  more details.\n",
      " 74%|███████████████████████████████████████████████████████████▊                     | 79/107 [16:11<05:48, 12.46s/it]"
     ]
    },
    {
     "name": "stdout",
     "output_type": "stream",
     "text": [
      "WARNING:tensorflow:11 out of the last 11 calls to <function recreate_function.<locals>.restored_function_body at 0x000002113BE34040> triggered tf.function retracing. Tracing is expensive and the excessive number of tracings could be due to (1) creating @tf.function repeatedly in a loop, (2) passing tensors with different shapes, (3) passing Python objects instead of tensors. For (1), please define your @tf.function outside of the loop. For (2), @tf.function has experimental_relax_shapes=True option that relaxes argument shapes that can avoid unnecessary retracing. For (3), please refer to https://www.tensorflow.org/tutorials/customization/performance#python_or_tensor_args and https://www.tensorflow.org/api_docs/python/tf/function for  more details.\n"
     ]
    },
    {
     "name": "stderr",
     "output_type": "stream",
     "text": [
      "WARNING:tensorflow:11 out of the last 11 calls to <function recreate_function.<locals>.restored_function_body at 0x000002113BE34040> triggered tf.function retracing. Tracing is expensive and the excessive number of tracings could be due to (1) creating @tf.function repeatedly in a loop, (2) passing tensors with different shapes, (3) passing Python objects instead of tensors. For (1), please define your @tf.function outside of the loop. For (2), @tf.function has experimental_relax_shapes=True option that relaxes argument shapes that can avoid unnecessary retracing. For (3), please refer to https://www.tensorflow.org/tutorials/customization/performance#python_or_tensor_args and https://www.tensorflow.org/api_docs/python/tf/function for  more details.\n",
      " 75%|████████████████████████████████████████████████████████████▌                    | 80/107 [16:23<05:31, 12.28s/it]"
     ]
    },
    {
     "name": "stdout",
     "output_type": "stream",
     "text": [
      "WARNING:tensorflow:11 out of the last 11 calls to <function recreate_function.<locals>.restored_function_body at 0x000002113C7CD0D0> triggered tf.function retracing. Tracing is expensive and the excessive number of tracings could be due to (1) creating @tf.function repeatedly in a loop, (2) passing tensors with different shapes, (3) passing Python objects instead of tensors. For (1), please define your @tf.function outside of the loop. For (2), @tf.function has experimental_relax_shapes=True option that relaxes argument shapes that can avoid unnecessary retracing. For (3), please refer to https://www.tensorflow.org/tutorials/customization/performance#python_or_tensor_args and https://www.tensorflow.org/api_docs/python/tf/function for  more details.\n"
     ]
    },
    {
     "name": "stderr",
     "output_type": "stream",
     "text": [
      "WARNING:tensorflow:11 out of the last 11 calls to <function recreate_function.<locals>.restored_function_body at 0x000002113C7CD0D0> triggered tf.function retracing. Tracing is expensive and the excessive number of tracings could be due to (1) creating @tf.function repeatedly in a loop, (2) passing tensors with different shapes, (3) passing Python objects instead of tensors. For (1), please define your @tf.function outside of the loop. For (2), @tf.function has experimental_relax_shapes=True option that relaxes argument shapes that can avoid unnecessary retracing. For (3), please refer to https://www.tensorflow.org/tutorials/customization/performance#python_or_tensor_args and https://www.tensorflow.org/api_docs/python/tf/function for  more details.\n",
      " 76%|█████████████████████████████████████████████████████████████▎                   | 81/107 [16:35<05:16, 12.16s/it]"
     ]
    },
    {
     "name": "stdout",
     "output_type": "stream",
     "text": [
      "WARNING:tensorflow:11 out of the last 11 calls to <function recreate_function.<locals>.restored_function_body at 0x000002114175F160> triggered tf.function retracing. Tracing is expensive and the excessive number of tracings could be due to (1) creating @tf.function repeatedly in a loop, (2) passing tensors with different shapes, (3) passing Python objects instead of tensors. For (1), please define your @tf.function outside of the loop. For (2), @tf.function has experimental_relax_shapes=True option that relaxes argument shapes that can avoid unnecessary retracing. For (3), please refer to https://www.tensorflow.org/tutorials/customization/performance#python_or_tensor_args and https://www.tensorflow.org/api_docs/python/tf/function for  more details.\n"
     ]
    },
    {
     "name": "stderr",
     "output_type": "stream",
     "text": [
      "WARNING:tensorflow:11 out of the last 11 calls to <function recreate_function.<locals>.restored_function_body at 0x000002114175F160> triggered tf.function retracing. Tracing is expensive and the excessive number of tracings could be due to (1) creating @tf.function repeatedly in a loop, (2) passing tensors with different shapes, (3) passing Python objects instead of tensors. For (1), please define your @tf.function outside of the loop. For (2), @tf.function has experimental_relax_shapes=True option that relaxes argument shapes that can avoid unnecessary retracing. For (3), please refer to https://www.tensorflow.org/tutorials/customization/performance#python_or_tensor_args and https://www.tensorflow.org/api_docs/python/tf/function for  more details.\n",
      " 77%|██████████████████████████████████████████████████████████████                   | 82/107 [16:46<05:01, 12.05s/it]"
     ]
    },
    {
     "name": "stdout",
     "output_type": "stream",
     "text": [
      "WARNING:tensorflow:11 out of the last 11 calls to <function recreate_function.<locals>.restored_function_body at 0x000002113D3611F0> triggered tf.function retracing. Tracing is expensive and the excessive number of tracings could be due to (1) creating @tf.function repeatedly in a loop, (2) passing tensors with different shapes, (3) passing Python objects instead of tensors. For (1), please define your @tf.function outside of the loop. For (2), @tf.function has experimental_relax_shapes=True option that relaxes argument shapes that can avoid unnecessary retracing. For (3), please refer to https://www.tensorflow.org/tutorials/customization/performance#python_or_tensor_args and https://www.tensorflow.org/api_docs/python/tf/function for  more details.\n"
     ]
    },
    {
     "name": "stderr",
     "output_type": "stream",
     "text": [
      "WARNING:tensorflow:11 out of the last 11 calls to <function recreate_function.<locals>.restored_function_body at 0x000002113D3611F0> triggered tf.function retracing. Tracing is expensive and the excessive number of tracings could be due to (1) creating @tf.function repeatedly in a loop, (2) passing tensors with different shapes, (3) passing Python objects instead of tensors. For (1), please define your @tf.function outside of the loop. For (2), @tf.function has experimental_relax_shapes=True option that relaxes argument shapes that can avoid unnecessary retracing. For (3), please refer to https://www.tensorflow.org/tutorials/customization/performance#python_or_tensor_args and https://www.tensorflow.org/api_docs/python/tf/function for  more details.\n",
      " 78%|██████████████████████████████████████████████████████████████▊                  | 83/107 [16:59<04:51, 12.15s/it]"
     ]
    },
    {
     "name": "stdout",
     "output_type": "stream",
     "text": [
      "WARNING:tensorflow:11 out of the last 11 calls to <function recreate_function.<locals>.restored_function_body at 0x000002114444F280> triggered tf.function retracing. Tracing is expensive and the excessive number of tracings could be due to (1) creating @tf.function repeatedly in a loop, (2) passing tensors with different shapes, (3) passing Python objects instead of tensors. For (1), please define your @tf.function outside of the loop. For (2), @tf.function has experimental_relax_shapes=True option that relaxes argument shapes that can avoid unnecessary retracing. For (3), please refer to https://www.tensorflow.org/tutorials/customization/performance#python_or_tensor_args and https://www.tensorflow.org/api_docs/python/tf/function for  more details.\n"
     ]
    },
    {
     "name": "stderr",
     "output_type": "stream",
     "text": [
      "WARNING:tensorflow:11 out of the last 11 calls to <function recreate_function.<locals>.restored_function_body at 0x000002114444F280> triggered tf.function retracing. Tracing is expensive and the excessive number of tracings could be due to (1) creating @tf.function repeatedly in a loop, (2) passing tensors with different shapes, (3) passing Python objects instead of tensors. For (1), please define your @tf.function outside of the loop. For (2), @tf.function has experimental_relax_shapes=True option that relaxes argument shapes that can avoid unnecessary retracing. For (3), please refer to https://www.tensorflow.org/tutorials/customization/performance#python_or_tensor_args and https://www.tensorflow.org/api_docs/python/tf/function for  more details.\n",
      " 79%|███████████████████████████████████████████████████████████████▌                 | 84/107 [17:11<04:36, 12.02s/it]"
     ]
    },
    {
     "name": "stdout",
     "output_type": "stream",
     "text": [
      "WARNING:tensorflow:11 out of the last 11 calls to <function recreate_function.<locals>.restored_function_body at 0x00000211467B4310> triggered tf.function retracing. Tracing is expensive and the excessive number of tracings could be due to (1) creating @tf.function repeatedly in a loop, (2) passing tensors with different shapes, (3) passing Python objects instead of tensors. For (1), please define your @tf.function outside of the loop. For (2), @tf.function has experimental_relax_shapes=True option that relaxes argument shapes that can avoid unnecessary retracing. For (3), please refer to https://www.tensorflow.org/tutorials/customization/performance#python_or_tensor_args and https://www.tensorflow.org/api_docs/python/tf/function for  more details.\n"
     ]
    },
    {
     "name": "stderr",
     "output_type": "stream",
     "text": [
      "WARNING:tensorflow:11 out of the last 11 calls to <function recreate_function.<locals>.restored_function_body at 0x00000211467B4310> triggered tf.function retracing. Tracing is expensive and the excessive number of tracings could be due to (1) creating @tf.function repeatedly in a loop, (2) passing tensors with different shapes, (3) passing Python objects instead of tensors. For (1), please define your @tf.function outside of the loop. For (2), @tf.function has experimental_relax_shapes=True option that relaxes argument shapes that can avoid unnecessary retracing. For (3), please refer to https://www.tensorflow.org/tutorials/customization/performance#python_or_tensor_args and https://www.tensorflow.org/api_docs/python/tf/function for  more details.\n",
      " 79%|████████████████████████████████████████████████████████████████▎                | 85/107 [17:23<04:26, 12.10s/it]"
     ]
    },
    {
     "name": "stdout",
     "output_type": "stream",
     "text": [
      "WARNING:tensorflow:11 out of the last 11 calls to <function recreate_function.<locals>.restored_function_body at 0x000002113BE0A820> triggered tf.function retracing. Tracing is expensive and the excessive number of tracings could be due to (1) creating @tf.function repeatedly in a loop, (2) passing tensors with different shapes, (3) passing Python objects instead of tensors. For (1), please define your @tf.function outside of the loop. For (2), @tf.function has experimental_relax_shapes=True option that relaxes argument shapes that can avoid unnecessary retracing. For (3), please refer to https://www.tensorflow.org/tutorials/customization/performance#python_or_tensor_args and https://www.tensorflow.org/api_docs/python/tf/function for  more details.\n"
     ]
    },
    {
     "name": "stderr",
     "output_type": "stream",
     "text": [
      "WARNING:tensorflow:11 out of the last 11 calls to <function recreate_function.<locals>.restored_function_body at 0x000002113BE0A820> triggered tf.function retracing. Tracing is expensive and the excessive number of tracings could be due to (1) creating @tf.function repeatedly in a loop, (2) passing tensors with different shapes, (3) passing Python objects instead of tensors. For (1), please define your @tf.function outside of the loop. For (2), @tf.function has experimental_relax_shapes=True option that relaxes argument shapes that can avoid unnecessary retracing. For (3), please refer to https://www.tensorflow.org/tutorials/customization/performance#python_or_tensor_args and https://www.tensorflow.org/api_docs/python/tf/function for  more details.\n",
      " 80%|█████████████████████████████████████████████████████████████████                | 86/107 [17:36<04:21, 12.43s/it]"
     ]
    },
    {
     "name": "stdout",
     "output_type": "stream",
     "text": [
      "WARNING:tensorflow:11 out of the last 11 calls to <function recreate_function.<locals>.restored_function_body at 0x00000211414E88B0> triggered tf.function retracing. Tracing is expensive and the excessive number of tracings could be due to (1) creating @tf.function repeatedly in a loop, (2) passing tensors with different shapes, (3) passing Python objects instead of tensors. For (1), please define your @tf.function outside of the loop. For (2), @tf.function has experimental_relax_shapes=True option that relaxes argument shapes that can avoid unnecessary retracing. For (3), please refer to https://www.tensorflow.org/tutorials/customization/performance#python_or_tensor_args and https://www.tensorflow.org/api_docs/python/tf/function for  more details.\n"
     ]
    },
    {
     "name": "stderr",
     "output_type": "stream",
     "text": [
      "WARNING:tensorflow:11 out of the last 11 calls to <function recreate_function.<locals>.restored_function_body at 0x00000211414E88B0> triggered tf.function retracing. Tracing is expensive and the excessive number of tracings could be due to (1) creating @tf.function repeatedly in a loop, (2) passing tensors with different shapes, (3) passing Python objects instead of tensors. For (1), please define your @tf.function outside of the loop. For (2), @tf.function has experimental_relax_shapes=True option that relaxes argument shapes that can avoid unnecessary retracing. For (3), please refer to https://www.tensorflow.org/tutorials/customization/performance#python_or_tensor_args and https://www.tensorflow.org/api_docs/python/tf/function for  more details.\n",
      " 81%|█████████████████████████████████████████████████████████████████▊               | 87/107 [17:49<04:11, 12.58s/it]"
     ]
    },
    {
     "name": "stdout",
     "output_type": "stream",
     "text": [
      "WARNING:tensorflow:11 out of the last 11 calls to <function recreate_function.<locals>.restored_function_body at 0x000002113D0F9940> triggered tf.function retracing. Tracing is expensive and the excessive number of tracings could be due to (1) creating @tf.function repeatedly in a loop, (2) passing tensors with different shapes, (3) passing Python objects instead of tensors. For (1), please define your @tf.function outside of the loop. For (2), @tf.function has experimental_relax_shapes=True option that relaxes argument shapes that can avoid unnecessary retracing. For (3), please refer to https://www.tensorflow.org/tutorials/customization/performance#python_or_tensor_args and https://www.tensorflow.org/api_docs/python/tf/function for  more details.\n"
     ]
    },
    {
     "name": "stderr",
     "output_type": "stream",
     "text": [
      "WARNING:tensorflow:11 out of the last 11 calls to <function recreate_function.<locals>.restored_function_body at 0x000002113D0F9940> triggered tf.function retracing. Tracing is expensive and the excessive number of tracings could be due to (1) creating @tf.function repeatedly in a loop, (2) passing tensors with different shapes, (3) passing Python objects instead of tensors. For (1), please define your @tf.function outside of the loop. For (2), @tf.function has experimental_relax_shapes=True option that relaxes argument shapes that can avoid unnecessary retracing. For (3), please refer to https://www.tensorflow.org/tutorials/customization/performance#python_or_tensor_args and https://www.tensorflow.org/api_docs/python/tf/function for  more details.\n",
      " 82%|██████████████████████████████████████████████████████████████████▌              | 88/107 [18:01<03:56, 12.46s/it]"
     ]
    },
    {
     "name": "stdout",
     "output_type": "stream",
     "text": [
      "WARNING:tensorflow:11 out of the last 11 calls to <function recreate_function.<locals>.restored_function_body at 0x000002113FADD9D0> triggered tf.function retracing. Tracing is expensive and the excessive number of tracings could be due to (1) creating @tf.function repeatedly in a loop, (2) passing tensors with different shapes, (3) passing Python objects instead of tensors. For (1), please define your @tf.function outside of the loop. For (2), @tf.function has experimental_relax_shapes=True option that relaxes argument shapes that can avoid unnecessary retracing. For (3), please refer to https://www.tensorflow.org/tutorials/customization/performance#python_or_tensor_args and https://www.tensorflow.org/api_docs/python/tf/function for  more details.\n"
     ]
    },
    {
     "name": "stderr",
     "output_type": "stream",
     "text": [
      "WARNING:tensorflow:11 out of the last 11 calls to <function recreate_function.<locals>.restored_function_body at 0x000002113FADD9D0> triggered tf.function retracing. Tracing is expensive and the excessive number of tracings could be due to (1) creating @tf.function repeatedly in a loop, (2) passing tensors with different shapes, (3) passing Python objects instead of tensors. For (1), please define your @tf.function outside of the loop. For (2), @tf.function has experimental_relax_shapes=True option that relaxes argument shapes that can avoid unnecessary retracing. For (3), please refer to https://www.tensorflow.org/tutorials/customization/performance#python_or_tensor_args and https://www.tensorflow.org/api_docs/python/tf/function for  more details.\n",
      " 83%|███████████████████████████████████████████████████████████████████▎             | 89/107 [18:13<03:41, 12.30s/it]"
     ]
    },
    {
     "name": "stdout",
     "output_type": "stream",
     "text": [
      "WARNING:tensorflow:11 out of the last 11 calls to <function recreate_function.<locals>.restored_function_body at 0x000002113CA60A60> triggered tf.function retracing. Tracing is expensive and the excessive number of tracings could be due to (1) creating @tf.function repeatedly in a loop, (2) passing tensors with different shapes, (3) passing Python objects instead of tensors. For (1), please define your @tf.function outside of the loop. For (2), @tf.function has experimental_relax_shapes=True option that relaxes argument shapes that can avoid unnecessary retracing. For (3), please refer to https://www.tensorflow.org/tutorials/customization/performance#python_or_tensor_args and https://www.tensorflow.org/api_docs/python/tf/function for  more details.\n"
     ]
    },
    {
     "name": "stderr",
     "output_type": "stream",
     "text": [
      "WARNING:tensorflow:11 out of the last 11 calls to <function recreate_function.<locals>.restored_function_body at 0x000002113CA60A60> triggered tf.function retracing. Tracing is expensive and the excessive number of tracings could be due to (1) creating @tf.function repeatedly in a loop, (2) passing tensors with different shapes, (3) passing Python objects instead of tensors. For (1), please define your @tf.function outside of the loop. For (2), @tf.function has experimental_relax_shapes=True option that relaxes argument shapes that can avoid unnecessary retracing. For (3), please refer to https://www.tensorflow.org/tutorials/customization/performance#python_or_tensor_args and https://www.tensorflow.org/api_docs/python/tf/function for  more details.\n",
      " 84%|████████████████████████████████████████████████████████████████████▏            | 90/107 [18:26<03:31, 12.42s/it]"
     ]
    },
    {
     "name": "stdout",
     "output_type": "stream",
     "text": [
      "WARNING:tensorflow:11 out of the last 11 calls to <function recreate_function.<locals>.restored_function_body at 0x0000021141728AF0> triggered tf.function retracing. Tracing is expensive and the excessive number of tracings could be due to (1) creating @tf.function repeatedly in a loop, (2) passing tensors with different shapes, (3) passing Python objects instead of tensors. For (1), please define your @tf.function outside of the loop. For (2), @tf.function has experimental_relax_shapes=True option that relaxes argument shapes that can avoid unnecessary retracing. For (3), please refer to https://www.tensorflow.org/tutorials/customization/performance#python_or_tensor_args and https://www.tensorflow.org/api_docs/python/tf/function for  more details.\n"
     ]
    },
    {
     "name": "stderr",
     "output_type": "stream",
     "text": [
      "WARNING:tensorflow:11 out of the last 11 calls to <function recreate_function.<locals>.restored_function_body at 0x0000021141728AF0> triggered tf.function retracing. Tracing is expensive and the excessive number of tracings could be due to (1) creating @tf.function repeatedly in a loop, (2) passing tensors with different shapes, (3) passing Python objects instead of tensors. For (1), please define your @tf.function outside of the loop. For (2), @tf.function has experimental_relax_shapes=True option that relaxes argument shapes that can avoid unnecessary retracing. For (3), please refer to https://www.tensorflow.org/tutorials/customization/performance#python_or_tensor_args and https://www.tensorflow.org/api_docs/python/tf/function for  more details.\n",
      " 85%|████████████████████████████████████████████████████████████████████▉            | 91/107 [18:38<03:16, 12.29s/it]"
     ]
    },
    {
     "name": "stdout",
     "output_type": "stream",
     "text": [
      "WARNING:tensorflow:11 out of the last 11 calls to <function recreate_function.<locals>.restored_function_body at 0x00000211419E9B80> triggered tf.function retracing. Tracing is expensive and the excessive number of tracings could be due to (1) creating @tf.function repeatedly in a loop, (2) passing tensors with different shapes, (3) passing Python objects instead of tensors. For (1), please define your @tf.function outside of the loop. For (2), @tf.function has experimental_relax_shapes=True option that relaxes argument shapes that can avoid unnecessary retracing. For (3), please refer to https://www.tensorflow.org/tutorials/customization/performance#python_or_tensor_args and https://www.tensorflow.org/api_docs/python/tf/function for  more details.\n"
     ]
    },
    {
     "name": "stderr",
     "output_type": "stream",
     "text": [
      "WARNING:tensorflow:11 out of the last 11 calls to <function recreate_function.<locals>.restored_function_body at 0x00000211419E9B80> triggered tf.function retracing. Tracing is expensive and the excessive number of tracings could be due to (1) creating @tf.function repeatedly in a loop, (2) passing tensors with different shapes, (3) passing Python objects instead of tensors. For (1), please define your @tf.function outside of the loop. For (2), @tf.function has experimental_relax_shapes=True option that relaxes argument shapes that can avoid unnecessary retracing. For (3), please refer to https://www.tensorflow.org/tutorials/customization/performance#python_or_tensor_args and https://www.tensorflow.org/api_docs/python/tf/function for  more details.\n",
      " 86%|█████████████████████████████████████████████████████████████████████▋           | 92/107 [18:50<03:03, 12.22s/it]"
     ]
    },
    {
     "name": "stdout",
     "output_type": "stream",
     "text": [
      "WARNING:tensorflow:11 out of the last 11 calls to <function recreate_function.<locals>.restored_function_body at 0x0000021141714C10> triggered tf.function retracing. Tracing is expensive and the excessive number of tracings could be due to (1) creating @tf.function repeatedly in a loop, (2) passing tensors with different shapes, (3) passing Python objects instead of tensors. For (1), please define your @tf.function outside of the loop. For (2), @tf.function has experimental_relax_shapes=True option that relaxes argument shapes that can avoid unnecessary retracing. For (3), please refer to https://www.tensorflow.org/tutorials/customization/performance#python_or_tensor_args and https://www.tensorflow.org/api_docs/python/tf/function for  more details.\n"
     ]
    },
    {
     "name": "stderr",
     "output_type": "stream",
     "text": [
      "WARNING:tensorflow:11 out of the last 11 calls to <function recreate_function.<locals>.restored_function_body at 0x0000021141714C10> triggered tf.function retracing. Tracing is expensive and the excessive number of tracings could be due to (1) creating @tf.function repeatedly in a loop, (2) passing tensors with different shapes, (3) passing Python objects instead of tensors. For (1), please define your @tf.function outside of the loop. For (2), @tf.function has experimental_relax_shapes=True option that relaxes argument shapes that can avoid unnecessary retracing. For (3), please refer to https://www.tensorflow.org/tutorials/customization/performance#python_or_tensor_args and https://www.tensorflow.org/api_docs/python/tf/function for  more details.\n",
      " 87%|██████████████████████████████████████████████████████████████████████▍          | 93/107 [19:02<02:50, 12.17s/it]"
     ]
    },
    {
     "name": "stdout",
     "output_type": "stream",
     "text": [
      "WARNING:tensorflow:11 out of the last 11 calls to <function recreate_function.<locals>.restored_function_body at 0x000002113D0F4CA0> triggered tf.function retracing. Tracing is expensive and the excessive number of tracings could be due to (1) creating @tf.function repeatedly in a loop, (2) passing tensors with different shapes, (3) passing Python objects instead of tensors. For (1), please define your @tf.function outside of the loop. For (2), @tf.function has experimental_relax_shapes=True option that relaxes argument shapes that can avoid unnecessary retracing. For (3), please refer to https://www.tensorflow.org/tutorials/customization/performance#python_or_tensor_args and https://www.tensorflow.org/api_docs/python/tf/function for  more details.\n"
     ]
    },
    {
     "name": "stderr",
     "output_type": "stream",
     "text": [
      "WARNING:tensorflow:11 out of the last 11 calls to <function recreate_function.<locals>.restored_function_body at 0x000002113D0F4CA0> triggered tf.function retracing. Tracing is expensive and the excessive number of tracings could be due to (1) creating @tf.function repeatedly in a loop, (2) passing tensors with different shapes, (3) passing Python objects instead of tensors. For (1), please define your @tf.function outside of the loop. For (2), @tf.function has experimental_relax_shapes=True option that relaxes argument shapes that can avoid unnecessary retracing. For (3), please refer to https://www.tensorflow.org/tutorials/customization/performance#python_or_tensor_args and https://www.tensorflow.org/api_docs/python/tf/function for  more details.\n",
      " 88%|███████████████████████████████████████████████████████████████████████▏         | 94/107 [19:14<02:39, 12.27s/it]"
     ]
    },
    {
     "name": "stdout",
     "output_type": "stream",
     "text": [
      "WARNING:tensorflow:11 out of the last 11 calls to <function recreate_function.<locals>.restored_function_body at 0x000002113D1B6D30> triggered tf.function retracing. Tracing is expensive and the excessive number of tracings could be due to (1) creating @tf.function repeatedly in a loop, (2) passing tensors with different shapes, (3) passing Python objects instead of tensors. For (1), please define your @tf.function outside of the loop. For (2), @tf.function has experimental_relax_shapes=True option that relaxes argument shapes that can avoid unnecessary retracing. For (3), please refer to https://www.tensorflow.org/tutorials/customization/performance#python_or_tensor_args and https://www.tensorflow.org/api_docs/python/tf/function for  more details.\n"
     ]
    },
    {
     "name": "stderr",
     "output_type": "stream",
     "text": [
      "WARNING:tensorflow:11 out of the last 11 calls to <function recreate_function.<locals>.restored_function_body at 0x000002113D1B6D30> triggered tf.function retracing. Tracing is expensive and the excessive number of tracings could be due to (1) creating @tf.function repeatedly in a loop, (2) passing tensors with different shapes, (3) passing Python objects instead of tensors. For (1), please define your @tf.function outside of the loop. For (2), @tf.function has experimental_relax_shapes=True option that relaxes argument shapes that can avoid unnecessary retracing. For (3), please refer to https://www.tensorflow.org/tutorials/customization/performance#python_or_tensor_args and https://www.tensorflow.org/api_docs/python/tf/function for  more details.\n",
      " 89%|███████████████████████████████████████████████████████████████████████▉         | 95/107 [19:27<02:28, 12.40s/it]"
     ]
    },
    {
     "name": "stdout",
     "output_type": "stream",
     "text": [
      "WARNING:tensorflow:11 out of the last 11 calls to <function recreate_function.<locals>.restored_function_body at 0x000002113D8B6DC0> triggered tf.function retracing. Tracing is expensive and the excessive number of tracings could be due to (1) creating @tf.function repeatedly in a loop, (2) passing tensors with different shapes, (3) passing Python objects instead of tensors. For (1), please define your @tf.function outside of the loop. For (2), @tf.function has experimental_relax_shapes=True option that relaxes argument shapes that can avoid unnecessary retracing. For (3), please refer to https://www.tensorflow.org/tutorials/customization/performance#python_or_tensor_args and https://www.tensorflow.org/api_docs/python/tf/function for  more details.\n"
     ]
    },
    {
     "name": "stderr",
     "output_type": "stream",
     "text": [
      "WARNING:tensorflow:11 out of the last 11 calls to <function recreate_function.<locals>.restored_function_body at 0x000002113D8B6DC0> triggered tf.function retracing. Tracing is expensive and the excessive number of tracings could be due to (1) creating @tf.function repeatedly in a loop, (2) passing tensors with different shapes, (3) passing Python objects instead of tensors. For (1), please define your @tf.function outside of the loop. For (2), @tf.function has experimental_relax_shapes=True option that relaxes argument shapes that can avoid unnecessary retracing. For (3), please refer to https://www.tensorflow.org/tutorials/customization/performance#python_or_tensor_args and https://www.tensorflow.org/api_docs/python/tf/function for  more details.\n",
      " 90%|████████████████████████████████████████████████████████████████████████▋        | 96/107 [19:39<02:15, 12.34s/it]"
     ]
    },
    {
     "name": "stdout",
     "output_type": "stream",
     "text": [
      "WARNING:tensorflow:11 out of the last 11 calls to <function recreate_function.<locals>.restored_function_body at 0x000002113D536E50> triggered tf.function retracing. Tracing is expensive and the excessive number of tracings could be due to (1) creating @tf.function repeatedly in a loop, (2) passing tensors with different shapes, (3) passing Python objects instead of tensors. For (1), please define your @tf.function outside of the loop. For (2), @tf.function has experimental_relax_shapes=True option that relaxes argument shapes that can avoid unnecessary retracing. For (3), please refer to https://www.tensorflow.org/tutorials/customization/performance#python_or_tensor_args and https://www.tensorflow.org/api_docs/python/tf/function for  more details.\n"
     ]
    },
    {
     "name": "stderr",
     "output_type": "stream",
     "text": [
      "WARNING:tensorflow:11 out of the last 11 calls to <function recreate_function.<locals>.restored_function_body at 0x000002113D536E50> triggered tf.function retracing. Tracing is expensive and the excessive number of tracings could be due to (1) creating @tf.function repeatedly in a loop, (2) passing tensors with different shapes, (3) passing Python objects instead of tensors. For (1), please define your @tf.function outside of the loop. For (2), @tf.function has experimental_relax_shapes=True option that relaxes argument shapes that can avoid unnecessary retracing. For (3), please refer to https://www.tensorflow.org/tutorials/customization/performance#python_or_tensor_args and https://www.tensorflow.org/api_docs/python/tf/function for  more details.\n",
      " 91%|█████████████████████████████████████████████████████████████████████████▍       | 97/107 [19:52<02:05, 12.51s/it]"
     ]
    },
    {
     "name": "stdout",
     "output_type": "stream",
     "text": [
      "WARNING:tensorflow:11 out of the last 11 calls to <function recreate_function.<locals>.restored_function_body at 0x000002113D402EE0> triggered tf.function retracing. Tracing is expensive and the excessive number of tracings could be due to (1) creating @tf.function repeatedly in a loop, (2) passing tensors with different shapes, (3) passing Python objects instead of tensors. For (1), please define your @tf.function outside of the loop. For (2), @tf.function has experimental_relax_shapes=True option that relaxes argument shapes that can avoid unnecessary retracing. For (3), please refer to https://www.tensorflow.org/tutorials/customization/performance#python_or_tensor_args and https://www.tensorflow.org/api_docs/python/tf/function for  more details.\n"
     ]
    },
    {
     "name": "stderr",
     "output_type": "stream",
     "text": [
      "WARNING:tensorflow:11 out of the last 11 calls to <function recreate_function.<locals>.restored_function_body at 0x000002113D402EE0> triggered tf.function retracing. Tracing is expensive and the excessive number of tracings could be due to (1) creating @tf.function repeatedly in a loop, (2) passing tensors with different shapes, (3) passing Python objects instead of tensors. For (1), please define your @tf.function outside of the loop. For (2), @tf.function has experimental_relax_shapes=True option that relaxes argument shapes that can avoid unnecessary retracing. For (3), please refer to https://www.tensorflow.org/tutorials/customization/performance#python_or_tensor_args and https://www.tensorflow.org/api_docs/python/tf/function for  more details.\n",
      " 92%|██████████████████████████████████████████████████████████████████████████▏      | 98/107 [20:05<01:52, 12.48s/it]"
     ]
    },
    {
     "name": "stdout",
     "output_type": "stream",
     "text": [
      "WARNING:tensorflow:11 out of the last 11 calls to <function recreate_function.<locals>.restored_function_body at 0x00000211410D6F70> triggered tf.function retracing. Tracing is expensive and the excessive number of tracings could be due to (1) creating @tf.function repeatedly in a loop, (2) passing tensors with different shapes, (3) passing Python objects instead of tensors. For (1), please define your @tf.function outside of the loop. For (2), @tf.function has experimental_relax_shapes=True option that relaxes argument shapes that can avoid unnecessary retracing. For (3), please refer to https://www.tensorflow.org/tutorials/customization/performance#python_or_tensor_args and https://www.tensorflow.org/api_docs/python/tf/function for  more details.\n"
     ]
    },
    {
     "name": "stderr",
     "output_type": "stream",
     "text": [
      "WARNING:tensorflow:11 out of the last 11 calls to <function recreate_function.<locals>.restored_function_body at 0x00000211410D6F70> triggered tf.function retracing. Tracing is expensive and the excessive number of tracings could be due to (1) creating @tf.function repeatedly in a loop, (2) passing tensors with different shapes, (3) passing Python objects instead of tensors. For (1), please define your @tf.function outside of the loop. For (2), @tf.function has experimental_relax_shapes=True option that relaxes argument shapes that can avoid unnecessary retracing. For (3), please refer to https://www.tensorflow.org/tutorials/customization/performance#python_or_tensor_args and https://www.tensorflow.org/api_docs/python/tf/function for  more details.\n",
      " 93%|██████████████████████████████████████████████████████████████████████████▉      | 99/107 [20:17<01:39, 12.48s/it]"
     ]
    },
    {
     "name": "stdout",
     "output_type": "stream",
     "text": [
      "WARNING:tensorflow:11 out of the last 11 calls to <function recreate_function.<locals>.restored_function_body at 0x0000021141974040> triggered tf.function retracing. Tracing is expensive and the excessive number of tracings could be due to (1) creating @tf.function repeatedly in a loop, (2) passing tensors with different shapes, (3) passing Python objects instead of tensors. For (1), please define your @tf.function outside of the loop. For (2), @tf.function has experimental_relax_shapes=True option that relaxes argument shapes that can avoid unnecessary retracing. For (3), please refer to https://www.tensorflow.org/tutorials/customization/performance#python_or_tensor_args and https://www.tensorflow.org/api_docs/python/tf/function for  more details.\n"
     ]
    },
    {
     "name": "stderr",
     "output_type": "stream",
     "text": [
      "WARNING:tensorflow:11 out of the last 11 calls to <function recreate_function.<locals>.restored_function_body at 0x0000021141974040> triggered tf.function retracing. Tracing is expensive and the excessive number of tracings could be due to (1) creating @tf.function repeatedly in a loop, (2) passing tensors with different shapes, (3) passing Python objects instead of tensors. For (1), please define your @tf.function outside of the loop. For (2), @tf.function has experimental_relax_shapes=True option that relaxes argument shapes that can avoid unnecessary retracing. For (3), please refer to https://www.tensorflow.org/tutorials/customization/performance#python_or_tensor_args and https://www.tensorflow.org/api_docs/python/tf/function for  more details.\n",
      " 93%|██████████████████████████████████████████████████████████████████████████▊     | 100/107 [20:29<01:25, 12.27s/it]"
     ]
    },
    {
     "name": "stdout",
     "output_type": "stream",
     "text": [
      "WARNING:tensorflow:11 out of the last 11 calls to <function recreate_function.<locals>.restored_function_body at 0x000002113BD9C0D0> triggered tf.function retracing. Tracing is expensive and the excessive number of tracings could be due to (1) creating @tf.function repeatedly in a loop, (2) passing tensors with different shapes, (3) passing Python objects instead of tensors. For (1), please define your @tf.function outside of the loop. For (2), @tf.function has experimental_relax_shapes=True option that relaxes argument shapes that can avoid unnecessary retracing. For (3), please refer to https://www.tensorflow.org/tutorials/customization/performance#python_or_tensor_args and https://www.tensorflow.org/api_docs/python/tf/function for  more details.\n"
     ]
    },
    {
     "name": "stderr",
     "output_type": "stream",
     "text": [
      "WARNING:tensorflow:11 out of the last 11 calls to <function recreate_function.<locals>.restored_function_body at 0x000002113BD9C0D0> triggered tf.function retracing. Tracing is expensive and the excessive number of tracings could be due to (1) creating @tf.function repeatedly in a loop, (2) passing tensors with different shapes, (3) passing Python objects instead of tensors. For (1), please define your @tf.function outside of the loop. For (2), @tf.function has experimental_relax_shapes=True option that relaxes argument shapes that can avoid unnecessary retracing. For (3), please refer to https://www.tensorflow.org/tutorials/customization/performance#python_or_tensor_args and https://www.tensorflow.org/api_docs/python/tf/function for  more details.\n",
      " 94%|███████████████████████████████████████████████████████████████████████████▌    | 101/107 [20:41<01:13, 12.32s/it]"
     ]
    },
    {
     "name": "stdout",
     "output_type": "stream",
     "text": [
      "WARNING:tensorflow:11 out of the last 11 calls to <function recreate_function.<locals>.restored_function_body at 0x0000021141A82160> triggered tf.function retracing. Tracing is expensive and the excessive number of tracings could be due to (1) creating @tf.function repeatedly in a loop, (2) passing tensors with different shapes, (3) passing Python objects instead of tensors. For (1), please define your @tf.function outside of the loop. For (2), @tf.function has experimental_relax_shapes=True option that relaxes argument shapes that can avoid unnecessary retracing. For (3), please refer to https://www.tensorflow.org/tutorials/customization/performance#python_or_tensor_args and https://www.tensorflow.org/api_docs/python/tf/function for  more details.\n"
     ]
    },
    {
     "name": "stderr",
     "output_type": "stream",
     "text": [
      "WARNING:tensorflow:11 out of the last 11 calls to <function recreate_function.<locals>.restored_function_body at 0x0000021141A82160> triggered tf.function retracing. Tracing is expensive and the excessive number of tracings could be due to (1) creating @tf.function repeatedly in a loop, (2) passing tensors with different shapes, (3) passing Python objects instead of tensors. For (1), please define your @tf.function outside of the loop. For (2), @tf.function has experimental_relax_shapes=True option that relaxes argument shapes that can avoid unnecessary retracing. For (3), please refer to https://www.tensorflow.org/tutorials/customization/performance#python_or_tensor_args and https://www.tensorflow.org/api_docs/python/tf/function for  more details.\n",
      " 95%|████████████████████████████████████████████████████████████████████████████▎   | 102/107 [20:53<01:00, 12.19s/it]"
     ]
    },
    {
     "name": "stdout",
     "output_type": "stream",
     "text": [
      "WARNING:tensorflow:11 out of the last 11 calls to <function recreate_function.<locals>.restored_function_body at 0x0000021141AA51F0> triggered tf.function retracing. Tracing is expensive and the excessive number of tracings could be due to (1) creating @tf.function repeatedly in a loop, (2) passing tensors with different shapes, (3) passing Python objects instead of tensors. For (1), please define your @tf.function outside of the loop. For (2), @tf.function has experimental_relax_shapes=True option that relaxes argument shapes that can avoid unnecessary retracing. For (3), please refer to https://www.tensorflow.org/tutorials/customization/performance#python_or_tensor_args and https://www.tensorflow.org/api_docs/python/tf/function for  more details.\n"
     ]
    },
    {
     "name": "stderr",
     "output_type": "stream",
     "text": [
      "WARNING:tensorflow:11 out of the last 11 calls to <function recreate_function.<locals>.restored_function_body at 0x0000021141AA51F0> triggered tf.function retracing. Tracing is expensive and the excessive number of tracings could be due to (1) creating @tf.function repeatedly in a loop, (2) passing tensors with different shapes, (3) passing Python objects instead of tensors. For (1), please define your @tf.function outside of the loop. For (2), @tf.function has experimental_relax_shapes=True option that relaxes argument shapes that can avoid unnecessary retracing. For (3), please refer to https://www.tensorflow.org/tutorials/customization/performance#python_or_tensor_args and https://www.tensorflow.org/api_docs/python/tf/function for  more details.\n",
      " 96%|█████████████████████████████████████████████████████████████████████████████   | 103/107 [21:05<00:48, 12.19s/it]"
     ]
    },
    {
     "name": "stdout",
     "output_type": "stream",
     "text": [
      "WARNING:tensorflow:11 out of the last 11 calls to <function recreate_function.<locals>.restored_function_body at 0x000002113C557280> triggered tf.function retracing. Tracing is expensive and the excessive number of tracings could be due to (1) creating @tf.function repeatedly in a loop, (2) passing tensors with different shapes, (3) passing Python objects instead of tensors. For (1), please define your @tf.function outside of the loop. For (2), @tf.function has experimental_relax_shapes=True option that relaxes argument shapes that can avoid unnecessary retracing. For (3), please refer to https://www.tensorflow.org/tutorials/customization/performance#python_or_tensor_args and https://www.tensorflow.org/api_docs/python/tf/function for  more details.\n"
     ]
    },
    {
     "name": "stderr",
     "output_type": "stream",
     "text": [
      "WARNING:tensorflow:11 out of the last 11 calls to <function recreate_function.<locals>.restored_function_body at 0x000002113C557280> triggered tf.function retracing. Tracing is expensive and the excessive number of tracings could be due to (1) creating @tf.function repeatedly in a loop, (2) passing tensors with different shapes, (3) passing Python objects instead of tensors. For (1), please define your @tf.function outside of the loop. For (2), @tf.function has experimental_relax_shapes=True option that relaxes argument shapes that can avoid unnecessary retracing. For (3), please refer to https://www.tensorflow.org/tutorials/customization/performance#python_or_tensor_args and https://www.tensorflow.org/api_docs/python/tf/function for  more details.\n",
      " 97%|█████████████████████████████████████████████████████████████████████████████▊  | 104/107 [21:18<00:36, 12.24s/it]"
     ]
    },
    {
     "name": "stdout",
     "output_type": "stream",
     "text": [
      "WARNING:tensorflow:11 out of the last 11 calls to <function recreate_function.<locals>.restored_function_body at 0x000002113DFF6310> triggered tf.function retracing. Tracing is expensive and the excessive number of tracings could be due to (1) creating @tf.function repeatedly in a loop, (2) passing tensors with different shapes, (3) passing Python objects instead of tensors. For (1), please define your @tf.function outside of the loop. For (2), @tf.function has experimental_relax_shapes=True option that relaxes argument shapes that can avoid unnecessary retracing. For (3), please refer to https://www.tensorflow.org/tutorials/customization/performance#python_or_tensor_args and https://www.tensorflow.org/api_docs/python/tf/function for  more details.\n"
     ]
    },
    {
     "name": "stderr",
     "output_type": "stream",
     "text": [
      "WARNING:tensorflow:11 out of the last 11 calls to <function recreate_function.<locals>.restored_function_body at 0x000002113DFF6310> triggered tf.function retracing. Tracing is expensive and the excessive number of tracings could be due to (1) creating @tf.function repeatedly in a loop, (2) passing tensors with different shapes, (3) passing Python objects instead of tensors. For (1), please define your @tf.function outside of the loop. For (2), @tf.function has experimental_relax_shapes=True option that relaxes argument shapes that can avoid unnecessary retracing. For (3), please refer to https://www.tensorflow.org/tutorials/customization/performance#python_or_tensor_args and https://www.tensorflow.org/api_docs/python/tf/function for  more details.\n",
      " 98%|██████████████████████████████████████████████████████████████████████████████▌ | 105/107 [21:30<00:24, 12.20s/it]"
     ]
    },
    {
     "name": "stdout",
     "output_type": "stream",
     "text": [
      "WARNING:tensorflow:11 out of the last 11 calls to <function recreate_function.<locals>.restored_function_body at 0x00000211445F0820> triggered tf.function retracing. Tracing is expensive and the excessive number of tracings could be due to (1) creating @tf.function repeatedly in a loop, (2) passing tensors with different shapes, (3) passing Python objects instead of tensors. For (1), please define your @tf.function outside of the loop. For (2), @tf.function has experimental_relax_shapes=True option that relaxes argument shapes that can avoid unnecessary retracing. For (3), please refer to https://www.tensorflow.org/tutorials/customization/performance#python_or_tensor_args and https://www.tensorflow.org/api_docs/python/tf/function for  more details.\n"
     ]
    },
    {
     "name": "stderr",
     "output_type": "stream",
     "text": [
      "WARNING:tensorflow:11 out of the last 11 calls to <function recreate_function.<locals>.restored_function_body at 0x00000211445F0820> triggered tf.function retracing. Tracing is expensive and the excessive number of tracings could be due to (1) creating @tf.function repeatedly in a loop, (2) passing tensors with different shapes, (3) passing Python objects instead of tensors. For (1), please define your @tf.function outside of the loop. For (2), @tf.function has experimental_relax_shapes=True option that relaxes argument shapes that can avoid unnecessary retracing. For (3), please refer to https://www.tensorflow.org/tutorials/customization/performance#python_or_tensor_args and https://www.tensorflow.org/api_docs/python/tf/function for  more details.\n",
      " 99%|███████████████████████████████████████████████████████████████████████████████▎| 106/107 [21:42<00:12, 12.13s/it]"
     ]
    },
    {
     "name": "stdout",
     "output_type": "stream",
     "text": [
      "WARNING:tensorflow:11 out of the last 11 calls to <function recreate_function.<locals>.restored_function_body at 0x00000211419E88B0> triggered tf.function retracing. Tracing is expensive and the excessive number of tracings could be due to (1) creating @tf.function repeatedly in a loop, (2) passing tensors with different shapes, (3) passing Python objects instead of tensors. For (1), please define your @tf.function outside of the loop. For (2), @tf.function has experimental_relax_shapes=True option that relaxes argument shapes that can avoid unnecessary retracing. For (3), please refer to https://www.tensorflow.org/tutorials/customization/performance#python_or_tensor_args and https://www.tensorflow.org/api_docs/python/tf/function for  more details.\n"
     ]
    },
    {
     "name": "stderr",
     "output_type": "stream",
     "text": [
      "WARNING:tensorflow:11 out of the last 11 calls to <function recreate_function.<locals>.restored_function_body at 0x00000211419E88B0> triggered tf.function retracing. Tracing is expensive and the excessive number of tracings could be due to (1) creating @tf.function repeatedly in a loop, (2) passing tensors with different shapes, (3) passing Python objects instead of tensors. For (1), please define your @tf.function outside of the loop. For (2), @tf.function has experimental_relax_shapes=True option that relaxes argument shapes that can avoid unnecessary retracing. For (3), please refer to https://www.tensorflow.org/tutorials/customization/performance#python_or_tensor_args and https://www.tensorflow.org/api_docs/python/tf/function for  more details.\n",
      "100%|████████████████████████████████████████████████████████████████████████████████| 107/107 [21:55<00:00, 12.29s/it]\n"
     ]
    }
   ],
   "source": [
    "image_paths= glob.glob('D:\\\\Documents\\\\Semester3\\\\ADM\\\\A3\\\\Images\\\\*.jpg')\n",
    "vectorfiles = glob.glob('D:\\\\Documents\\\\Semester3\\\\ADM\\\\A3\\\\Images\\\\ImagesScraped\\\\*.npz')\n",
    "# compute styles\n",
    "image_style_embeddings = {}\n",
    "\n",
    "for image_path in tqdm(image_paths): \n",
    "    image_tensor = load_img(image_path)\n",
    "    vector = get_features(image_tensor, image_path)\n",
    "    image_style_embeddings[ntpath.basename(image_path)] = vector\n",
    "    "
   ]
  },
  {
   "cell_type": "code",
   "execution_count": 193,
   "metadata": {},
   "outputs": [],
   "source": [
    "def cluster():\n",
    "    print(\"-------Annoy Index Generation----------------\")\n",
    "    # Defining data structures as empty dict\n",
    "    file_index_to_file_name = {}\n",
    "    file_index_to_file_vector = {}\n",
    "    file_index_to_product_id = {}\n",
    "    # Configuring annoy parameters\n",
    "    dims = 1792\n",
    "    n_nearest_neighbors = 20\n",
    "    trees = 10000\n",
    "    # Reads all file names which stores feature vectors\n",
    "    allfiles = glob.glob('D:\\\\Documents\\\\Semester3\\\\ADM\\\\A3\\\\Images\\\\ImagesScraped\\\\*.npz')\n",
    "\n",
    "    t = AnnoyIndex(dims, metric='angular')\n",
    "    \n",
    "    for file_index, i in enumerate(allfiles):\n",
    "    # Reads feature vectors and assigns them into the file_vector \n",
    "        file_vector = np.loadtxt(i)\n",
    "\n",
    "        # Assigns file_name, feature_vectors and corresponding product_id\n",
    "        file_name = os.path.basename(i).split('.')[0]\n",
    "        file_index_to_file_name[file_index] = file_name\n",
    "        file_index_to_file_vector[file_index] = file_vector\n",
    "        file_index_to_product_id[file_index] = match_id(file_name)\n",
    "\n",
    "        # Adds image feature vectors into annoy index   \n",
    "        t.add_item(file_index, file_vector)\n",
    "\n",
    "        print(\"---------------------------------\")\n",
    "        print(\"Annoy index     : %s\" %file_index)\n",
    "        print(\"Image file name : %s\" %file_name)\n",
    "        print(\"Product id      : %s\" %file_index_to_product_id[file_index])\n",
    "        #print(\"--- %.2f minutes passed ---------\" % ((time.time() - start_time)/60))\n",
    "\n",
    "\n",
    "    # Builds annoy index\n",
    "    t.build(trees)\n",
    "\n",
    "    print (\"Step.1 - ANNOY index generation - Finished\")\n",
    "    print (\"Step.2 - Similarity score calculation - Started \") \n",
    "  \n",
    "    global named_nearest_neighbors\n",
    "    named_nearest_neighbors = []\n",
    "\n",
    "  # Loops through all indexed items\n",
    "    for i in file_index_to_file_name.keys():\n",
    "\n",
    "    # Assigns master file_name, image feature vectors and product id values\n",
    "        master_file_name = file_index_to_file_name[i]\n",
    "        master_vector = file_index_to_file_vector[i]\n",
    "        master_product_id = file_index_to_product_id[i]\n",
    "\n",
    "        # Calculates the nearest neighbors of the master item\n",
    "        nearest_neighbors = t.get_nns_by_item(i, n_nearest_neighbors)\n",
    "\n",
    "        # Loops through the nearest neighbors of the master item\n",
    "        for j in nearest_neighbors:\n",
    "\n",
    "            # Assigns file_name, image feature vectors and product id values of the similar item\n",
    "            neighbor_file_name = file_index_to_file_name[j]\n",
    "            neighbor_file_vector = file_index_to_file_vector[j]\n",
    "            neighbor_product_id = file_index_to_product_id[j]\n",
    "\n",
    "            # Calculates the similarity score of the similar item\n",
    "            similarity = 1 - spatial.distance.cosine(master_vector, neighbor_file_vector)\n",
    "            rounded_similarity = int((similarity * 10000)) / 10000.0\n",
    "\n",
    "            # Appends master product id with the similarity score \n",
    "            # and the product id of the similar items\n",
    "            named_nearest_neighbors.append({\n",
    "            'similarity': rounded_similarity,\n",
    "            'master_pi': master_product_id,\n",
    "            'similar_pi': neighbor_product_id})\n",
    "#     print(named_nearest_neighbors)\n",
    "#     print(type(named_nearest_neighbors))\n",
    "            \n",
    "#     return named_nearest_neighbors"
   ]
  },
  {
   "cell_type": "code",
   "execution_count": 143,
   "metadata": {},
   "outputs": [
    {
     "name": "stdout",
     "output_type": "stream",
     "text": [
      "Founnd [107] images\n"
     ]
    }
   ],
   "source": [
    "image_paths = glob.glob('D:\\\\Documents\\\\Semester3\\\\ADM\\\\A3\\\\Images\\\\*.jpg')\n",
    "print(f'Founnd [{len(image_paths)}] images')\n",
    "\n",
    "images = []\n",
    "for image_path in image_paths:\n",
    "    image = cv2.imread(image_path, 3)\n",
    "    b,g,r = cv2.split(image)           # get b, g, r\n",
    "    image = cv2.merge([r,g,b])         # switch it to r, g, b\n",
    "    image = cv2.resize(image, (200, 200))\n",
    "    product_id = match_id(ntpath.basename(image_path))\n",
    "    images.append({\n",
    "      'image_path' : ntpath.basename(image_path),\n",
    "        'image' : image,\n",
    "       'product_id':product_id\n",
    "    })\n",
    "#     images['image_path'] = ntpath.basename(image_path)\n",
    "#     images['image'] = image\n",
    "#     #images[ntpath.basename(image_path)] = image\n",
    "#     product_id = match_id(ntpath.basename(image_path))\n",
    "#     images['product_id'] = product_id"
   ]
  },
  {
   "cell_type": "code",
   "execution_count": 194,
   "metadata": {},
   "outputs": [
    {
     "name": "stdout",
     "output_type": "stream",
     "text": [
      "-------Annoy Index Generation----------------\n",
      "Printing file index\n",
      "0\n",
      "---------------------------------\n",
      "Annoy index     : 0\n",
      "Image file name : 10531_0\n",
      "Product id      : 10531\n",
      "Printing file index\n",
      "1\n",
      "---------------------------------\n",
      "Annoy index     : 1\n",
      "Image file name : 11485_0\n",
      "Product id      : 11485\n",
      "Printing file index\n",
      "2\n",
      "---------------------------------\n",
      "Annoy index     : 2\n",
      "Image file name : 14058_0\n",
      "Product id      : 14058\n",
      "Printing file index\n",
      "3\n",
      "---------------------------------\n",
      "Annoy index     : 3\n",
      "Image file name : 15759_0\n",
      "Product id      : 15759\n",
      "Printing file index\n",
      "4\n",
      "---------------------------------\n",
      "Annoy index     : 4\n",
      "Image file name : 18337_0\n",
      "Product id      : 18337\n",
      "Printing file index\n",
      "5\n",
      "---------------------------------\n",
      "Annoy index     : 5\n",
      "Image file name : 23158_0\n",
      "Product id      : 23158\n",
      "Printing file index\n",
      "6\n",
      "---------------------------------\n",
      "Annoy index     : 6\n",
      "Image file name : 26567_0\n",
      "Product id      : 26567\n",
      "Printing file index\n",
      "7\n",
      "---------------------------------\n",
      "Annoy index     : 7\n",
      "Image file name : 26567_1\n",
      "Product id      : 26567\n",
      "Printing file index\n",
      "8\n",
      "---------------------------------\n",
      "Annoy index     : 8\n",
      "Image file name : 26567_2\n",
      "Product id      : 26567\n",
      "Printing file index\n",
      "9\n",
      "---------------------------------\n",
      "Annoy index     : 9\n",
      "Image file name : 26567_3\n",
      "Product id      : 26567\n",
      "Printing file index\n",
      "10\n",
      "---------------------------------\n",
      "Annoy index     : 10\n",
      "Image file name : 27996_0\n",
      "Product id      : 27996\n",
      "Printing file index\n",
      "11\n",
      "---------------------------------\n",
      "Annoy index     : 11\n",
      "Image file name : 2804_0\n",
      "Product id      : 2804\n",
      "Printing file index\n",
      "12\n",
      "---------------------------------\n",
      "Annoy index     : 12\n",
      "Image file name : 29224_0\n",
      "Product id      : 29224\n",
      "Printing file index\n",
      "13\n",
      "---------------------------------\n",
      "Annoy index     : 13\n",
      "Image file name : 29415_0\n",
      "Product id      : 29415\n",
      "Printing file index\n",
      "14\n",
      "---------------------------------\n",
      "Annoy index     : 14\n",
      "Image file name : 29462_0\n",
      "Product id      : 29462\n",
      "Printing file index\n",
      "15\n",
      "---------------------------------\n",
      "Annoy index     : 15\n",
      "Image file name : 29462_1\n",
      "Product id      : 29462\n",
      "Printing file index\n",
      "16\n",
      "---------------------------------\n",
      "Annoy index     : 16\n",
      "Image file name : 30293_0\n",
      "Product id      : 30293\n",
      "Printing file index\n",
      "17\n",
      "---------------------------------\n",
      "Annoy index     : 17\n",
      "Image file name : 30293_1\n",
      "Product id      : 30293\n",
      "Printing file index\n",
      "18\n",
      "---------------------------------\n",
      "Annoy index     : 18\n",
      "Image file name : 34646_0\n",
      "Product id      : 34646\n",
      "Printing file index\n",
      "19\n",
      "---------------------------------\n",
      "Annoy index     : 19\n",
      "Image file name : 34646_1\n",
      "Product id      : 34646\n",
      "Printing file index\n",
      "20\n",
      "---------------------------------\n",
      "Annoy index     : 20\n",
      "Image file name : 34646_2\n",
      "Product id      : 34646\n",
      "Printing file index\n",
      "21\n",
      "---------------------------------\n",
      "Annoy index     : 21\n",
      "Image file name : 34646_3\n",
      "Product id      : 34646\n",
      "Printing file index\n",
      "22\n",
      "---------------------------------\n",
      "Annoy index     : 22\n",
      "Image file name : 35170_0\n",
      "Product id      : 35170\n",
      "Printing file index\n",
      "23\n",
      "---------------------------------\n",
      "Annoy index     : 23\n",
      "Image file name : 35724_0\n",
      "Product id      : 35724\n",
      "Printing file index\n",
      "24\n",
      "---------------------------------\n",
      "Annoy index     : 24\n",
      "Image file name : 36756_0\n",
      "Product id      : 36756\n",
      "Printing file index\n",
      "25\n",
      "---------------------------------\n",
      "Annoy index     : 25\n",
      "Image file name : 36756_1\n",
      "Product id      : 36756\n",
      "Printing file index\n",
      "26\n",
      "---------------------------------\n",
      "Annoy index     : 26\n",
      "Image file name : 36756_2\n",
      "Product id      : 36756\n",
      "Printing file index\n",
      "27\n",
      "---------------------------------\n",
      "Annoy index     : 27\n",
      "Image file name : 36756_3\n",
      "Product id      : 36756\n",
      "Printing file index\n",
      "28\n",
      "---------------------------------\n",
      "Annoy index     : 28\n",
      "Image file name : 39580_0\n",
      "Product id      : 39580\n",
      "Printing file index\n",
      "29\n",
      "---------------------------------\n",
      "Annoy index     : 29\n",
      "Image file name : 39580_1\n",
      "Product id      : 39580\n",
      "Printing file index\n",
      "30\n",
      "---------------------------------\n",
      "Annoy index     : 30\n",
      "Image file name : 39580_2\n",
      "Product id      : 39580\n",
      "Printing file index\n",
      "31\n",
      "---------------------------------\n",
      "Annoy index     : 31\n",
      "Image file name : 39580_3\n",
      "Product id      : 39580\n",
      "Printing file index\n",
      "32\n",
      "---------------------------------\n",
      "Annoy index     : 32\n",
      "Image file name : 40595_0\n",
      "Product id      : 40595\n",
      "Printing file index\n",
      "33\n",
      "---------------------------------\n",
      "Annoy index     : 33\n",
      "Image file name : 40595_1\n",
      "Product id      : 40595\n",
      "Printing file index\n",
      "34\n",
      "---------------------------------\n",
      "Annoy index     : 34\n",
      "Image file name : 40595_2\n",
      "Product id      : 40595\n",
      "Printing file index\n",
      "35\n",
      "---------------------------------\n",
      "Annoy index     : 35\n",
      "Image file name : 40595_3\n",
      "Product id      : 40595\n",
      "Printing file index\n",
      "36\n",
      "---------------------------------\n",
      "Annoy index     : 36\n",
      "Image file name : 40699_0\n",
      "Product id      : 40699\n",
      "Printing file index\n",
      "37\n",
      "---------------------------------\n",
      "Annoy index     : 37\n",
      "Image file name : 42377_0\n",
      "Product id      : 42377\n",
      "Printing file index\n",
      "38\n",
      "---------------------------------\n",
      "Annoy index     : 38\n",
      "Image file name : 42377_1\n",
      "Product id      : 42377\n",
      "Printing file index\n",
      "39\n",
      "---------------------------------\n",
      "Annoy index     : 39\n",
      "Image file name : 42667_0\n",
      "Product id      : 42667\n",
      "Printing file index\n",
      "40\n",
      "---------------------------------\n",
      "Annoy index     : 40\n",
      "Image file name : 43193_0\n",
      "Product id      : 43193\n",
      "Printing file index\n",
      "41\n",
      "---------------------------------\n",
      "Annoy index     : 41\n",
      "Image file name : 43309_0\n",
      "Product id      : 43309\n",
      "Printing file index\n",
      "42\n",
      "---------------------------------\n",
      "Annoy index     : 42\n",
      "Image file name : 43309_1\n",
      "Product id      : 43309\n",
      "Printing file index\n",
      "43\n",
      "---------------------------------\n",
      "Annoy index     : 43\n",
      "Image file name : 43309_2\n",
      "Product id      : 43309\n",
      "Printing file index\n",
      "44\n",
      "---------------------------------\n",
      "Annoy index     : 44\n",
      "Image file name : 43309_3\n",
      "Product id      : 43309\n",
      "Printing file index\n",
      "45\n",
      "---------------------------------\n",
      "Annoy index     : 45\n",
      "Image file name : 43561_0\n",
      "Product id      : 43561\n",
      "Printing file index\n",
      "46\n",
      "---------------------------------\n",
      "Annoy index     : 46\n",
      "Image file name : 44323_0\n",
      "Product id      : 44323\n",
      "Printing file index\n",
      "47\n",
      "---------------------------------\n",
      "Annoy index     : 47\n",
      "Image file name : 45486_0\n",
      "Product id      : 45486\n",
      "Printing file index\n",
      "48\n",
      "---------------------------------\n",
      "Annoy index     : 48\n",
      "Image file name : 46709_0\n",
      "Product id      : 46709\n",
      "Printing file index\n",
      "49\n",
      "---------------------------------\n",
      "Annoy index     : 49\n",
      "Image file name : 47160_0\n",
      "Product id      : 47160\n",
      "Printing file index\n",
      "50\n",
      "---------------------------------\n",
      "Annoy index     : 50\n",
      "Image file name : 50035_0\n",
      "Product id      : 50035\n",
      "Printing file index\n",
      "51\n",
      "---------------------------------\n",
      "Annoy index     : 51\n",
      "Image file name : 50035_1\n",
      "Product id      : 50035\n",
      "Printing file index\n",
      "52\n",
      "---------------------------------\n",
      "Annoy index     : 52\n",
      "Image file name : 50035_2\n",
      "Product id      : 50035\n",
      "Printing file index\n",
      "53\n",
      "---------------------------------\n",
      "Annoy index     : 53\n",
      "Image file name : 50403_0\n",
      "Product id      : 50403\n",
      "Printing file index\n",
      "54\n",
      "---------------------------------\n",
      "Annoy index     : 54\n",
      "Image file name : 52355_0\n",
      "Product id      : 52355\n",
      "Printing file index\n",
      "55\n",
      "---------------------------------\n",
      "Annoy index     : 55\n",
      "Image file name : 545_0\n",
      "Product id      : 545\n",
      "Printing file index\n",
      "56\n",
      "---------------------------------\n",
      "Annoy index     : 56\n",
      "Image file name : 55676_0\n",
      "Product id      : 55676\n",
      "Printing file index\n",
      "57\n",
      "---------------------------------\n",
      "Annoy index     : 57\n",
      "Image file name : 58315_0\n",
      "Product id      : 58315\n",
      "Printing file index\n",
      "58\n",
      "---------------------------------\n",
      "Annoy index     : 58\n",
      "Image file name : 58315_1\n",
      "Product id      : 58315\n",
      "Printing file index\n",
      "59\n",
      "---------------------------------\n",
      "Annoy index     : 59\n",
      "Image file name : 59301_0\n",
      "Product id      : 59301\n",
      "Printing file index\n",
      "60\n",
      "---------------------------------\n",
      "Annoy index     : 60\n",
      "Image file name : 59595_0\n",
      "Product id      : 59595\n",
      "Printing file index\n",
      "61\n",
      "---------------------------------\n",
      "Annoy index     : 61\n",
      "Image file name : 6095_0\n",
      "Product id      : 6095\n",
      "Printing file index\n",
      "62\n",
      "---------------------------------\n",
      "Annoy index     : 62\n",
      "Image file name : 6095_1\n",
      "Product id      : 6095\n",
      "Printing file index\n",
      "63\n",
      "---------------------------------\n",
      "Annoy index     : 63\n",
      "Image file name : 6095_2\n",
      "Product id      : 6095\n",
      "Printing file index\n",
      "64\n",
      "---------------------------------\n",
      "Annoy index     : 64\n",
      "Image file name : 6172_0\n",
      "Product id      : 6172\n",
      "Printing file index\n",
      "65\n",
      "---------------------------------\n",
      "Annoy index     : 65\n",
      "Image file name : 6172_1\n",
      "Product id      : 6172\n",
      "Printing file index\n",
      "66\n",
      "---------------------------------\n",
      "Annoy index     : 66\n",
      "Image file name : 6172_2\n",
      "Product id      : 6172\n",
      "Printing file index\n",
      "67\n",
      "---------------------------------\n",
      "Annoy index     : 67\n",
      "Image file name : 6172_3\n",
      "Product id      : 6172\n",
      "Printing file index\n",
      "68\n"
     ]
    },
    {
     "name": "stdout",
     "output_type": "stream",
     "text": [
      "---------------------------------\n",
      "Annoy index     : 68\n",
      "Image file name : 62766_0\n",
      "Product id      : 62766\n",
      "Printing file index\n",
      "69\n",
      "---------------------------------\n",
      "Annoy index     : 69\n",
      "Image file name : 65038_0\n",
      "Product id      : 65038\n",
      "Printing file index\n",
      "70\n",
      "---------------------------------\n",
      "Annoy index     : 70\n",
      "Image file name : 65501_0\n",
      "Product id      : 65501\n",
      "Printing file index\n",
      "71\n",
      "---------------------------------\n",
      "Annoy index     : 71\n",
      "Image file name : 65842_0\n",
      "Product id      : 65842\n",
      "Printing file index\n",
      "72\n",
      "---------------------------------\n",
      "Annoy index     : 72\n",
      "Image file name : 66504_0\n",
      "Product id      : 66504\n",
      "Printing file index\n",
      "73\n",
      "---------------------------------\n",
      "Annoy index     : 73\n",
      "Image file name : 67000_0\n",
      "Product id      : 67000\n",
      "Printing file index\n",
      "74\n",
      "---------------------------------\n",
      "Annoy index     : 74\n",
      "Image file name : 67000_1\n",
      "Product id      : 67000\n",
      "Printing file index\n",
      "75\n",
      "---------------------------------\n",
      "Annoy index     : 75\n",
      "Image file name : 67000_2\n",
      "Product id      : 67000\n",
      "Printing file index\n",
      "76\n",
      "---------------------------------\n",
      "Annoy index     : 76\n",
      "Image file name : 67000_3\n",
      "Product id      : 67000\n",
      "Printing file index\n",
      "77\n",
      "---------------------------------\n",
      "Annoy index     : 77\n",
      "Image file name : 6738_0\n",
      "Product id      : 6738\n",
      "Printing file index\n",
      "78\n",
      "---------------------------------\n",
      "Annoy index     : 78\n",
      "Image file name : 6738_1\n",
      "Product id      : 6738\n",
      "Printing file index\n",
      "79\n",
      "---------------------------------\n",
      "Annoy index     : 79\n",
      "Image file name : 67841_0\n",
      "Product id      : 67841\n",
      "Printing file index\n",
      "80\n",
      "---------------------------------\n",
      "Annoy index     : 80\n",
      "Image file name : 69196_0\n",
      "Product id      : 69196\n",
      "Printing file index\n",
      "81\n",
      "---------------------------------\n",
      "Annoy index     : 81\n",
      "Image file name : 69845_0\n",
      "Product id      : 69845\n",
      "Printing file index\n",
      "82\n",
      "---------------------------------\n",
      "Annoy index     : 82\n",
      "Image file name : 69845_1\n",
      "Product id      : 69845\n",
      "Printing file index\n",
      "83\n",
      "---------------------------------\n",
      "Annoy index     : 83\n",
      "Image file name : 69845_2\n",
      "Product id      : 69845\n",
      "Printing file index\n",
      "84\n",
      "---------------------------------\n",
      "Annoy index     : 84\n",
      "Image file name : 69856_0\n",
      "Product id      : 69856\n",
      "Printing file index\n",
      "85\n",
      "---------------------------------\n",
      "Annoy index     : 85\n",
      "Image file name : 71586_0\n",
      "Product id      : 71586\n",
      "Printing file index\n",
      "86\n",
      "---------------------------------\n",
      "Annoy index     : 86\n",
      "Image file name : 72863_0\n",
      "Product id      : 72863\n",
      "Printing file index\n",
      "87\n",
      "---------------------------------\n",
      "Annoy index     : 87\n",
      "Image file name : 72863_1\n",
      "Product id      : 72863\n",
      "Printing file index\n",
      "88\n",
      "---------------------------------\n",
      "Annoy index     : 88\n",
      "Image file name : 72863_2\n",
      "Product id      : 72863\n",
      "Printing file index\n",
      "89\n",
      "---------------------------------\n",
      "Annoy index     : 89\n",
      "Image file name : 72863_3\n",
      "Product id      : 72863\n",
      "Printing file index\n",
      "90\n",
      "---------------------------------\n",
      "Annoy index     : 90\n",
      "Image file name : 73087_0\n",
      "Product id      : 73087\n",
      "Printing file index\n",
      "91\n",
      "---------------------------------\n",
      "Annoy index     : 91\n",
      "Image file name : 75797_0\n",
      "Product id      : 75797\n",
      "Printing file index\n",
      "92\n",
      "---------------------------------\n",
      "Annoy index     : 92\n",
      "Image file name : 75797_1\n",
      "Product id      : 75797\n",
      "Printing file index\n",
      "93\n",
      "---------------------------------\n",
      "Annoy index     : 93\n",
      "Image file name : 75797_2\n",
      "Product id      : 75797\n",
      "Printing file index\n",
      "94\n",
      "---------------------------------\n",
      "Annoy index     : 94\n",
      "Image file name : 75797_3\n",
      "Product id      : 75797\n",
      "Printing file index\n",
      "95\n",
      "---------------------------------\n",
      "Annoy index     : 95\n",
      "Image file name : 7605_0\n",
      "Product id      : 7605\n",
      "Printing file index\n",
      "96\n",
      "---------------------------------\n",
      "Annoy index     : 96\n",
      "Image file name : 77334_0\n",
      "Product id      : 77334\n",
      "Printing file index\n",
      "97\n",
      "---------------------------------\n",
      "Annoy index     : 97\n",
      "Image file name : 77334_1\n",
      "Product id      : 77334\n",
      "Printing file index\n",
      "98\n",
      "---------------------------------\n",
      "Annoy index     : 98\n",
      "Image file name : 77334_2\n",
      "Product id      : 77334\n",
      "Printing file index\n",
      "99\n",
      "---------------------------------\n",
      "Annoy index     : 99\n",
      "Image file name : 81289_0\n",
      "Product id      : 81289\n",
      "Printing file index\n",
      "100\n",
      "---------------------------------\n",
      "Annoy index     : 100\n",
      "Image file name : 81289_1\n",
      "Product id      : 81289\n",
      "Printing file index\n",
      "101\n",
      "---------------------------------\n",
      "Annoy index     : 101\n",
      "Image file name : 81289_2\n",
      "Product id      : 81289\n",
      "Printing file index\n",
      "102\n",
      "---------------------------------\n",
      "Annoy index     : 102\n",
      "Image file name : 81289_3\n",
      "Product id      : 81289\n",
      "Printing file index\n",
      "103\n",
      "---------------------------------\n",
      "Annoy index     : 103\n",
      "Image file name : 81433_0\n",
      "Product id      : 81433\n",
      "Printing file index\n",
      "104\n",
      "---------------------------------\n",
      "Annoy index     : 104\n",
      "Image file name : 8867_0\n",
      "Product id      : 8867\n",
      "Printing file index\n",
      "105\n",
      "---------------------------------\n",
      "Annoy index     : 105\n",
      "Image file name : 9534_0\n",
      "Product id      : 9534\n",
      "Printing file index\n",
      "106\n",
      "---------------------------------\n",
      "Annoy index     : 106\n",
      "Image file name : 9534_1\n",
      "Product id      : 9534\n",
      "Step.1 - ANNOY index generation - Finished\n",
      "Step.2 - Similarity score calculation - Started \n"
     ]
    }
   ],
   "source": [
    "cluster()"
   ]
  },
  {
   "cell_type": "code",
   "execution_count": 91,
   "metadata": {},
   "outputs": [
    {
     "name": "stdout",
     "output_type": "stream",
     "text": [
      "-------Annoy Index Generation----------------\n",
      "---------------------------------\n",
      "Annoy index     : 0\n",
      "Image file name : 10531_0\n",
      "Product id      : 10531\n",
      "---------------------------------\n",
      "Annoy index     : 1\n",
      "Image file name : 11485_0\n",
      "Product id      : 11485\n",
      "---------------------------------\n",
      "Annoy index     : 2\n",
      "Image file name : 14058_0\n",
      "Product id      : 14058\n",
      "---------------------------------\n",
      "Annoy index     : 3\n",
      "Image file name : 15759_0\n",
      "Product id      : 15759\n",
      "---------------------------------\n",
      "Annoy index     : 4\n",
      "Image file name : 18337_0\n",
      "Product id      : 18337\n",
      "---------------------------------\n",
      "Annoy index     : 5\n",
      "Image file name : 23158_0\n",
      "Product id      : 23158\n",
      "---------------------------------\n",
      "Annoy index     : 6\n",
      "Image file name : 26567_0\n",
      "Product id      : 26567\n",
      "---------------------------------\n",
      "Annoy index     : 7\n",
      "Image file name : 26567_1\n",
      "Product id      : 26567\n",
      "---------------------------------\n",
      "Annoy index     : 8\n",
      "Image file name : 26567_2\n",
      "Product id      : 26567\n",
      "---------------------------------\n",
      "Annoy index     : 9\n",
      "Image file name : 26567_3\n",
      "Product id      : 26567\n",
      "---------------------------------\n",
      "Annoy index     : 10\n",
      "Image file name : 27996_0\n",
      "Product id      : 27996\n",
      "---------------------------------\n",
      "Annoy index     : 11\n",
      "Image file name : 2804_0\n",
      "Product id      : 2804\n",
      "---------------------------------\n",
      "Annoy index     : 12\n",
      "Image file name : 29224_0\n",
      "Product id      : 29224\n",
      "---------------------------------\n",
      "Annoy index     : 13\n",
      "Image file name : 29415_0\n",
      "Product id      : 29415\n",
      "---------------------------------\n",
      "Annoy index     : 14\n",
      "Image file name : 29462_0\n",
      "Product id      : 29462\n",
      "---------------------------------\n",
      "Annoy index     : 15\n",
      "Image file name : 29462_1\n",
      "Product id      : 29462\n",
      "---------------------------------\n",
      "Annoy index     : 16\n",
      "Image file name : 30293_0\n",
      "Product id      : 30293\n",
      "---------------------------------\n",
      "Annoy index     : 17\n",
      "Image file name : 30293_1\n",
      "Product id      : 30293\n",
      "---------------------------------\n",
      "Annoy index     : 18\n",
      "Image file name : 34646_0\n",
      "Product id      : 34646\n",
      "---------------------------------\n",
      "Annoy index     : 19\n",
      "Image file name : 34646_1\n",
      "Product id      : 34646\n",
      "---------------------------------\n",
      "Annoy index     : 20\n",
      "Image file name : 34646_2\n",
      "Product id      : 34646\n",
      "---------------------------------\n",
      "Annoy index     : 21\n",
      "Image file name : 34646_3\n",
      "Product id      : 34646\n",
      "---------------------------------\n",
      "Annoy index     : 22\n",
      "Image file name : 35170_0\n",
      "Product id      : 35170\n",
      "---------------------------------\n",
      "Annoy index     : 23\n",
      "Image file name : 35724_0\n",
      "Product id      : 35724\n",
      "---------------------------------\n",
      "Annoy index     : 24\n",
      "Image file name : 36756_0\n",
      "Product id      : 36756\n",
      "---------------------------------\n",
      "Annoy index     : 25\n",
      "Image file name : 36756_1\n",
      "Product id      : 36756\n",
      "---------------------------------\n",
      "Annoy index     : 26\n",
      "Image file name : 36756_2\n",
      "Product id      : 36756\n",
      "---------------------------------\n",
      "Annoy index     : 27\n",
      "Image file name : 36756_3\n",
      "Product id      : 36756\n",
      "---------------------------------\n",
      "Annoy index     : 28\n",
      "Image file name : 39580_0\n",
      "Product id      : 39580\n",
      "---------------------------------\n",
      "Annoy index     : 29\n",
      "Image file name : 39580_1\n",
      "Product id      : 39580\n",
      "---------------------------------\n",
      "Annoy index     : 30\n",
      "Image file name : 39580_2\n",
      "Product id      : 39580\n",
      "---------------------------------\n",
      "Annoy index     : 31\n",
      "Image file name : 39580_3\n",
      "Product id      : 39580\n",
      "---------------------------------\n",
      "Annoy index     : 32\n",
      "Image file name : 40595_0\n",
      "Product id      : 40595\n",
      "---------------------------------\n",
      "Annoy index     : 33\n",
      "Image file name : 40595_1\n",
      "Product id      : 40595\n",
      "---------------------------------\n",
      "Annoy index     : 34\n",
      "Image file name : 40595_2\n",
      "Product id      : 40595\n",
      "---------------------------------\n",
      "Annoy index     : 35\n",
      "Image file name : 40595_3\n",
      "Product id      : 40595\n",
      "---------------------------------\n",
      "Annoy index     : 36\n",
      "Image file name : 40699_0\n",
      "Product id      : 40699\n",
      "---------------------------------\n",
      "Annoy index     : 37\n",
      "Image file name : 42377_0\n",
      "Product id      : 42377\n",
      "---------------------------------\n",
      "Annoy index     : 38\n",
      "Image file name : 42377_1\n",
      "Product id      : 42377\n",
      "---------------------------------\n",
      "Annoy index     : 39\n",
      "Image file name : 42667_0\n",
      "Product id      : 42667\n",
      "---------------------------------\n",
      "Annoy index     : 40\n",
      "Image file name : 43193_0\n",
      "Product id      : 43193\n",
      "---------------------------------\n",
      "Annoy index     : 41\n",
      "Image file name : 43309_0\n",
      "Product id      : 43309\n",
      "---------------------------------\n",
      "Annoy index     : 42\n",
      "Image file name : 43309_1\n",
      "Product id      : 43309\n",
      "---------------------------------\n",
      "Annoy index     : 43\n",
      "Image file name : 43309_2\n",
      "Product id      : 43309\n",
      "---------------------------------\n",
      "Annoy index     : 44\n",
      "Image file name : 43309_3\n",
      "Product id      : 43309\n",
      "---------------------------------\n",
      "Annoy index     : 45\n",
      "Image file name : 43561_0\n",
      "Product id      : 43561\n",
      "---------------------------------\n",
      "Annoy index     : 46\n",
      "Image file name : 44323_0\n",
      "Product id      : 44323\n",
      "---------------------------------\n",
      "Annoy index     : 47\n",
      "Image file name : 45486_0\n",
      "Product id      : 45486\n",
      "---------------------------------\n",
      "Annoy index     : 48\n",
      "Image file name : 46709_0\n",
      "Product id      : 46709\n",
      "---------------------------------\n",
      "Annoy index     : 49\n",
      "Image file name : 47160_0\n",
      "Product id      : 47160\n",
      "---------------------------------\n",
      "Annoy index     : 50\n",
      "Image file name : 50035_0\n",
      "Product id      : 50035\n",
      "---------------------------------\n",
      "Annoy index     : 51\n",
      "Image file name : 50035_1\n",
      "Product id      : 50035\n",
      "---------------------------------\n",
      "Annoy index     : 52\n",
      "Image file name : 50035_2\n",
      "Product id      : 50035\n",
      "---------------------------------\n",
      "Annoy index     : 53\n",
      "Image file name : 50403_0\n",
      "Product id      : 50403\n",
      "---------------------------------\n",
      "Annoy index     : 54\n",
      "Image file name : 52355_0\n",
      "Product id      : 52355\n",
      "---------------------------------\n",
      "Annoy index     : 55\n",
      "Image file name : 545_0\n",
      "Product id      : 545\n",
      "---------------------------------\n",
      "Annoy index     : 56\n",
      "Image file name : 55676_0\n",
      "Product id      : 55676\n",
      "---------------------------------\n",
      "Annoy index     : 57\n",
      "Image file name : 58315_0\n",
      "Product id      : 58315\n",
      "---------------------------------\n",
      "Annoy index     : 58\n",
      "Image file name : 58315_1\n",
      "Product id      : 58315\n",
      "---------------------------------\n",
      "Annoy index     : 59\n",
      "Image file name : 59301_0\n",
      "Product id      : 59301\n",
      "---------------------------------\n",
      "Annoy index     : 60\n",
      "Image file name : 59595_0\n",
      "Product id      : 59595\n",
      "---------------------------------\n",
      "Annoy index     : 61\n",
      "Image file name : 6095_0\n",
      "Product id      : 6095\n",
      "---------------------------------\n",
      "Annoy index     : 62\n",
      "Image file name : 6095_1\n",
      "Product id      : 6095\n",
      "---------------------------------\n",
      "Annoy index     : 63\n",
      "Image file name : 6095_2\n",
      "Product id      : 6095\n",
      "---------------------------------\n",
      "Annoy index     : 64\n",
      "Image file name : 6172_0\n",
      "Product id      : 6172\n",
      "---------------------------------\n",
      "Annoy index     : 65\n",
      "Image file name : 6172_1\n",
      "Product id      : 6172\n",
      "---------------------------------\n",
      "Annoy index     : 66\n",
      "Image file name : 6172_2\n",
      "Product id      : 6172\n",
      "---------------------------------\n",
      "Annoy index     : 67\n",
      "Image file name : 6172_3\n",
      "Product id      : 6172\n",
      "---------------------------------\n",
      "Annoy index     : 68\n",
      "Image file name : 62766_0\n",
      "Product id      : 62766\n",
      "---------------------------------\n",
      "Annoy index     : 69\n",
      "Image file name : 65038_0\n",
      "Product id      : 65038\n",
      "---------------------------------\n",
      "Annoy index     : 70\n",
      "Image file name : 65501_0\n",
      "Product id      : 65501\n",
      "---------------------------------\n",
      "Annoy index     : 71\n",
      "Image file name : 65842_0\n",
      "Product id      : 65842\n",
      "---------------------------------\n",
      "Annoy index     : 72\n",
      "Image file name : 66504_0\n",
      "Product id      : 66504\n",
      "---------------------------------\n",
      "Annoy index     : 73\n",
      "Image file name : 67000_0\n",
      "Product id      : 67000\n",
      "---------------------------------\n",
      "Annoy index     : 74\n",
      "Image file name : 67000_1\n",
      "Product id      : 67000\n",
      "---------------------------------\n",
      "Annoy index     : 75\n",
      "Image file name : 67000_2\n",
      "Product id      : 67000\n",
      "---------------------------------\n",
      "Annoy index     : 76\n",
      "Image file name : 67000_3\n",
      "Product id      : 67000\n",
      "---------------------------------\n",
      "Annoy index     : 77\n",
      "Image file name : 6738_0\n",
      "Product id      : 6738\n",
      "---------------------------------\n",
      "Annoy index     : 78\n",
      "Image file name : 6738_1\n",
      "Product id      : 6738\n",
      "---------------------------------\n",
      "Annoy index     : 79\n",
      "Image file name : 67841_0\n",
      "Product id      : 67841\n",
      "---------------------------------\n",
      "Annoy index     : 80\n",
      "Image file name : 69196_0\n",
      "Product id      : 69196\n",
      "---------------------------------\n",
      "Annoy index     : 81\n",
      "Image file name : 69845_0\n",
      "Product id      : 69845\n",
      "---------------------------------\n",
      "Annoy index     : 82\n",
      "Image file name : 69845_1\n",
      "Product id      : 69845\n",
      "---------------------------------\n",
      "Annoy index     : 83\n",
      "Image file name : 69845_2\n",
      "Product id      : 69845\n"
     ]
    },
    {
     "name": "stdout",
     "output_type": "stream",
     "text": [
      "---------------------------------\n",
      "Annoy index     : 84\n",
      "Image file name : 69856_0\n",
      "Product id      : 69856\n",
      "---------------------------------\n",
      "Annoy index     : 85\n",
      "Image file name : 71586_0\n",
      "Product id      : 71586\n",
      "---------------------------------\n",
      "Annoy index     : 86\n",
      "Image file name : 72863_0\n",
      "Product id      : 72863\n",
      "---------------------------------\n",
      "Annoy index     : 87\n",
      "Image file name : 72863_1\n",
      "Product id      : 72863\n",
      "---------------------------------\n",
      "Annoy index     : 88\n",
      "Image file name : 72863_2\n",
      "Product id      : 72863\n",
      "---------------------------------\n",
      "Annoy index     : 89\n",
      "Image file name : 72863_3\n",
      "Product id      : 72863\n",
      "---------------------------------\n",
      "Annoy index     : 90\n",
      "Image file name : 73087_0\n",
      "Product id      : 73087\n",
      "---------------------------------\n",
      "Annoy index     : 91\n",
      "Image file name : 75797_0\n",
      "Product id      : 75797\n",
      "---------------------------------\n",
      "Annoy index     : 92\n",
      "Image file name : 75797_1\n",
      "Product id      : 75797\n",
      "---------------------------------\n",
      "Annoy index     : 93\n",
      "Image file name : 75797_2\n",
      "Product id      : 75797\n",
      "---------------------------------\n",
      "Annoy index     : 94\n",
      "Image file name : 75797_3\n",
      "Product id      : 75797\n",
      "---------------------------------\n",
      "Annoy index     : 95\n",
      "Image file name : 7605_0\n",
      "Product id      : 7605\n",
      "---------------------------------\n",
      "Annoy index     : 96\n",
      "Image file name : 77334_0\n",
      "Product id      : 77334\n",
      "---------------------------------\n",
      "Annoy index     : 97\n",
      "Image file name : 77334_1\n",
      "Product id      : 77334\n",
      "---------------------------------\n",
      "Annoy index     : 98\n",
      "Image file name : 77334_2\n",
      "Product id      : 77334\n",
      "---------------------------------\n",
      "Annoy index     : 99\n",
      "Image file name : 81289_0\n",
      "Product id      : 81289\n",
      "---------------------------------\n",
      "Annoy index     : 100\n",
      "Image file name : 81289_1\n",
      "Product id      : 81289\n",
      "---------------------------------\n",
      "Annoy index     : 101\n",
      "Image file name : 81289_2\n",
      "Product id      : 81289\n",
      "---------------------------------\n",
      "Annoy index     : 102\n",
      "Image file name : 81289_3\n",
      "Product id      : 81289\n",
      "---------------------------------\n",
      "Annoy index     : 103\n",
      "Image file name : 81433_0\n",
      "Product id      : 81433\n",
      "---------------------------------\n",
      "Annoy index     : 104\n",
      "Image file name : 8867_0\n",
      "Product id      : 8867\n",
      "---------------------------------\n",
      "Annoy index     : 105\n",
      "Image file name : 9534_0\n",
      "Product id      : 9534\n",
      "---------------------------------\n",
      "Annoy index     : 106\n",
      "Image file name : 9534_1\n",
      "Product id      : 9534\n",
      "Step.1 - ANNOY index generation - Finished\n",
      "Step.2 - Similarity score calculation - Started \n",
      "Printing named_nearest_neighbors\n",
      "[{'similarity': 1.0, 'master_pi': '10531', 'similar_pi': '10531'}, {'similarity': 0.8347, 'master_pi': '10531', 'similar_pi': '43309'}, {'similarity': 0.8039, 'master_pi': '10531', 'similar_pi': '43309'}, {'similarity': 0.7963, 'master_pi': '10531', 'similar_pi': '81289'}, {'similarity': 0.79, 'master_pi': '10531', 'similar_pi': '46709'}, {'similarity': 0.7888, 'master_pi': '10531', 'similar_pi': '75797'}, {'similarity': 0.7873, 'master_pi': '10531', 'similar_pi': '81289'}, {'similarity': 0.7864, 'master_pi': '10531', 'similar_pi': '26567'}, {'similarity': 0.7847, 'master_pi': '10531', 'similar_pi': '69845'}, {'similarity': 0.7734, 'master_pi': '10531', 'similar_pi': '42377'}, {'similarity': 0.7731, 'master_pi': '10531', 'similar_pi': '29462'}, {'similarity': 0.7653, 'master_pi': '10531', 'similar_pi': '75797'}, {'similarity': 0.7626, 'master_pi': '10531', 'similar_pi': '43309'}, {'similarity': 0.7581, 'master_pi': '10531', 'similar_pi': '65038'}, {'similarity': 0.7576, 'master_pi': '10531', 'similar_pi': '44323'}, {'similarity': 0.756, 'master_pi': '10531', 'similar_pi': '67841'}, {'similarity': 0.7521, 'master_pi': '10531', 'similar_pi': '26567'}, {'similarity': 0.7454, 'master_pi': '10531', 'similar_pi': '30293'}, {'similarity': 0.745, 'master_pi': '10531', 'similar_pi': '42377'}, {'similarity': 0.74, 'master_pi': '10531', 'similar_pi': '29462'}, {'similarity': 1.0, 'master_pi': '11485', 'similar_pi': '11485'}, {'similarity': 0.8426, 'master_pi': '11485', 'similar_pi': '23158'}, {'similarity': 0.7908, 'master_pi': '11485', 'similar_pi': '71586'}, {'similarity': 0.7905, 'master_pi': '11485', 'similar_pi': '43309'}, {'similarity': 0.7644, 'master_pi': '11485', 'similar_pi': '72863'}, {'similarity': 0.7613, 'master_pi': '11485', 'similar_pi': '69845'}, {'similarity': 0.7601, 'master_pi': '11485', 'similar_pi': '39580'}, {'similarity': 0.7537, 'master_pi': '11485', 'similar_pi': '69845'}, {'similarity': 0.7528, 'master_pi': '11485', 'similar_pi': '73087'}, {'similarity': 0.7477, 'master_pi': '11485', 'similar_pi': '72863'}, {'similarity': 0.7477, 'master_pi': '11485', 'similar_pi': '9534'}, {'similarity': 0.746, 'master_pi': '11485', 'similar_pi': '46709'}, {'similarity': 0.7442, 'master_pi': '11485', 'similar_pi': '65038'}, {'similarity': 0.7387, 'master_pi': '11485', 'similar_pi': '47160'}, {'similarity': 0.7361, 'master_pi': '11485', 'similar_pi': '50035'}, {'similarity': 0.7287, 'master_pi': '11485', 'similar_pi': '40595'}, {'similarity': 0.7166, 'master_pi': '11485', 'similar_pi': '72863'}, {'similarity': 0.7139, 'master_pi': '11485', 'similar_pi': '29462'}, {'similarity': 0.712, 'master_pi': '11485', 'similar_pi': '43309'}, {'similarity': 0.7072, 'master_pi': '11485', 'similar_pi': '75797'}, {'similarity': 1.0, 'master_pi': '14058', 'similar_pi': '14058'}, {'similarity': 0.7604, 'master_pi': '14058', 'similar_pi': '50403'}, {'similarity': 0.7411, 'master_pi': '14058', 'similar_pi': '65038'}, {'similarity': 0.7406, 'master_pi': '14058', 'similar_pi': '35170'}, {'similarity': 0.739, 'master_pi': '14058', 'similar_pi': '46709'}, {'similarity': 0.7289, 'master_pi': '14058', 'similar_pi': '43309'}, {'similarity': 0.7233, 'master_pi': '14058', 'similar_pi': '67000'}, {'similarity': 0.7015, 'master_pi': '14058', 'similar_pi': '34646'}, {'similarity': 0.6963, 'master_pi': '14058', 'similar_pi': '59301'}, {'similarity': 0.6961, 'master_pi': '14058', 'similar_pi': '29224'}, {'similarity': 0.6948, 'master_pi': '14058', 'similar_pi': '55676'}, {'similarity': 0.6868, 'master_pi': '14058', 'similar_pi': '43309'}, {'similarity': 0.681, 'master_pi': '14058', 'similar_pi': '34646'}, {'similarity': 0.681, 'master_pi': '14058', 'similar_pi': '67000'}, {'similarity': 0.679, 'master_pi': '14058', 'similar_pi': '39580'}, {'similarity': 0.6761, 'master_pi': '14058', 'similar_pi': '43309'}, {'similarity': 0.6751, 'master_pi': '14058', 'similar_pi': '75797'}, {'similarity': 0.673, 'master_pi': '14058', 'similar_pi': '26567'}, {'similarity': 0.6709, 'master_pi': '14058', 'similar_pi': '15759'}, {'similarity': 0.6698, 'master_pi': '14058', 'similar_pi': '35724'}, {'similarity': 1.0, 'master_pi': '15759', 'similar_pi': '15759'}, {'similarity': 0.7119, 'master_pi': '15759', 'similar_pi': '65842'}, {'similarity': 0.7094, 'master_pi': '15759', 'similar_pi': '50403'}, {'similarity': 0.7037, 'master_pi': '15759', 'similar_pi': '34646'}, {'similarity': 0.7026, 'master_pi': '15759', 'similar_pi': '67000'}, {'similarity': 0.6955, 'master_pi': '15759', 'similar_pi': '42377'}, {'similarity': 0.6907, 'master_pi': '15759', 'similar_pi': '43193'}, {'similarity': 0.6889, 'master_pi': '15759', 'similar_pi': '67841'}, {'similarity': 0.685, 'master_pi': '15759', 'similar_pi': '43309'}, {'similarity': 0.6794, 'master_pi': '15759', 'similar_pi': '43309'}, {'similarity': 0.6762, 'master_pi': '15759', 'similar_pi': '55676'}, {'similarity': 0.6717, 'master_pi': '15759', 'similar_pi': '30293'}, {'similarity': 0.6709, 'master_pi': '15759', 'similar_pi': '14058'}, {'similarity': 0.6704, 'master_pi': '15759', 'similar_pi': '65038'}, {'similarity': 0.6686, 'master_pi': '15759', 'similar_pi': '10531'}, {'similarity': 0.666, 'master_pi': '15759', 'similar_pi': '26567'}, {'similarity': 0.6646, 'master_pi': '15759', 'similar_pi': '42377'}, {'similarity': 0.6642, 'master_pi': '15759', 'similar_pi': '26567'}, {'similarity': 0.6596, 'master_pi': '15759', 'similar_pi': '46709'}, {'similarity': 0.6556, 'master_pi': '15759', 'similar_pi': '44323'}, {'similarity': 1.0, 'master_pi': '18337', 'similar_pi': '18337'}, {'similarity': 0.8337, 'master_pi': '18337', 'similar_pi': '34646'}, {'similarity': 0.8035, 'master_pi': '18337', 'similar_pi': '72863'}, {'similarity': 0.786, 'master_pi': '18337', 'similar_pi': '23158'}, {'similarity': 0.7597, 'master_pi': '18337', 'similar_pi': '69845'}, {'similarity': 0.7436, 'master_pi': '18337', 'similar_pi': '9534'}, {'similarity': 0.7315, 'master_pi': '18337', 'similar_pi': '62766'}, {'similarity': 0.7071, 'master_pi': '18337', 'similar_pi': '11485'}, {'similarity': 0.6991, 'master_pi': '18337', 'similar_pi': '71586'}, {'similarity': 0.6982, 'master_pi': '18337', 'similar_pi': '43309'}, {'similarity': 0.6928, 'master_pi': '18337', 'similar_pi': '9534'}, {'similarity': 0.6894, 'master_pi': '18337', 'similar_pi': '72863'}, {'similarity': 0.6634, 'master_pi': '18337', 'similar_pi': '42667'}, {'similarity': 0.6538, 'master_pi': '18337', 'similar_pi': '72863'}, {'similarity': 0.65, 'master_pi': '18337', 'similar_pi': '39580'}, {'similarity': 0.6365, 'master_pi': '18337', 'similar_pi': '47160'}, {'similarity': 0.628, 'master_pi': '18337', 'similar_pi': '46709'}, {'similarity': 0.6215, 'master_pi': '18337', 'similar_pi': '545'}, {'similarity': 0.6151, 'master_pi': '18337', 'similar_pi': '73087'}, {'similarity': 0.6024, 'master_pi': '18337', 'similar_pi': '69845'}, {'similarity': 1.0, 'master_pi': '23158', 'similar_pi': '23158'}, {'similarity': 0.8426, 'master_pi': '23158', 'similar_pi': '11485'}, {'similarity': 0.8146, 'master_pi': '23158', 'similar_pi': '72863'}, {'similarity': 0.8136, 'master_pi': '23158', 'similar_pi': '72863'}, {'similarity': 0.8114, 'master_pi': '23158', 'similar_pi': '69845'}, {'similarity': 0.8006, 'master_pi': '23158', 'similar_pi': '72863'}, {'similarity': 0.7915, 'master_pi': '23158', 'similar_pi': '34646'}, {'similarity': 0.786, 'master_pi': '23158', 'similar_pi': '18337'}, {'similarity': 0.7602, 'master_pi': '23158', 'similar_pi': '71586'}, {'similarity': 0.7519, 'master_pi': '23158', 'similar_pi': '9534'}, {'similarity': 0.7483, 'master_pi': '23158', 'similar_pi': '43309'}, {'similarity': 0.7251, 'master_pi': '23158', 'similar_pi': '69845'}, {'similarity': 0.7184, 'master_pi': '23158', 'similar_pi': '73087'}, {'similarity': 0.7153, 'master_pi': '23158', 'similar_pi': '46709'}, {'similarity': 0.7124, 'master_pi': '23158', 'similar_pi': '43309'}, {'similarity': 0.7094, 'master_pi': '23158', 'similar_pi': '39580'}, {'similarity': 0.6993, 'master_pi': '23158', 'similar_pi': '77334'}, {'similarity': 0.6891, 'master_pi': '23158', 'similar_pi': '39580'}, {'similarity': 0.6819, 'master_pi': '23158', 'similar_pi': '40595'}, {'similarity': 0.6777, 'master_pi': '23158', 'similar_pi': '50035'}, {'similarity': 1.0, 'master_pi': '26567', 'similar_pi': '26567'}, {'similarity': 0.8779, 'master_pi': '26567', 'similar_pi': '26567'}, {'similarity': 0.7938, 'master_pi': '26567', 'similar_pi': '81289'}, {'similarity': 0.7929, 'master_pi': '26567', 'similar_pi': '50403'}, {'similarity': 0.7824, 'master_pi': '26567', 'similar_pi': '81289'}, {'similarity': 0.778, 'master_pi': '26567', 'similar_pi': '67841'}, {'similarity': 0.7636, 'master_pi': '26567', 'similar_pi': '26567'}, {'similarity': 0.7589, 'master_pi': '26567', 'similar_pi': '43309'}, {'similarity': 0.7521, 'master_pi': '26567', 'similar_pi': '10531'}, {'similarity': 0.7202, 'master_pi': '26567', 'similar_pi': '29224'}, {'similarity': 0.7163, 'master_pi': '26567', 'similar_pi': '34646'}, {'similarity': 0.7133, 'master_pi': '26567', 'similar_pi': '75797'}, {'similarity': 0.7131, 'master_pi': '26567', 'similar_pi': '55676'}, {'similarity': 0.7118, 'master_pi': '26567', 'similar_pi': '35170'}, {'similarity': 0.7094, 'master_pi': '26567', 'similar_pi': '65842'}, {'similarity': 0.7081, 'master_pi': '26567', 'similar_pi': '75797'}, {'similarity': 0.7055, 'master_pi': '26567', 'similar_pi': '65038'}, {'similarity': 0.6999, 'master_pi': '26567', 'similar_pi': '67000'}, {'similarity': 0.6985, 'master_pi': '26567', 'similar_pi': '7605'}, {'similarity': 0.6955, 'master_pi': '26567', 'similar_pi': '40699'}, {'similarity': 1.0, 'master_pi': '26567', 'similar_pi': '26567'}, {'similarity': 0.8779, 'master_pi': '26567', 'similar_pi': '26567'}, {'similarity': 0.7705, 'master_pi': '26567', 'similar_pi': '26567'}, {'similarity': 0.7579, 'master_pi': '26567', 'similar_pi': '50403'}, {'similarity': 0.7318, 'master_pi': '26567', 'similar_pi': '29224'}, {'similarity': 0.7298, 'master_pi': '26567', 'similar_pi': '67000'}, {'similarity': 0.7228, 'master_pi': '26567', 'similar_pi': '67000'}, {'similarity': 0.7215, 'master_pi': '26567', 'similar_pi': '43309'}, {'similarity': 0.721, 'master_pi': '26567', 'similar_pi': '81289'}, {'similarity': 0.7206, 'master_pi': '26567', 'similar_pi': '65842'}, {'similarity': 0.7192, 'master_pi': '26567', 'similar_pi': '81289'}, {'similarity': 0.7138, 'master_pi': '26567', 'similar_pi': '67000'}, {'similarity': 0.7112, 'master_pi': '26567', 'similar_pi': '67841'}, {'similarity': 0.7109, 'master_pi': '26567', 'similar_pi': '10531'}, {'similarity': 0.7099, 'master_pi': '26567', 'similar_pi': '35170'}, {'similarity': 0.7094, 'master_pi': '26567', 'similar_pi': '40699'}, {'similarity': 0.707, 'master_pi': '26567', 'similar_pi': '81289'}, {'similarity': 0.7053, 'master_pi': '26567', 'similar_pi': '55676'}, {'similarity': 0.702, 'master_pi': '26567', 'similar_pi': '75797'}, {'similarity': 0.6982, 'master_pi': '26567', 'similar_pi': '29462'}, {'similarity': 1.0, 'master_pi': '26567', 'similar_pi': '26567'}, {'similarity': 0.7194, 'master_pi': '26567', 'similar_pi': '46709'}, {'similarity': 0.6787, 'master_pi': '26567', 'similar_pi': '42377'}, {'similarity': 0.6695, 'master_pi': '26567', 'similar_pi': '35170'}, {'similarity': 0.6668, 'master_pi': '26567', 'similar_pi': '59301'}, {'similarity': 0.6656, 'master_pi': '26567', 'similar_pi': '50403'}, {'similarity': 0.6588, 'master_pi': '26567', 'similar_pi': '66504'}, {'similarity': 0.6567, 'master_pi': '26567', 'similar_pi': '545'}, {'similarity': 0.6555, 'master_pi': '26567', 'similar_pi': '42377'}, {'similarity': 0.6542, 'master_pi': '26567', 'similar_pi': '65038'}, {'similarity': 0.6496, 'master_pi': '26567', 'similar_pi': '6172'}, {'similarity': 0.6494, 'master_pi': '26567', 'similar_pi': '47160'}, {'similarity': 0.6453, 'master_pi': '26567', 'similar_pi': '43309'}, {'similarity': 0.6441, 'master_pi': '26567', 'similar_pi': '35724'}, {'similarity': 0.6424, 'master_pi': '26567', 'similar_pi': '43193'}, {'similarity': 0.6338, 'master_pi': '26567', 'similar_pi': '43309'}, {'similarity': 0.6325, 'master_pi': '26567', 'similar_pi': '43309'}, {'similarity': 0.6324, 'master_pi': '26567', 'similar_pi': '75797'}, {'similarity': 0.6289, 'master_pi': '26567', 'similar_pi': '10531'}, {'similarity': 0.6248, 'master_pi': '26567', 'similar_pi': '14058'}, {'similarity': 1.0, 'master_pi': '26567', 'similar_pi': '26567'}, {'similarity': 0.7864, 'master_pi': '26567', 'similar_pi': '10531'}, {'similarity': 0.7705, 'master_pi': '26567', 'similar_pi': '26567'}, {'similarity': 0.7636, 'master_pi': '26567', 'similar_pi': '26567'}, {'similarity': 0.7512, 'master_pi': '26567', 'similar_pi': '43309'}, {'similarity': 0.7421, 'master_pi': '26567', 'similar_pi': '46709'}, {'similarity': 0.7404, 'master_pi': '26567', 'similar_pi': '81289'}, {'similarity': 0.733, 'master_pi': '26567', 'similar_pi': '43309'}, {'similarity': 0.7305, 'master_pi': '26567', 'similar_pi': '81289'}, {'similarity': 0.7214, 'master_pi': '26567', 'similar_pi': '7605'}, {'similarity': 0.7165, 'master_pi': '26567', 'similar_pi': '67841'}, {'similarity': 0.7125, 'master_pi': '26567', 'similar_pi': '35170'}, {'similarity': 0.7095, 'master_pi': '26567', 'similar_pi': '65038'}, {'similarity': 0.7095, 'master_pi': '26567', 'similar_pi': '47160'}, {'similarity': 0.7086, 'master_pi': '26567', 'similar_pi': '50403'}, {'similarity': 0.7057, 'master_pi': '26567', 'similar_pi': '29224'}, {'similarity': 0.6962, 'master_pi': '26567', 'similar_pi': '75797'}, {'similarity': 0.6931, 'master_pi': '26567', 'similar_pi': '30293'}, {'similarity': 0.6922, 'master_pi': '26567', 'similar_pi': '75797'}, {'similarity': 0.6889, 'master_pi': '26567', 'similar_pi': '67000'}, {'similarity': 1.0, 'master_pi': '27996', 'similar_pi': '27996'}, {'similarity': 0.7341, 'master_pi': '27996', 'similar_pi': '50035'}, {'similarity': 0.7097, 'master_pi': '27996', 'similar_pi': '52355'}, {'similarity': 0.6982, 'master_pi': '27996', 'similar_pi': '43309'}, {'similarity': 0.6911, 'master_pi': '27996', 'similar_pi': '58315'}, {'similarity': 0.6784, 'master_pi': '27996', 'similar_pi': '67000'}, {'similarity': 0.6737, 'master_pi': '27996', 'similar_pi': '81289'}, {'similarity': 0.671, 'master_pi': '27996', 'similar_pi': '55676'}, {'similarity': 0.6693, 'master_pi': '27996', 'similar_pi': '6738'}, {'similarity': 0.6574, 'master_pi': '27996', 'similar_pi': '43309'}, {'similarity': 0.6477, 'master_pi': '27996', 'similar_pi': '2804'}, {'similarity': 0.6448, 'master_pi': '27996', 'similar_pi': '81289'}, {'similarity': 0.6414, 'master_pi': '27996', 'similar_pi': '26567'}, {'similarity': 0.6403, 'master_pi': '27996', 'similar_pi': '43309'}, {'similarity': 0.639, 'master_pi': '27996', 'similar_pi': '29415'}, {'similarity': 0.6327, 'master_pi': '27996', 'similar_pi': '75797'}, {'similarity': 0.6291, 'master_pi': '27996', 'similar_pi': '67000'}, {'similarity': 0.6256, 'master_pi': '27996', 'similar_pi': '43309'}, {'similarity': 0.6251, 'master_pi': '27996', 'similar_pi': '26567'}, {'similarity': 0.6226, 'master_pi': '27996', 'similar_pi': '81289'}, {'similarity': 1.0, 'master_pi': '2804', 'similar_pi': '2804'}, {'similarity': 0.7279, 'master_pi': '2804', 'similar_pi': '34646'}, {'similarity': 0.719, 'master_pi': '2804', 'similar_pi': '52355'}, {'similarity': 0.7182, 'master_pi': '2804', 'similar_pi': '30293'}, {'similarity': 0.7128, 'master_pi': '2804', 'similar_pi': '55676'}, {'similarity': 0.7099, 'master_pi': '2804', 'similar_pi': '58315'}, {'similarity': 0.6705, 'master_pi': '2804', 'similar_pi': '69845'}, {'similarity': 0.6639, 'master_pi': '2804', 'similar_pi': '58315'}, {'similarity': 0.6578, 'master_pi': '2804', 'similar_pi': '34646'}, {'similarity': 0.6482, 'master_pi': '2804', 'similar_pi': '39580'}, {'similarity': 0.6477, 'master_pi': '2804', 'similar_pi': '27996'}, {'similarity': 0.6441, 'master_pi': '2804', 'similar_pi': '43309'}, {'similarity': 0.6375, 'master_pi': '2804', 'similar_pi': '67000'}, {'similarity': 0.6355, 'master_pi': '2804', 'similar_pi': '39580'}, {'similarity': 0.6348, 'master_pi': '2804', 'similar_pi': '65038'}, {'similarity': 0.6307, 'master_pi': '2804', 'similar_pi': '6738'}, {'similarity': 0.6282, 'master_pi': '2804', 'similar_pi': '72863'}, {'similarity': 0.6259, 'master_pi': '2804', 'similar_pi': '26567'}, {'similarity': 0.6241, 'master_pi': '2804', 'similar_pi': '29415'}, {'similarity': 0.6212, 'master_pi': '2804', 'similar_pi': '34646'}, {'similarity': 1.0, 'master_pi': '29224', 'similar_pi': '29224'}, {'similarity': 0.7649, 'master_pi': '29224', 'similar_pi': '50403'}, {'similarity': 0.7318, 'master_pi': '29224', 'similar_pi': '26567'}, {'similarity': 0.7307, 'master_pi': '29224', 'similar_pi': '35170'}, {'similarity': 0.7202, 'master_pi': '29224', 'similar_pi': '26567'}, {'similarity': 0.7147, 'master_pi': '29224', 'similar_pi': '46709'}, {'similarity': 0.7127, 'master_pi': '29224', 'similar_pi': '47160'}, {'similarity': 0.7118, 'master_pi': '29224', 'similar_pi': '43309'}, {'similarity': 0.7057, 'master_pi': '29224', 'similar_pi': '26567'}, {'similarity': 0.7037, 'master_pi': '29224', 'similar_pi': '67000'}, {'similarity': 0.7031, 'master_pi': '29224', 'similar_pi': '75797'}, {'similarity': 0.6978, 'master_pi': '29224', 'similar_pi': '43309'}, {'similarity': 0.6961, 'master_pi': '29224', 'similar_pi': '14058'}, {'similarity': 0.6921, 'master_pi': '29224', 'similar_pi': '67841'}, {'similarity': 0.6911, 'master_pi': '29224', 'similar_pi': '67000'}, {'similarity': 0.6842, 'master_pi': '29224', 'similar_pi': '55676'}, {'similarity': 0.6782, 'master_pi': '29224', 'similar_pi': '10531'}, {'similarity': 0.6747, 'master_pi': '29224', 'similar_pi': '81289'}, {'similarity': 0.674, 'master_pi': '29224', 'similar_pi': '8867'}, {'similarity': 0.663, 'master_pi': '29224', 'similar_pi': '40699'}, {'similarity': 1.0, 'master_pi': '29415', 'similar_pi': '29415'}, {'similarity': 0.7716, 'master_pi': '29415', 'similar_pi': '65038'}, {'similarity': 0.7553, 'master_pi': '29415', 'similar_pi': '43193'}, {'similarity': 0.7488, 'master_pi': '29415', 'similar_pi': '43309'}, {'similarity': 0.734, 'master_pi': '29415', 'similar_pi': '75797'}, {'similarity': 0.729, 'master_pi': '29415', 'similar_pi': '46709'}, {'similarity': 0.7239, 'master_pi': '29415', 'similar_pi': '42377'}, {'similarity': 0.7238, 'master_pi': '29415', 'similar_pi': '34646'}, {'similarity': 0.7233, 'master_pi': '29415', 'similar_pi': '59301'}, {'similarity': 0.7219, 'master_pi': '29415', 'similar_pi': '66504'}, {'similarity': 0.7194, 'master_pi': '29415', 'similar_pi': '81289'}, {'similarity': 0.715, 'master_pi': '29415', 'similar_pi': '69845'}, {'similarity': 0.714, 'master_pi': '29415', 'similar_pi': '43309'}, {'similarity': 0.7017, 'master_pi': '29415', 'similar_pi': '69196'}, {'similarity': 0.7006, 'master_pi': '29415', 'similar_pi': '35170'}, {'similarity': 0.688, 'master_pi': '29415', 'similar_pi': '52355'}, {'similarity': 0.6867, 'master_pi': '29415', 'similar_pi': '50035'}, {'similarity': 0.685, 'master_pi': '29415', 'similar_pi': '65842'}, {'similarity': 0.685, 'master_pi': '29415', 'similar_pi': '43309'}, {'similarity': 0.6841, 'master_pi': '29415', 'similar_pi': '55676'}, {'similarity': 1.0, 'master_pi': '29462', 'similar_pi': '29462'}, {'similarity': 0.804, 'master_pi': '29462', 'similar_pi': '81289'}, {'similarity': 0.7865, 'master_pi': '29462', 'similar_pi': '75797'}, {'similarity': 0.7704, 'master_pi': '29462', 'similar_pi': '43309'}, {'similarity': 0.74, 'master_pi': '29462', 'similar_pi': '10531'}, {'similarity': 0.738, 'master_pi': '29462', 'similar_pi': '30293'}, {'similarity': 0.7379, 'master_pi': '29462', 'similar_pi': '42377'}, {'similarity': 0.7363, 'master_pi': '29462', 'similar_pi': '75797'}, {'similarity': 0.7355, 'master_pi': '29462', 'similar_pi': '50035'}, {'similarity': 0.7321, 'master_pi': '29462', 'similar_pi': '44323'}, {'similarity': 0.7306, 'master_pi': '29462', 'similar_pi': '65842'}, {'similarity': 0.7302, 'master_pi': '29462', 'similar_pi': '42377'}, {'similarity': 0.7279, 'master_pi': '29462', 'similar_pi': '69845'}, {'similarity': 0.7228, 'master_pi': '29462', 'similar_pi': '77334'}, {'similarity': 0.7196, 'master_pi': '29462', 'similar_pi': '77334'}, {'similarity': 0.7187, 'master_pi': '29462', 'similar_pi': '81289'}, {'similarity': 0.714, 'master_pi': '29462', 'similar_pi': '77334'}, {'similarity': 0.7131, 'master_pi': '29462', 'similar_pi': '29462'}, {'similarity': 0.713, 'master_pi': '29462', 'similar_pi': '72863'}, {'similarity': 0.7101, 'master_pi': '29462', 'similar_pi': '34646'}, {'similarity': 1.0, 'master_pi': '29462', 'similar_pi': '29462'}, {'similarity': 0.8059, 'master_pi': '29462', 'similar_pi': '75797'}, {'similarity': 0.7902, 'master_pi': '29462', 'similar_pi': '81289'}, {'similarity': 0.7884, 'master_pi': '29462', 'similar_pi': '43309'}, {'similarity': 0.7832, 'master_pi': '29462', 'similar_pi': '47160'}, {'similarity': 0.7767, 'master_pi': '29462', 'similar_pi': '69845'}, {'similarity': 0.7737, 'master_pi': '29462', 'similar_pi': '39580'}, {'similarity': 0.7731, 'master_pi': '29462', 'similar_pi': '10531'}, {'similarity': 0.7648, 'master_pi': '29462', 'similar_pi': '46709'}, {'similarity': 0.7616, 'master_pi': '29462', 'similar_pi': '44323'}, {'similarity': 0.7595, 'master_pi': '29462', 'similar_pi': '43309'}, {'similarity': 0.7557, 'master_pi': '29462', 'similar_pi': '42377'}, {'similarity': 0.7422, 'master_pi': '29462', 'similar_pi': '50035'}, {'similarity': 0.7337, 'master_pi': '29462', 'similar_pi': '40595'}, {'similarity': 0.7317, 'master_pi': '29462', 'similar_pi': '77334'}, {'similarity': 0.7155, 'master_pi': '29462', 'similar_pi': '81289'}, {'similarity': 0.7153, 'master_pi': '29462', 'similar_pi': '75797'}, {'similarity': 0.7139, 'master_pi': '29462', 'similar_pi': '72863'}, {'similarity': 0.7139, 'master_pi': '29462', 'similar_pi': '11485'}, {'similarity': 0.7131, 'master_pi': '29462', 'similar_pi': '29462'}, {'similarity': 1.0, 'master_pi': '30293', 'similar_pi': '30293'}, {'similarity': 0.7393, 'master_pi': '30293', 'similar_pi': '34646'}, {'similarity': 0.7182, 'master_pi': '30293', 'similar_pi': '2804'}, {'similarity': 0.7115, 'master_pi': '30293', 'similar_pi': '55676'}, {'similarity': 0.6864, 'master_pi': '30293', 'similar_pi': '67000'}, {'similarity': 0.6839, 'master_pi': '30293', 'similar_pi': '58315'}, {'similarity': 0.6813, 'master_pi': '30293', 'similar_pi': '67000'}, {'similarity': 0.6784, 'master_pi': '30293', 'similar_pi': '39580'}, {'similarity': 0.6768, 'master_pi': '30293', 'similar_pi': '52355'}, {'similarity': 0.6749, 'master_pi': '30293', 'similar_pi': '67000'}, {'similarity': 0.6655, 'master_pi': '30293', 'similar_pi': '75797'}, {'similarity': 0.6483, 'master_pi': '30293', 'similar_pi': '72863'}, {'similarity': 0.6362, 'master_pi': '30293', 'similar_pi': '34646'}, {'similarity': 0.6347, 'master_pi': '30293', 'similar_pi': '75797'}, {'similarity': 0.6335, 'master_pi': '30293', 'similar_pi': '15759'}, {'similarity': 0.6264, 'master_pi': '30293', 'similar_pi': '43309'}, {'similarity': 0.6237, 'master_pi': '30293', 'similar_pi': '39580'}, {'similarity': 0.6214, 'master_pi': '30293', 'similar_pi': '36756'}, {'similarity': 0.6208, 'master_pi': '30293', 'similar_pi': '26567'}, {'similarity': 0.6149, 'master_pi': '30293', 'similar_pi': '73087'}, {'similarity': 1.0, 'master_pi': '30293', 'similar_pi': '30293'}, {'similarity': 0.7672, 'master_pi': '30293', 'similar_pi': '75797'}, {'similarity': 0.7454, 'master_pi': '30293', 'similar_pi': '10531'}, {'similarity': 0.7439, 'master_pi': '30293', 'similar_pi': '81289'}, {'similarity': 0.7418, 'master_pi': '30293', 'similar_pi': '81289'}, {'similarity': 0.738, 'master_pi': '30293', 'similar_pi': '29462'}, {'similarity': 0.7357, 'master_pi': '30293', 'similar_pi': '81289'}, {'similarity': 0.7289, 'master_pi': '30293', 'similar_pi': '65501'}, {'similarity': 0.7205, 'master_pi': '30293', 'similar_pi': '43309'}, {'similarity': 0.7085, 'master_pi': '30293', 'similar_pi': '50035'}, {'similarity': 0.7019, 'master_pi': '30293', 'similar_pi': '6095'}, {'similarity': 0.7, 'master_pi': '30293', 'similar_pi': '75797'}, {'similarity': 0.6947, 'master_pi': '30293', 'similar_pi': '26567'}, {'similarity': 0.6934, 'master_pi': '30293', 'similar_pi': '50403'}, {'similarity': 0.6931, 'master_pi': '30293', 'similar_pi': '26567'}, {'similarity': 0.692, 'master_pi': '30293', 'similar_pi': '42377'}, {'similarity': 0.6912, 'master_pi': '30293', 'similar_pi': '59595'}, {'similarity': 0.684, 'master_pi': '30293', 'similar_pi': '34646'}, {'similarity': 0.6831, 'master_pi': '30293', 'similar_pi': '29462'}, {'similarity': 0.6829, 'master_pi': '30293', 'similar_pi': '67841'}, {'similarity': 1.0, 'master_pi': '34646', 'similar_pi': '34646'}, {'similarity': 0.877, 'master_pi': '34646', 'similar_pi': '34646'}, {'similarity': 0.7814, 'master_pi': '34646', 'similar_pi': '35170'}, {'similarity': 0.7453, 'master_pi': '34646', 'similar_pi': '67000'}, {'similarity': 0.7434, 'master_pi': '34646', 'similar_pi': '75797'}, {'similarity': 0.7303, 'master_pi': '34646', 'similar_pi': '46709'}, {'similarity': 0.7163, 'master_pi': '34646', 'similar_pi': '26567'}, {'similarity': 0.7158, 'master_pi': '34646', 'similar_pi': '59301'}, {'similarity': 0.7153, 'master_pi': '34646', 'similar_pi': '43309'}, {'similarity': 0.7089, 'master_pi': '34646', 'similar_pi': '77334'}, {'similarity': 0.7049, 'master_pi': '34646', 'similar_pi': '55676'}, {'similarity': 0.7018, 'master_pi': '34646', 'similar_pi': '39580'}, {'similarity': 0.7009, 'master_pi': '34646', 'similar_pi': '75797'}, {'similarity': 0.7001, 'master_pi': '34646', 'similar_pi': '67841'}, {'similarity': 0.6968, 'master_pi': '34646', 'similar_pi': '81289'}, {'similarity': 0.694, 'master_pi': '34646', 'similar_pi': '77334'}, {'similarity': 0.6913, 'master_pi': '34646', 'similar_pi': '81289'}, {'similarity': 0.6874, 'master_pi': '34646', 'similar_pi': '65038'}, {'similarity': 0.6871, 'master_pi': '34646', 'similar_pi': '43193'}, {'similarity': 0.6847, 'master_pi': '34646', 'similar_pi': '39580'}, {'similarity': 1.0, 'master_pi': '34646', 'similar_pi': '34646'}, {'similarity': 0.877, 'master_pi': '34646', 'similar_pi': '34646'}, {'similarity': 0.7896, 'master_pi': '34646', 'similar_pi': '35170'}, {'similarity': 0.7761, 'master_pi': '34646', 'similar_pi': '75797'}, {'similarity': 0.776, 'master_pi': '34646', 'similar_pi': '46709'}, {'similarity': 0.7712, 'master_pi': '34646', 'similar_pi': '75797'}, {'similarity': 0.7604, 'master_pi': '34646', 'similar_pi': '67000'}, {'similarity': 0.7568, 'master_pi': '34646', 'similar_pi': '59301'}, {'similarity': 0.7561, 'master_pi': '34646', 'similar_pi': '39580'}, {'similarity': 0.7491, 'master_pi': '34646', 'similar_pi': '77334'}, {'similarity': 0.7367, 'master_pi': '34646', 'similar_pi': '77334'}, {'similarity': 0.7331, 'master_pi': '34646', 'similar_pi': '65038'}, {'similarity': 0.7255, 'master_pi': '34646', 'similar_pi': '72863'}, {'similarity': 0.7248, 'master_pi': '34646', 'similar_pi': '43309'}, {'similarity': 0.7238, 'master_pi': '34646', 'similar_pi': '29415'}, {'similarity': 0.7169, 'master_pi': '34646', 'similar_pi': '55676'}, {'similarity': 0.7161, 'master_pi': '34646', 'similar_pi': '50035'}, {'similarity': 0.712, 'master_pi': '34646', 'similar_pi': '43193'}, {'similarity': 0.7104, 'master_pi': '34646', 'similar_pi': '39580'}, {'similarity': 0.7103, 'master_pi': '34646', 'similar_pi': '72863'}, {'similarity': 1.0, 'master_pi': '34646', 'similar_pi': '34646'}, {'similarity': 0.8337, 'master_pi': '34646', 'similar_pi': '18337'}, {'similarity': 0.8302, 'master_pi': '34646', 'similar_pi': '69845'}, {'similarity': 0.7915, 'master_pi': '34646', 'similar_pi': '23158'}, {'similarity': 0.7907, 'master_pi': '34646', 'similar_pi': '72863'}, {'similarity': 0.7439, 'master_pi': '34646', 'similar_pi': '9534'}, {'similarity': 0.7246, 'master_pi': '34646', 'similar_pi': '71586'}, {'similarity': 0.7086, 'master_pi': '34646', 'similar_pi': '72863'}, {'similarity': 0.7054, 'master_pi': '34646', 'similar_pi': '11485'}, {'similarity': 0.6739, 'master_pi': '34646', 'similar_pi': '72863'}, {'similarity': 0.6468, 'master_pi': '34646', 'similar_pi': '52355'}, {'similarity': 0.6464, 'master_pi': '34646', 'similar_pi': '39580'}, {'similarity': 0.6462, 'master_pi': '34646', 'similar_pi': '73087'}, {'similarity': 0.6354, 'master_pi': '34646', 'similar_pi': '43309'}, {'similarity': 0.6267, 'master_pi': '34646', 'similar_pi': '69845'}, {'similarity': 0.6242, 'master_pi': '34646', 'similar_pi': '9534'}, {'similarity': 0.6135, 'master_pi': '34646', 'similar_pi': '62766'}, {'similarity': 0.6015, 'master_pi': '34646', 'similar_pi': '40595'}, {'similarity': 0.5994, 'master_pi': '34646', 'similar_pi': '43309'}, {'similarity': 0.5974, 'master_pi': '34646', 'similar_pi': '50035'}, {'similarity': 1.0, 'master_pi': '34646', 'similar_pi': '34646'}, {'similarity': 0.7437, 'master_pi': '34646', 'similar_pi': '65842'}, {'similarity': 0.7393, 'master_pi': '34646', 'similar_pi': '30293'}, {'similarity': 0.7311, 'master_pi': '34646', 'similar_pi': '58315'}, {'similarity': 0.7279, 'master_pi': '34646', 'similar_pi': '2804'}, {'similarity': 0.7246, 'master_pi': '34646', 'similar_pi': '52355'}, {'similarity': 0.72, 'master_pi': '34646', 'similar_pi': '55676'}, {'similarity': 0.716, 'master_pi': '34646', 'similar_pi': '75797'}, {'similarity': 0.7157, 'master_pi': '34646', 'similar_pi': '43309'}, {'similarity': 0.7142, 'master_pi': '34646', 'similar_pi': '75797'}, {'similarity': 0.7101, 'master_pi': '34646', 'similar_pi': '29462'}, {'similarity': 0.7066, 'master_pi': '34646', 'similar_pi': '39580'}, {'similarity': 0.7046, 'master_pi': '34646', 'similar_pi': '75797'}, {'similarity': 0.7037, 'master_pi': '34646', 'similar_pi': '15759'}, {'similarity': 0.699, 'master_pi': '34646', 'similar_pi': '69845'}, {'similarity': 0.695, 'master_pi': '34646', 'similar_pi': '67000'}, {'similarity': 0.6905, 'master_pi': '34646', 'similar_pi': '44323'}, {'similarity': 0.685, 'master_pi': '34646', 'similar_pi': '50035'}, {'similarity': 0.684, 'master_pi': '34646', 'similar_pi': '30293'}, {'similarity': 0.6838, 'master_pi': '34646', 'similar_pi': '26567'}, {'similarity': 1.0, 'master_pi': '35170', 'similar_pi': '35170'}, {'similarity': 0.8359, 'master_pi': '35170', 'similar_pi': '46709'}, {'similarity': 0.8285, 'master_pi': '35170', 'similar_pi': '59301'}, {'similarity': 0.799, 'master_pi': '35170', 'similar_pi': '69196'}, {'similarity': 0.7898, 'master_pi': '35170', 'similar_pi': '69856'}, {'similarity': 0.7896, 'master_pi': '35170', 'similar_pi': '34646'}, {'similarity': 0.7814, 'master_pi': '35170', 'similar_pi': '34646'}, {'similarity': 0.7769, 'master_pi': '35170', 'similar_pi': '50403'}, {'similarity': 0.7686, 'master_pi': '35170', 'similar_pi': '40699'}, {'similarity': 0.7642, 'master_pi': '35170', 'similar_pi': '67000'}, {'similarity': 0.7604, 'master_pi': '35170', 'similar_pi': '35724'}, {'similarity': 0.7533, 'master_pi': '35170', 'similar_pi': '43193'}, {'similarity': 0.7466, 'master_pi': '35170', 'similar_pi': '43309'}, {'similarity': 0.7406, 'master_pi': '35170', 'similar_pi': '14058'}, {'similarity': 0.7307, 'master_pi': '35170', 'similar_pi': '29224'}, {'similarity': 0.7282, 'master_pi': '35170', 'similar_pi': '67000'}, {'similarity': 0.7276, 'master_pi': '35170', 'similar_pi': '75797'}, {'similarity': 0.7225, 'master_pi': '35170', 'similar_pi': '66504'}, {'similarity': 0.7216, 'master_pi': '35170', 'similar_pi': '545'}, {'similarity': 0.7175, 'master_pi': '35170', 'similar_pi': '55676'}, {'similarity': 1.0, 'master_pi': '35724', 'similar_pi': '35724'}, {'similarity': 0.7691, 'master_pi': '35724', 'similar_pi': '46709'}, {'similarity': 0.7623, 'master_pi': '35724', 'similar_pi': '66504'}, {'similarity': 0.7604, 'master_pi': '35724', 'similar_pi': '35170'}, {'similarity': 0.7239, 'master_pi': '35724', 'similar_pi': '67000'}, {'similarity': 0.6885, 'master_pi': '35724', 'similar_pi': '59301'}, {'similarity': 0.6829, 'master_pi': '35724', 'similar_pi': '545'}, {'similarity': 0.6779, 'master_pi': '35724', 'similar_pi': '69856'}, {'similarity': 0.6743, 'master_pi': '35724', 'similar_pi': '65038'}, {'similarity': 0.6716, 'master_pi': '35724', 'similar_pi': '34646'}, {'similarity': 0.6703, 'master_pi': '35724', 'similar_pi': '43309'}, {'similarity': 0.6698, 'master_pi': '35724', 'similar_pi': '14058'}, {'similarity': 0.665, 'master_pi': '35724', 'similar_pi': '47160'}, {'similarity': 0.6596, 'master_pi': '35724', 'similar_pi': '26567'}, {'similarity': 0.6559, 'master_pi': '35724', 'similar_pi': '11485'}, {'similarity': 0.6556, 'master_pi': '35724', 'similar_pi': '42377'}, {'similarity': 0.6544, 'master_pi': '35724', 'similar_pi': '69196'}, {'similarity': 0.653, 'master_pi': '35724', 'similar_pi': '7605'}, {'similarity': 0.6527, 'master_pi': '35724', 'similar_pi': '34646'}, {'similarity': 0.6465, 'master_pi': '35724', 'similar_pi': '39580'}, {'similarity': 1.0, 'master_pi': '36756', 'similar_pi': '36756'}, {'similarity': 0.8918, 'master_pi': '36756', 'similar_pi': '36756'}, {'similarity': 0.8049, 'master_pi': '36756', 'similar_pi': '36756'}, {'similarity': 0.7092, 'master_pi': '36756', 'similar_pi': '36756'}, {'similarity': 0.6947, 'master_pi': '36756', 'similar_pi': '8867'}, {'similarity': 0.6918, 'master_pi': '36756', 'similar_pi': '39580'}, {'similarity': 0.6903, 'master_pi': '36756', 'similar_pi': '59595'}, {'similarity': 0.6689, 'master_pi': '36756', 'similar_pi': '39580'}, {'similarity': 0.6623, 'master_pi': '36756', 'similar_pi': '35170'}, {'similarity': 0.6578, 'master_pi': '36756', 'similar_pi': '43309'}, {'similarity': 0.648, 'master_pi': '36756', 'similar_pi': '67000'}, {'similarity': 0.6461, 'master_pi': '36756', 'similar_pi': '29224'}, {'similarity': 0.6386, 'master_pi': '36756', 'similar_pi': '15759'}, {'similarity': 0.635, 'master_pi': '36756', 'similar_pi': '65842'}, {'similarity': 0.63, 'master_pi': '36756', 'similar_pi': '26567'}, {'similarity': 0.629, 'master_pi': '36756', 'similar_pi': '26567'}, {'similarity': 0.629, 'master_pi': '36756', 'similar_pi': '75797'}, {'similarity': 0.6265, 'master_pi': '36756', 'similar_pi': '59301'}, {'similarity': 0.6243, 'master_pi': '36756', 'similar_pi': '6095'}, {'similarity': 0.623, 'master_pi': '36756', 'similar_pi': '50403'}, {'similarity': 1.0, 'master_pi': '36756', 'similar_pi': '36756'}, {'similarity': 0.8918, 'master_pi': '36756', 'similar_pi': '36756'}, {'similarity': 0.8701, 'master_pi': '36756', 'similar_pi': '36756'}, {'similarity': 0.7646, 'master_pi': '36756', 'similar_pi': '36756'}, {'similarity': 0.6926, 'master_pi': '36756', 'similar_pi': '39580'}, {'similarity': 0.6599, 'master_pi': '36756', 'similar_pi': '8867'}, {'similarity': 0.6593, 'master_pi': '36756', 'similar_pi': '43309'}, {'similarity': 0.6562, 'master_pi': '36756', 'similar_pi': '59595'}, {'similarity': 0.6538, 'master_pi': '36756', 'similar_pi': '15759'}, {'similarity': 0.6513, 'master_pi': '36756', 'similar_pi': '39580'}, {'similarity': 0.6485, 'master_pi': '36756', 'similar_pi': '55676'}, {'similarity': 0.6432, 'master_pi': '36756', 'similar_pi': '67000'}, {'similarity': 0.6345, 'master_pi': '36756', 'similar_pi': '75797'}, {'similarity': 0.6298, 'master_pi': '36756', 'similar_pi': '43193'}, {'similarity': 0.6273, 'master_pi': '36756', 'similar_pi': '43309'}, {'similarity': 0.6256, 'master_pi': '36756', 'similar_pi': '35170'}, {'similarity': 0.6214, 'master_pi': '36756', 'similar_pi': '30293'}, {'similarity': 0.618, 'master_pi': '36756', 'similar_pi': '29224'}, {'similarity': 0.6172, 'master_pi': '36756', 'similar_pi': '34646'}, {'similarity': 0.6152, 'master_pi': '36756', 'similar_pi': '46709'}, {'similarity': 1.0, 'master_pi': '36756', 'similar_pi': '36756'}, {'similarity': 0.8701, 'master_pi': '36756', 'similar_pi': '36756'}, {'similarity': 0.8049, 'master_pi': '36756', 'similar_pi': '36756'}, {'similarity': 0.7583, 'master_pi': '36756', 'similar_pi': '36756'}, {'similarity': 0.6927, 'master_pi': '36756', 'similar_pi': '39580'}, {'similarity': 0.6703, 'master_pi': '36756', 'similar_pi': '59595'}, {'similarity': 0.6569, 'master_pi': '36756', 'similar_pi': '43309'}, {'similarity': 0.6529, 'master_pi': '36756', 'similar_pi': '29462'}, {'similarity': 0.6528, 'master_pi': '36756', 'similar_pi': '77334'}, {'similarity': 0.6481, 'master_pi': '36756', 'similar_pi': '8867'}, {'similarity': 0.6459, 'master_pi': '36756', 'similar_pi': '75797'}, {'similarity': 0.6433, 'master_pi': '36756', 'similar_pi': '67000'}, {'similarity': 0.6432, 'master_pi': '36756', 'similar_pi': '43193'}, {'similarity': 0.6422, 'master_pi': '36756', 'similar_pi': '15759'}, {'similarity': 0.639, 'master_pi': '36756', 'similar_pi': '44323'}, {'similarity': 0.6378, 'master_pi': '36756', 'similar_pi': '39580'}, {'similarity': 0.6339, 'master_pi': '36756', 'similar_pi': '34646'}, {'similarity': 0.6336, 'master_pi': '36756', 'similar_pi': '43309'}, {'similarity': 0.6327, 'master_pi': '36756', 'similar_pi': '46709'}, {'similarity': 0.6291, 'master_pi': '36756', 'similar_pi': '55676'}, {'similarity': 1.0, 'master_pi': '36756', 'similar_pi': '36756'}, {'similarity': 0.7646, 'master_pi': '36756', 'similar_pi': '36756'}, {'similarity': 0.7583, 'master_pi': '36756', 'similar_pi': '36756'}, {'similarity': 0.7092, 'master_pi': '36756', 'similar_pi': '36756'}, {'similarity': 0.6267, 'master_pi': '36756', 'similar_pi': '43309'}, {'similarity': 0.6111, 'master_pi': '36756', 'similar_pi': '65038'}, {'similarity': 0.6076, 'master_pi': '36756', 'similar_pi': '55676'}, {'similarity': 0.604, 'master_pi': '36756', 'similar_pi': '39580'}, {'similarity': 0.5898, 'master_pi': '36756', 'similar_pi': '15759'}, {'similarity': 0.5885, 'master_pi': '36756', 'similar_pi': '71586'}, {'similarity': 0.5872, 'master_pi': '36756', 'similar_pi': '34646'}, {'similarity': 0.5811, 'master_pi': '36756', 'similar_pi': '8867'}, {'similarity': 0.5789, 'master_pi': '36756', 'similar_pi': '52355'}, {'similarity': 0.5776, 'master_pi': '36756', 'similar_pi': '42377'}, {'similarity': 0.5735, 'master_pi': '36756', 'similar_pi': '7605'}, {'similarity': 0.5723, 'master_pi': '36756', 'similar_pi': '2804'}, {'similarity': 0.5679, 'master_pi': '36756', 'similar_pi': '6738'}, {'similarity': 0.5669, 'master_pi': '36756', 'similar_pi': '39580'}, {'similarity': 0.565, 'master_pi': '36756', 'similar_pi': '72863'}, {'similarity': 0.5648, 'master_pi': '36756', 'similar_pi': '65842'}, {'similarity': 1.0, 'master_pi': '39580', 'similar_pi': '39580'}, {'similarity': 0.769, 'master_pi': '39580', 'similar_pi': '39580'}, {'similarity': 0.7048, 'master_pi': '39580', 'similar_pi': '75797'}, {'similarity': 0.7012, 'master_pi': '39580', 'similar_pi': '34646'}, {'similarity': 0.6915, 'master_pi': '39580', 'similar_pi': '50035'}, {'similarity': 0.6841, 'master_pi': '39580', 'similar_pi': '81289'}, {'similarity': 0.6821, 'master_pi': '39580', 'similar_pi': '77334'}, {'similarity': 0.6798, 'master_pi': '39580', 'similar_pi': '75797'}, {'similarity': 0.6731, 'master_pi': '39580', 'similar_pi': '81433'}, {'similarity': 0.6706, 'master_pi': '39580', 'similar_pi': '43309'}, {'similarity': 0.6689, 'master_pi': '39580', 'similar_pi': '36756'}, {'similarity': 0.6665, 'master_pi': '39580', 'similar_pi': '77334'}, {'similarity': 0.6659, 'master_pi': '39580', 'similar_pi': '26567'}, {'similarity': 0.664, 'master_pi': '39580', 'similar_pi': '35170'}, {'similarity': 0.6609, 'master_pi': '39580', 'similar_pi': '7605'}, {'similarity': 0.6581, 'master_pi': '39580', 'similar_pi': '10531'}, {'similarity': 0.6577, 'master_pi': '39580', 'similar_pi': '26567'}, {'similarity': 0.6566, 'master_pi': '39580', 'similar_pi': '29462'}, {'similarity': 0.6555, 'master_pi': '39580', 'similar_pi': '67000'}, {'similarity': 0.6513, 'master_pi': '39580', 'similar_pi': '36756'}, {'similarity': 1.0, 'master_pi': '39580', 'similar_pi': '39580'}, {'similarity': 0.769, 'master_pi': '39580', 'similar_pi': '39580'}, {'similarity': 0.7458, 'master_pi': '39580', 'similar_pi': '43309'}, {'similarity': 0.7361, 'master_pi': '39580', 'similar_pi': '75797'}, {'similarity': 0.7286, 'master_pi': '39580', 'similar_pi': '75797'}, {'similarity': 0.7242, 'master_pi': '39580', 'similar_pi': '81289'}, {'similarity': 0.7229, 'master_pi': '39580', 'similar_pi': '50035'}, {'similarity': 0.7202, 'master_pi': '39580', 'similar_pi': '65842'}, {'similarity': 0.7131, 'master_pi': '39580', 'similar_pi': '81289'}, {'similarity': 0.7114, 'master_pi': '39580', 'similar_pi': '10531'}, {'similarity': 0.7104, 'master_pi': '39580', 'similar_pi': '34646'}, {'similarity': 0.7078, 'master_pi': '39580', 'similar_pi': '81289'}, {'similarity': 0.7066, 'master_pi': '39580', 'similar_pi': '34646'}, {'similarity': 0.7008, 'master_pi': '39580', 'similar_pi': '29462'}, {'similarity': 0.7001, 'master_pi': '39580', 'similar_pi': '29462'}, {'similarity': 0.6938, 'master_pi': '39580', 'similar_pi': '26567'}, {'similarity': 0.6927, 'master_pi': '39580', 'similar_pi': '36756'}, {'similarity': 0.6926, 'master_pi': '39580', 'similar_pi': '36756'}, {'similarity': 0.6918, 'master_pi': '39580', 'similar_pi': '36756'}, {'similarity': 0.6912, 'master_pi': '39580', 'similar_pi': '35170'}, {'similarity': 1.0, 'master_pi': '39580', 'similar_pi': '39580'}, {'similarity': 0.778, 'master_pi': '39580', 'similar_pi': '46709'}, {'similarity': 0.7751, 'master_pi': '39580', 'similar_pi': '55676'}, {'similarity': 0.7633, 'master_pi': '39580', 'similar_pi': '72863'}, {'similarity': 0.7561, 'master_pi': '39580', 'similar_pi': '34646'}, {'similarity': 0.7545, 'master_pi': '39580', 'similar_pi': '72863'}, {'similarity': 0.735, 'master_pi': '39580', 'similar_pi': '77334'}, {'similarity': 0.7235, 'master_pi': '39580', 'similar_pi': '59301'}, {'similarity': 0.7189, 'master_pi': '39580', 'similar_pi': '43309'}, {'similarity': 0.7147, 'master_pi': '39580', 'similar_pi': '77334'}, {'similarity': 0.7126, 'master_pi': '39580', 'similar_pi': '65038'}, {'similarity': 0.7094, 'master_pi': '39580', 'similar_pi': '23158'}, {'similarity': 0.7051, 'master_pi': '39580', 'similar_pi': '67000'}, {'similarity': 0.7039, 'master_pi': '39580', 'similar_pi': '71586'}, {'similarity': 0.7027, 'master_pi': '39580', 'similar_pi': '75797'}, {'similarity': 0.7018, 'master_pi': '39580', 'similar_pi': '34646'}, {'similarity': 0.7012, 'master_pi': '39580', 'similar_pi': '43309'}, {'similarity': 0.7006, 'master_pi': '39580', 'similar_pi': '72863'}, {'similarity': 0.6922, 'master_pi': '39580', 'similar_pi': '11485'}, {'similarity': 0.6865, 'master_pi': '39580', 'similar_pi': '9534'}, {'similarity': 1.0, 'master_pi': '39580', 'similar_pi': '39580'}, {'similarity': 0.7789, 'master_pi': '39580', 'similar_pi': '40595'}, {'similarity': 0.7785, 'master_pi': '39580', 'similar_pi': '47160'}, {'similarity': 0.7737, 'master_pi': '39580', 'similar_pi': '29462'}, {'similarity': 0.7601, 'master_pi': '39580', 'similar_pi': '11485'}, {'similarity': 0.7511, 'master_pi': '39580', 'similar_pi': '43309'}, {'similarity': 0.7231, 'master_pi': '39580', 'similar_pi': '42377'}, {'similarity': 0.722, 'master_pi': '39580', 'similar_pi': '44323'}, {'similarity': 0.7176, 'master_pi': '39580', 'similar_pi': '71586'}, {'similarity': 0.7167, 'master_pi': '39580', 'similar_pi': '46709'}, {'similarity': 0.7142, 'master_pi': '39580', 'similar_pi': '10531'}, {'similarity': 0.71, 'master_pi': '39580', 'similar_pi': '69845'}, {'similarity': 0.6929, 'master_pi': '39580', 'similar_pi': '72863'}, {'similarity': 0.6891, 'master_pi': '39580', 'similar_pi': '23158'}, {'similarity': 0.6826, 'master_pi': '39580', 'similar_pi': '75797'}, {'similarity': 0.6786, 'master_pi': '39580', 'similar_pi': '545'}, {'similarity': 0.6773, 'master_pi': '39580', 'similar_pi': '65038'}, {'similarity': 0.6763, 'master_pi': '39580', 'similar_pi': '67841'}, {'similarity': 0.6754, 'master_pi': '39580', 'similar_pi': '72863'}, {'similarity': 0.6716, 'master_pi': '39580', 'similar_pi': '43309'}, {'similarity': 1.0, 'master_pi': '40595', 'similar_pi': '40595'}, {'similarity': 0.7946, 'master_pi': '40595', 'similar_pi': '69845'}, {'similarity': 0.7789, 'master_pi': '40595', 'similar_pi': '39580'}, {'similarity': 0.761, 'master_pi': '40595', 'similar_pi': '6738'}, {'similarity': 0.7577, 'master_pi': '40595', 'similar_pi': '71586'}, {'similarity': 0.7529, 'master_pi': '40595', 'similar_pi': '42377'}, {'similarity': 0.7387, 'master_pi': '40595', 'similar_pi': '65038'}, {'similarity': 0.7337, 'master_pi': '40595', 'similar_pi': '29462'}, {'similarity': 0.7287, 'master_pi': '40595', 'similar_pi': '11485'}, {'similarity': 0.7269, 'master_pi': '40595', 'similar_pi': '46709'}, {'similarity': 0.724, 'master_pi': '40595', 'similar_pi': '40595'}, {'similarity': 0.7207, 'master_pi': '40595', 'similar_pi': '75797'}, {'similarity': 0.718, 'master_pi': '40595', 'similar_pi': '545'}, {'similarity': 0.7174, 'master_pi': '40595', 'similar_pi': '44323'}, {'similarity': 0.6965, 'master_pi': '40595', 'similar_pi': '43309'}, {'similarity': 0.6942, 'master_pi': '40595', 'similar_pi': '72863'}, {'similarity': 0.6939, 'master_pi': '40595', 'similar_pi': '42377'}, {'similarity': 0.6918, 'master_pi': '40595', 'similar_pi': '43309'}, {'similarity': 0.6819, 'master_pi': '40595', 'similar_pi': '23158'}, {'similarity': 0.6803, 'master_pi': '40595', 'similar_pi': '77334'}, {'similarity': 1.0, 'master_pi': '40595', 'similar_pi': '40595'}, {'similarity': 0.7296, 'master_pi': '40595', 'similar_pi': '6738'}, {'similarity': 0.724, 'master_pi': '40595', 'similar_pi': '40595'}, {'similarity': 0.7126, 'master_pi': '40595', 'similar_pi': '42377'}, {'similarity': 0.6687, 'master_pi': '40595', 'similar_pi': '42377'}, {'similarity': 0.6553, 'master_pi': '40595', 'similar_pi': '44323'}, {'similarity': 0.6513, 'master_pi': '40595', 'similar_pi': '75797'}, {'similarity': 0.6508, 'master_pi': '40595', 'similar_pi': '69845'}, {'similarity': 0.6345, 'master_pi': '40595', 'similar_pi': '29462'}, {'similarity': 0.6118, 'master_pi': '40595', 'similar_pi': '29462'}, {'similarity': 0.605, 'master_pi': '40595', 'similar_pi': '7605'}, {'similarity': 0.6043, 'master_pi': '40595', 'similar_pi': '75797'}, {'similarity': 0.5986, 'master_pi': '40595', 'similar_pi': '65038'}, {'similarity': 0.5943, 'master_pi': '40595', 'similar_pi': '34646'}, {'similarity': 0.5835, 'master_pi': '40595', 'similar_pi': '46709'}, {'similarity': 0.5788, 'master_pi': '40595', 'similar_pi': '15759'}, {'similarity': 0.5736, 'master_pi': '40595', 'similar_pi': '81289'}, {'similarity': 0.5694, 'master_pi': '40595', 'similar_pi': '10531'}, {'similarity': 0.5679, 'master_pi': '40595', 'similar_pi': '65501'}, {'similarity': 0.5677, 'master_pi': '40595', 'similar_pi': '65842'}, {'similarity': 1.0, 'master_pi': '40595', 'similar_pi': '40595'}, {'similarity': 0.7203, 'master_pi': '40595', 'similar_pi': '62766'}, {'similarity': 0.7149, 'master_pi': '40595', 'similar_pi': '50035'}, {'similarity': 0.713, 'master_pi': '40595', 'similar_pi': '40595'}, {'similarity': 0.6948, 'master_pi': '40595', 'similar_pi': '11485'}, {'similarity': 0.6702, 'master_pi': '40595', 'similar_pi': '39580'}, {'similarity': 0.6573, 'master_pi': '40595', 'similar_pi': '9534'}, {'similarity': 0.6483, 'master_pi': '40595', 'similar_pi': '69845'}, {'similarity': 0.6436, 'master_pi': '40595', 'similar_pi': '23158'}, {'similarity': 0.642, 'master_pi': '40595', 'similar_pi': '67000'}, {'similarity': 0.639, 'master_pi': '40595', 'similar_pi': '9534'}, {'similarity': 0.638, 'master_pi': '40595', 'similar_pi': '65038'}, {'similarity': 0.6334, 'master_pi': '40595', 'similar_pi': '72863'}, {'similarity': 0.6329, 'master_pi': '40595', 'similar_pi': '42667'}, {'similarity': 0.6284, 'master_pi': '40595', 'similar_pi': '46709'}, {'similarity': 0.6263, 'master_pi': '40595', 'similar_pi': '43309'}, {'similarity': 0.6231, 'master_pi': '40595', 'similar_pi': '66504'}, {'similarity': 0.6217, 'master_pi': '40595', 'similar_pi': '545'}, {'similarity': 0.613, 'master_pi': '40595', 'similar_pi': '43309'}, {'similarity': 0.6079, 'master_pi': '40595', 'similar_pi': '47160'}, {'similarity': 1.0, 'master_pi': '40595', 'similar_pi': '40595'}, {'similarity': 0.8471, 'master_pi': '40595', 'similar_pi': '62766'}, {'similarity': 0.7689, 'master_pi': '40595', 'similar_pi': '9534'}, {'similarity': 0.7506, 'master_pi': '40595', 'similar_pi': '42667'}, {'similarity': 0.713, 'master_pi': '40595', 'similar_pi': '40595'}, {'similarity': 0.6856, 'master_pi': '40595', 'similar_pi': '47160'}, {'similarity': 0.676, 'master_pi': '40595', 'similar_pi': '545'}, {'similarity': 0.6466, 'master_pi': '40595', 'similar_pi': '43309'}, {'similarity': 0.6189, 'master_pi': '40595', 'similar_pi': '39580'}, {'similarity': 0.6108, 'master_pi': '40595', 'similar_pi': '72863'}, {'similarity': 0.6026, 'master_pi': '40595', 'similar_pi': '11485'}, {'similarity': 0.5981, 'master_pi': '40595', 'similar_pi': '46709'}, {'similarity': 0.5932, 'master_pi': '40595', 'similar_pi': '35170'}, {'similarity': 0.5898, 'master_pi': '40595', 'similar_pi': '29224'}, {'similarity': 0.5868, 'master_pi': '40595', 'similar_pi': '29462'}, {'similarity': 0.5831, 'master_pi': '40595', 'similar_pi': '9534'}, {'similarity': 0.5813, 'master_pi': '40595', 'similar_pi': '18337'}, {'similarity': 0.5807, 'master_pi': '40595', 'similar_pi': '66504'}, {'similarity': 0.5776, 'master_pi': '40595', 'similar_pi': '26567'}, {'similarity': 0.5765, 'master_pi': '40595', 'similar_pi': '50035'}, {'similarity': 1.0, 'master_pi': '40699', 'similar_pi': '40699'}, {'similarity': 0.7852, 'master_pi': '40699', 'similar_pi': '50403'}, {'similarity': 0.7686, 'master_pi': '40699', 'similar_pi': '35170'}, {'similarity': 0.7603, 'master_pi': '40699', 'similar_pi': '46709'}, {'similarity': 0.7544, 'master_pi': '40699', 'similar_pi': '65501'}, {'similarity': 0.7529, 'master_pi': '40699', 'similar_pi': '42377'}, {'similarity': 0.7354, 'master_pi': '40699', 'similar_pi': '42377'}, {'similarity': 0.7294, 'master_pi': '40699', 'similar_pi': '43193'}, {'similarity': 0.7212, 'master_pi': '40699', 'similar_pi': '75797'}, {'similarity': 0.7163, 'master_pi': '40699', 'similar_pi': '65842'}, {'similarity': 0.7149, 'master_pi': '40699', 'similar_pi': '75797'}, {'similarity': 0.7094, 'master_pi': '40699', 'similar_pi': '26567'}, {'similarity': 0.709, 'master_pi': '40699', 'similar_pi': '77334'}, {'similarity': 0.7035, 'master_pi': '40699', 'similar_pi': '77334'}, {'similarity': 0.6958, 'master_pi': '40699', 'similar_pi': '34646'}, {'similarity': 0.6955, 'master_pi': '40699', 'similar_pi': '26567'}, {'similarity': 0.6855, 'master_pi': '40699', 'similar_pi': '29462'}, {'similarity': 0.6831, 'master_pi': '40699', 'similar_pi': '43309'}, {'similarity': 0.682, 'master_pi': '40699', 'similar_pi': '59301'}, {'similarity': 0.6801, 'master_pi': '40699', 'similar_pi': '29415'}, {'similarity': 1.0, 'master_pi': '42377', 'similar_pi': '42377'}, {'similarity': 0.8471, 'master_pi': '42377', 'similar_pi': '42377'}, {'similarity': 0.8237, 'master_pi': '42377', 'similar_pi': '75797'}, {'similarity': 0.8207, 'master_pi': '42377', 'similar_pi': '69845'}, {'similarity': 0.8032, 'master_pi': '42377', 'similar_pi': '46709'}, {'similarity': 0.7951, 'master_pi': '42377', 'similar_pi': '50403'}, {'similarity': 0.7857, 'master_pi': '42377', 'similar_pi': '44323'}, {'similarity': 0.7807, 'master_pi': '42377', 'similar_pi': '75797'}, {'similarity': 0.7755, 'master_pi': '42377', 'similar_pi': '65038'}, {'similarity': 0.7734, 'master_pi': '42377', 'similar_pi': '10531'}, {'similarity': 0.7592, 'master_pi': '42377', 'similar_pi': '43309'}, {'similarity': 0.7557, 'master_pi': '42377', 'similar_pi': '29462'}, {'similarity': 0.7544, 'master_pi': '42377', 'similar_pi': '65501'}, {'similarity': 0.7533, 'master_pi': '42377', 'similar_pi': '81289'}, {'similarity': 0.7529, 'master_pi': '42377', 'similar_pi': '40699'}, {'similarity': 0.7529, 'master_pi': '42377', 'similar_pi': '40595'}, {'similarity': 0.7485, 'master_pi': '42377', 'similar_pi': '43193'}, {'similarity': 0.7431, 'master_pi': '42377', 'similar_pi': '66504'}, {'similarity': 0.7379, 'master_pi': '42377', 'similar_pi': '29462'}, {'similarity': 0.7373, 'master_pi': '42377', 'similar_pi': '77334'}, {'similarity': 1.0, 'master_pi': '42377', 'similar_pi': '42377'}, {'similarity': 0.8471, 'master_pi': '42377', 'similar_pi': '42377'}, {'similarity': 0.7952, 'master_pi': '42377', 'similar_pi': '75797'}, {'similarity': 0.7689, 'master_pi': '42377', 'similar_pi': '44323'}, {'similarity': 0.7643, 'master_pi': '42377', 'similar_pi': '69845'}, {'similarity': 0.757, 'master_pi': '42377', 'similar_pi': '46709'}, {'similarity': 0.745, 'master_pi': '42377', 'similar_pi': '10531'}, {'similarity': 0.7358, 'master_pi': '42377', 'similar_pi': '77334'}, {'similarity': 0.7354, 'master_pi': '42377', 'similar_pi': '40699'}, {'similarity': 0.7311, 'master_pi': '42377', 'similar_pi': '43193'}, {'similarity': 0.7302, 'master_pi': '42377', 'similar_pi': '29462'}, {'similarity': 0.7301, 'master_pi': '42377', 'similar_pi': '43309'}, {'similarity': 0.7293, 'master_pi': '42377', 'similar_pi': '50403'}, {'similarity': 0.7261, 'master_pi': '42377', 'similar_pi': '65038'}, {'similarity': 0.7261, 'master_pi': '42377', 'similar_pi': '77334'}, {'similarity': 0.7158, 'master_pi': '42377', 'similar_pi': '6095'}, {'similarity': 0.7144, 'master_pi': '42377', 'similar_pi': '7605'}, {'similarity': 0.7092, 'master_pi': '42377', 'similar_pi': '75797'}, {'similarity': 0.7087, 'master_pi': '42377', 'similar_pi': '34646'}, {'similarity': 0.7046, 'master_pi': '42377', 'similar_pi': '75797'}, {'similarity': 1.0, 'master_pi': '42667', 'similar_pi': '42667'}, {'similarity': 0.7964, 'master_pi': '42667', 'similar_pi': '47160'}, {'similarity': 0.7784, 'master_pi': '42667', 'similar_pi': '62766'}, {'similarity': 0.7687, 'master_pi': '42667', 'similar_pi': '43309'}, {'similarity': 0.7513, 'master_pi': '42667', 'similar_pi': '545'}, {'similarity': 0.7506, 'master_pi': '42667', 'similar_pi': '40595'}, {'similarity': 0.7434, 'master_pi': '42667', 'similar_pi': '72863'}, {'similarity': 0.7111, 'master_pi': '42667', 'similar_pi': '9534'}, {'similarity': 0.685, 'master_pi': '42667', 'similar_pi': '46709'}, {'similarity': 0.6696, 'master_pi': '42667', 'similar_pi': '8867'}, {'similarity': 0.6634, 'master_pi': '42667', 'similar_pi': '18337'}, {'similarity': 0.6599, 'master_pi': '42667', 'similar_pi': '9534'}, {'similarity': 0.6578, 'master_pi': '42667', 'similar_pi': '11485'}, {'similarity': 0.6419, 'master_pi': '42667', 'similar_pi': '35170'}, {'similarity': 0.6394, 'master_pi': '42667', 'similar_pi': '29462'}, {'similarity': 0.6329, 'master_pi': '42667', 'similar_pi': '40595'}, {'similarity': 0.6325, 'master_pi': '42667', 'similar_pi': '10531'}, {'similarity': 0.6312, 'master_pi': '42667', 'similar_pi': '39580'}, {'similarity': 0.6306, 'master_pi': '42667', 'similar_pi': '29224'}, {'similarity': 0.6291, 'master_pi': '42667', 'similar_pi': '66504'}, {'similarity': 1.0, 'master_pi': '43193', 'similar_pi': '43193'}, {'similarity': 0.7617, 'master_pi': '43193', 'similar_pi': '46709'}, {'similarity': 0.7553, 'master_pi': '43193', 'similar_pi': '29415'}, {'similarity': 0.7533, 'master_pi': '43193', 'similar_pi': '35170'}, {'similarity': 0.7514, 'master_pi': '43193', 'similar_pi': '43309'}, {'similarity': 0.7485, 'master_pi': '43193', 'similar_pi': '42377'}, {'similarity': 0.746, 'master_pi': '43193', 'similar_pi': '59301'}, {'similarity': 0.7367, 'master_pi': '43193', 'similar_pi': '75797'}, {'similarity': 0.7339, 'master_pi': '43193', 'similar_pi': '77334'}, {'similarity': 0.7331, 'master_pi': '43193', 'similar_pi': '43309'}, {'similarity': 0.7311, 'master_pi': '43193', 'similar_pi': '42377'}, {'similarity': 0.7294, 'master_pi': '43193', 'similar_pi': '40699'}, {'similarity': 0.7169, 'master_pi': '43193', 'similar_pi': '77334'}, {'similarity': 0.7161, 'master_pi': '43193', 'similar_pi': '65842'}, {'similarity': 0.7136, 'master_pi': '43193', 'similar_pi': '75797'}, {'similarity': 0.712, 'master_pi': '43193', 'similar_pi': '34646'}, {'similarity': 0.7112, 'master_pi': '43193', 'similar_pi': '75797'}, {'similarity': 0.7015, 'master_pi': '43193', 'similar_pi': '65038'}, {'similarity': 0.6907, 'master_pi': '43193', 'similar_pi': '15759'}, {'similarity': 0.6906, 'master_pi': '43193', 'similar_pi': '50403'}, {'similarity': 1.0, 'master_pi': '43309', 'similar_pi': '43309'}, {'similarity': 0.8313, 'master_pi': '43309', 'similar_pi': '43309'}, {'similarity': 0.7797, 'master_pi': '43309', 'similar_pi': '46709'}, {'similarity': 0.7796, 'master_pi': '43309', 'similar_pi': '43309'}, {'similarity': 0.771, 'master_pi': '43309', 'similar_pi': '69845'}, {'similarity': 0.7675, 'master_pi': '43309', 'similar_pi': '73087'}, {'similarity': 0.7565, 'master_pi': '43309', 'similar_pi': '75797'}, {'similarity': 0.7514, 'master_pi': '43309', 'similar_pi': '43193'}, {'similarity': 0.7502, 'master_pi': '43309', 'similar_pi': '77334'}, {'similarity': 0.7492, 'master_pi': '43309', 'similar_pi': '72863'}, {'similarity': 0.7438, 'master_pi': '43309', 'similar_pi': '43309'}, {'similarity': 0.7428, 'master_pi': '43309', 'similar_pi': '65038'}, {'similarity': 0.7359, 'master_pi': '43309', 'similar_pi': '10531'}, {'similarity': 0.7337, 'master_pi': '43309', 'similar_pi': '71586'}, {'similarity': 0.733, 'master_pi': '43309', 'similar_pi': '42377'}, {'similarity': 0.7329, 'master_pi': '43309', 'similar_pi': '72863'}, {'similarity': 0.7243, 'master_pi': '43309', 'similar_pi': '59301'}, {'similarity': 0.7173, 'master_pi': '43309', 'similar_pi': '75797'}, {'similarity': 0.714, 'master_pi': '43309', 'similar_pi': '29415'}, {'similarity': 0.7133, 'master_pi': '43309', 'similar_pi': '44323'}, {'similarity': 1.0, 'master_pi': '43309', 'similar_pi': '43309'}, {'similarity': 0.8347, 'master_pi': '43309', 'similar_pi': '10531'}, {'similarity': 0.8108, 'master_pi': '43309', 'similar_pi': '81289'}, {'similarity': 0.8105, 'master_pi': '43309', 'similar_pi': '81289'}, {'similarity': 0.8096, 'master_pi': '43309', 'similar_pi': '75797'}, {'similarity': 0.7969, 'master_pi': '43309', 'similar_pi': '46709'}, {'similarity': 0.7951, 'master_pi': '43309', 'similar_pi': '43309'}, {'similarity': 0.7905, 'master_pi': '43309', 'similar_pi': '65038'}, {'similarity': 0.7796, 'master_pi': '43309', 'similar_pi': '43309'}, {'similarity': 0.779, 'master_pi': '43309', 'similar_pi': '55676'}, {'similarity': 0.7778, 'master_pi': '43309', 'similar_pi': '43309'}, {'similarity': 0.7704, 'master_pi': '43309', 'similar_pi': '29462'}, {'similarity': 0.7595, 'master_pi': '43309', 'similar_pi': '29462'}, {'similarity': 0.7592, 'master_pi': '43309', 'similar_pi': '42377'}, {'similarity': 0.7589, 'master_pi': '43309', 'similar_pi': '26567'}, {'similarity': 0.7543, 'master_pi': '43309', 'similar_pi': '77334'}, {'similarity': 0.7535, 'master_pi': '43309', 'similar_pi': '69845'}, {'similarity': 0.7512, 'master_pi': '43309', 'similar_pi': '26567'}, {'similarity': 0.7502, 'master_pi': '43309', 'similar_pi': '7605'}, {'similarity': 0.7483, 'master_pi': '43309', 'similar_pi': '67841'}, {'similarity': 1.0, 'master_pi': '43309', 'similar_pi': '43309'}, {'similarity': 0.8222, 'master_pi': '43309', 'similar_pi': '47160'}, {'similarity': 0.8213, 'master_pi': '43309', 'similar_pi': '46709'}, {'similarity': 0.8039, 'master_pi': '43309', 'similar_pi': '10531'}, {'similarity': 0.7951, 'master_pi': '43309', 'similar_pi': '72863'}, {'similarity': 0.7905, 'master_pi': '43309', 'similar_pi': '11485'}, {'similarity': 0.7884, 'master_pi': '43309', 'similar_pi': '29462'}, {'similarity': 0.7778, 'master_pi': '43309', 'similar_pi': '43309'}, {'similarity': 0.7735, 'master_pi': '43309', 'similar_pi': '545'}, {'similarity': 0.7687, 'master_pi': '43309', 'similar_pi': '42667'}, {'similarity': 0.7511, 'master_pi': '43309', 'similar_pi': '39580'}, {'similarity': 0.7483, 'master_pi': '43309', 'similar_pi': '23158'}, {'similarity': 0.7454, 'master_pi': '43309', 'similar_pi': '69845'}, {'similarity': 0.7438, 'master_pi': '43309', 'similar_pi': '43309'}, {'similarity': 0.7436, 'master_pi': '43309', 'similar_pi': '43309'}, {'similarity': 0.7419, 'master_pi': '43309', 'similar_pi': '77334'}, {'similarity': 0.7348, 'master_pi': '43309', 'similar_pi': '65038'}, {'similarity': 0.7347, 'master_pi': '43309', 'similar_pi': '9534'}, {'similarity': 0.733, 'master_pi': '43309', 'similar_pi': '26567'}, {'similarity': 0.7326, 'master_pi': '43309', 'similar_pi': '71586'}, {'similarity': 1.0, 'master_pi': '43309', 'similar_pi': '43309'}, {'similarity': 0.8313, 'master_pi': '43309', 'similar_pi': '43309'}, {'similarity': 0.7965, 'master_pi': '43309', 'similar_pi': '65038'}, {'similarity': 0.7951, 'master_pi': '43309', 'similar_pi': '43309'}, {'similarity': 0.7866, 'master_pi': '43309', 'similar_pi': '81289'}, {'similarity': 0.7838, 'master_pi': '43309', 'similar_pi': '75797'}, {'similarity': 0.7795, 'master_pi': '43309', 'similar_pi': '69845'}, {'similarity': 0.7676, 'master_pi': '43309', 'similar_pi': '81289'}, {'similarity': 0.7626, 'master_pi': '43309', 'similar_pi': '10531'}, {'similarity': 0.7589, 'master_pi': '43309', 'similar_pi': '52355'}, {'similarity': 0.7488, 'master_pi': '43309', 'similar_pi': '29415'}, {'similarity': 0.7436, 'master_pi': '43309', 'similar_pi': '43309'}, {'similarity': 0.743, 'master_pi': '43309', 'similar_pi': '81289'}, {'similarity': 0.7394, 'master_pi': '43309', 'similar_pi': '46709'}, {'similarity': 0.7317, 'master_pi': '43309', 'similar_pi': '75797'}, {'similarity': 0.7301, 'master_pi': '43309', 'similar_pi': '43561'}, {'similarity': 0.7299, 'master_pi': '43309', 'similar_pi': '77334'}, {'similarity': 0.7288, 'master_pi': '43309', 'similar_pi': '50035'}, {'similarity': 0.7279, 'master_pi': '43309', 'similar_pi': '73087'}, {'similarity': 0.7224, 'master_pi': '43309', 'similar_pi': '58315'}, {'similarity': 1.0, 'master_pi': '43561', 'similar_pi': '43561'}, {'similarity': 0.7385, 'master_pi': '43561', 'similar_pi': '65038'}, {'similarity': 0.7301, 'master_pi': '43561', 'similar_pi': '43309'}, {'similarity': 0.7012, 'master_pi': '43561', 'similar_pi': '71586'}, {'similarity': 0.6998, 'master_pi': '43561', 'similar_pi': '73087'}, {'similarity': 0.6973, 'master_pi': '43561', 'similar_pi': '52355'}, {'similarity': 0.6963, 'master_pi': '43561', 'similar_pi': '81289'}, {'similarity': 0.6895, 'master_pi': '43561', 'similar_pi': '69845'}, {'similarity': 0.6862, 'master_pi': '43561', 'similar_pi': '43309'}, {'similarity': 0.6807, 'master_pi': '43561', 'similar_pi': '75797'}, {'similarity': 0.6689, 'master_pi': '43561', 'similar_pi': '58315'}, {'similarity': 0.6677, 'master_pi': '43561', 'similar_pi': '55676'}, {'similarity': 0.6627, 'master_pi': '43561', 'similar_pi': '75797'}, {'similarity': 0.6607, 'master_pi': '43561', 'similar_pi': '11485'}, {'similarity': 0.6591, 'master_pi': '43561', 'similar_pi': '81289'}, {'similarity': 0.6556, 'master_pi': '43561', 'similar_pi': '43309'}, {'similarity': 0.6527, 'master_pi': '43561', 'similar_pi': '50035'}, {'similarity': 0.6474, 'master_pi': '43561', 'similar_pi': '77334'}, {'similarity': 0.6397, 'master_pi': '43561', 'similar_pi': '81289'}, {'similarity': 0.639, 'master_pi': '43561', 'similar_pi': '46709'}, {'similarity': 1.0, 'master_pi': '44323', 'similar_pi': '44323'}, {'similarity': 0.832, 'master_pi': '44323', 'similar_pi': '69845'}, {'similarity': 0.8062, 'master_pi': '44323', 'similar_pi': '75797'}, {'similarity': 0.7857, 'master_pi': '44323', 'similar_pi': '42377'}, {'similarity': 0.7689, 'master_pi': '44323', 'similar_pi': '42377'}, {'similarity': 0.7616, 'master_pi': '44323', 'similar_pi': '29462'}, {'similarity': 0.7576, 'master_pi': '44323', 'similar_pi': '10531'}, {'similarity': 0.7571, 'master_pi': '44323', 'similar_pi': '77334'}, {'similarity': 0.7556, 'master_pi': '44323', 'similar_pi': '75797'}, {'similarity': 0.7543, 'master_pi': '44323', 'similar_pi': '46709'}, {'similarity': 0.7432, 'master_pi': '44323', 'similar_pi': '50035'}, {'similarity': 0.7399, 'master_pi': '44323', 'similar_pi': '72863'}, {'similarity': 0.7321, 'master_pi': '44323', 'similar_pi': '29462'}, {'similarity': 0.7312, 'master_pi': '44323', 'similar_pi': '72863'}, {'similarity': 0.7294, 'master_pi': '44323', 'similar_pi': '6738'}, {'similarity': 0.7272, 'master_pi': '44323', 'similar_pi': '77334'}, {'similarity': 0.725, 'master_pi': '44323', 'similar_pi': '75797'}, {'similarity': 0.722, 'master_pi': '44323', 'similar_pi': '39580'}, {'similarity': 0.7174, 'master_pi': '44323', 'similar_pi': '40595'}, {'similarity': 0.7133, 'master_pi': '44323', 'similar_pi': '43309'}, {'similarity': 1.0, 'master_pi': '45486', 'similar_pi': '45486'}, {'similarity': 0.6763, 'master_pi': '45486', 'similar_pi': '6095'}, {'similarity': 0.6682, 'master_pi': '45486', 'similar_pi': '10531'}, {'similarity': 0.6433, 'master_pi': '45486', 'similar_pi': '43309'}, {'similarity': 0.6322, 'master_pi': '45486', 'similar_pi': '42377'}, {'similarity': 0.632, 'master_pi': '45486', 'similar_pi': '69845'}, {'similarity': 0.6315, 'master_pi': '45486', 'similar_pi': '42377'}, {'similarity': 0.6231, 'master_pi': '45486', 'similar_pi': '81289'}, {'similarity': 0.6222, 'master_pi': '45486', 'similar_pi': '29462'}, {'similarity': 0.621, 'master_pi': '45486', 'similar_pi': '47160'}, {'similarity': 0.6091, 'master_pi': '45486', 'similar_pi': '44323'}, {'similarity': 0.6013, 'master_pi': '45486', 'similar_pi': '11485'}, {'similarity': 0.5952, 'master_pi': '45486', 'similar_pi': '59595'}, {'similarity': 0.5951, 'master_pi': '45486', 'similar_pi': '39580'}, {'similarity': 0.5946, 'master_pi': '45486', 'similar_pi': '50035'}, {'similarity': 0.5938, 'master_pi': '45486', 'similar_pi': '8867'}, {'similarity': 0.5925, 'master_pi': '45486', 'similar_pi': '50403'}, {'similarity': 0.5915, 'master_pi': '45486', 'similar_pi': '75797'}, {'similarity': 0.5911, 'master_pi': '45486', 'similar_pi': '46709'}, {'similarity': 0.5893, 'master_pi': '45486', 'similar_pi': '545'}, {'similarity': 1.0, 'master_pi': '46709', 'similar_pi': '46709'}, {'similarity': 0.8359, 'master_pi': '46709', 'similar_pi': '35170'}, {'similarity': 0.8241, 'master_pi': '46709', 'similar_pi': '59301'}, {'similarity': 0.8213, 'master_pi': '46709', 'similar_pi': '43309'}, {'similarity': 0.8032, 'master_pi': '46709', 'similar_pi': '42377'}, {'similarity': 0.8022, 'master_pi': '46709', 'similar_pi': '545'}, {'similarity': 0.7969, 'master_pi': '46709', 'similar_pi': '43309'}, {'similarity': 0.7914, 'master_pi': '46709', 'similar_pi': '65038'}, {'similarity': 0.79, 'master_pi': '46709', 'similar_pi': '10531'}, {'similarity': 0.7874, 'master_pi': '46709', 'similar_pi': '77334'}, {'similarity': 0.7837, 'master_pi': '46709', 'similar_pi': '69845'}, {'similarity': 0.7806, 'master_pi': '46709', 'similar_pi': '75797'}, {'similarity': 0.7797, 'master_pi': '46709', 'similar_pi': '43309'}, {'similarity': 0.778, 'master_pi': '46709', 'similar_pi': '39580'}, {'similarity': 0.776, 'master_pi': '46709', 'similar_pi': '34646'}, {'similarity': 0.7727, 'master_pi': '46709', 'similar_pi': '50403'}, {'similarity': 0.7691, 'master_pi': '46709', 'similar_pi': '35724'}, {'similarity': 0.7648, 'master_pi': '46709', 'similar_pi': '29462'}, {'similarity': 0.7634, 'master_pi': '46709', 'similar_pi': '47160'}, {'similarity': 0.7617, 'master_pi': '46709', 'similar_pi': '43193'}, {'similarity': 1.0, 'master_pi': '47160', 'similar_pi': '47160'}, {'similarity': 0.8222, 'master_pi': '47160', 'similar_pi': '43309'}, {'similarity': 0.7964, 'master_pi': '47160', 'similar_pi': '42667'}, {'similarity': 0.7832, 'master_pi': '47160', 'similar_pi': '29462'}, {'similarity': 0.7785, 'master_pi': '47160', 'similar_pi': '39580'}, {'similarity': 0.7634, 'master_pi': '47160', 'similar_pi': '46709'}, {'similarity': 0.758, 'master_pi': '47160', 'similar_pi': '545'}, {'similarity': 0.7387, 'master_pi': '47160', 'similar_pi': '11485'}, {'similarity': 0.7313, 'master_pi': '47160', 'similar_pi': '8867'}, {'similarity': 0.7278, 'master_pi': '47160', 'similar_pi': '72863'}, {'similarity': 0.7139, 'master_pi': '47160', 'similar_pi': '10531'}, {'similarity': 0.7127, 'master_pi': '47160', 'similar_pi': '29224'}, {'similarity': 0.7095, 'master_pi': '47160', 'similar_pi': '26567'}, {'similarity': 0.7049, 'master_pi': '47160', 'similar_pi': '43309'}, {'similarity': 0.7004, 'master_pi': '47160', 'similar_pi': '62766'}, {'similarity': 0.6856, 'master_pi': '47160', 'similar_pi': '40595'}, {'similarity': 0.6835, 'master_pi': '47160', 'similar_pi': '42377'}, {'similarity': 0.6703, 'master_pi': '47160', 'similar_pi': '44323'}, {'similarity': 0.6682, 'master_pi': '47160', 'similar_pi': '75797'}, {'similarity': 0.6674, 'master_pi': '47160', 'similar_pi': '71586'}, {'similarity': 1.0, 'master_pi': '50035', 'similar_pi': '50035'}, {'similarity': 0.8136, 'master_pi': '50035', 'similar_pi': '81289'}, {'similarity': 0.7897, 'master_pi': '50035', 'similar_pi': '75797'}, {'similarity': 0.7656, 'master_pi': '50035', 'similar_pi': '75797'}, {'similarity': 0.7606, 'master_pi': '50035', 'similar_pi': '69845'}, {'similarity': 0.7432, 'master_pi': '50035', 'similar_pi': '44323'}, {'similarity': 0.7422, 'master_pi': '50035', 'similar_pi': '29462'}, {'similarity': 0.7355, 'master_pi': '50035', 'similar_pi': '29462'}, {'similarity': 0.7295, 'master_pi': '50035', 'similar_pi': '43309'}, {'similarity': 0.7292, 'master_pi': '50035', 'similar_pi': '81289'}, {'similarity': 0.7291, 'master_pi': '50035', 'similar_pi': '77334'}, {'similarity': 0.726, 'master_pi': '50035', 'similar_pi': '81289'}, {'similarity': 0.7254, 'master_pi': '50035', 'similar_pi': '81433'}, {'similarity': 0.7243, 'master_pi': '50035', 'similar_pi': '75797'}, {'similarity': 0.7238, 'master_pi': '50035', 'similar_pi': '10531'}, {'similarity': 0.7229, 'master_pi': '50035', 'similar_pi': '39580'}, {'similarity': 0.7205, 'master_pi': '50035', 'similar_pi': '77334'}, {'similarity': 0.7161, 'master_pi': '50035', 'similar_pi': '34646'}, {'similarity': 0.7114, 'master_pi': '50035', 'similar_pi': '43309'}, {'similarity': 0.7085, 'master_pi': '50035', 'similar_pi': '30293'}, {'similarity': 1.0, 'master_pi': '50035', 'similar_pi': '50035'}, {'similarity': 0.7361, 'master_pi': '50035', 'similar_pi': '11485'}, {'similarity': 0.7149, 'master_pi': '50035', 'similar_pi': '40595'}, {'similarity': 0.6777, 'master_pi': '50035', 'similar_pi': '23158'}, {'similarity': 0.6567, 'master_pi': '50035', 'similar_pi': '72863'}, {'similarity': 0.6546, 'master_pi': '50035', 'similar_pi': '72863'}, {'similarity': 0.6511, 'master_pi': '50035', 'similar_pi': '46709'}, {'similarity': 0.6445, 'master_pi': '50035', 'similar_pi': '69845'}, {'similarity': 0.6393, 'master_pi': '50035', 'similar_pi': '43309'}, {'similarity': 0.6348, 'master_pi': '50035', 'similar_pi': '35724'}, {'similarity': 0.6265, 'master_pi': '50035', 'similar_pi': '66504'}, {'similarity': 0.623, 'master_pi': '50035', 'similar_pi': '73087'}, {'similarity': 0.6174, 'master_pi': '50035', 'similar_pi': '72863'}, {'similarity': 0.6133, 'master_pi': '50035', 'similar_pi': '39580'}, {'similarity': 0.611, 'master_pi': '50035', 'similar_pi': '71586'}, {'similarity': 0.61, 'master_pi': '50035', 'similar_pi': '67000'}, {'similarity': 0.6091, 'master_pi': '50035', 'similar_pi': '62766'}, {'similarity': 0.6082, 'master_pi': '50035', 'similar_pi': '34646'}, {'similarity': 0.6075, 'master_pi': '50035', 'similar_pi': '65038'}, {'similarity': 0.6075, 'master_pi': '50035', 'similar_pi': '44323'}, {'similarity': 1.0, 'master_pi': '50035', 'similar_pi': '50035'}, {'similarity': 0.7341, 'master_pi': '50035', 'similar_pi': '27996'}, {'similarity': 0.7288, 'master_pi': '50035', 'similar_pi': '43309'}, {'similarity': 0.6915, 'master_pi': '50035', 'similar_pi': '81289'}, {'similarity': 0.6867, 'master_pi': '50035', 'similar_pi': '29415'}, {'similarity': 0.6783, 'master_pi': '50035', 'similar_pi': '52355'}, {'similarity': 0.6649, 'master_pi': '50035', 'similar_pi': '58315'}, {'similarity': 0.6339, 'master_pi': '50035', 'similar_pi': '43561'}, {'similarity': 0.6302, 'master_pi': '50035', 'similar_pi': '43309'}, {'similarity': 0.6109, 'master_pi': '50035', 'similar_pi': '43309'}, {'similarity': 0.5997, 'master_pi': '50035', 'similar_pi': '69845'}, {'similarity': 0.597, 'master_pi': '50035', 'similar_pi': '50035'}, {'similarity': 0.5965, 'master_pi': '50035', 'similar_pi': '65038'}, {'similarity': 0.595, 'master_pi': '50035', 'similar_pi': '2804'}, {'similarity': 0.5949, 'master_pi': '50035', 'similar_pi': '34646'}, {'similarity': 0.5906, 'master_pi': '50035', 'similar_pi': '75797'}, {'similarity': 0.5902, 'master_pi': '50035', 'similar_pi': '55676'}, {'similarity': 0.58, 'master_pi': '50035', 'similar_pi': '9534'}, {'similarity': 0.5764, 'master_pi': '50035', 'similar_pi': '67000'}, {'similarity': 0.5677, 'master_pi': '50035', 'similar_pi': '43309'}, {'similarity': 1.0, 'master_pi': '50403', 'similar_pi': '50403'}, {'similarity': 0.7951, 'master_pi': '50403', 'similar_pi': '42377'}, {'similarity': 0.7929, 'master_pi': '50403', 'similar_pi': '26567'}, {'similarity': 0.7852, 'master_pi': '50403', 'similar_pi': '40699'}, {'similarity': 0.7769, 'master_pi': '50403', 'similar_pi': '35170'}, {'similarity': 0.7727, 'master_pi': '50403', 'similar_pi': '46709'}, {'similarity': 0.7649, 'master_pi': '50403', 'similar_pi': '29224'}, {'similarity': 0.7604, 'master_pi': '50403', 'similar_pi': '14058'}, {'similarity': 0.7579, 'master_pi': '50403', 'similar_pi': '26567'}, {'similarity': 0.7552, 'master_pi': '50403', 'similar_pi': '67841'}, {'similarity': 0.7456, 'master_pi': '50403', 'similar_pi': '65038'}, {'similarity': 0.7405, 'master_pi': '50403', 'similar_pi': '43309'}, {'similarity': 0.7387, 'master_pi': '50403', 'similar_pi': '81289'}, {'similarity': 0.7293, 'master_pi': '50403', 'similar_pi': '42377'}, {'similarity': 0.7218, 'master_pi': '50403', 'similar_pi': '75797'}, {'similarity': 0.7206, 'master_pi': '50403', 'similar_pi': '81289'}, {'similarity': 0.7182, 'master_pi': '50403', 'similar_pi': '10531'}, {'similarity': 0.7146, 'master_pi': '50403', 'similar_pi': '75797'}, {'similarity': 0.7094, 'master_pi': '50403', 'similar_pi': '15759'}, {'similarity': 0.7086, 'master_pi': '50403', 'similar_pi': '26567'}, {'similarity': 1.0, 'master_pi': '52355', 'similar_pi': '52355'}, {'similarity': 0.8402, 'master_pi': '52355', 'similar_pi': '58315'}, {'similarity': 0.8163, 'master_pi': '52355', 'similar_pi': '55676'}, {'similarity': 0.7595, 'master_pi': '52355', 'similar_pi': '81289'}, {'similarity': 0.7589, 'master_pi': '52355', 'similar_pi': '43309'}, {'similarity': 0.7434, 'master_pi': '52355', 'similar_pi': '65038'}, {'similarity': 0.7328, 'master_pi': '52355', 'similar_pi': '43309'}, {'similarity': 0.7327, 'master_pi': '52355', 'similar_pi': '73087'}, {'similarity': 0.7246, 'master_pi': '52355', 'similar_pi': '34646'}, {'similarity': 0.719, 'master_pi': '52355', 'similar_pi': '2804'}, {'similarity': 0.7158, 'master_pi': '52355', 'similar_pi': '75797'}, {'similarity': 0.7126, 'master_pi': '52355', 'similar_pi': '43309'}, {'similarity': 0.7115, 'master_pi': '52355', 'similar_pi': '67000'}, {'similarity': 0.7097, 'master_pi': '52355', 'similar_pi': '27996'}, {'similarity': 0.6987, 'master_pi': '52355', 'similar_pi': '6738'}, {'similarity': 0.6981, 'master_pi': '52355', 'similar_pi': '26567'}, {'similarity': 0.6973, 'master_pi': '52355', 'similar_pi': '43561'}, {'similarity': 0.688, 'master_pi': '52355', 'similar_pi': '29415'}, {'similarity': 0.6856, 'master_pi': '52355', 'similar_pi': '39580'}, {'similarity': 0.6843, 'master_pi': '52355', 'similar_pi': '77334'}, {'similarity': 1.0, 'master_pi': '545', 'similar_pi': '545'}, {'similarity': 0.8022, 'master_pi': '545', 'similar_pi': '46709'}, {'similarity': 0.7735, 'master_pi': '545', 'similar_pi': '43309'}, {'similarity': 0.758, 'master_pi': '545', 'similar_pi': '47160'}, {'similarity': 0.7574, 'master_pi': '545', 'similar_pi': '66504'}, {'similarity': 0.7513, 'master_pi': '545', 'similar_pi': '42667'}, {'similarity': 0.7256, 'master_pi': '545', 'similar_pi': '59301'}, {'similarity': 0.7216, 'master_pi': '545', 'similar_pi': '35170'}, {'similarity': 0.718, 'master_pi': '545', 'similar_pi': '40595'}, {'similarity': 0.7114, 'master_pi': '545', 'similar_pi': '42377'}, {'similarity': 0.7113, 'master_pi': '545', 'similar_pi': '65038'}, {'similarity': 0.7091, 'master_pi': '545', 'similar_pi': '72863'}, {'similarity': 0.7066, 'master_pi': '545', 'similar_pi': '62766'}, {'similarity': 0.6968, 'master_pi': '545', 'similar_pi': '50403'}, {'similarity': 0.6952, 'master_pi': '545', 'similar_pi': '11485'}, {'similarity': 0.6937, 'master_pi': '545', 'similar_pi': '29462'}, {'similarity': 0.687, 'master_pi': '545', 'similar_pi': '65501'}, {'similarity': 0.6854, 'master_pi': '545', 'similar_pi': '67000'}, {'similarity': 0.6835, 'master_pi': '545', 'similar_pi': '9534'}, {'similarity': 0.6829, 'master_pi': '545', 'similar_pi': '35724'}, {'similarity': 1.0, 'master_pi': '55676', 'similar_pi': '55676'}, {'similarity': 0.8163, 'master_pi': '55676', 'similar_pi': '52355'}, {'similarity': 0.779, 'master_pi': '55676', 'similar_pi': '43309'}, {'similarity': 0.7751, 'master_pi': '55676', 'similar_pi': '39580'}, {'similarity': 0.7669, 'master_pi': '55676', 'similar_pi': '58315'}, {'similarity': 0.7553, 'master_pi': '55676', 'similar_pi': '65038'}, {'similarity': 0.7397, 'master_pi': '55676', 'similar_pi': '46709'}, {'similarity': 0.7216, 'master_pi': '55676', 'similar_pi': '67000'}, {'similarity': 0.72, 'master_pi': '55676', 'similar_pi': '34646'}, {'similarity': 0.7183, 'master_pi': '55676', 'similar_pi': '67000'}, {'similarity': 0.7175, 'master_pi': '55676', 'similar_pi': '35170'}, {'similarity': 0.7169, 'master_pi': '55676', 'similar_pi': '34646'}, {'similarity': 0.7142, 'master_pi': '55676', 'similar_pi': '6738'}, {'similarity': 0.7131, 'master_pi': '55676', 'similar_pi': '26567'}, {'similarity': 0.7128, 'master_pi': '55676', 'similar_pi': '2804'}, {'similarity': 0.7124, 'master_pi': '55676', 'similar_pi': '75797'}, {'similarity': 0.7115, 'master_pi': '55676', 'similar_pi': '30293'}, {'similarity': 0.7108, 'master_pi': '55676', 'similar_pi': '43309'}, {'similarity': 0.7106, 'master_pi': '55676', 'similar_pi': '59301'}, {'similarity': 0.7097, 'master_pi': '55676', 'similar_pi': '67000'}, {'similarity': 1.0, 'master_pi': '58315', 'similar_pi': '58315'}, {'similarity': 0.8402, 'master_pi': '58315', 'similar_pi': '52355'}, {'similarity': 0.7669, 'master_pi': '58315', 'similar_pi': '55676'}, {'similarity': 0.7356, 'master_pi': '58315', 'similar_pi': '81289'}, {'similarity': 0.7311, 'master_pi': '58315', 'similar_pi': '34646'}, {'similarity': 0.7224, 'master_pi': '58315', 'similar_pi': '43309'}, {'similarity': 0.7099, 'master_pi': '58315', 'similar_pi': '2804'}, {'similarity': 0.6987, 'master_pi': '58315', 'similar_pi': '43309'}, {'similarity': 0.6911, 'master_pi': '58315', 'similar_pi': '27996'}, {'similarity': 0.6895, 'master_pi': '58315', 'similar_pi': '73087'}, {'similarity': 0.6867, 'master_pi': '58315', 'similar_pi': '65038'}, {'similarity': 0.6847, 'master_pi': '58315', 'similar_pi': '75797'}, {'similarity': 0.6839, 'master_pi': '58315', 'similar_pi': '30293'}, {'similarity': 0.677, 'master_pi': '58315', 'similar_pi': '75797'}, {'similarity': 0.6689, 'master_pi': '58315', 'similar_pi': '43561'}, {'similarity': 0.6678, 'master_pi': '58315', 'similar_pi': '75797'}, {'similarity': 0.6649, 'master_pi': '58315', 'similar_pi': '50035'}, {'similarity': 0.6628, 'master_pi': '58315', 'similar_pi': '67000'}, {'similarity': 0.6607, 'master_pi': '58315', 'similar_pi': '81289'}, {'similarity': 0.6605, 'master_pi': '58315', 'similar_pi': '43309'}, {'similarity': 1.0, 'master_pi': '58315', 'similar_pi': '58315'}, {'similarity': 0.828, 'master_pi': '58315', 'similar_pi': '69845'}, {'similarity': 0.6761, 'master_pi': '58315', 'similar_pi': '50035'}, {'similarity': 0.6709, 'master_pi': '58315', 'similar_pi': '34646'}, {'similarity': 0.6666, 'master_pi': '58315', 'similar_pi': '65842'}, {'similarity': 0.6639, 'master_pi': '58315', 'similar_pi': '2804'}, {'similarity': 0.6563, 'master_pi': '58315', 'similar_pi': '81289'}, {'similarity': 0.621, 'master_pi': '58315', 'similar_pi': '72863'}, {'similarity': 0.6187, 'master_pi': '58315', 'similar_pi': '6095'}, {'similarity': 0.6142, 'master_pi': '58315', 'similar_pi': '30293'}, {'similarity': 0.6111, 'master_pi': '58315', 'similar_pi': '29462'}, {'similarity': 0.6041, 'master_pi': '58315', 'similar_pi': '39580'}, {'similarity': 0.6021, 'master_pi': '58315', 'similar_pi': '58315'}, {'similarity': 0.6013, 'master_pi': '58315', 'similar_pi': '30293'}, {'similarity': 0.5922, 'master_pi': '58315', 'similar_pi': '81433'}, {'similarity': 0.5899, 'master_pi': '58315', 'similar_pi': '26567'}, {'similarity': 0.5865, 'master_pi': '58315', 'similar_pi': '52355'}, {'similarity': 0.5807, 'master_pi': '58315', 'similar_pi': '77334'}, {'similarity': 0.566, 'master_pi': '58315', 'similar_pi': '75797'}, {'similarity': 0.562, 'master_pi': '58315', 'similar_pi': '75797'}, {'similarity': 1.0, 'master_pi': '59301', 'similar_pi': '59301'}, {'similarity': 0.8285, 'master_pi': '59301', 'similar_pi': '35170'}, {'similarity': 0.8241, 'master_pi': '59301', 'similar_pi': '46709'}, {'similarity': 0.778, 'master_pi': '59301', 'similar_pi': '69196'}, {'similarity': 0.7663, 'master_pi': '59301', 'similar_pi': '69856'}, {'similarity': 0.7568, 'master_pi': '59301', 'similar_pi': '34646'}, {'similarity': 0.746, 'master_pi': '59301', 'similar_pi': '43193'}, {'similarity': 0.7256, 'master_pi': '59301', 'similar_pi': '545'}, {'similarity': 0.7243, 'master_pi': '59301', 'similar_pi': '43309'}, {'similarity': 0.7235, 'master_pi': '59301', 'similar_pi': '39580'}, {'similarity': 0.7233, 'master_pi': '59301', 'similar_pi': '29415'}, {'similarity': 0.7217, 'master_pi': '59301', 'similar_pi': '42377'}, {'similarity': 0.7208, 'master_pi': '59301', 'similar_pi': '65038'}, {'similarity': 0.7207, 'master_pi': '59301', 'similar_pi': '77334'}, {'similarity': 0.7205, 'master_pi': '59301', 'similar_pi': '75797'}, {'similarity': 0.7158, 'master_pi': '59301', 'similar_pi': '34646'}, {'similarity': 0.7131, 'master_pi': '59301', 'similar_pi': '75797'}, {'similarity': 0.7114, 'master_pi': '59301', 'similar_pi': '69845'}, {'similarity': 0.7106, 'master_pi': '59301', 'similar_pi': '55676'}, {'similarity': 0.71, 'master_pi': '59301', 'similar_pi': '67000'}, {'similarity': 1.0, 'master_pi': '59595', 'similar_pi': '59595'}, {'similarity': 0.6922, 'master_pi': '59595', 'similar_pi': '6095'}, {'similarity': 0.6912, 'master_pi': '59595', 'similar_pi': '30293'}, {'similarity': 0.6903, 'master_pi': '59595', 'similar_pi': '36756'}, {'similarity': 0.6894, 'master_pi': '59595', 'similar_pi': '75797'}, {'similarity': 0.6797, 'master_pi': '59595', 'similar_pi': '65501'}, {'similarity': 0.6754, 'master_pi': '59595', 'similar_pi': '42377'}, {'similarity': 0.674, 'master_pi': '59595', 'similar_pi': '39580'}, {'similarity': 0.6703, 'master_pi': '59595', 'similar_pi': '36756'}, {'similarity': 0.6677, 'master_pi': '59595', 'similar_pi': '8867'}, {'similarity': 0.6626, 'master_pi': '59595', 'similar_pi': '6095'}, {'similarity': 0.6625, 'master_pi': '59595', 'similar_pi': '10531'}, {'similarity': 0.6586, 'master_pi': '59595', 'similar_pi': '29462'}, {'similarity': 0.6562, 'master_pi': '59595', 'similar_pi': '36756'}, {'similarity': 0.6558, 'master_pi': '59595', 'similar_pi': '44323'}, {'similarity': 0.6467, 'master_pi': '59595', 'similar_pi': '65842'}, {'similarity': 0.6466, 'master_pi': '59595', 'similar_pi': '81289'}, {'similarity': 0.6457, 'master_pi': '59595', 'similar_pi': '39580'}, {'similarity': 0.6364, 'master_pi': '59595', 'similar_pi': '15759'}, {'similarity': 0.6361, 'master_pi': '59595', 'similar_pi': '50035'}, {'similarity': 1.0, 'master_pi': '6095', 'similar_pi': '6095'}, {'similarity': 0.7224, 'master_pi': '6095', 'similar_pi': '75797'}, {'similarity': 0.7029, 'master_pi': '6095', 'similar_pi': '29462'}, {'similarity': 0.7019, 'master_pi': '6095', 'similar_pi': '30293'}, {'similarity': 0.6908, 'master_pi': '6095', 'similar_pi': '81289'}, {'similarity': 0.6863, 'master_pi': '6095', 'similar_pi': '6095'}, {'similarity': 0.6814, 'master_pi': '6095', 'similar_pi': '42377'}, {'similarity': 0.6693, 'master_pi': '6095', 'similar_pi': '65501'}, {'similarity': 0.6626, 'master_pi': '6095', 'similar_pi': '59595'}, {'similarity': 0.6584, 'master_pi': '6095', 'similar_pi': '72863'}, {'similarity': 0.6487, 'master_pi': '6095', 'similar_pi': '65842'}, {'similarity': 0.6477, 'master_pi': '6095', 'similar_pi': '77334'}, {'similarity': 0.6379, 'master_pi': '6095', 'similar_pi': '50403'}, {'similarity': 0.6369, 'master_pi': '6095', 'similar_pi': '10531'}, {'similarity': 0.6344, 'master_pi': '6095', 'similar_pi': '81289'}, {'similarity': 0.6325, 'master_pi': '6095', 'similar_pi': '81289'}, {'similarity': 0.6306, 'master_pi': '6095', 'similar_pi': '75797'}, {'similarity': 0.6277, 'master_pi': '6095', 'similar_pi': '26567'}, {'similarity': 0.6266, 'master_pi': '6095', 'similar_pi': '43309'}, {'similarity': 0.6182, 'master_pi': '6095', 'similar_pi': '77334'}, {'similarity': 1.0, 'master_pi': '6095', 'similar_pi': '6095'}, {'similarity': 0.6933, 'master_pi': '6095', 'similar_pi': '81289'}, {'similarity': 0.6932, 'master_pi': '6095', 'similar_pi': '69845'}, {'similarity': 0.6793, 'master_pi': '6095', 'similar_pi': '50035'}, {'similarity': 0.6443, 'master_pi': '6095', 'similar_pi': '72863'}, {'similarity': 0.6409, 'master_pi': '6095', 'similar_pi': '81433'}, {'similarity': 0.6352, 'master_pi': '6095', 'similar_pi': '29462'}, {'similarity': 0.6187, 'master_pi': '6095', 'similar_pi': '58315'}, {'similarity': 0.6181, 'master_pi': '6095', 'similar_pi': '39580'}, {'similarity': 0.6053, 'master_pi': '6095', 'similar_pi': '65842'}, {'similarity': 0.6042, 'master_pi': '6095', 'similar_pi': '77334'}, {'similarity': 0.6, 'master_pi': '6095', 'similar_pi': '30293'}, {'similarity': 0.5851, 'master_pi': '6095', 'similar_pi': '75797'}, {'similarity': 0.585, 'master_pi': '6095', 'similar_pi': '39580'}, {'similarity': 0.5846, 'master_pi': '6095', 'similar_pi': '26567'}, {'similarity': 0.5838, 'master_pi': '6095', 'similar_pi': '81289'}, {'similarity': 0.5791, 'master_pi': '6095', 'similar_pi': '59595'}, {'similarity': 0.5743, 'master_pi': '6095', 'similar_pi': '81289'}, {'similarity': 0.5717, 'master_pi': '6095', 'similar_pi': '6095'}, {'similarity': 0.5706, 'master_pi': '6095', 'similar_pi': '7605'}, {'similarity': 1.0, 'master_pi': '6095', 'similar_pi': '6095'}, {'similarity': 0.7158, 'master_pi': '6095', 'similar_pi': '10531'}, {'similarity': 0.7158, 'master_pi': '6095', 'similar_pi': '42377'}, {'similarity': 0.6994, 'master_pi': '6095', 'similar_pi': '42377'}, {'similarity': 0.6985, 'master_pi': '6095', 'similar_pi': '75797'}, {'similarity': 0.6983, 'master_pi': '6095', 'similar_pi': '43309'}, {'similarity': 0.6923, 'master_pi': '6095', 'similar_pi': '75797'}, {'similarity': 0.6922, 'master_pi': '6095', 'similar_pi': '59595'}, {'similarity': 0.6918, 'master_pi': '6095', 'similar_pi': '50403'}, {'similarity': 0.6863, 'master_pi': '6095', 'similar_pi': '6095'}, {'similarity': 0.6823, 'master_pi': '6095', 'similar_pi': '26567'}, {'similarity': 0.6763, 'master_pi': '6095', 'similar_pi': '45486'}, {'similarity': 0.6746, 'master_pi': '6095', 'similar_pi': '50035'}, {'similarity': 0.6743, 'master_pi': '6095', 'similar_pi': '77334'}, {'similarity': 0.6695, 'master_pi': '6095', 'similar_pi': '65038'}, {'similarity': 0.6672, 'master_pi': '6095', 'similar_pi': '26567'}, {'similarity': 0.6616, 'master_pi': '6095', 'similar_pi': '81289'}, {'similarity': 0.6616, 'master_pi': '6095', 'similar_pi': '29224'}, {'similarity': 0.6614, 'master_pi': '6095', 'similar_pi': '43309'}, {'similarity': 0.6605, 'master_pi': '6095', 'similar_pi': '26567'}, {'similarity': 1.0, 'master_pi': '6172', 'similar_pi': '6172'}, {'similarity': 0.6451, 'master_pi': '6172', 'similar_pi': '6172'}, {'similarity': 0.6354, 'master_pi': '6172', 'similar_pi': '81289'}, {'similarity': 0.6152, 'master_pi': '6172', 'similar_pi': '81289'}, {'similarity': 0.599, 'master_pi': '6172', 'similar_pi': '6172'}, {'similarity': 0.5929, 'master_pi': '6172', 'similar_pi': '50035'}, {'similarity': 0.5896, 'master_pi': '6172', 'similar_pi': '43309'}, {'similarity': 0.5664, 'master_pi': '6172', 'similar_pi': '6095'}, {'similarity': 0.566, 'master_pi': '6172', 'similar_pi': '39580'}, {'similarity': 0.5615, 'master_pi': '6172', 'similar_pi': '6172'}, {'similarity': 0.5577, 'master_pi': '6172', 'similar_pi': '75797'}, {'similarity': 0.556, 'master_pi': '6172', 'similar_pi': '30293'}, {'similarity': 0.5492, 'master_pi': '6172', 'similar_pi': '81289'}, {'similarity': 0.5482, 'master_pi': '6172', 'similar_pi': '75797'}, {'similarity': 0.5453, 'master_pi': '6172', 'similar_pi': '26567'}, {'similarity': 0.5449, 'master_pi': '6172', 'similar_pi': '50403'}, {'similarity': 0.5418, 'master_pi': '6172', 'similar_pi': '26567'}, {'similarity': 0.5411, 'master_pi': '6172', 'similar_pi': '29224'}, {'similarity': 0.5367, 'master_pi': '6172', 'similar_pi': '67841'}, {'similarity': 0.5334, 'master_pi': '6172', 'similar_pi': '34646'}, {'similarity': 1.0, 'master_pi': '6172', 'similar_pi': '6172'}, {'similarity': 0.7608, 'master_pi': '6172', 'similar_pi': '6172'}, {'similarity': 0.6702, 'master_pi': '6172', 'similar_pi': '6172'}, {'similarity': 0.6569, 'master_pi': '6172', 'similar_pi': '35170'}, {'similarity': 0.6496, 'master_pi': '6172', 'similar_pi': '26567'}, {'similarity': 0.6454, 'master_pi': '6172', 'similar_pi': '69856'}, {'similarity': 0.6233, 'master_pi': '6172', 'similar_pi': '35724'}, {'similarity': 0.6226, 'master_pi': '6172', 'similar_pi': '59301'}, {'similarity': 0.6187, 'master_pi': '6172', 'similar_pi': '81289'}, {'similarity': 0.6176, 'master_pi': '6172', 'similar_pi': '42377'}, {'similarity': 0.6142, 'master_pi': '6172', 'similar_pi': '66504'}, {'similarity': 0.6119, 'master_pi': '6172', 'similar_pi': '75797'}, {'similarity': 0.6103, 'master_pi': '6172', 'similar_pi': '46709'}, {'similarity': 0.6072, 'master_pi': '6172', 'similar_pi': '50403'}, {'similarity': 0.599, 'master_pi': '6172', 'similar_pi': '6172'}, {'similarity': 0.5972, 'master_pi': '6172', 'similar_pi': '81289'}, {'similarity': 0.5945, 'master_pi': '6172', 'similar_pi': '43309'}, {'similarity': 0.5924, 'master_pi': '6172', 'similar_pi': '40699'}, {'similarity': 0.5865, 'master_pi': '6172', 'similar_pi': '69196'}, {'similarity': 0.5859, 'master_pi': '6172', 'similar_pi': '26567'}, {'similarity': 1.0, 'master_pi': '6172', 'similar_pi': '6172'}, {'similarity': 0.679, 'master_pi': '6172', 'similar_pi': '81289'}, {'similarity': 0.6702, 'master_pi': '6172', 'similar_pi': '6172'}, {'similarity': 0.6482, 'master_pi': '6172', 'similar_pi': '81289'}, {'similarity': 0.6451, 'master_pi': '6172', 'similar_pi': '6172'}, {'similarity': 0.6225, 'master_pi': '6172', 'similar_pi': '26567'}, {'similarity': 0.6169, 'master_pi': '6172', 'similar_pi': '43309'}, {'similarity': 0.6137, 'master_pi': '6172', 'similar_pi': '50403'}, {'similarity': 0.6126, 'master_pi': '6172', 'similar_pi': '6095'}, {'similarity': 0.6077, 'master_pi': '6172', 'similar_pi': '30293'}, {'similarity': 0.6073, 'master_pi': '6172', 'similar_pi': '26567'}, {'similarity': 0.6035, 'master_pi': '6172', 'similar_pi': '81289'}, {'similarity': 0.6019, 'master_pi': '6172', 'similar_pi': '6172'}, {'similarity': 0.5914, 'master_pi': '6172', 'similar_pi': '75797'}, {'similarity': 0.5858, 'master_pi': '6172', 'similar_pi': '29224'}, {'similarity': 0.5793, 'master_pi': '6172', 'similar_pi': '10531'}, {'similarity': 0.5791, 'master_pi': '6172', 'similar_pi': '65501'}, {'similarity': 0.5773, 'master_pi': '6172', 'similar_pi': '75797'}, {'similarity': 0.5731, 'master_pi': '6172', 'similar_pi': '75797'}, {'similarity': 0.5695, 'master_pi': '6172', 'similar_pi': '35170'}, {'similarity': 1.0, 'master_pi': '6172', 'similar_pi': '6172'}, {'similarity': 0.7608, 'master_pi': '6172', 'similar_pi': '6172'}, {'similarity': 0.7187, 'master_pi': '6172', 'similar_pi': '75797'}, {'similarity': 0.7164, 'master_pi': '6172', 'similar_pi': '81289'}, {'similarity': 0.7127, 'master_pi': '6172', 'similar_pi': '65842'}, {'similarity': 0.6953, 'master_pi': '6172', 'similar_pi': '29462'}, {'similarity': 0.6769, 'master_pi': '6172', 'similar_pi': '81289'}, {'similarity': 0.6709, 'master_pi': '6172', 'similar_pi': '75797'}, {'similarity': 0.6658, 'master_pi': '6172', 'similar_pi': '43309'}, {'similarity': 0.6538, 'master_pi': '6172', 'similar_pi': '81289'}, {'similarity': 0.6518, 'master_pi': '6172', 'similar_pi': '42377'}, {'similarity': 0.6515, 'master_pi': '6172', 'similar_pi': '77334'}, {'similarity': 0.6498, 'master_pi': '6172', 'similar_pi': '39580'}, {'similarity': 0.6494, 'master_pi': '6172', 'similar_pi': '77334'}, {'similarity': 0.6486, 'master_pi': '6172', 'similar_pi': '65501'}, {'similarity': 0.6472, 'master_pi': '6172', 'similar_pi': '35170'}, {'similarity': 0.6456, 'master_pi': '6172', 'similar_pi': '34646'}, {'similarity': 0.6452, 'master_pi': '6172', 'similar_pi': '50035'}, {'similarity': 0.6438, 'master_pi': '6172', 'similar_pi': '26567'}, {'similarity': 0.6428, 'master_pi': '6172', 'similar_pi': '77334'}, {'similarity': 1.0, 'master_pi': '62766', 'similar_pi': '62766'}, {'similarity': 0.8487, 'master_pi': '62766', 'similar_pi': '9534'}, {'similarity': 0.8471, 'master_pi': '62766', 'similar_pi': '40595'}, {'similarity': 0.7784, 'master_pi': '62766', 'similar_pi': '42667'}, {'similarity': 0.7393, 'master_pi': '62766', 'similar_pi': '72863'}, {'similarity': 0.7361, 'master_pi': '62766', 'similar_pi': '9534'}, {'similarity': 0.7315, 'master_pi': '62766', 'similar_pi': '18337'}, {'similarity': 0.7203, 'master_pi': '62766', 'similar_pi': '40595'}, {'similarity': 0.7084, 'master_pi': '62766', 'similar_pi': '43309'}, {'similarity': 0.7066, 'master_pi': '62766', 'similar_pi': '545'}, {'similarity': 0.7004, 'master_pi': '62766', 'similar_pi': '47160'}, {'similarity': 0.6899, 'master_pi': '62766', 'similar_pi': '69845'}, {'similarity': 0.6801, 'master_pi': '62766', 'similar_pi': '11485'}, {'similarity': 0.6753, 'master_pi': '62766', 'similar_pi': '23158'}, {'similarity': 0.6544, 'master_pi': '62766', 'similar_pi': '46709'}, {'similarity': 0.6333, 'master_pi': '62766', 'similar_pi': '65038'}, {'similarity': 0.6189, 'master_pi': '62766', 'similar_pi': '67000'}, {'similarity': 0.6154, 'master_pi': '62766', 'similar_pi': '59301'}, {'similarity': 0.6149, 'master_pi': '62766', 'similar_pi': '43309'}, {'similarity': 0.6135, 'master_pi': '62766', 'similar_pi': '34646'}, {'similarity': 1.0, 'master_pi': '65038', 'similar_pi': '65038'}, {'similarity': 0.7965, 'master_pi': '65038', 'similar_pi': '43309'}, {'similarity': 0.7914, 'master_pi': '65038', 'similar_pi': '46709'}, {'similarity': 0.7905, 'master_pi': '65038', 'similar_pi': '43309'}, {'similarity': 0.7904, 'master_pi': '65038', 'similar_pi': '69845'}, {'similarity': 0.7755, 'master_pi': '65038', 'similar_pi': '42377'}, {'similarity': 0.7716, 'master_pi': '65038', 'similar_pi': '29415'}, {'similarity': 0.7689, 'master_pi': '65038', 'similar_pi': '75797'}, {'similarity': 0.7672, 'master_pi': '65038', 'similar_pi': '81289'}, {'similarity': 0.7581, 'master_pi': '65038', 'similar_pi': '10531'}, {'similarity': 0.7553, 'master_pi': '65038', 'similar_pi': '55676'}, {'similarity': 0.748, 'master_pi': '65038', 'similar_pi': '7605'}, {'similarity': 0.7456, 'master_pi': '65038', 'similar_pi': '50403'}, {'similarity': 0.7442, 'master_pi': '65038', 'similar_pi': '11485'}, {'similarity': 0.7434, 'master_pi': '65038', 'similar_pi': '52355'}, {'similarity': 0.7428, 'master_pi': '65038', 'similar_pi': '43309'}, {'similarity': 0.7411, 'master_pi': '65038', 'similar_pi': '14058'}, {'similarity': 0.7387, 'master_pi': '65038', 'similar_pi': '40595'}, {'similarity': 0.7385, 'master_pi': '65038', 'similar_pi': '43561'}, {'similarity': 0.7348, 'master_pi': '65038', 'similar_pi': '43309'}, {'similarity': 1.0, 'master_pi': '65501', 'similar_pi': '65501'}, {'similarity': 0.7817, 'master_pi': '65501', 'similar_pi': '75797'}, {'similarity': 0.7544, 'master_pi': '65501', 'similar_pi': '40699'}, {'similarity': 0.7544, 'master_pi': '65501', 'similar_pi': '42377'}, {'similarity': 0.7527, 'master_pi': '65501', 'similar_pi': '75797'}, {'similarity': 0.7289, 'master_pi': '65501', 'similar_pi': '30293'}, {'similarity': 0.7153, 'master_pi': '65501', 'similar_pi': '77334'}, {'similarity': 0.7108, 'master_pi': '65501', 'similar_pi': '81289'}, {'similarity': 0.7034, 'master_pi': '65501', 'similar_pi': '81289'}, {'similarity': 0.6994, 'master_pi': '65501', 'similar_pi': '50403'}, {'similarity': 0.699, 'master_pi': '65501', 'similar_pi': '43309'}, {'similarity': 0.698, 'master_pi': '65501', 'similar_pi': '10531'}, {'similarity': 0.6945, 'master_pi': '65501', 'similar_pi': '29462'}, {'similarity': 0.6937, 'master_pi': '65501', 'similar_pi': '69845'}, {'similarity': 0.6915, 'master_pi': '65501', 'similar_pi': '29462'}, {'similarity': 0.6892, 'master_pi': '65501', 'similar_pi': '46709'}, {'similarity': 0.6874, 'master_pi': '65501', 'similar_pi': '43309'}, {'similarity': 0.687, 'master_pi': '65501', 'similar_pi': '545'}, {'similarity': 0.6867, 'master_pi': '65501', 'similar_pi': '81289'}, {'similarity': 0.6827, 'master_pi': '65501', 'similar_pi': '44323'}, {'similarity': 1.0, 'master_pi': '65842', 'similar_pi': '65842'}, {'similarity': 0.7584, 'master_pi': '65842', 'similar_pi': '75797'}, {'similarity': 0.7446, 'master_pi': '65842', 'similar_pi': '81289'}, {'similarity': 0.7437, 'master_pi': '65842', 'similar_pi': '34646'}, {'similarity': 0.7306, 'master_pi': '65842', 'similar_pi': '29462'}, {'similarity': 0.7259, 'master_pi': '65842', 'similar_pi': '75797'}, {'similarity': 0.7238, 'master_pi': '65842', 'similar_pi': '43309'}, {'similarity': 0.7221, 'master_pi': '65842', 'similar_pi': '42377'}, {'similarity': 0.7212, 'master_pi': '65842', 'similar_pi': '77334'}, {'similarity': 0.7206, 'master_pi': '65842', 'similar_pi': '26567'}, {'similarity': 0.7202, 'master_pi': '65842', 'similar_pi': '39580'}, {'similarity': 0.7163, 'master_pi': '65842', 'similar_pi': '40699'}, {'similarity': 0.7161, 'master_pi': '65842', 'similar_pi': '43193'}, {'similarity': 0.7127, 'master_pi': '65842', 'similar_pi': '6172'}, {'similarity': 0.7119, 'master_pi': '65842', 'similar_pi': '15759'}, {'similarity': 0.7094, 'master_pi': '65842', 'similar_pi': '26567'}, {'similarity': 0.7033, 'master_pi': '65842', 'similar_pi': '50403'}, {'similarity': 0.6909, 'master_pi': '65842', 'similar_pi': '50035'}, {'similarity': 0.69, 'master_pi': '65842', 'similar_pi': '81433'}, {'similarity': 0.6884, 'master_pi': '65842', 'similar_pi': '77334'}, {'similarity': 1.0, 'master_pi': '66504', 'similar_pi': '66504'}, {'similarity': 0.7623, 'master_pi': '66504', 'similar_pi': '35724'}, {'similarity': 0.7574, 'master_pi': '66504', 'similar_pi': '545'}, {'similarity': 0.7431, 'master_pi': '66504', 'similar_pi': '42377'}, {'similarity': 0.7359, 'master_pi': '66504', 'similar_pi': '46709'}, {'similarity': 0.7225, 'master_pi': '66504', 'similar_pi': '35170'}, {'similarity': 0.7219, 'master_pi': '66504', 'similar_pi': '29415'}, {'similarity': 0.7077, 'master_pi': '66504', 'similar_pi': '65038'}, {'similarity': 0.6942, 'master_pi': '66504', 'similar_pi': '50403'}, {'similarity': 0.6938, 'master_pi': '66504', 'similar_pi': '77334'}, {'similarity': 0.6927, 'master_pi': '66504', 'similar_pi': '59301'}, {'similarity': 0.6813, 'master_pi': '66504', 'similar_pi': '75797'}, {'similarity': 0.6767, 'master_pi': '66504', 'similar_pi': '34646'}, {'similarity': 0.674, 'master_pi': '66504', 'similar_pi': '43309'}, {'similarity': 0.6695, 'master_pi': '66504', 'similar_pi': '69845'}, {'similarity': 0.6637, 'master_pi': '66504', 'similar_pi': '40699'}, {'similarity': 0.661, 'master_pi': '66504', 'similar_pi': '65501'}, {'similarity': 0.6604, 'master_pi': '66504', 'similar_pi': '11485'}, {'similarity': 0.6601, 'master_pi': '66504', 'similar_pi': '10531'}, {'similarity': 0.6588, 'master_pi': '66504', 'similar_pi': '26567'}, {'similarity': 1.0, 'master_pi': '67000', 'similar_pi': '67000'}, {'similarity': 0.7604, 'master_pi': '67000', 'similar_pi': '34646'}, {'similarity': 0.7554, 'master_pi': '67000', 'similar_pi': '77334'}, {'similarity': 0.7453, 'master_pi': '67000', 'similar_pi': '34646'}, {'similarity': 0.7282, 'master_pi': '67000', 'similar_pi': '35170'}, {'similarity': 0.7261, 'master_pi': '67000', 'similar_pi': '75797'}, {'similarity': 0.7228, 'master_pi': '67000', 'similar_pi': '77334'}, {'similarity': 0.7183, 'master_pi': '67000', 'similar_pi': '55676'}, {'similarity': 0.7155, 'master_pi': '67000', 'similar_pi': '75797'}, {'similarity': 0.7138, 'master_pi': '67000', 'similar_pi': '26567'}, {'similarity': 0.7081, 'master_pi': '67000', 'similar_pi': '46709'}, {'similarity': 0.7051, 'master_pi': '67000', 'similar_pi': '39580'}, {'similarity': 0.704, 'master_pi': '67000', 'similar_pi': '67000'}, {'similarity': 0.7036, 'master_pi': '67000', 'similar_pi': '43309'}, {'similarity': 0.6975, 'master_pi': '67000', 'similar_pi': '75797'}, {'similarity': 0.695, 'master_pi': '67000', 'similar_pi': '34646'}, {'similarity': 0.6945, 'master_pi': '67000', 'similar_pi': '26567'}, {'similarity': 0.687, 'master_pi': '67000', 'similar_pi': '67000'}, {'similarity': 0.684, 'master_pi': '67000', 'similar_pi': '42377'}, {'similarity': 0.6836, 'master_pi': '67000', 'similar_pi': '72863'}, {'similarity': 1.0, 'master_pi': '67000', 'similar_pi': '67000'}, {'similarity': 0.7611, 'master_pi': '67000', 'similar_pi': '67000'}, {'similarity': 0.7228, 'master_pi': '67000', 'similar_pi': '26567'}, {'similarity': 0.7216, 'master_pi': '67000', 'similar_pi': '55676'}, {'similarity': 0.7115, 'master_pi': '67000', 'similar_pi': '52355'}, {'similarity': 0.704, 'master_pi': '67000', 'similar_pi': '67000'}, {'similarity': 0.7014, 'master_pi': '67000', 'similar_pi': '72863'}, {'similarity': 0.7007, 'master_pi': '67000', 'similar_pi': '46709'}, {'similarity': 0.6911, 'master_pi': '67000', 'similar_pi': '29224'}, {'similarity': 0.6893, 'master_pi': '67000', 'similar_pi': '43309'}, {'similarity': 0.6889, 'master_pi': '67000', 'similar_pi': '26567'}, {'similarity': 0.6883, 'master_pi': '67000', 'similar_pi': '35170'}, {'similarity': 0.6813, 'master_pi': '67000', 'similar_pi': '30293'}, {'similarity': 0.6797, 'master_pi': '67000', 'similar_pi': '43309'}, {'similarity': 0.6793, 'master_pi': '67000', 'similar_pi': '29462'}, {'similarity': 0.6784, 'master_pi': '67000', 'similar_pi': '27996'}, {'similarity': 0.6767, 'master_pi': '67000', 'similar_pi': '77334'}, {'similarity': 0.6686, 'master_pi': '67000', 'similar_pi': '10531'}, {'similarity': 0.6642, 'master_pi': '67000', 'similar_pi': '43309'}, {'similarity': 0.6628, 'master_pi': '67000', 'similar_pi': '58315'}, {'similarity': 1.0, 'master_pi': '67000', 'similar_pi': '67000'}, {'similarity': 0.7642, 'master_pi': '67000', 'similar_pi': '35170'}, {'similarity': 0.7469, 'master_pi': '67000', 'similar_pi': '46709'}, {'similarity': 0.7239, 'master_pi': '67000', 'similar_pi': '35724'}, {'similarity': 0.7233, 'master_pi': '67000', 'similar_pi': '14058'}, {'similarity': 0.71, 'master_pi': '67000', 'similar_pi': '59301'}, {'similarity': 0.7091, 'master_pi': '67000', 'similar_pi': '55676'}, {'similarity': 0.7068, 'master_pi': '67000', 'similar_pi': '65038'}, {'similarity': 0.704, 'master_pi': '67000', 'similar_pi': '9534'}, {'similarity': 0.701, 'master_pi': '67000', 'similar_pi': '34646'}, {'similarity': 0.687, 'master_pi': '67000', 'similar_pi': '67000'}, {'similarity': 0.6854, 'master_pi': '67000', 'similar_pi': '545'}, {'similarity': 0.6709, 'master_pi': '67000', 'similar_pi': '34646'}, {'similarity': 0.6695, 'master_pi': '67000', 'similar_pi': '69196'}, {'similarity': 0.669, 'master_pi': '67000', 'similar_pi': '69856'}, {'similarity': 0.666, 'master_pi': '67000', 'similar_pi': '26567'}, {'similarity': 0.6614, 'master_pi': '67000', 'similar_pi': '29415'}, {'similarity': 0.6542, 'master_pi': '67000', 'similar_pi': '39580'}, {'similarity': 0.652, 'master_pi': '67000', 'similar_pi': '43309'}, {'similarity': 0.6505, 'master_pi': '67000', 'similar_pi': '43309'}, {'similarity': 1.0, 'master_pi': '67000', 'similar_pi': '67000'}, {'similarity': 0.7611, 'master_pi': '67000', 'similar_pi': '67000'}, {'similarity': 0.7298, 'master_pi': '67000', 'similar_pi': '26567'}, {'similarity': 0.7194, 'master_pi': '67000', 'similar_pi': '43309'}, {'similarity': 0.7097, 'master_pi': '67000', 'similar_pi': '55676'}, {'similarity': 0.7086, 'master_pi': '67000', 'similar_pi': '67841'}, {'similarity': 0.7037, 'master_pi': '67000', 'similar_pi': '29224'}, {'similarity': 0.7026, 'master_pi': '67000', 'similar_pi': '15759'}, {'similarity': 0.6999, 'master_pi': '67000', 'similar_pi': '26567'}, {'similarity': 0.6918, 'master_pi': '67000', 'similar_pi': '50403'}, {'similarity': 0.691, 'master_pi': '67000', 'similar_pi': '35170'}, {'similarity': 0.6876, 'master_pi': '67000', 'similar_pi': '10531'}, {'similarity': 0.6864, 'master_pi': '67000', 'similar_pi': '30293'}, {'similarity': 0.681, 'master_pi': '67000', 'similar_pi': '14058'}, {'similarity': 0.679, 'master_pi': '67000', 'similar_pi': '46709'}, {'similarity': 0.6731, 'master_pi': '67000', 'similar_pi': '67000'}, {'similarity': 0.673, 'master_pi': '67000', 'similar_pi': '52355'}, {'similarity': 0.6711, 'master_pi': '67000', 'similar_pi': '26567'}, {'similarity': 0.6569, 'master_pi': '67000', 'similar_pi': '34646'}, {'similarity': 0.6531, 'master_pi': '67000', 'similar_pi': '43309'}, {'similarity': 1.0, 'master_pi': '6738', 'similar_pi': '6738'}, {'similarity': 0.7142, 'master_pi': '6738', 'similar_pi': '55676'}, {'similarity': 0.6987, 'master_pi': '6738', 'similar_pi': '52355'}, {'similarity': 0.692, 'master_pi': '6738', 'similar_pi': '34646'}, {'similarity': 0.6693, 'master_pi': '6738', 'similar_pi': '27996'}, {'similarity': 0.6615, 'master_pi': '6738', 'similar_pi': '75797'}, {'similarity': 0.6601, 'master_pi': '6738', 'similar_pi': '26567'}, {'similarity': 0.6513, 'master_pi': '6738', 'similar_pi': '58315'}, {'similarity': 0.6474, 'master_pi': '6738', 'similar_pi': '35170'}, {'similarity': 0.6418, 'master_pi': '6738', 'similar_pi': '65038'}, {'similarity': 0.6414, 'master_pi': '6738', 'similar_pi': '67000'}, {'similarity': 0.6401, 'master_pi': '6738', 'similar_pi': '43309'}, {'similarity': 0.6393, 'master_pi': '6738', 'similar_pi': '46709'}, {'similarity': 0.6307, 'master_pi': '6738', 'similar_pi': '2804'}, {'similarity': 0.63, 'master_pi': '6738', 'similar_pi': '69196'}, {'similarity': 0.6297, 'master_pi': '6738', 'similar_pi': '67000'}, {'similarity': 0.6297, 'master_pi': '6738', 'similar_pi': '39580'}, {'similarity': 0.6279, 'master_pi': '6738', 'similar_pi': '43309'}, {'similarity': 0.6274, 'master_pi': '6738', 'similar_pi': '75797'}, {'similarity': 0.6243, 'master_pi': '6738', 'similar_pi': '59301'}, {'similarity': 1.0, 'master_pi': '6738', 'similar_pi': '6738'}, {'similarity': 0.761, 'master_pi': '6738', 'similar_pi': '40595'}, {'similarity': 0.7296, 'master_pi': '6738', 'similar_pi': '40595'}, {'similarity': 0.7294, 'master_pi': '6738', 'similar_pi': '44323'}, {'similarity': 0.7074, 'master_pi': '6738', 'similar_pi': '69845'}, {'similarity': 0.6973, 'master_pi': '6738', 'similar_pi': '29462'}, {'similarity': 0.6874, 'master_pi': '6738', 'similar_pi': '42377'}, {'similarity': 0.6809, 'master_pi': '6738', 'similar_pi': '29462'}, {'similarity': 0.6662, 'master_pi': '6738', 'similar_pi': '75797'}, {'similarity': 0.6606, 'master_pi': '6738', 'similar_pi': '71586'}, {'similarity': 0.6489, 'master_pi': '6738', 'similar_pi': '46709'}, {'similarity': 0.6251, 'master_pi': '6738', 'similar_pi': '81289'}, {'similarity': 0.6207, 'master_pi': '6738', 'similar_pi': '42377'}, {'similarity': 0.6193, 'master_pi': '6738', 'similar_pi': '75797'}, {'similarity': 0.6163, 'master_pi': '6738', 'similar_pi': '39580'}, {'similarity': 0.6032, 'master_pi': '6738', 'similar_pi': '10531'}, {'similarity': 0.5988, 'master_pi': '6738', 'similar_pi': '59301'}, {'similarity': 0.5973, 'master_pi': '6738', 'similar_pi': '65501'}, {'similarity': 0.5942, 'master_pi': '6738', 'similar_pi': '77334'}, {'similarity': 0.5922, 'master_pi': '6738', 'similar_pi': '43309'}, {'similarity': 1.0, 'master_pi': '67841', 'similar_pi': '67841'}, {'similarity': 0.7879, 'master_pi': '67841', 'similar_pi': '81289'}, {'similarity': 0.778, 'master_pi': '67841', 'similar_pi': '26567'}, {'similarity': 0.7769, 'master_pi': '67841', 'similar_pi': '81289'}, {'similarity': 0.756, 'master_pi': '67841', 'similar_pi': '10531'}, {'similarity': 0.7552, 'master_pi': '67841', 'similar_pi': '50403'}, {'similarity': 0.7483, 'master_pi': '67841', 'similar_pi': '43309'}, {'similarity': 0.7397, 'master_pi': '67841', 'similar_pi': '75797'}, {'similarity': 0.7232, 'master_pi': '67841', 'similar_pi': '75797'}, {'similarity': 0.7227, 'master_pi': '67841', 'similar_pi': '65038'}, {'similarity': 0.7165, 'master_pi': '67841', 'similar_pi': '26567'}, {'similarity': 0.7112, 'master_pi': '67841', 'similar_pi': '26567'}, {'similarity': 0.709, 'master_pi': '67841', 'similar_pi': '42377'}, {'similarity': 0.7087, 'master_pi': '67841', 'similar_pi': '75797'}, {'similarity': 0.7086, 'master_pi': '67841', 'similar_pi': '67000'}, {'similarity': 0.7082, 'master_pi': '67841', 'similar_pi': '34646'}, {'similarity': 0.7069, 'master_pi': '67841', 'similar_pi': '77334'}, {'similarity': 0.7061, 'master_pi': '67841', 'similar_pi': '46709'}, {'similarity': 0.7048, 'master_pi': '67841', 'similar_pi': '43309'}, {'similarity': 0.7001, 'master_pi': '67841', 'similar_pi': '34646'}, {'similarity': 1.0, 'master_pi': '69196', 'similar_pi': '69196'}, {'similarity': 0.8183, 'master_pi': '69196', 'similar_pi': '69856'}, {'similarity': 0.799, 'master_pi': '69196', 'similar_pi': '35170'}, {'similarity': 0.778, 'master_pi': '69196', 'similar_pi': '59301'}, {'similarity': 0.7076, 'master_pi': '69196', 'similar_pi': '34646'}, {'similarity': 0.7017, 'master_pi': '69196', 'similar_pi': '29415'}, {'similarity': 0.6842, 'master_pi': '69196', 'similar_pi': '46709'}, {'similarity': 0.673, 'master_pi': '69196', 'similar_pi': '34646'}, {'similarity': 0.6695, 'master_pi': '69196', 'similar_pi': '67000'}, {'similarity': 0.6547, 'master_pi': '69196', 'similar_pi': '43193'}, {'similarity': 0.6544, 'master_pi': '69196', 'similar_pi': '35724'}, {'similarity': 0.6539, 'master_pi': '69196', 'similar_pi': '50403'}, {'similarity': 0.6403, 'master_pi': '69196', 'similar_pi': '66504'}, {'similarity': 0.6382, 'master_pi': '69196', 'similar_pi': '14058'}, {'similarity': 0.6367, 'master_pi': '69196', 'similar_pi': '40699'}, {'similarity': 0.6353, 'master_pi': '69196', 'similar_pi': '67000'}, {'similarity': 0.6347, 'master_pi': '69196', 'similar_pi': '65038'}, {'similarity': 0.633, 'master_pi': '69196', 'similar_pi': '75797'}, {'similarity': 0.63, 'master_pi': '69196', 'similar_pi': '6738'}, {'similarity': 0.625, 'master_pi': '69196', 'similar_pi': '55676'}, {'similarity': 1.0, 'master_pi': '69845', 'similar_pi': '69845'}, {'similarity': 0.8355, 'master_pi': '69845', 'similar_pi': '75797'}, {'similarity': 0.832, 'master_pi': '69845', 'similar_pi': '44323'}, {'similarity': 0.8207, 'master_pi': '69845', 'similar_pi': '42377'}, {'similarity': 0.7946, 'master_pi': '69845', 'similar_pi': '40595'}, {'similarity': 0.7904, 'master_pi': '69845', 'similar_pi': '65038'}, {'similarity': 0.7847, 'master_pi': '69845', 'similar_pi': '10531'}, {'similarity': 0.7838, 'master_pi': '69845', 'similar_pi': '71586'}, {'similarity': 0.7837, 'master_pi': '69845', 'similar_pi': '46709'}, {'similarity': 0.7795, 'master_pi': '69845', 'similar_pi': '43309'}, {'similarity': 0.7767, 'master_pi': '69845', 'similar_pi': '29462'}, {'similarity': 0.7727, 'master_pi': '69845', 'similar_pi': '81289'}, {'similarity': 0.7719, 'master_pi': '69845', 'similar_pi': '72863'}, {'similarity': 0.771, 'master_pi': '69845', 'similar_pi': '43309'}, {'similarity': 0.7676, 'master_pi': '69845', 'similar_pi': '77334'}, {'similarity': 0.7643, 'master_pi': '69845', 'similar_pi': '42377'}, {'similarity': 0.7606, 'master_pi': '69845', 'similar_pi': '50035'}, {'similarity': 0.7537, 'master_pi': '69845', 'similar_pi': '11485'}, {'similarity': 0.7535, 'master_pi': '69845', 'similar_pi': '43309'}, {'similarity': 0.7454, 'master_pi': '69845', 'similar_pi': '43309'}, {'similarity': 1.0, 'master_pi': '69845', 'similar_pi': '69845'}, {'similarity': 0.8302, 'master_pi': '69845', 'similar_pi': '34646'}, {'similarity': 0.8203, 'master_pi': '69845', 'similar_pi': '9534'}, {'similarity': 0.8114, 'master_pi': '69845', 'similar_pi': '23158'}, {'similarity': 0.7957, 'master_pi': '69845', 'similar_pi': '72863'}, {'similarity': 0.7613, 'master_pi': '69845', 'similar_pi': '11485'}, {'similarity': 0.7597, 'master_pi': '69845', 'similar_pi': '18337'}, {'similarity': 0.7591, 'master_pi': '69845', 'similar_pi': '71586'}, {'similarity': 0.7279, 'master_pi': '69845', 'similar_pi': '72863'}, {'similarity': 0.7003, 'master_pi': '69845', 'similar_pi': '43309'}, {'similarity': 0.6985, 'master_pi': '69845', 'similar_pi': '73087'}, {'similarity': 0.6963, 'master_pi': '69845', 'similar_pi': '72863'}, {'similarity': 0.6937, 'master_pi': '69845', 'similar_pi': '9534'}, {'similarity': 0.6899, 'master_pi': '69845', 'similar_pi': '62766'}, {'similarity': 0.6743, 'master_pi': '69845', 'similar_pi': '43309'}, {'similarity': 0.6742, 'master_pi': '69845', 'similar_pi': '69845'}, {'similarity': 0.6712, 'master_pi': '69845', 'similar_pi': '46709'}, {'similarity': 0.6596, 'master_pi': '69845', 'similar_pi': '40595'}, {'similarity': 0.6483, 'master_pi': '69845', 'similar_pi': '40595'}, {'similarity': 0.6482, 'master_pi': '69845', 'similar_pi': '65038'}, {'similarity': 1.0, 'master_pi': '69845', 'similar_pi': '69845'}, {'similarity': 0.828, 'master_pi': '69845', 'similar_pi': '58315'}, {'similarity': 0.703, 'master_pi': '69845', 'similar_pi': '50035'}, {'similarity': 0.6932, 'master_pi': '69845', 'similar_pi': '6095'}, {'similarity': 0.6787, 'master_pi': '69845', 'similar_pi': '34646'}, {'similarity': 0.6705, 'master_pi': '69845', 'similar_pi': '2804'}, {'similarity': 0.6606, 'master_pi': '69845', 'similar_pi': '81289'}, {'similarity': 0.6554, 'master_pi': '69845', 'similar_pi': '65842'}, {'similarity': 0.638, 'master_pi': '69845', 'similar_pi': '29462'}, {'similarity': 0.6232, 'master_pi': '69845', 'similar_pi': '39580'}, {'similarity': 0.6217, 'master_pi': '69845', 'similar_pi': '72863'}, {'similarity': 0.5981, 'master_pi': '69845', 'similar_pi': '81433'}, {'similarity': 0.5979, 'master_pi': '69845', 'similar_pi': '75797'}, {'similarity': 0.5914, 'master_pi': '69845', 'similar_pi': '75797'}, {'similarity': 0.5894, 'master_pi': '69845', 'similar_pi': '58315'}, {'similarity': 0.589, 'master_pi': '69845', 'similar_pi': '52355'}, {'similarity': 0.5844, 'master_pi': '69845', 'similar_pi': '77334'}, {'similarity': 0.5808, 'master_pi': '69845', 'similar_pi': '26567'}, {'similarity': 0.58, 'master_pi': '69845', 'similar_pi': '30293'}, {'similarity': 0.5743, 'master_pi': '69845', 'similar_pi': '43309'}, {'similarity': 1.0, 'master_pi': '69856', 'similar_pi': '69856'}, {'similarity': 0.8183, 'master_pi': '69856', 'similar_pi': '69196'}, {'similarity': 0.7898, 'master_pi': '69856', 'similar_pi': '35170'}, {'similarity': 0.7663, 'master_pi': '69856', 'similar_pi': '59301'}, {'similarity': 0.6779, 'master_pi': '69856', 'similar_pi': '35724'}, {'similarity': 0.669, 'master_pi': '69856', 'similar_pi': '67000'}, {'similarity': 0.661, 'master_pi': '69856', 'similar_pi': '46709'}, {'similarity': 0.6495, 'master_pi': '69856', 'similar_pi': '34646'}, {'similarity': 0.6454, 'master_pi': '69856', 'similar_pi': '6172'}, {'similarity': 0.6418, 'master_pi': '69856', 'similar_pi': '545'}, {'similarity': 0.6382, 'master_pi': '69856', 'similar_pi': '66504'}, {'similarity': 0.6284, 'master_pi': '69856', 'similar_pi': '34646'}, {'similarity': 0.6262, 'master_pi': '69856', 'similar_pi': '50403'}, {'similarity': 0.6169, 'master_pi': '69856', 'similar_pi': '14058'}, {'similarity': 0.6153, 'master_pi': '69856', 'similar_pi': '29224'}, {'similarity': 0.6082, 'master_pi': '69856', 'similar_pi': '26567'}, {'similarity': 0.6074, 'master_pi': '69856', 'similar_pi': '55676'}, {'similarity': 0.6045, 'master_pi': '69856', 'similar_pi': '75797'}, {'similarity': 0.6029, 'master_pi': '69856', 'similar_pi': '29415'}, {'similarity': 0.5973, 'master_pi': '69856', 'similar_pi': '43309'}, {'similarity': 1.0, 'master_pi': '71586', 'similar_pi': '71586'}, {'similarity': 0.7908, 'master_pi': '71586', 'similar_pi': '11485'}, {'similarity': 0.7838, 'master_pi': '71586', 'similar_pi': '69845'}, {'similarity': 0.761, 'master_pi': '71586', 'similar_pi': '72863'}, {'similarity': 0.7602, 'master_pi': '71586', 'similar_pi': '23158'}, {'similarity': 0.7591, 'master_pi': '71586', 'similar_pi': '69845'}, {'similarity': 0.7577, 'master_pi': '71586', 'similar_pi': '40595'}, {'similarity': 0.7337, 'master_pi': '71586', 'similar_pi': '43309'}, {'similarity': 0.7327, 'master_pi': '71586', 'similar_pi': '46709'}, {'similarity': 0.7326, 'master_pi': '71586', 'similar_pi': '43309'}, {'similarity': 0.7246, 'master_pi': '71586', 'similar_pi': '34646'}, {'similarity': 0.7187, 'master_pi': '71586', 'similar_pi': '65038'}, {'similarity': 0.7183, 'master_pi': '71586', 'similar_pi': '72863'}, {'similarity': 0.7176, 'master_pi': '71586', 'similar_pi': '39580'}, {'similarity': 0.7134, 'master_pi': '71586', 'similar_pi': '73087'}, {'similarity': 0.7039, 'master_pi': '71586', 'similar_pi': '39580'}, {'similarity': 0.7034, 'master_pi': '71586', 'similar_pi': '29462'}, {'similarity': 0.7012, 'master_pi': '71586', 'similar_pi': '43561'}, {'similarity': 0.7007, 'master_pi': '71586', 'similar_pi': '44323'}, {'similarity': 0.6992, 'master_pi': '71586', 'similar_pi': '9534'}, {'similarity': 1.0, 'master_pi': '72863', 'similar_pi': '72863'}, {'similarity': 0.8932, 'master_pi': '72863', 'similar_pi': '72863'}, {'similarity': 0.8346, 'master_pi': '72863', 'similar_pi': '77334'}, {'similarity': 0.8095, 'master_pi': '72863', 'similar_pi': '77334'}, {'similarity': 0.8006, 'master_pi': '72863', 'similar_pi': '23158'}, {'similarity': 0.7633, 'master_pi': '72863', 'similar_pi': '39580'}, {'similarity': 0.7497, 'master_pi': '72863', 'similar_pi': '46709'}, {'similarity': 0.7437, 'master_pi': '72863', 'similar_pi': '75797'}, {'similarity': 0.7329, 'master_pi': '72863', 'similar_pi': '43309'}, {'similarity': 0.7312, 'master_pi': '72863', 'similar_pi': '44323'}, {'similarity': 0.7288, 'master_pi': '72863', 'similar_pi': '69845'}, {'similarity': 0.7255, 'master_pi': '72863', 'similar_pi': '34646'}, {'similarity': 0.723, 'master_pi': '72863', 'similar_pi': '43309'}, {'similarity': 0.7166, 'master_pi': '72863', 'similar_pi': '11485'}, {'similarity': 0.7142, 'master_pi': '72863', 'similar_pi': '75797'}, {'similarity': 0.7093, 'master_pi': '72863', 'similar_pi': '59301'}, {'similarity': 0.7081, 'master_pi': '72863', 'similar_pi': '72863'}, {'similarity': 0.6985, 'master_pi': '72863', 'similar_pi': '43309'}, {'similarity': 0.6963, 'master_pi': '72863', 'similar_pi': '69845'}, {'similarity': 0.6949, 'master_pi': '72863', 'similar_pi': '71586'}, {'similarity': 1.0, 'master_pi': '72863', 'similar_pi': '72863'}, {'similarity': 0.8932, 'master_pi': '72863', 'similar_pi': '72863'}, {'similarity': 0.8136, 'master_pi': '72863', 'similar_pi': '23158'}, {'similarity': 0.7871, 'master_pi': '72863', 'similar_pi': '77334'}, {'similarity': 0.7719, 'master_pi': '72863', 'similar_pi': '69845'}, {'similarity': 0.7618, 'master_pi': '72863', 'similar_pi': '77334'}, {'similarity': 0.761, 'master_pi': '72863', 'similar_pi': '71586'}, {'similarity': 0.7545, 'master_pi': '72863', 'similar_pi': '39580'}, {'similarity': 0.7492, 'master_pi': '72863', 'similar_pi': '43309'}, {'similarity': 0.7477, 'master_pi': '72863', 'similar_pi': '11485'}, {'similarity': 0.7399, 'master_pi': '72863', 'similar_pi': '46709'}, {'similarity': 0.7399, 'master_pi': '72863', 'similar_pi': '44323'}, {'similarity': 0.7329, 'master_pi': '72863', 'similar_pi': '75797'}, {'similarity': 0.7279, 'master_pi': '72863', 'similar_pi': '69845'}, {'similarity': 0.7175, 'master_pi': '72863', 'similar_pi': '75797'}, {'similarity': 0.7153, 'master_pi': '72863', 'similar_pi': '43309'}, {'similarity': 0.7139, 'master_pi': '72863', 'similar_pi': '29462'}, {'similarity': 0.7134, 'master_pi': '72863', 'similar_pi': '73087'}, {'similarity': 0.7103, 'master_pi': '72863', 'similar_pi': '34646'}, {'similarity': 0.7086, 'master_pi': '72863', 'similar_pi': '34646'}, {'similarity': 1.0, 'master_pi': '72863', 'similar_pi': '72863'}, {'similarity': 0.713, 'master_pi': '72863', 'similar_pi': '29462'}, {'similarity': 0.7014, 'master_pi': '72863', 'similar_pi': '67000'}, {'similarity': 0.6784, 'master_pi': '72863', 'similar_pi': '26567'}, {'similarity': 0.6757, 'master_pi': '72863', 'similar_pi': '65842'}, {'similarity': 0.6584, 'master_pi': '72863', 'similar_pi': '6095'}, {'similarity': 0.6574, 'master_pi': '72863', 'similar_pi': '81289'}, {'similarity': 0.6512, 'master_pi': '72863', 'similar_pi': '43309'}, {'similarity': 0.6467, 'master_pi': '72863', 'similar_pi': '26567'}, {'similarity': 0.6457, 'master_pi': '72863', 'similar_pi': '77334'}, {'similarity': 0.6443, 'master_pi': '72863', 'similar_pi': '6095'}, {'similarity': 0.6389, 'master_pi': '72863', 'similar_pi': '52355'}, {'similarity': 0.6357, 'master_pi': '72863', 'similar_pi': '77334'}, {'similarity': 0.635, 'master_pi': '72863', 'similar_pi': '67000'}, {'similarity': 0.6297, 'master_pi': '72863', 'similar_pi': '58315'}, {'similarity': 0.6285, 'master_pi': '72863', 'similar_pi': '50035'}, {'similarity': 0.6217, 'master_pi': '72863', 'similar_pi': '69845'}, {'similarity': 0.621, 'master_pi': '72863', 'similar_pi': '58315'}, {'similarity': 0.6176, 'master_pi': '72863', 'similar_pi': '81289'}, {'similarity': 0.6175, 'master_pi': '72863', 'similar_pi': '30293'}, {'similarity': 1.0, 'master_pi': '72863', 'similar_pi': '72863'}, {'similarity': 0.8146, 'master_pi': '72863', 'similar_pi': '23158'}, {'similarity': 0.8035, 'master_pi': '72863', 'similar_pi': '18337'}, {'similarity': 0.7957, 'master_pi': '72863', 'similar_pi': '69845'}, {'similarity': 0.7951, 'master_pi': '72863', 'similar_pi': '43309'}, {'similarity': 0.7907, 'master_pi': '72863', 'similar_pi': '34646'}, {'similarity': 0.783, 'master_pi': '72863', 'similar_pi': '9534'}, {'similarity': 0.7644, 'master_pi': '72863', 'similar_pi': '11485'}, {'similarity': 0.7434, 'master_pi': '72863', 'similar_pi': '42667'}, {'similarity': 0.7393, 'master_pi': '72863', 'similar_pi': '62766'}, {'similarity': 0.7278, 'master_pi': '72863', 'similar_pi': '47160'}, {'similarity': 0.7183, 'master_pi': '72863', 'similar_pi': '71586'}, {'similarity': 0.7125, 'master_pi': '72863', 'similar_pi': '46709'}, {'similarity': 0.7091, 'master_pi': '72863', 'similar_pi': '545'}, {'similarity': 0.7081, 'master_pi': '72863', 'similar_pi': '72863'}, {'similarity': 0.7058, 'master_pi': '72863', 'similar_pi': '72863'}, {'similarity': 0.7006, 'master_pi': '72863', 'similar_pi': '39580'}, {'similarity': 0.6825, 'master_pi': '72863', 'similar_pi': '9534'}, {'similarity': 0.6493, 'master_pi': '72863', 'similar_pi': '77334'}, {'similarity': 0.6455, 'master_pi': '72863', 'similar_pi': '29462'}, {'similarity': 1.0, 'master_pi': '73087', 'similar_pi': '73087'}, {'similarity': 0.7675, 'master_pi': '73087', 'similar_pi': '43309'}, {'similarity': 0.7528, 'master_pi': '73087', 'similar_pi': '11485'}, {'similarity': 0.737, 'master_pi': '73087', 'similar_pi': '69845'}, {'similarity': 0.7327, 'master_pi': '73087', 'similar_pi': '52355'}, {'similarity': 0.7279, 'master_pi': '73087', 'similar_pi': '43309'}, {'similarity': 0.7233, 'master_pi': '73087', 'similar_pi': '65038'}, {'similarity': 0.7184, 'master_pi': '73087', 'similar_pi': '23158'}, {'similarity': 0.7149, 'master_pi': '73087', 'similar_pi': '46709'}, {'similarity': 0.7134, 'master_pi': '73087', 'similar_pi': '72863'}, {'similarity': 0.7134, 'master_pi': '73087', 'similar_pi': '71586'}, {'similarity': 0.6998, 'master_pi': '73087', 'similar_pi': '43561'}, {'similarity': 0.6985, 'master_pi': '73087', 'similar_pi': '69845'}, {'similarity': 0.6895, 'master_pi': '73087', 'similar_pi': '58315'}, {'similarity': 0.6864, 'master_pi': '73087', 'similar_pi': '9534'}, {'similarity': 0.6839, 'master_pi': '73087', 'similar_pi': '43309'}, {'similarity': 0.6817, 'master_pi': '73087', 'similar_pi': '43309'}, {'similarity': 0.6745, 'master_pi': '73087', 'similar_pi': '72863'}, {'similarity': 0.6721, 'master_pi': '73087', 'similar_pi': '75797'}, {'similarity': 0.6714, 'master_pi': '73087', 'similar_pi': '55676'}, {'similarity': 1.0, 'master_pi': '75797', 'similar_pi': '75797'}, {'similarity': 0.7927, 'master_pi': '75797', 'similar_pi': '75797'}, {'similarity': 0.7888, 'master_pi': '75797', 'similar_pi': '10531'}, {'similarity': 0.7817, 'master_pi': '75797', 'similar_pi': '65501'}, {'similarity': 0.7807, 'master_pi': '75797', 'similar_pi': '42377'}, {'similarity': 0.7672, 'master_pi': '75797', 'similar_pi': '30293'}, {'similarity': 0.7615, 'master_pi': '75797', 'similar_pi': '81289'}, {'similarity': 0.7429, 'master_pi': '75797', 'similar_pi': '69845'}, {'similarity': 0.7363, 'master_pi': '75797', 'similar_pi': '29462'}, {'similarity': 0.7348, 'master_pi': '75797', 'similar_pi': '43309'}, {'similarity': 0.7259, 'master_pi': '75797', 'similar_pi': '65842'}, {'similarity': 0.725, 'master_pi': '75797', 'similar_pi': '44323'}, {'similarity': 0.7244, 'master_pi': '75797', 'similar_pi': '81289'}, {'similarity': 0.7243, 'master_pi': '75797', 'similar_pi': '50035'}, {'similarity': 0.7224, 'master_pi': '75797', 'similar_pi': '6095'}, {'similarity': 0.7215, 'master_pi': '75797', 'similar_pi': '81289'}, {'similarity': 0.7196, 'master_pi': '75797', 'similar_pi': '77334'}, {'similarity': 0.7149, 'master_pi': '75797', 'similar_pi': '40699'}, {'similarity': 0.7112, 'master_pi': '75797', 'similar_pi': '43193'}, {'similarity': 0.7036, 'master_pi': '75797', 'similar_pi': '42377'}, {'similarity': 1.0, 'master_pi': '75797', 'similar_pi': '75797'}, {'similarity': 0.8433, 'master_pi': '75797', 'similar_pi': '77334'}, {'similarity': 0.8417, 'master_pi': '75797', 'similar_pi': '77334'}, {'similarity': 0.8379, 'master_pi': '75797', 'similar_pi': '81289'}, {'similarity': 0.8355, 'master_pi': '75797', 'similar_pi': '69845'}, {'similarity': 0.8237, 'master_pi': '75797', 'similar_pi': '42377'}, {'similarity': 0.8096, 'master_pi': '75797', 'similar_pi': '43309'}, {'similarity': 0.8062, 'master_pi': '75797', 'similar_pi': '44323'}, {'similarity': 0.8059, 'master_pi': '75797', 'similar_pi': '29462'}, {'similarity': 0.7952, 'master_pi': '75797', 'similar_pi': '42377'}, {'similarity': 0.7927, 'master_pi': '75797', 'similar_pi': '75797'}, {'similarity': 0.7897, 'master_pi': '75797', 'similar_pi': '50035'}, {'similarity': 0.7865, 'master_pi': '75797', 'similar_pi': '29462'}, {'similarity': 0.7838, 'master_pi': '75797', 'similar_pi': '43309'}, {'similarity': 0.7806, 'master_pi': '75797', 'similar_pi': '46709'}, {'similarity': 0.7742, 'master_pi': '75797', 'similar_pi': '75797'}, {'similarity': 0.7712, 'master_pi': '75797', 'similar_pi': '34646'}, {'similarity': 0.7689, 'master_pi': '75797', 'similar_pi': '65038'}, {'similarity': 0.7658, 'master_pi': '75797', 'similar_pi': '81289'}, {'similarity': 0.7653, 'master_pi': '75797', 'similar_pi': '10531'}, {'similarity': 1.0, 'master_pi': '75797', 'similar_pi': '75797'}, {'similarity': 0.7501, 'master_pi': '75797', 'similar_pi': '81289'}, {'similarity': 0.7476, 'master_pi': '75797', 'similar_pi': '43309'}, {'similarity': 0.7397, 'master_pi': '75797', 'similar_pi': '67841'}, {'similarity': 0.7276, 'master_pi': '75797', 'similar_pi': '65038'}, {'similarity': 0.727, 'master_pi': '75797', 'similar_pi': '46709'}, {'similarity': 0.7242, 'master_pi': '75797', 'similar_pi': '75797'}, {'similarity': 0.7218, 'master_pi': '75797', 'similar_pi': '50403'}, {'similarity': 0.7181, 'master_pi': '75797', 'similar_pi': '42377'}, {'similarity': 0.7158, 'master_pi': '75797', 'similar_pi': '52355'}, {'similarity': 0.7155, 'master_pi': '75797', 'similar_pi': '69845'}, {'similarity': 0.7153, 'master_pi': '75797', 'similar_pi': '29462'}, {'similarity': 0.7152, 'master_pi': '75797', 'similar_pi': '81289'}, {'similarity': 0.7142, 'master_pi': '75797', 'similar_pi': '34646'}, {'similarity': 0.7133, 'master_pi': '75797', 'similar_pi': '26567'}, {'similarity': 0.7089, 'master_pi': '75797', 'similar_pi': '35170'}, {'similarity': 0.708, 'master_pi': '75797', 'similar_pi': '55676'}, {'similarity': 0.7046, 'master_pi': '75797', 'similar_pi': '42377'}, {'similarity': 0.7031, 'master_pi': '75797', 'similar_pi': '29224'}, {'similarity': 0.7017, 'master_pi': '75797', 'similar_pi': '34646'}, {'similarity': 1.0, 'master_pi': '75797', 'similar_pi': '75797'}, {'similarity': 0.7761, 'master_pi': '75797', 'similar_pi': '34646'}, {'similarity': 0.7742, 'master_pi': '75797', 'similar_pi': '75797'}, {'similarity': 0.7656, 'master_pi': '75797', 'similar_pi': '50035'}, {'similarity': 0.7604, 'master_pi': '75797', 'similar_pi': '77334'}, {'similarity': 0.7556, 'master_pi': '75797', 'similar_pi': '44323'}, {'similarity': 0.7439, 'master_pi': '75797', 'similar_pi': '69845'}, {'similarity': 0.7434, 'master_pi': '75797', 'similar_pi': '34646'}, {'similarity': 0.7433, 'master_pi': '75797', 'similar_pi': '77334'}, {'similarity': 0.7427, 'master_pi': '75797', 'similar_pi': '43309'}, {'similarity': 0.7361, 'master_pi': '75797', 'similar_pi': '39580'}, {'similarity': 0.7321, 'master_pi': '75797', 'similar_pi': '46709'}, {'similarity': 0.7317, 'master_pi': '75797', 'similar_pi': '43309'}, {'similarity': 0.7276, 'master_pi': '75797', 'similar_pi': '35170'}, {'similarity': 0.7261, 'master_pi': '75797', 'similar_pi': '67000'}, {'similarity': 0.7235, 'master_pi': '75797', 'similar_pi': '81289'}, {'similarity': 0.7205, 'master_pi': '75797', 'similar_pi': '59301'}, {'similarity': 0.7175, 'master_pi': '75797', 'similar_pi': '72863'}, {'similarity': 0.7173, 'master_pi': '75797', 'similar_pi': '43309'}, {'similarity': 0.715, 'master_pi': '75797', 'similar_pi': '81433'}, {'similarity': 1.0, 'master_pi': '7605', 'similar_pi': '7605'}, {'similarity': 0.7519, 'master_pi': '7605', 'similar_pi': '81289'}, {'similarity': 0.7502, 'master_pi': '7605', 'similar_pi': '43309'}, {'similarity': 0.748, 'master_pi': '7605', 'similar_pi': '65038'}, {'similarity': 0.7381, 'master_pi': '7605', 'similar_pi': '75797'}, {'similarity': 0.7341, 'master_pi': '7605', 'similar_pi': '42377'}, {'similarity': 0.7283, 'master_pi': '7605', 'similar_pi': '81289'}, {'similarity': 0.726, 'master_pi': '7605', 'similar_pi': '81289'}, {'similarity': 0.7214, 'master_pi': '7605', 'similar_pi': '26567'}, {'similarity': 0.7144, 'master_pi': '7605', 'similar_pi': '42377'}, {'similarity': 0.7102, 'master_pi': '7605', 'similar_pi': '10531'}, {'similarity': 0.7024, 'master_pi': '7605', 'similar_pi': '81289'}, {'similarity': 0.6985, 'master_pi': '7605', 'similar_pi': '26567'}, {'similarity': 0.6984, 'master_pi': '7605', 'similar_pi': '46709'}, {'similarity': 0.6954, 'master_pi': '7605', 'similar_pi': '43309'}, {'similarity': 0.6921, 'master_pi': '7605', 'similar_pi': '29462'}, {'similarity': 0.6902, 'master_pi': '7605', 'similar_pi': '67841'}, {'similarity': 0.6893, 'master_pi': '7605', 'similar_pi': '50403'}, {'similarity': 0.6829, 'master_pi': '7605', 'similar_pi': '30293'}, {'similarity': 0.6783, 'master_pi': '7605', 'similar_pi': '26567'}, {'similarity': 1.0, 'master_pi': '77334', 'similar_pi': '77334'}, {'similarity': 0.9339, 'master_pi': '77334', 'similar_pi': '77334'}, {'similarity': 0.8417, 'master_pi': '77334', 'similar_pi': '75797'}, {'similarity': 0.8346, 'master_pi': '77334', 'similar_pi': '72863'}, {'similarity': 0.7874, 'master_pi': '77334', 'similar_pi': '46709'}, {'similarity': 0.7871, 'master_pi': '77334', 'similar_pi': '72863'}, {'similarity': 0.7676, 'master_pi': '77334', 'similar_pi': '69845'}, {'similarity': 0.7571, 'master_pi': '77334', 'similar_pi': '44323'}, {'similarity': 0.7543, 'master_pi': '77334', 'similar_pi': '43309'}, {'similarity': 0.7502, 'master_pi': '77334', 'similar_pi': '43309'}, {'similarity': 0.7433, 'master_pi': '77334', 'similar_pi': '75797'}, {'similarity': 0.7419, 'master_pi': '77334', 'similar_pi': '43309'}, {'similarity': 0.7373, 'master_pi': '77334', 'similar_pi': '42377'}, {'similarity': 0.7367, 'master_pi': '77334', 'similar_pi': '10531'}, {'similarity': 0.7367, 'master_pi': '77334', 'similar_pi': '34646'}, {'similarity': 0.735, 'master_pi': '77334', 'similar_pi': '39580'}, {'similarity': 0.7339, 'master_pi': '77334', 'similar_pi': '43193'}, {'similarity': 0.7337, 'master_pi': '77334', 'similar_pi': '65038'}, {'similarity': 0.7317, 'master_pi': '77334', 'similar_pi': '29462'}, {'similarity': 0.7299, 'master_pi': '77334', 'similar_pi': '43309'}, {'similarity': 1.0, 'master_pi': '77334', 'similar_pi': '77334'}, {'similarity': 0.9339, 'master_pi': '77334', 'similar_pi': '77334'}, {'similarity': 0.8433, 'master_pi': '77334', 'similar_pi': '75797'}, {'similarity': 0.8095, 'master_pi': '77334', 'similar_pi': '72863'}, {'similarity': 0.7618, 'master_pi': '77334', 'similar_pi': '72863'}, {'similarity': 0.7604, 'master_pi': '77334', 'similar_pi': '75797'}, {'similarity': 0.7554, 'master_pi': '77334', 'similar_pi': '67000'}, {'similarity': 0.754, 'master_pi': '77334', 'similar_pi': '46709'}, {'similarity': 0.7491, 'master_pi': '77334', 'similar_pi': '34646'}, {'similarity': 0.7439, 'master_pi': '77334', 'similar_pi': '69845'}, {'similarity': 0.7388, 'master_pi': '77334', 'similar_pi': '43309'}, {'similarity': 0.7358, 'master_pi': '77334', 'similar_pi': '42377'}, {'similarity': 0.7272, 'master_pi': '77334', 'similar_pi': '44323'}, {'similarity': 0.7255, 'master_pi': '77334', 'similar_pi': '42377'}, {'similarity': 0.7205, 'master_pi': '77334', 'similar_pi': '50035'}, {'similarity': 0.7199, 'master_pi': '77334', 'similar_pi': '65038'}, {'similarity': 0.7169, 'master_pi': '77334', 'similar_pi': '43193'}, {'similarity': 0.7152, 'master_pi': '77334', 'similar_pi': '10531'}, {'similarity': 0.7147, 'master_pi': '77334', 'similar_pi': '39580'}, {'similarity': 0.714, 'master_pi': '77334', 'similar_pi': '29462'}, {'similarity': 1.0, 'master_pi': '77334', 'similar_pi': '77334'}, {'similarity': 0.7234, 'master_pi': '77334', 'similar_pi': '81289'}, {'similarity': 0.7232, 'master_pi': '77334', 'similar_pi': '81433'}, {'similarity': 0.7228, 'master_pi': '77334', 'similar_pi': '29462'}, {'similarity': 0.7212, 'master_pi': '77334', 'similar_pi': '65842'}, {'similarity': 0.6863, 'master_pi': '77334', 'similar_pi': '75797'}, {'similarity': 0.6764, 'master_pi': '77334', 'similar_pi': '75797'}, {'similarity': 0.6631, 'master_pi': '77334', 'similar_pi': '50035'}, {'similarity': 0.6552, 'master_pi': '77334', 'similar_pi': '77334'}, {'similarity': 0.6479, 'master_pi': '77334', 'similar_pi': '42377'}, {'similarity': 0.6477, 'master_pi': '77334', 'similar_pi': '6095'}, {'similarity': 0.6457, 'master_pi': '77334', 'similar_pi': '72863'}, {'similarity': 0.6428, 'master_pi': '77334', 'similar_pi': '6172'}, {'similarity': 0.6364, 'master_pi': '77334', 'similar_pi': '43193'}, {'similarity': 0.6322, 'master_pi': '77334', 'similar_pi': '34646'}, {'similarity': 0.6312, 'master_pi': '77334', 'similar_pi': '40699'}, {'similarity': 0.6298, 'master_pi': '77334', 'similar_pi': '77334'}, {'similarity': 0.6264, 'master_pi': '77334', 'similar_pi': '75797'}, {'similarity': 0.6217, 'master_pi': '77334', 'similar_pi': '42377'}, {'similarity': 0.6194, 'master_pi': '77334', 'similar_pi': '26567'}, {'similarity': 1.0, 'master_pi': '81289', 'similar_pi': '81289'}, {'similarity': 0.9687, 'master_pi': '81289', 'similar_pi': '81289'}, {'similarity': 0.8108, 'master_pi': '81289', 'similar_pi': '43309'}, {'similarity': 0.7963, 'master_pi': '81289', 'similar_pi': '10531'}, {'similarity': 0.7938, 'master_pi': '81289', 'similar_pi': '26567'}, {'similarity': 0.7769, 'master_pi': '81289', 'similar_pi': '67841'}, {'similarity': 0.752, 'master_pi': '81289', 'similar_pi': '75797'}, {'similarity': 0.7462, 'master_pi': '81289', 'similar_pi': '81289'}, {'similarity': 0.743, 'master_pi': '81289', 'similar_pi': '43309'}, {'similarity': 0.7357, 'master_pi': '81289', 'similar_pi': '30293'}, {'similarity': 0.7305, 'master_pi': '81289', 'similar_pi': '26567'}, {'similarity': 0.7283, 'master_pi': '81289', 'similar_pi': '7605'}, {'similarity': 0.726, 'master_pi': '81289', 'similar_pi': '50035'}, {'similarity': 0.7215, 'master_pi': '81289', 'similar_pi': '75797'}, {'similarity': 0.7206, 'master_pi': '81289', 'similar_pi': '50403'}, {'similarity': 0.7192, 'master_pi': '81289', 'similar_pi': '26567'}, {'similarity': 0.7166, 'master_pi': '81289', 'similar_pi': '65038'}, {'similarity': 0.7152, 'master_pi': '81289', 'similar_pi': '75797'}, {'similarity': 0.7131, 'master_pi': '81289', 'similar_pi': '39580'}, {'similarity': 0.7064, 'master_pi': '81289', 'similar_pi': '75797'}, {'similarity': 1.0, 'master_pi': '81289', 'similar_pi': '81289'}, {'similarity': 0.8379, 'master_pi': '81289', 'similar_pi': '75797'}, {'similarity': 0.8136, 'master_pi': '81289', 'similar_pi': '50035'}, {'similarity': 0.804, 'master_pi': '81289', 'similar_pi': '29462'}, {'similarity': 0.7902, 'master_pi': '81289', 'similar_pi': '29462'}, {'similarity': 0.7727, 'master_pi': '81289', 'similar_pi': '69845'}, {'similarity': 0.7615, 'master_pi': '81289', 'similar_pi': '75797'}, {'similarity': 0.7533, 'master_pi': '81289', 'similar_pi': '42377'}, {'similarity': 0.7462, 'master_pi': '81289', 'similar_pi': '81289'}, {'similarity': 0.7446, 'master_pi': '81289', 'similar_pi': '65842'}, {'similarity': 0.7444, 'master_pi': '81289', 'similar_pi': '81289'}, {'similarity': 0.7439, 'master_pi': '81289', 'similar_pi': '30293'}, {'similarity': 0.7353, 'master_pi': '81289', 'similar_pi': '43309'}, {'similarity': 0.7299, 'master_pi': '81289', 'similar_pi': '10531'}, {'similarity': 0.7234, 'master_pi': '81289', 'similar_pi': '77334'}, {'similarity': 0.7207, 'master_pi': '81289', 'similar_pi': '77334'}, {'similarity': 0.7164, 'master_pi': '81289', 'similar_pi': '6172'}, {'similarity': 0.7084, 'master_pi': '81289', 'similar_pi': '44323'}, {'similarity': 0.7078, 'master_pi': '81289', 'similar_pi': '39580'}, {'similarity': 0.707, 'master_pi': '81289', 'similar_pi': '26567'}, {'similarity': 1.0, 'master_pi': '81289', 'similar_pi': '81289'}, {'similarity': 0.7866, 'master_pi': '81289', 'similar_pi': '43309'}, {'similarity': 0.7672, 'master_pi': '81289', 'similar_pi': '65038'}, {'similarity': 0.7595, 'master_pi': '81289', 'similar_pi': '52355'}, {'similarity': 0.7519, 'master_pi': '81289', 'similar_pi': '7605'}, {'similarity': 0.7356, 'master_pi': '81289', 'similar_pi': '58315'}, {'similarity': 0.7194, 'master_pi': '81289', 'similar_pi': '29415'}, {'similarity': 0.7051, 'master_pi': '81289', 'similar_pi': '75797'}, {'similarity': 0.7031, 'master_pi': '81289', 'similar_pi': '81289'}, {'similarity': 0.7023, 'master_pi': '81289', 'similar_pi': '69845'}, {'similarity': 0.6998, 'master_pi': '81289', 'similar_pi': '81289'}, {'similarity': 0.6963, 'master_pi': '81289', 'similar_pi': '43561'}, {'similarity': 0.6923, 'master_pi': '81289', 'similar_pi': '43309'}, {'similarity': 0.6915, 'master_pi': '81289', 'similar_pi': '50035'}, {'similarity': 0.6788, 'master_pi': '81289', 'similar_pi': '55676'}, {'similarity': 0.6754, 'master_pi': '81289', 'similar_pi': '43309'}, {'similarity': 0.6737, 'master_pi': '81289', 'similar_pi': '27996'}, {'similarity': 0.6734, 'master_pi': '81289', 'similar_pi': '81289'}, {'similarity': 0.6654, 'master_pi': '81289', 'similar_pi': '34646'}, {'similarity': 0.6652, 'master_pi': '81289', 'similar_pi': '67841'}, {'similarity': 1.0, 'master_pi': '81289', 'similar_pi': '81289'}, {'similarity': 0.9687, 'master_pi': '81289', 'similar_pi': '81289'}, {'similarity': 0.8105, 'master_pi': '81289', 'similar_pi': '43309'}, {'similarity': 0.7879, 'master_pi': '81289', 'similar_pi': '67841'}, {'similarity': 0.7873, 'master_pi': '81289', 'similar_pi': '10531'}, {'similarity': 0.7824, 'master_pi': '81289', 'similar_pi': '26567'}, {'similarity': 0.7676, 'master_pi': '81289', 'similar_pi': '43309'}, {'similarity': 0.7658, 'master_pi': '81289', 'similar_pi': '75797'}, {'similarity': 0.7501, 'master_pi': '81289', 'similar_pi': '75797'}, {'similarity': 0.7444, 'master_pi': '81289', 'similar_pi': '81289'}, {'similarity': 0.7418, 'master_pi': '81289', 'similar_pi': '30293'}, {'similarity': 0.7404, 'master_pi': '81289', 'similar_pi': '26567'}, {'similarity': 0.7387, 'master_pi': '81289', 'similar_pi': '50403'}, {'similarity': 0.7292, 'master_pi': '81289', 'similar_pi': '50035'}, {'similarity': 0.726, 'master_pi': '81289', 'similar_pi': '7605'}, {'similarity': 0.7244, 'master_pi': '81289', 'similar_pi': '75797'}, {'similarity': 0.7242, 'master_pi': '81289', 'similar_pi': '39580'}, {'similarity': 0.7235, 'master_pi': '81289', 'similar_pi': '75797'}, {'similarity': 0.7234, 'master_pi': '81289', 'similar_pi': '65038'}, {'similarity': 0.721, 'master_pi': '81289', 'similar_pi': '26567'}, {'similarity': 1.0, 'master_pi': '81433', 'similar_pi': '81433'}, {'similarity': 0.7254, 'master_pi': '81433', 'similar_pi': '50035'}, {'similarity': 0.7232, 'master_pi': '81433', 'similar_pi': '77334'}, {'similarity': 0.715, 'master_pi': '81433', 'similar_pi': '75797'}, {'similarity': 0.7007, 'master_pi': '81433', 'similar_pi': '75797'}, {'similarity': 0.69, 'master_pi': '81433', 'similar_pi': '65842'}, {'similarity': 0.6896, 'master_pi': '81433', 'similar_pi': '39580'}, {'similarity': 0.6785, 'master_pi': '81433', 'similar_pi': '42377'}, {'similarity': 0.6743, 'master_pi': '81433', 'similar_pi': '81289'}, {'similarity': 0.6731, 'master_pi': '81433', 'similar_pi': '39580'}, {'similarity': 0.6677, 'master_pi': '81433', 'similar_pi': '75797'}, {'similarity': 0.6662, 'master_pi': '81433', 'similar_pi': '77334'}, {'similarity': 0.666, 'master_pi': '81433', 'similar_pi': '43193'}, {'similarity': 0.6512, 'master_pi': '81433', 'similar_pi': '29415'}, {'similarity': 0.6495, 'master_pi': '81433', 'similar_pi': '34646'}, {'similarity': 0.6472, 'master_pi': '81433', 'similar_pi': '34646'}, {'similarity': 0.6421, 'master_pi': '81433', 'similar_pi': '77334'}, {'similarity': 0.6409, 'master_pi': '81433', 'similar_pi': '6095'}, {'similarity': 0.6376, 'master_pi': '81433', 'similar_pi': '69845'}, {'similarity': 0.6352, 'master_pi': '81433', 'similar_pi': '42377'}, {'similarity': 1.0, 'master_pi': '8867', 'similar_pi': '8867'}, {'similarity': 0.7313, 'master_pi': '8867', 'similar_pi': '47160'}, {'similarity': 0.7033, 'master_pi': '8867', 'similar_pi': '43309'}, {'similarity': 0.6947, 'master_pi': '8867', 'similar_pi': '36756'}, {'similarity': 0.674, 'master_pi': '8867', 'similar_pi': '29224'}, {'similarity': 0.6696, 'master_pi': '8867', 'similar_pi': '42667'}, {'similarity': 0.6677, 'master_pi': '8867', 'similar_pi': '59595'}, {'similarity': 0.6625, 'master_pi': '8867', 'similar_pi': '46709'}, {'similarity': 0.6599, 'master_pi': '8867', 'similar_pi': '36756'}, {'similarity': 0.6515, 'master_pi': '8867', 'similar_pi': '43309'}, {'similarity': 0.6494, 'master_pi': '8867', 'similar_pi': '10531'}, {'similarity': 0.649, 'master_pi': '8867', 'similar_pi': '545'}, {'similarity': 0.6481, 'master_pi': '8867', 'similar_pi': '36756'}, {'similarity': 0.6394, 'master_pi': '8867', 'similar_pi': '6095'}, {'similarity': 0.6356, 'master_pi': '8867', 'similar_pi': '35170'}, {'similarity': 0.6262, 'master_pi': '8867', 'similar_pi': '50403'}, {'similarity': 0.6253, 'master_pi': '8867', 'similar_pi': '29462'}, {'similarity': 0.623, 'master_pi': '8867', 'similar_pi': '67000'}, {'similarity': 0.6177, 'master_pi': '8867', 'similar_pi': '30293'}, {'similarity': 0.6117, 'master_pi': '8867', 'similar_pi': '26567'}, {'similarity': 1.0, 'master_pi': '9534', 'similar_pi': '9534'}, {'similarity': 0.8487, 'master_pi': '9534', 'similar_pi': '62766'}, {'similarity': 0.7689, 'master_pi': '9534', 'similar_pi': '40595'}, {'similarity': 0.75, 'master_pi': '9534', 'similar_pi': '9534'}, {'similarity': 0.7111, 'master_pi': '9534', 'similar_pi': '42667'}, {'similarity': 0.6937, 'master_pi': '9534', 'similar_pi': '69845'}, {'similarity': 0.6928, 'master_pi': '9534', 'similar_pi': '18337'}, {'similarity': 0.6825, 'master_pi': '9534', 'similar_pi': '72863'}, {'similarity': 0.6654, 'master_pi': '9534', 'similar_pi': '43309'}, {'similarity': 0.6573, 'master_pi': '9534', 'similar_pi': '40595'}, {'similarity': 0.6508, 'master_pi': '9534', 'similar_pi': '545'}, {'similarity': 0.6494, 'master_pi': '9534', 'similar_pi': '47160'}, {'similarity': 0.6479, 'master_pi': '9534', 'similar_pi': '11485'}, {'similarity': 0.6427, 'master_pi': '9534', 'similar_pi': '23158'}, {'similarity': 0.6368, 'master_pi': '9534', 'similar_pi': '65038'}, {'similarity': 0.6272, 'master_pi': '9534', 'similar_pi': '73087'}, {'similarity': 0.6269, 'master_pi': '9534', 'similar_pi': '46709'}, {'similarity': 0.6242, 'master_pi': '9534', 'similar_pi': '34646'}, {'similarity': 0.6065, 'master_pi': '9534', 'similar_pi': '67000'}, {'similarity': 0.6048, 'master_pi': '9534', 'similar_pi': '43309'}, {'similarity': 1.0, 'master_pi': '9534', 'similar_pi': '9534'}, {'similarity': 0.8203, 'master_pi': '9534', 'similar_pi': '69845'}, {'similarity': 0.783, 'master_pi': '9534', 'similar_pi': '72863'}, {'similarity': 0.7519, 'master_pi': '9534', 'similar_pi': '23158'}, {'similarity': 0.75, 'master_pi': '9534', 'similar_pi': '9534'}, {'similarity': 0.7477, 'master_pi': '9534', 'similar_pi': '11485'}, {'similarity': 0.7439, 'master_pi': '9534', 'similar_pi': '34646'}, {'similarity': 0.7436, 'master_pi': '9534', 'similar_pi': '18337'}, {'similarity': 0.7361, 'master_pi': '9534', 'similar_pi': '62766'}, {'similarity': 0.7347, 'master_pi': '9534', 'similar_pi': '43309'}, {'similarity': 0.7261, 'master_pi': '9534', 'similar_pi': '65038'}, {'similarity': 0.7232, 'master_pi': '9534', 'similar_pi': '46709'}, {'similarity': 0.704, 'master_pi': '9534', 'similar_pi': '67000'}, {'similarity': 0.6992, 'master_pi': '9534', 'similar_pi': '71586'}, {'similarity': 0.6865, 'master_pi': '9534', 'similar_pi': '39580'}, {'similarity': 0.6864, 'master_pi': '9534', 'similar_pi': '73087'}, {'similarity': 0.6841, 'master_pi': '9534', 'similar_pi': '52355'}, {'similarity': 0.684, 'master_pi': '9534', 'similar_pi': '43309'}, {'similarity': 0.6835, 'master_pi': '9534', 'similar_pi': '545'}, {'similarity': 0.6832, 'master_pi': '9534', 'similar_pi': '55676'}]\n",
      "<class 'list'>\n"
     ]
    }
   ],
   "source": [
    "#named_nearest_neighbors=[]\n",
    "cluster()\n",
    "print(\"Printing named_nearest_neighbors\")\n",
    "print(named_nearest_neighbors)\n",
    "print(type(named_nearest_neighbors))"
   ]
  },
  {
   "cell_type": "code",
   "execution_count": 190,
   "metadata": {},
   "outputs": [],
   "source": [
    "from scipy import spatial\n",
    "import matplotlib.pyplot as plt\n",
    "def search_similar_image(reference_image, max_results):\n",
    "    reference_image = '_'.join(reference_image.split('_')[:-1])\n",
    "    print(reference_image)\n",
    "    nearest = []\n",
    "    #print(named_nearest_neighbors[1]['master_pi'])\n",
    "    #f, ax = plt.subplots(1, max_results, figsize=(16, 8))\n",
    "    for i in range (0, len(named_nearest_neighbors)):\n",
    "        if(named_nearest_neighbors[i]['master_pi'] == reference_image):\n",
    "            nearest.append({\n",
    "                'similarity' : named_nearest_neighbors[i]['similarity'],\n",
    "                'master_pi' : named_nearest_neighbors[i]['master_pi'],\n",
    "                'similar_pi' : named_nearest_neighbors[i]['similar_pi']\n",
    "            })\n",
    "    f, ax = plt.subplots(1, max_results, figsize=(16, 8))\n",
    "    for i in range(0, max_results):\n",
    "        for j in range(0, len(images)):\n",
    "            if(nearest[i]['similar_pi'] == images[j]['product_id']):\n",
    "                ax[i].imshow(images[j]['image'])\n",
    "                ax[i].set_axis_off()\n",
    "                \n",
    "    plt.show()\n",
    "\n",
    "                \n",
    "        "
   ]
  },
  {
   "cell_type": "code",
   "execution_count": 191,
   "metadata": {},
   "outputs": [
    {
     "name": "stdout",
     "output_type": "stream",
     "text": [
      "2804\n"
     ]
    },
    {
     "data": {
      "image/png": "[encoded data removed]",
      "text/plain": [
       "<Figure size 1152x576 with 10 Axes>"
      ]
     },
     "metadata": {
      "needs_background": "light"
     },
     "output_type": "display_data"
    }
   ],
   "source": [
    "search_similar_image('2804_0.jpg', 10)"
   ]
  },
  {
   "cell_type": "code",
   "execution_count": 192,
   "metadata": {},
   "outputs": [
    {
     "name": "stdout",
     "output_type": "stream",
     "text": [
      "6172\n"
     ]
    },
    {
     "data": {
      "image/png": "[encoded data removed]",
      "text/plain": [
       "<Figure size 1152x576 with 5 Axes>"
      ]
     },
     "metadata": {
      "needs_background": "light"
     },
     "output_type": "display_data"
    }
   ],
   "source": [
    "search_similar_image('6172_0.jpg', 5)"
   ]
  },
  {
   "cell_type": "code",
   "execution_count": null,
   "metadata": {},
   "outputs": [],
   "source": []
  }
 ],
 "metadata": {
  "kernelspec": {
   "display_name": "Python 3",
   "language": "python",
   "name": "python3"
  },
  "language_info": {
   "codemirror_mode": {
    "name": "ipython",
    "version": 3
   },
   "file_extension": ".py",
   "mimetype": "text/x-python",
   "name": "python",
   "nbconvert_exporter": "python",
   "pygments_lexer": "ipython3",
   "version": "3.8.3"
  }
 },
 "nbformat": 4,
 "nbformat_minor": 4
}
