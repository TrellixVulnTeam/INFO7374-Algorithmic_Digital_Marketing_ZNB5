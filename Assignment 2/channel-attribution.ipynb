{
 "cells": [
  {
   "cell_type": "markdown",
   "metadata": {},
   "source": [
    "# Multi-touch Multi-channel Attribution Model Using LSTM with Attention\n",
    "\n",
    "This is an attribution model that uses LSTM with attention to assign weights to touchpoints. \n",
    "\n",
    "| Description | D001 (see [descriptions](https://github.com/ikatsov/tensor-house/blob/master/resources/descriptions.md)) |\n",
    "|--|:--|\n",
    "| Dataset | Criteo (see [datasets](https://github.com/ikatsov/tensor-house/blob/master/resources/datsets.md)) |\n",
    "| Papers | Li2018, Ren2018 (see [papers](https://github.com/ikatsov/tensor-house/blob/master/resources/papers.md)) | \n",
    "| Installation | Download the dataset to 'data' folder |\n",
    "| Libs | Keras, Scikit-learn, Pandas, Numpy |"
   ]
  },
  {
   "cell_type": "markdown",
   "metadata": {},
   "source": [
    "### Data description\n",
    "This dataset represents a sample of 30 days of Criteo live traffic data. Each line corresponds to one impression (a banner) that was displayed to a user. For each banner we have detailed information about the context, if it was clicked, if it led to a conversion and if it led to a conversion that was attributed to Criteo or not. Data has been sub-sampled and anonymized so as not to disclose proprietary elements.\n",
    "\n",
    "Here is a detailed description of the fields (they are tab-separated in the file):\n",
    "\n",
    "* timestamp: timestamp of the impression (starting from 0 for the first impression). The dataset is sorted according to timestamp.\n",
    "* uid: a unique user identifier\n",
    "* campaign: a unique identifier for the campaign\n",
    "* conversion: 1 if there was a conversion in the 30 days after the impression (independently of whether this impression was last click or not)\n",
    "* conversion_timestamp: the timestamp of the conversion or -1 if no conversion was observed\n",
    "* conversion_id: a unique identifier for each conversion (so that timelines can be reconstructed if needed). -1 if there was no conversion\n",
    "* attribution: 1 if the conversion was attributed to Criteo, 0 otherwise\n",
    "* click: 1 if the impression was clicked, 0 otherwise\n",
    "* click_pos: the position of the click before a conversion (0 for first-click)\n",
    "* click_nb: number of clicks. More than 1 if there was several clicks before a conversion\n",
    "* cost: the price paid by Criteo for this display (disclaimer: not the real price, only a transformed version of it)\n",
    "* cpo: the cost-per-order in case of attributed conversion (disclaimer: not the real price, only a transformed version of it)\n",
    "* time_since_last_click: the time since the last click (in s) for the given impression\n",
    "* cat(1-9): contextual features associated to the display. Can be used to learn the click/conversion models. We do not disclose the meaning of these features but it is not relevant for this study. Each column is a categorical variable. In the experiments, they are mapped to a fixed dimensionality space using the Hashing Trick (see paper for reference).\n",
    "\n",
    "### Key figures\n",
    "* 2.4Gb uncompressed\n",
    "* 16.5M impressions\n",
    "* 45K conversions\n",
    "* 700 campaigns"
   ]
  },
  {
   "cell_type": "code",
   "execution_count": 52,
   "metadata": {},
   "outputs": [],
   "source": [
    "import pandas as pd\n",
    "import matplotlib.pyplot as plt \n",
    "import numpy as np\n",
    "\n",
    "from sklearn.utils import resample\n",
    "from sklearn.preprocessing import MinMaxScaler\n",
    "from sklearn.model_selection import train_test_split\n",
    "\n",
    "#import keras\n",
    "\n",
    "plt.style.use('ggplot')"
   ]
  },
  {
   "cell_type": "code",
   "execution_count": 18,
   "metadata": {},
   "outputs": [
    {
     "name": "stdout",
     "output_type": "stream",
     "text": [
      "108174\n",
      "[54134, 54040]\n"
     ]
    }
   ],
   "source": [
    "# Initial data preparation\n",
    "\n",
    "def add_derived_columns(df):\n",
    "    df_ext = df.copy()\n",
    "    df_ext['jid'] = df_ext['uid'].map(str) + '_' + df_ext['conversion_id'].map(str)\n",
    "    \n",
    "    min_max_scaler = MinMaxScaler()\n",
    "    for cname in ('timestamp', 'time_since_last_click'):\n",
    "        x = df_ext[cname].values.reshape(-1, 1) \n",
    "        df_ext[cname + '_norm'] = min_max_scaler.fit_transform(x)\n",
    "    \n",
    "    return df_ext\n",
    "\n",
    "def filter_journeys_by_length(df, min_touchpoints):\n",
    "    if min_touchpoints <= 1:\n",
    "        return df\n",
    "    else:\n",
    "        grouped = df.groupby(['jid'])['uid'].count().reset_index(name=\"count\")\n",
    "        return df[df['jid'].isin( grouped[grouped['count'] >= min_touchpoints]['jid'].values )]\n",
    "\n",
    "def sample_campaigns(df, n_campaigns):    \n",
    "    campaigns = np.random.choice( df['campaign'].unique(), n_campaigns, replace = False )\n",
    "    return df[ df['campaign'].isin(campaigns) ]\n",
    "\n",
    "def balance_conversions(df):\n",
    "    df_minority = df[df.conversion == 1]\n",
    "    df_majority = df[df.conversion == 0]\n",
    "    \n",
    "    df_majority_jids = np.array_split(df_majority['jid'].unique(), 100 * df_majority.shape[0]/df_minority.shape[0] )\n",
    "    \n",
    "    df_majority_sampled = pd.DataFrame(data=None, columns=df.columns)\n",
    "    for jid_chunk in df_majority_jids:\n",
    "        df_majority_sampled = pd.concat([df_majority_sampled, df_majority[df_majority.jid.isin(jid_chunk)]])\n",
    "        if df_majority_sampled.shape[0] > df_minority.shape[0]:\n",
    "            break\n",
    "    \n",
    "    return pd.concat([df_majority_sampled, df_minority]).sample(frac=1).reset_index(drop=True)\n",
    "\n",
    "def map_one_hot(df, column_names, result_column_name):\n",
    "    mapper = {} \n",
    "    for i, col_name in enumerate(column_names):\n",
    "        for val in df[col_name].unique():\n",
    "            mapper[str(val) + str(i)] = len(mapper)\n",
    "         \n",
    "    df_ext = df.copy()\n",
    "    \n",
    "    def one_hot(values):\n",
    "        v = np.zeros( len(mapper) )\n",
    "        for i, val in enumerate(values): \n",
    "            v[ mapper[str(val) + str(i)] ] = 1\n",
    "        return v    \n",
    "    \n",
    "    df_ext[result_column_name] = df_ext[column_names].values.tolist()\n",
    "    df_ext[result_column_name] = df_ext[result_column_name].map(one_hot)\n",
    "    \n",
    "    return df_ext\n",
    "    \n",
    "data_file = \"C:/Users/16176/Documents/MS DAE Material/INFO 7374  ADM/criteo_attribution_dataset.tsv/sample_pcb.tsv\"\n",
    "df0 = pd.read_csv(data_file)\n",
    "\n",
    "n_campaigns = 400\n",
    "\n",
    "df1 = add_derived_columns(df0)\n",
    "df2 = sample_campaigns(df1, n_campaigns)\n",
    "df3 = filter_journeys_by_length(df2, 2)\n",
    "df4 = balance_conversions(df3)\n",
    "df5 = map_one_hot(df4, ['cat1', 'cat2', 'cat3', 'cat4', 'cat5', 'cat6', 'cat8'], 'cats')\n",
    "df6 = map_one_hot(df5, ['campaign'], 'campaigns').sort_values(by=['timestamp_norm'])\n",
    "\n",
    "print(df6.shape[0])\n",
    "print([df6[df6.conversion == 0].shape[0], df6[df6.conversion == 1].shape[0]])"
   ]
  },
  {
   "cell_type": "code",
   "execution_count": 35,
   "metadata": {},
   "outputs": [],
   "source": [
    "df6 = map_one_hot(df5, ['campaign'], 'campaigns').sort_values(by=['timestamp_norm'])"
   ]
  },
  {
   "cell_type": "code",
   "execution_count": 50,
   "metadata": {},
   "outputs": [
    {
     "data": {
      "text/html": [
       "<div>\n",
       "<style scoped>\n",
       "    .dataframe tbody tr th:only-of-type {\n",
       "        vertical-align: middle;\n",
       "    }\n",
       "\n",
       "    .dataframe tbody tr th {\n",
       "        vertical-align: top;\n",
       "    }\n",
       "\n",
       "    .dataframe thead th {\n",
       "        text-align: right;\n",
       "    }\n",
       "</style>\n",
       "<table border=\"1\" class=\"dataframe\">\n",
       "  <thead>\n",
       "    <tr style=\"text-align: right;\">\n",
       "      <th></th>\n",
       "      <th>timestamp</th>\n",
       "      <th>uid</th>\n",
       "      <th>campaign</th>\n",
       "      <th>conversion</th>\n",
       "      <th>conversion_timestamp</th>\n",
       "      <th>conversion_id</th>\n",
       "      <th>attribution</th>\n",
       "      <th>click</th>\n",
       "      <th>click_pos</th>\n",
       "      <th>click_nb</th>\n",
       "      <th>...</th>\n",
       "      <th>cat5</th>\n",
       "      <th>cat6</th>\n",
       "      <th>cat7</th>\n",
       "      <th>cat8</th>\n",
       "      <th>cat9</th>\n",
       "      <th>jid</th>\n",
       "      <th>timestamp_norm</th>\n",
       "      <th>time_since_last_click_norm</th>\n",
       "      <th>cats</th>\n",
       "      <th>campaigns</th>\n",
       "    </tr>\n",
       "  </thead>\n",
       "  <tbody>\n",
       "    <tr>\n",
       "      <th>81452</th>\n",
       "      <td>12</td>\n",
       "      <td>28883743</td>\n",
       "      <td>24267774</td>\n",
       "      <td>0</td>\n",
       "      <td>-1</td>\n",
       "      <td>-1</td>\n",
       "      <td>0</td>\n",
       "      <td>1</td>\n",
       "      <td>-1</td>\n",
       "      <td>-1</td>\n",
       "      <td>...</td>\n",
       "      <td>3808271</td>\n",
       "      <td>28928366</td>\n",
       "      <td>9312274</td>\n",
       "      <td>29196072</td>\n",
       "      <td>29196072</td>\n",
       "      <td>28883743_-1</td>\n",
       "      <td>0.000003</td>\n",
       "      <td>0.000000</td>\n",
       "      <td>[0.0, 0.0, 0.0, 0.0, 0.0, 1.0, 0.0, 0.0, 0.0, ...</td>\n",
       "      <td>[0.0, 0.0, 0.0, 0.0, 0.0, 0.0, 0.0, 0.0, 0.0, ...</td>\n",
       "    </tr>\n",
       "    <tr>\n",
       "      <th>14272</th>\n",
       "      <td>16</td>\n",
       "      <td>14158457</td>\n",
       "      <td>1415896</td>\n",
       "      <td>0</td>\n",
       "      <td>-1</td>\n",
       "      <td>-1</td>\n",
       "      <td>0</td>\n",
       "      <td>0</td>\n",
       "      <td>-1</td>\n",
       "      <td>-1</td>\n",
       "      <td>...</td>\n",
       "      <td>11409686</td>\n",
       "      <td>29196072</td>\n",
       "      <td>15513380</td>\n",
       "      <td>29196072</td>\n",
       "      <td>29196072</td>\n",
       "      <td>14158457_-1</td>\n",
       "      <td>0.000005</td>\n",
       "      <td>0.000000</td>\n",
       "      <td>[0.0, 1.0, 0.0, 0.0, 0.0, 0.0, 0.0, 0.0, 0.0, ...</td>\n",
       "      <td>[0.0, 0.0, 0.0, 0.0, 0.0, 0.0, 0.0, 0.0, 0.0, ...</td>\n",
       "    </tr>\n",
       "    <tr>\n",
       "      <th>78985</th>\n",
       "      <td>19</td>\n",
       "      <td>24850810</td>\n",
       "      <td>10810197</td>\n",
       "      <td>0</td>\n",
       "      <td>-1</td>\n",
       "      <td>-1</td>\n",
       "      <td>0</td>\n",
       "      <td>1</td>\n",
       "      <td>-1</td>\n",
       "      <td>-1</td>\n",
       "      <td>...</td>\n",
       "      <td>11409684</td>\n",
       "      <td>1973606</td>\n",
       "      <td>12856719</td>\n",
       "      <td>20754144</td>\n",
       "      <td>32145478</td>\n",
       "      <td>24850810_-1</td>\n",
       "      <td>0.000006</td>\n",
       "      <td>0.000698</td>\n",
       "      <td>[0.0, 0.0, 1.0, 0.0, 0.0, 0.0, 0.0, 0.0, 0.0, ...</td>\n",
       "      <td>[0.0, 0.0, 0.0, 0.0, 0.0, 0.0, 0.0, 0.0, 0.0, ...</td>\n",
       "    </tr>\n",
       "    <tr>\n",
       "      <th>22277</th>\n",
       "      <td>30</td>\n",
       "      <td>9451380</td>\n",
       "      <td>17321082</td>\n",
       "      <td>1</td>\n",
       "      <td>355909</td>\n",
       "      <td>4136014</td>\n",
       "      <td>0</td>\n",
       "      <td>1</td>\n",
       "      <td>1</td>\n",
       "      <td>3</td>\n",
       "      <td>...</td>\n",
       "      <td>5824237</td>\n",
       "      <td>30763035</td>\n",
       "      <td>7230114</td>\n",
       "      <td>29196072</td>\n",
       "      <td>21091111</td>\n",
       "      <td>9451380_4136014</td>\n",
       "      <td>0.000010</td>\n",
       "      <td>0.140297</td>\n",
       "      <td>[0.0, 0.0, 0.0, 0.0, 1.0, 0.0, 0.0, 0.0, 0.0, ...</td>\n",
       "      <td>[0.0, 0.0, 0.0, 0.0, 0.0, 0.0, 0.0, 0.0, 0.0, ...</td>\n",
       "    </tr>\n",
       "    <tr>\n",
       "      <th>21031</th>\n",
       "      <td>31</td>\n",
       "      <td>30607637</td>\n",
       "      <td>24045148</td>\n",
       "      <td>0</td>\n",
       "      <td>-1</td>\n",
       "      <td>-1</td>\n",
       "      <td>0</td>\n",
       "      <td>0</td>\n",
       "      <td>-1</td>\n",
       "      <td>-1</td>\n",
       "      <td>...</td>\n",
       "      <td>32440044</td>\n",
       "      <td>32440053</td>\n",
       "      <td>9312274</td>\n",
       "      <td>29196072</td>\n",
       "      <td>29196072</td>\n",
       "      <td>30607637_-1</td>\n",
       "      <td>0.000010</td>\n",
       "      <td>0.000000</td>\n",
       "      <td>[0.0, 0.0, 1.0, 0.0, 0.0, 0.0, 0.0, 0.0, 0.0, ...</td>\n",
       "      <td>[0.0, 0.0, 0.0, 0.0, 0.0, 0.0, 0.0, 0.0, 0.0, ...</td>\n",
       "    </tr>\n",
       "  </tbody>\n",
       "</table>\n",
       "<p>5 rows × 27 columns</p>\n",
       "</div>"
      ],
      "text/plain": [
       "      timestamp       uid  campaign conversion conversion_timestamp  \\\n",
       "81452        12  28883743  24267774          0                   -1   \n",
       "14272        16  14158457   1415896          0                   -1   \n",
       "78985        19  24850810  10810197          0                   -1   \n",
       "22277        30   9451380  17321082          1               355909   \n",
       "21031        31  30607637  24045148          0                   -1   \n",
       "\n",
       "      conversion_id attribution click click_pos click_nb  ...      cat5  \\\n",
       "81452            -1           0     1        -1       -1  ...   3808271   \n",
       "14272            -1           0     0        -1       -1  ...  11409686   \n",
       "78985            -1           0     1        -1       -1  ...  11409684   \n",
       "22277       4136014           0     1         1        3  ...   5824237   \n",
       "21031            -1           0     0        -1       -1  ...  32440044   \n",
       "\n",
       "           cat6      cat7      cat8      cat9              jid timestamp_norm  \\\n",
       "81452  28928366   9312274  29196072  29196072      28883743_-1       0.000003   \n",
       "14272  29196072  15513380  29196072  29196072      14158457_-1       0.000005   \n",
       "78985   1973606  12856719  20754144  32145478      24850810_-1       0.000006   \n",
       "22277  30763035   7230114  29196072  21091111  9451380_4136014       0.000010   \n",
       "21031  32440053   9312274  29196072  29196072      30607637_-1       0.000010   \n",
       "\n",
       "      time_since_last_click_norm  \\\n",
       "81452                   0.000000   \n",
       "14272                   0.000000   \n",
       "78985                   0.000698   \n",
       "22277                   0.140297   \n",
       "21031                   0.000000   \n",
       "\n",
       "                                                    cats  \\\n",
       "81452  [0.0, 0.0, 0.0, 0.0, 0.0, 1.0, 0.0, 0.0, 0.0, ...   \n",
       "14272  [0.0, 1.0, 0.0, 0.0, 0.0, 0.0, 0.0, 0.0, 0.0, ...   \n",
       "78985  [0.0, 0.0, 1.0, 0.0, 0.0, 0.0, 0.0, 0.0, 0.0, ...   \n",
       "22277  [0.0, 0.0, 0.0, 0.0, 1.0, 0.0, 0.0, 0.0, 0.0, ...   \n",
       "21031  [0.0, 0.0, 1.0, 0.0, 0.0, 0.0, 0.0, 0.0, 0.0, ...   \n",
       "\n",
       "                                               campaigns  \n",
       "81452  [0.0, 0.0, 0.0, 0.0, 0.0, 0.0, 0.0, 0.0, 0.0, ...  \n",
       "14272  [0.0, 0.0, 0.0, 0.0, 0.0, 0.0, 0.0, 0.0, 0.0, ...  \n",
       "78985  [0.0, 0.0, 0.0, 0.0, 0.0, 0.0, 0.0, 0.0, 0.0, ...  \n",
       "22277  [0.0, 0.0, 0.0, 0.0, 0.0, 0.0, 0.0, 0.0, 0.0, ...  \n",
       "21031  [0.0, 0.0, 0.0, 0.0, 0.0, 0.0, 0.0, 0.0, 0.0, ...  \n",
       "\n",
       "[5 rows x 27 columns]"
      ]
     },
     "execution_count": 50,
     "metadata": {},
     "output_type": "execute_result"
    }
   ],
   "source": [
    "df6.head()"
   ]
  },
  {
   "cell_type": "code",
   "execution_count": 54,
   "metadata": {},
   "outputs": [
    {
     "ename": "NameError",
     "evalue": "name 'Min_Max_scaler' is not defined",
     "output_type": "error",
     "traceback": [
      "\u001b[1;31m---------------------------------------------------------------------------\u001b[0m",
      "\u001b[1;31mNameError\u001b[0m                                 Traceback (most recent call last)",
      "\u001b[1;32m<ipython-input-54-8073f9461e20>\u001b[0m in \u001b[0;36m<module>\u001b[1;34m\u001b[0m\n\u001b[0;32m      2\u001b[0m \u001b[1;32mfor\u001b[0m \u001b[0mcname\u001b[0m \u001b[1;32min\u001b[0m \u001b[1;33m(\u001b[0m\u001b[1;34m'uid'\u001b[0m\u001b[1;33m,\u001b[0m\u001b[1;34m'campaign'\u001b[0m\u001b[1;33m)\u001b[0m\u001b[1;33m:\u001b[0m\u001b[1;33m\u001b[0m\u001b[1;33m\u001b[0m\u001b[0m\n\u001b[0;32m      3\u001b[0m     \u001b[0mx\u001b[0m \u001b[1;33m=\u001b[0m \u001b[0mdf6\u001b[0m\u001b[1;33m[\u001b[0m\u001b[0mcname\u001b[0m\u001b[1;33m]\u001b[0m\u001b[1;33m.\u001b[0m\u001b[0mvalues\u001b[0m\u001b[1;33m.\u001b[0m\u001b[0mreshape\u001b[0m\u001b[1;33m(\u001b[0m\u001b[1;33m-\u001b[0m\u001b[1;36m1\u001b[0m\u001b[1;33m,\u001b[0m \u001b[1;36m1\u001b[0m\u001b[1;33m)\u001b[0m\u001b[1;33m\u001b[0m\u001b[1;33m\u001b[0m\u001b[0m\n\u001b[1;32m----> 4\u001b[1;33m     \u001b[0mtry1\u001b[0m\u001b[1;33m[\u001b[0m\u001b[0mcname\u001b[0m \u001b[1;33m+\u001b[0m \u001b[1;34m'_norm'\u001b[0m\u001b[1;33m]\u001b[0m \u001b[1;33m=\u001b[0m \u001b[0mMin_Max_scaler\u001b[0m\u001b[1;33m.\u001b[0m\u001b[0mfit_transform\u001b[0m\u001b[1;33m(\u001b[0m\u001b[0mx\u001b[0m\u001b[1;33m)\u001b[0m\u001b[1;33m\u001b[0m\u001b[1;33m\u001b[0m\u001b[0m\n\u001b[0m",
      "\u001b[1;31mNameError\u001b[0m: name 'Min_Max_scaler' is not defined"
     ]
    }
   ],
   "source": [
    "try1=df6.head()\n",
    "for cname in ('uid','campaign'):\n",
    "    x = df6[cname].values.reshape(-1, 1)\n",
    "    try1[cname + '_norm'] = Min_Max_scaler.fit_transform(x)"
   ]
  },
  {
   "cell_type": "code",
   "execution_count": 37,
   "metadata": {},
   "outputs": [],
   "source": [
    "a={'omk':1,'san':2}"
   ]
  },
  {
   "cell_type": "code",
   "execution_count": 39,
   "metadata": {},
   "outputs": [],
   "source": [
    "a['lkk']=len(a)"
   ]
  },
  {
   "cell_type": "code",
   "execution_count": 41,
   "metadata": {},
   "outputs": [
    {
     "data": {
      "text/plain": [
       "2"
      ]
     },
     "execution_count": 41,
     "metadata": {},
     "output_type": "execute_result"
    }
   ],
   "source": [
    "a['lkk']"
   ]
  },
  {
   "cell_type": "markdown",
   "metadata": {},
   "source": [
    "## Last Touch Attribution"
   ]
  },
  {
   "cell_type": "code",
   "execution_count": 63,
   "metadata": {},
   "outputs": [],
   "source": [
    "import numpy as np\n",
    "np.seterr(divide='ignore', invalid='ignore')\n",
    "def last_touch_attribution(df):\n",
    "    \n",
    "    def count_by_campaign(df):\n",
    "        counters = np.zeros(n_campaigns)\n",
    "        for campaign_one_hot in df['campaigns'].values:\n",
    "            campaign_id = np.argmax(campaign_one_hot)\n",
    "            counters[campaign_id] = counters[campaign_id] + 1\n",
    "        return counters\n",
    "        \n",
    "    campaign_impressions = count_by_campaign(df)\n",
    "    \n",
    "    df_converted = df[df['conversion'] == 1]\n",
    "    idx = df_converted.groupby(['jid'])['timestamp_norm'].transform(max) == df_converted['timestamp_norm']\n",
    "    campaign_conversions = count_by_campaign(df_converted[idx])\n",
    "        \n",
    "    return campaign_conversions / campaign_impressions\n",
    "    \n",
    "lta = last_touch_attribution(df6)"
   ]
  },
  {
   "cell_type": "code",
   "execution_count": 64,
   "metadata": {},
   "outputs": [
    {
     "data": {
      "image/png": "[encoded data removed]",
      "text/plain": [
       "<Figure size 1080x288 with 1 Axes>"
      ]
     },
     "metadata": {},
     "output_type": "display_data"
    }
   ],
   "source": [
    "# Visualization of the attribution scores\n",
    "\n",
    "campaign_idx = range(150,200)\n",
    "fig = plt.figure(figsize=(15,4))\n",
    "ax = fig.add_subplot(111)\n",
    "plt.bar( range(len(lta[campaign_idx])), lta[campaign_idx], label='LTA' )\n",
    "plt.xlabel('Campaign ID')\n",
    "plt.ylabel('Return per impression')\n",
    "plt.legend(loc='upper left')\n",
    "plt.show()"
   ]
  },
  {
   "cell_type": "code",
   "execution_count": 65,
   "metadata": {},
   "outputs": [],
   "source": [
    "import numpy as np\n",
    "np.seterr(divide='ignore', invalid='ignore')\n",
    "def linear_attribution(df):\n",
    "    \n",
    "    def count_by_campaign(df):\n",
    "        counters = np.zeros(n_campaigns)\n",
    "        for campaign_one_hot in df['campaigns'].values:\n",
    "            campaign_id = np.argmax(campaign_one_hot)\n",
    "            counters[campaign_id] = counters[campaign_id] + 1\n",
    "        return counters\n",
    "        \n",
    "    campaign_impressions = count_by_campaign(df)\n",
    "    \n",
    "    df_converted = df[df['conversion'] == 1]\n",
    "    campaign_conversions = count_by_campaign(df_converted)        \n",
    "    return campaign_conversions / campaign_impressions\n",
    "    \n",
    "lin = linear_attribution(df6)"
   ]
  },
  {
   "cell_type": "code",
   "execution_count": 66,
   "metadata": {},
   "outputs": [
    {
     "data": {
      "image/png": "[encoded data removed]",
      "text/plain": [
       "<Figure size 1080x288 with 1 Axes>"
      ]
     },
     "metadata": {},
     "output_type": "display_data"
    }
   ],
   "source": [
    "campaign_idx = range(150, 200)\n",
    "fig = plt.figure(figsize=(15,4))\n",
    "ax = fig.add_subplot(111)\n",
    "plt.bar( range(len(lin[campaign_idx])), lin[campaign_idx], label='LA' )\n",
    "plt.xlabel('Campaign ID')\n",
    "plt.ylabel('Return per impression')\n",
    "plt.legend(loc='upper left')\n",
    "plt.show()"
   ]
  },
  {
   "cell_type": "markdown",
   "metadata": {},
   "source": [
    "## Logistic Regression"
   ]
  },
  {
   "cell_type": "code",
   "execution_count": 201,
   "metadata": {},
   "outputs": [],
   "source": [
    "def features_for_logistic_regression(df):\n",
    "\n",
    "    def pairwise_max(series):\n",
    "        return np.max(series.tolist(), axis = 0).tolist()\n",
    "    \n",
    "    aggregation = {\n",
    "        'campaigns': pairwise_max,\n",
    "        'cats': pairwise_max,\n",
    "        'click': 'sum',\n",
    "        'cost': 'sum',\n",
    "        'conversion': 'max'\n",
    "    }\n",
    "    \n",
    "    df_agg = df.groupby(['jid']).agg(aggregation)\n",
    "    \n",
    "    df_agg['features'] = df_agg[['campaigns', 'cats', 'click', 'cost']].values.tolist()\n",
    "    \n",
    "    return (\n",
    "        np.stack(df_agg['features'].map(lambda x: np.hstack(x)).values),\n",
    "        df_agg['conversion'].values\n",
    "    )"
   ]
  },
  {
   "cell_type": "code",
   "execution_count": 202,
   "metadata": {},
   "outputs": [
    {
     "name": "stdout",
     "output_type": "stream",
     "text": [
      "(145440, 1561)\n"
     ]
    }
   ],
   "source": [
    "x, y = features_for_logistic_regression(df6)\n",
    "print(np.shape(x))"
   ]
  },
  {
   "cell_type": "code",
   "execution_count": 203,
   "metadata": {},
   "outputs": [],
   "source": [
    "from sklearn.model_selection import train_test_split\n",
    "\n",
    "x_train, x_test, y_train, y_test = train_test_split(x, y, test_size = 0.20, random_state = 1)\n",
    "x_train, x_val, y_train, y_val = train_test_split(x_train, y_train, test_size = 0.20, random_state = 1)"
   ]
  },
  {
   "cell_type": "code",
   "execution_count": 204,
   "metadata": {},
   "outputs": [
    {
     "name": "stdout",
     "output_type": "stream",
     "text": [
      "0.8653396589658966\n"
     ]
    }
   ],
   "source": [
    "# Quick sanity check\n",
    "from sklearn.linear_model import LogisticRegression\n",
    "\n",
    "logisticRegr = LogisticRegression()\n",
    "logisticRegr.fit(x_train, y_train)\n",
    "score = logisticRegr.score(x_test, y_test)\n",
    "print(score)"
   ]
  },
  {
   "cell_type": "code",
   "execution_count": 205,
   "metadata": {},
   "outputs": [
    {
     "name": "stdout",
     "output_type": "stream",
     "text": [
      "Train on 93081 samples, validate on 23271 samples\n",
      "Epoch 1/10\n",
      "93081/93081 [==============================] - 3s 30us/step - loss: 0.5277 - acc: 0.7693 - val_loss: 0.4710 - val_acc: 0.8031\n",
      "Epoch 2/10\n",
      "93081/93081 [==============================] - 1s 12us/step - loss: 0.4442 - acc: 0.8172 - val_loss: 0.4363 - val_acc: 0.8172\n",
      "Epoch 3/10\n",
      "93081/93081 [==============================] - 1s 12us/step - loss: 0.4183 - acc: 0.8293 - val_loss: 0.4180 - val_acc: 0.8290\n",
      "Epoch 4/10\n",
      "93081/93081 [==============================] - 1s 13us/step - loss: 0.4032 - acc: 0.8367 - val_loss: 0.4066 - val_acc: 0.8343\n",
      "Epoch 5/10\n",
      "93081/93081 [==============================] - 1s 14us/step - loss: 0.3931 - acc: 0.8416 - val_loss: 0.3984 - val_acc: 0.8383\n",
      "Epoch 6/10\n",
      "93081/93081 [==============================] - 1s 13us/step - loss: 0.3853 - acc: 0.8443 - val_loss: 0.3931 - val_acc: 0.8410\n",
      "Epoch 7/10\n",
      "93081/93081 [==============================] - 1s 13us/step - loss: 0.3795 - acc: 0.8471 - val_loss: 0.3875 - val_acc: 0.8432\n",
      "Epoch 8/10\n",
      "93081/93081 [==============================] - 1s 13us/step - loss: 0.3747 - acc: 0.8489 - val_loss: 0.3830 - val_acc: 0.8444\n",
      "Epoch 9/10\n",
      "93081/93081 [==============================] - 1s 13us/step - loss: 0.3706 - acc: 0.8500 - val_loss: 0.3799 - val_acc: 0.8448\n",
      "Epoch 10/10\n",
      "93081/93081 [==============================] - 1s 14us/step - loss: 0.3674 - acc: 0.8511 - val_loss: 0.3772 - val_acc: 0.8474\n",
      "Test score: 0.3732171668471283\n",
      "Test accuracy: 0.8457783278327833\n"
     ]
    }
   ],
   "source": [
    "from keras.models import Sequential \n",
    "from keras.layers import Dense, Dropout\n",
    "from keras.constraints import NonNeg\n",
    "\n",
    "m = np.shape(x)[1]\n",
    "    \n",
    "model = Sequential()  \n",
    "model.add(Dense(1, input_dim=m, activation='sigmoid', name = 'contributions')) \n",
    "\n",
    "model.compile(optimizer='rmsprop', loss='binary_crossentropy', metrics=['accuracy']) \n",
    "history = model.fit(x_train, y_train, batch_size=128, epochs=10, verbose=1, validation_data=(x_val, y_val)) \n",
    "score = model.evaluate(x_test, y_test, verbose=0) \n",
    "print('Test score:', score[0]) \n",
    "print('Test accuracy:', score[1])"
   ]
  },
  {
   "cell_type": "code",
   "execution_count": 207,
   "metadata": {},
   "outputs": [
    {
     "data": {
      "image/png": "[encoded data removed]",
      "text/plain": [
       "<matplotlib.figure.Figure at 0x1e00d2eb8>"
      ]
     },
     "metadata": {},
     "output_type": "display_data"
    }
   ],
   "source": [
    "# Visualization of the attribution scores\n",
    "from sklearn.utils.extmath import softmax\n",
    "\n",
    "keras_logreg = model.get_layer('contributions').get_weights()[0].flatten()[0:n_campaigns]\n",
    "keras_logreg = softmax([keras_logreg]).flatten()\n",
    "\n",
    "fig = plt.figure(figsize=(15,4))\n",
    "ax = fig.add_subplot(111)\n",
    "plt.bar(range(len(keras_logreg[campaign_idx])), keras_logreg[campaign_idx] )\n",
    "plt.xlabel('Campaign ID')\n",
    "plt.ylabel('Return per impression')\n",
    "plt.show()"
   ]
  },
  {
   "cell_type": "markdown",
   "metadata": {},
   "source": [
    "## Basic LSTM"
   ]
  },
  {
   "cell_type": "code",
   "execution_count": 208,
   "metadata": {},
   "outputs": [
    {
     "name": "stdout",
     "output_type": "stream",
     "text": [
      "(145440, 15, 1563)\n"
     ]
    }
   ],
   "source": [
    "def features_for_lstm(df, max_touchpoints):\n",
    "    \n",
    "    df_proj = df[['jid', 'campaigns', 'cats', 'click', 'cost', 'time_since_last_click_norm', 'timestamp_norm', 'conversion']]\n",
    "    \n",
    "    x2d = df_proj.values\n",
    "    \n",
    "    x3d_list = np.split(x2d[:, 1:], np.cumsum(np.unique(x2d[:, 0], return_counts=True)[1])[:-1])\n",
    "    \n",
    "    x3d = []\n",
    "    y = []\n",
    "    for xi in x3d_list:\n",
    "        journey_matrix = np.apply_along_axis(np.hstack, 1, xi)\n",
    "        journey_matrix = journey_matrix[ journey_matrix[:, 5].argsort() ] # sort impressions by timestamp\n",
    "        n_touchpoints = len(journey_matrix)\n",
    "        padded_journey = []\n",
    "        if(n_touchpoints >= max_touchpoints):\n",
    "            padded_journey = journey_matrix[0:max_touchpoints]\n",
    "        else:\n",
    "            padded_journey = np.pad(journey_matrix, ((0, max_touchpoints - n_touchpoints), (0, 0)), 'constant', constant_values=(0))\n",
    "            \n",
    "        x3d.append(padded_journey[:, 0:-1])\n",
    "        y.append(np.max(padded_journey[:, -1]))\n",
    "        \n",
    "    return np.stack(x3d), y\n",
    "\n",
    "x, y = features_for_lstm(df6, max_touchpoints = 15)\n",
    "print(np.shape(x))\n",
    "\n",
    "x_train, x_test, y_train, y_test = train_test_split(x, y, test_size = 0.20, random_state = 1)\n",
    "x_train, x_val, y_train, y_val = train_test_split(x_train, y_train, test_size = 0.20, random_state = 1)"
   ]
  },
  {
   "cell_type": "code",
   "execution_count": 211,
   "metadata": {},
   "outputs": [
    {
     "name": "stdout",
     "output_type": "stream",
     "text": [
      "Train on 93081 samples, validate on 23271 samples\n",
      "Epoch 1/5\n",
      "93081/93081 [==============================] - 135s 1ms/step - loss: 0.3033 - acc: 0.8677 - val_loss: 0.2547 - val_acc: 0.8899\n",
      "Epoch 2/5\n",
      "93081/93081 [==============================] - 152s 2ms/step - loss: 0.2603 - acc: 0.8879 - val_loss: 0.2322 - val_acc: 0.9013\n",
      "Epoch 3/5\n",
      "93081/93081 [==============================] - 160s 2ms/step - loss: 0.2415 - acc: 0.8979 - val_loss: 0.2274 - val_acc: 0.9069\n",
      "Epoch 4/5\n",
      "93081/93081 [==============================] - 156s 2ms/step - loss: 0.2293 - acc: 0.9047 - val_loss: 0.2091 - val_acc: 0.9129\n",
      "Epoch 5/5\n",
      "93081/93081 [==============================] - 155s 2ms/step - loss: 0.2248 - acc: 0.9067 - val_loss: 0.2136 - val_acc: 0.9112\n",
      "Test score: 0.21668663059081575\n",
      "Test accuracy: 0.9088627612761276\n"
     ]
    }
   ],
   "source": [
    "from keras.models import Sequential \n",
    "from keras.layers import Dense, LSTM\n",
    "\n",
    "n_steps, n_features = np.shape(x)[1:3]\n",
    "    \n",
    "model = Sequential() \n",
    "model.add(LSTM(64, dropout=0.2, recurrent_dropout=0.2, input_shape=(n_steps, n_features)))\n",
    "model.add(Dense(1, activation='sigmoid')) \n",
    "\n",
    "model.compile(optimizer='rmsprop', loss='binary_crossentropy', metrics=['accuracy']) \n",
    "history = model.fit(x_train, y_train, batch_size=64, epochs=5, verbose=1, validation_data=(x_val, y_val)) \n",
    "score = model.evaluate(x_test, y_test, verbose=0) \n",
    "print('Test score:', score[0]) \n",
    "print('Test accuracy:', score[1])"
   ]
  },
  {
   "cell_type": "markdown",
   "metadata": {},
   "source": [
    "## LSTM with Attention"
   ]
  },
  {
   "cell_type": "code",
   "execution_count": 236,
   "metadata": {},
   "outputs": [
    {
     "name": "stdout",
     "output_type": "stream",
     "text": [
      "Train on 93081 samples, validate on 23271 samples\n",
      "Epoch 1/5\n",
      "93081/93081 [==============================] - 110s 1ms/step - loss: 0.2293 - acc: 0.9018 - val_loss: 0.2162 - val_acc: 0.9110\n",
      "Epoch 2/5\n",
      "93081/93081 [==============================] - 109s 1ms/step - loss: 0.2001 - acc: 0.9152 - val_loss: 0.2038 - val_acc: 0.9123\n",
      "Epoch 3/5\n",
      "93081/93081 [==============================] - 96s 1ms/step - loss: 0.1906 - acc: 0.9199 - val_loss: 0.2002 - val_acc: 0.9166\n",
      "Epoch 4/5\n",
      "93081/93081 [==============================] - 85s 910us/step - loss: 0.1876 - acc: 0.9213 - val_loss: 0.1949 - val_acc: 0.9168\n",
      "Epoch 5/5\n",
      "93081/93081 [==============================] - 98s 1ms/step - loss: 0.1846 - acc: 0.9222 - val_loss: 0.1924 - val_acc: 0.9190\n",
      "Test score: 0.19408383931476947\n",
      "Test accuracy: 0.9186262376237624\n"
     ]
    }
   ],
   "source": [
    "from keras.models import Sequential \n",
    "from keras.layers import Dense, LSTM, Input, Lambda, RepeatVector, Permute, Flatten, Activation, Multiply\n",
    "from keras.constraints import NonNeg\n",
    "from keras import backend as K\n",
    "from keras.models import Model\n",
    "\n",
    "n_steps, n_features = np.shape(x)[1:3]\n",
    "\n",
    "hidden_units = 64\n",
    "\n",
    "main_input = Input(shape=(n_steps, n_features))\n",
    "    \n",
    "embeddings = Dense(128, activation='linear', input_shape=(n_steps, n_features))(main_input)\n",
    "\n",
    "activations = LSTM(hidden_units, dropout=0.2, recurrent_dropout=0.2, return_sequences=True)(embeddings)\n",
    "\n",
    "attention = Dense(1, activation='tanh')(activations)\n",
    "attention = Flatten()(attention)\n",
    "attention = Activation('softmax', name = 'attention_weigths')(attention)\n",
    "attention = RepeatVector(hidden_units * 1)(attention)\n",
    "attention = Permute([2, 1])(attention)\n",
    "\n",
    "weighted_activations = Multiply()([activations, attention])\n",
    "weighted_activations = Lambda(lambda xin: K.sum(xin, axis=-2), output_shape=(hidden_units,))(weighted_activations)\n",
    "\n",
    "main_output = Dense(1, activation='sigmoid')(weighted_activations)\n",
    "\n",
    "model = Model(inputs=main_input, outputs=main_output)\n",
    "\n",
    "model.compile(optimizer='rmsprop', loss='binary_crossentropy', metrics=['accuracy']) \n",
    "history = model.fit(x_train, y_train, batch_size=64, epochs=5, verbose=1, validation_data=(x_val, y_val)) \n",
    "score = model.evaluate(x_test, y_test, verbose=0) \n",
    "print('Test score:', score[0]) \n",
    "print('Test accuracy:', score[1])"
   ]
  },
  {
   "cell_type": "markdown",
   "metadata": {},
   "source": [
    "## Analysis of LSTM-A Model"
   ]
  },
  {
   "cell_type": "code",
   "execution_count": 238,
   "metadata": {},
   "outputs": [],
   "source": [
    "def get_campaign_id(x_journey_step):\n",
    "    return np.argmax(x_journey_step[0:n_campaigns])\n",
    "\n",
    "attention_model = Model(inputs=model.input, outputs=model.get_layer('attention_weigths').output)\n",
    "\n",
    "a = attention_model.predict(x_train)\n",
    "\n",
    "attributions = np.zeros(n_campaigns)\n",
    "campaign_freq = np.ones(n_campaigns)\n",
    "for i, journey in enumerate(a):\n",
    "    for step, step_contribution in enumerate(journey):\n",
    "        if(np.sum(x_train[i][step]) > 0):\n",
    "            campaign_id = get_campaign_id(x_train[i][step])\n",
    "            attributions[campaign_id] = attributions[campaign_id] + step_contribution\n",
    "            campaign_freq[campaign_id] = campaign_freq[campaign_id] + 1"
   ]
  },
  {
   "cell_type": "code",
   "execution_count": 239,
   "metadata": {},
   "outputs": [
    {
     "data": {
      "image/png": "[encoded data removed]",
      "text/plain": [
       "<matplotlib.figure.Figure at 0x20dc63400>"
      ]
     },
     "metadata": {},
     "output_type": "display_data"
    }
   ],
   "source": [
    "lstm_a = (attributions/campaign_freq)\n",
    "\n",
    "fig = plt.figure(figsize=(15, 4))\n",
    "ax = fig.add_subplot(111)\n",
    "plt.bar( range(len(lstm_a[campaign_idx])), lstm_a[campaign_idx], label='LSTM-A' )\n",
    "plt.xlabel('Campaign ID')\n",
    "plt.ylabel('Contribution')\n",
    "plt.legend(loc='upper left')\n",
    "plt.show()"
   ]
  },
  {
   "cell_type": "code",
   "execution_count": 133,
   "metadata": {},
   "outputs": [
    {
     "data": {
      "image/png": "[encoded data removed]",
      "text/plain": [
       "<matplotlib.figure.Figure at 0x1680cac50>"
      ]
     },
     "metadata": {},
     "output_type": "display_data"
    }
   ],
   "source": [
    "fig = plt.figure(figsize=(15, 4))\n",
    "ax = fig.add_subplot(111)\n",
    "\n",
    "ratio = max(lta[idx]) / max(keras_logreg[idx])\n",
    "plt.bar(np.linspace(0, len(campaign_idx), len(campaign_idx)), lta[campaign_idx], width=0.4, alpha=0.7, label='LTA' )\n",
    "plt.bar(np.linspace(0, len(campaign_idx), len(campaign_idx)) - 0.3, keras_logreg[campaign_idx], width=0.4, alpha=0.7, label='Keras Log Reg' )\n",
    "plt.xlabel('Campaign ID')\n",
    "plt.ylabel('Contribution')\n",
    "plt.legend(loc='upper left')\n",
    "plt.show()"
   ]
  },
  {
   "cell_type": "code",
   "execution_count": 240,
   "metadata": {},
   "outputs": [
    {
     "data": {
      "image/png": "[encoded data removed]",
      "text/plain": [
       "<matplotlib.figure.Figure at 0x205b27a90>"
      ]
     },
     "metadata": {},
     "output_type": "display_data"
    }
   ],
   "source": [
    "fig = plt.figure(figsize=(15, 4))\n",
    "ax = fig.add_subplot(111)\n",
    "\n",
    "ratio = max(lta[campaign_idx]) / max(lstm_a[campaign_idx])\n",
    "plt.bar(np.linspace(0, len(campaign_idx), len(campaign_idx)), lta[campaign_idx], width=0.4, alpha=0.7, label='LTA' )\n",
    "plt.bar(np.linspace(0, len(campaign_idx), len(campaign_idx)) - 0.3, lstm_a[campaign_idx], width=0.4, alpha=0.7, label='LSTM-A'  )\n",
    "plt.xlabel('Campaign ID')\n",
    "plt.ylabel('Contribution')\n",
    "plt.legend(loc='upper left')\n",
    "plt.show()"
   ]
  },
  {
   "cell_type": "markdown",
   "metadata": {},
   "source": [
    "## Simulation"
   ]
  },
  {
   "cell_type": "code",
   "execution_count": 226,
   "metadata": {},
   "outputs": [],
   "source": [
    "# Key assumption: If one of the campaigns in a journey runs out of budget, \n",
    "# then the conversion reward is fully lost for the entire journey\n",
    "# including both past and future campaigns\n",
    "\n",
    "def simulate_budget_roi(df, budget_total, attribution, verbose=False):\n",
    "    budgets = np.ceil(attribution * (budget_total / np.sum(attribution)))\n",
    "    \n",
    "    if(verbose):\n",
    "        print(budgets)\n",
    "    \n",
    "    blacklist = set()\n",
    "    conversions = set()\n",
    "    for i in range(df.shape[0]):\n",
    "        campaign_id = get_campaign_id(df.loc[i]['campaigns']) \n",
    "        jid = df.loc[i]['jid']\n",
    "        if jid not in blacklist:\n",
    "            if budgets[campaign_id] >= 1:\n",
    "                budgets[campaign_id] = budgets[campaign_id] - 1\n",
    "                if(df.loc[i]['conversion'] == 1):\n",
    "                    conversions.add(jid)\n",
    "            else:\n",
    "                blacklist.add(jid)\n",
    "        \n",
    "        if(verbose):\n",
    "            if(i % 10000 == 0):\n",
    "                print('{:.2%} : {:.2%} budget spent'.format(i/df.shape[0], 1.0 - np.sum(budgets)/budget_total ))\n",
    "        \n",
    "        if(np.sum(budgets) < budget_total * 0.02):\n",
    "            break\n",
    "            \n",
    "    return len(conversions.difference(blacklist))"
   ]
  },
  {
   "cell_type": "code",
   "execution_count": null,
   "metadata": {},
   "outputs": [],
   "source": [
    "pitches = [0.1, 0.25, 0.5, 1.0, 1.5, 2.0, 2.5, 3.0]\n",
    "attributions = [lta, keras_logreg, lstm_a]\n",
    "\n",
    "for i, pitch in enumerate(pitches):\n",
    "    for j, attribution in enumerate(attributions):\n",
    "        reward = simulate_budget_roi(df6, 10000, attribution**pitch)\n",
    "        print('{} {} : {}'.format(p, j, reward))"
   ]
  }
 ],
 "metadata": {
  "kernelspec": {
   "display_name": "Python 3",
   "language": "python",
   "name": "python3"
  },
  "language_info": {
   "codemirror_mode": {
    "name": "ipython",
    "version": 3
   },
   "file_extension": ".py",
   "mimetype": "text/x-python",
   "name": "python",
   "nbconvert_exporter": "python",
   "pygments_lexer": "ipython3",
   "version": "3.7.6"
  }
 },
 "nbformat": 4,
 "nbformat_minor": 4
}
