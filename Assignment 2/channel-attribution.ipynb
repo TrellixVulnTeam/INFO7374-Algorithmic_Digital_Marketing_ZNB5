{
 "cells": [
  {
   "cell_type": "markdown",
   "metadata": {},
   "source": [
    "# Multi-touch Multi-channel Attribution Model Using LSTM with Attention\n",
    "\n",
    "This is an attribution model that uses LSTM with attention to assign weights to touchpoints. \n",
    "\n",
    "| Description | D001 (see [descriptions](https://github.com/ikatsov/tensor-house/blob/master/resources/descriptions.md)) |\n",
    "|--|:--|\n",
    "| Dataset | Criteo (see [datasets](https://github.com/ikatsov/tensor-house/blob/master/resources/datsets.md)) |\n",
    "| Papers | Li2018, Ren2018 (see [papers](https://github.com/ikatsov/tensor-house/blob/master/resources/papers.md)) | \n",
    "| Installation | Download the dataset to 'data' folder |\n",
    "| Libs | Keras, Scikit-learn, Pandas, Numpy |"
   ]
  },
  {
   "cell_type": "markdown",
   "metadata": {},
   "source": [
    "### Data description\n",
    "This dataset represents a sample of 30 days of Criteo live traffic data. Each line corresponds to one impression (a banner) that was displayed to a user. For each banner we have detailed information about the context, if it was clicked, if it led to a conversion and if it led to a conversion that was attributed to Criteo or not. Data has been sub-sampled and anonymized so as not to disclose proprietary elements.\n",
    "\n",
    "Here is a detailed description of the fields (they are tab-separated in the file):\n",
    "\n",
    "* timestamp: timestamp of the impression (starting from 0 for the first impression). The dataset is sorted according to timestamp.\n",
    "* uid: a unique user identifier\n",
    "* campaign: a unique identifier for the campaign\n",
    "* conversion: 1 if there was a conversion in the 30 days after the impression (independently of whether this impression was last click or not)\n",
    "* conversion_timestamp: the timestamp of the conversion or -1 if no conversion was observed\n",
    "* conversion_id: a unique identifier for each conversion (so that timelines can be reconstructed if needed). -1 if there was no conversion\n",
    "* attribution: 1 if the conversion was attributed to Criteo, 0 otherwise\n",
    "* click: 1 if the impression was clicked, 0 otherwise\n",
    "* click_pos: the position of the click before a conversion (0 for first-click)\n",
    "* click_nb: number of clicks. More than 1 if there was several clicks before a conversion\n",
    "* cost: the price paid by Criteo for this display (disclaimer: not the real price, only a transformed version of it)\n",
    "* cpo: the cost-per-order in case of attributed conversion (disclaimer: not the real price, only a transformed version of it)\n",
    "* time_since_last_click: the time since the last click (in s) for the given impression\n",
    "* cat(1-9): contextual features associated to the display. Can be used to learn the click/conversion models. We do not disclose the meaning of these features but it is not relevant for this study. Each column is a categorical variable. In the experiments, they are mapped to a fixed dimensionality space using the Hashing Trick (see paper for reference).\n",
    "\n",
    "### Key figures\n",
    "* 2.4Gb uncompressed\n",
    "* 16.5M impressions\n",
    "* 45K conversions\n",
    "* 700 campaigns"
   ]
  },
  {
   "cell_type": "code",
   "execution_count": 52,
   "metadata": {},
   "outputs": [],
   "source": [
    "import pandas as pd\n",
    "import matplotlib.pyplot as plt \n",
    "import numpy as np\n",
    "\n",
    "from sklearn.utils import resample\n",
    "from sklearn.preprocessing import MinMaxScaler\n",
    "from sklearn.model_selection import train_test_split\n",
    "\n",
    "#import keras\n",
    "\n",
    "plt.style.use('ggplot')"
   ]
  },
  {
   "cell_type": "code",
   "execution_count": 18,
   "metadata": {},
   "outputs": [
    {
     "name": "stdout",
     "output_type": "stream",
     "text": [
      "108174\n",
      "[54134, 54040]\n"
     ]
    }
   ],
   "source": [
    "# Initial data preparation\n",
    "\n",
    "def add_derived_columns(df):\n",
    "    df_ext = df.copy()\n",
    "    df_ext['jid'] = df_ext['uid'].map(str) + '_' + df_ext['conversion_id'].map(str)\n",
    "    \n",
    "    min_max_scaler = MinMaxScaler()\n",
    "    for cname in ('timestamp', 'time_since_last_click'):\n",
    "        x = df_ext[cname].values.reshape(-1, 1) \n",
    "        df_ext[cname + '_norm'] = min_max_scaler.fit_transform(x)\n",
    "    \n",
    "    return df_ext\n",
    "\n",
    "def filter_journeys_by_length(df, min_touchpoints):\n",
    "    if min_touchpoints <= 1:\n",
    "        return df\n",
    "    else:\n",
    "        grouped = df.groupby(['jid'])['uid'].count().reset_index(name=\"count\")\n",
    "        return df[df['jid'].isin( grouped[grouped['count'] >= min_touchpoints]['jid'].values )]\n",
    "\n",
    "def sample_campaigns(df, n_campaigns):    \n",
    "    campaigns = np.random.choice( df['campaign'].unique(), n_campaigns, replace = False )\n",
    "    return df[ df['campaign'].isin(campaigns) ]\n",
    "\n",
    "def balance_conversions(df):\n",
    "    df_minority = df[df.conversion == 1]\n",
    "    df_majority = df[df.conversion == 0]\n",
    "    \n",
    "    df_majority_jids = np.array_split(df_majority['jid'].unique(), 100 * df_majority.shape[0]/df_minority.shape[0] )\n",
    "    \n",
    "    df_majority_sampled = pd.DataFrame(data=None, columns=df.columns)\n",
    "    for jid_chunk in df_majority_jids:\n",
    "        df_majority_sampled = pd.concat([df_majority_sampled, df_majority[df_majority.jid.isin(jid_chunk)]])\n",
    "        if df_majority_sampled.shape[0] > df_minority.shape[0]:\n",
    "            break\n",
    "    \n",
    "    return pd.concat([df_majority_sampled, df_minority]).sample(frac=1).reset_index(drop=True)\n",
    "\n",
    "def map_one_hot(df, column_names, result_column_name):\n",
    "    mapper = {} \n",
    "    for i, col_name in enumerate(column_names):\n",
    "        for val in df[col_name].unique():\n",
    "            mapper[str(val) + str(i)] = len(mapper)\n",
    "         \n",
    "    df_ext = df.copy()\n",
    "    \n",
    "    def one_hot(values):\n",
    "        v = np.zeros( len(mapper) )\n",
    "        for i, val in enumerate(values): \n",
    "            v[ mapper[str(val) + str(i)] ] = 1\n",
    "        return v    \n",
    "    \n",
    "    df_ext[result_column_name] = df_ext[column_names].values.tolist()\n",
    "    df_ext[result_column_name] = df_ext[result_column_name].map(one_hot)\n",
    "    \n",
    "    return df_ext\n",
    "    \n",
    "data_file = \"C:/Users/16176/Documents/MS DAE Material/INFO 7374  ADM/criteo_attribution_dataset.tsv/sample_pcb.tsv\"\n",
    "df0 = pd.read_csv(data_file)\n",
    "\n",
    "n_campaigns = 400\n",
    "\n",
    "df1 = add_derived_columns(df0)\n",
    "df2 = sample_campaigns(df1, n_campaigns)\n",
    "df3 = filter_journeys_by_length(df2, 2)\n",
    "df4 = balance_conversions(df3)\n",
    "df5 = map_one_hot(df4, ['cat1', 'cat2', 'cat3', 'cat4', 'cat5', 'cat6', 'cat8'], 'cats')\n",
    "df6 = map_one_hot(df5, ['campaign'], 'campaigns').sort_values(by=['timestamp_norm'])\n",
    "\n",
    "print(df6.shape[0])\n",
    "print([df6[df6.conversion == 0].shape[0], df6[df6.conversion == 1].shape[0]])"
   ]
  },
  {
   "cell_type": "code",
   "execution_count": 35,
   "metadata": {},
   "outputs": [],
   "source": [
    "df6 = map_one_hot(df5, ['campaign'], 'campaigns').sort_values(by=['timestamp_norm'])"
   ]
  },
  {
   "cell_type": "code",
   "execution_count": 50,
   "metadata": {},
   "outputs": [
    {
     "data": {
      "text/html": [
       "<div>\n",
       "<style scoped>\n",
       "    .dataframe tbody tr th:only-of-type {\n",
       "        vertical-align: middle;\n",
       "    }\n",
       "\n",
       "    .dataframe tbody tr th {\n",
       "        vertical-align: top;\n",
       "    }\n",
       "\n",
       "    .dataframe thead th {\n",
       "        text-align: right;\n",
       "    }\n",
       "</style>\n",
       "<table border=\"1\" class=\"dataframe\">\n",
       "  <thead>\n",
       "    <tr style=\"text-align: right;\">\n",
       "      <th></th>\n",
       "      <th>timestamp</th>\n",
       "      <th>uid</th>\n",
       "      <th>campaign</th>\n",
       "      <th>conversion</th>\n",
       "      <th>conversion_timestamp</th>\n",
       "      <th>conversion_id</th>\n",
       "      <th>attribution</th>\n",
       "      <th>click</th>\n",
       "      <th>click_pos</th>\n",
       "      <th>click_nb</th>\n",
       "      <th>...</th>\n",
       "      <th>cat5</th>\n",
       "      <th>cat6</th>\n",
       "      <th>cat7</th>\n",
       "      <th>cat8</th>\n",
       "      <th>cat9</th>\n",
       "      <th>jid</th>\n",
       "      <th>timestamp_norm</th>\n",
       "      <th>time_since_last_click_norm</th>\n",
       "      <th>cats</th>\n",
       "      <th>campaigns</th>\n",
       "    </tr>\n",
       "  </thead>\n",
       "  <tbody>\n",
       "    <tr>\n",
       "      <th>81452</th>\n",
       "      <td>12</td>\n",
       "      <td>28883743</td>\n",
       "      <td>24267774</td>\n",
       "      <td>0</td>\n",
       "      <td>-1</td>\n",
       "      <td>-1</td>\n",
       "      <td>0</td>\n",
       "      <td>1</td>\n",
       "      <td>-1</td>\n",
       "      <td>-1</td>\n",
       "      <td>...</td>\n",
       "      <td>3808271</td>\n",
       "      <td>28928366</td>\n",
       "      <td>9312274</td>\n",
       "      <td>29196072</td>\n",
       "      <td>29196072</td>\n",
       "      <td>28883743_-1</td>\n",
       "      <td>0.000003</td>\n",
       "      <td>0.000000</td>\n",
       "      <td>[0.0, 0.0, 0.0, 0.0, 0.0, 1.0, 0.0, 0.0, 0.0, ...</td>\n",
       "      <td>[0.0, 0.0, 0.0, 0.0, 0.0, 0.0, 0.0, 0.0, 0.0, ...</td>\n",
       "    </tr>\n",
       "    <tr>\n",
       "      <th>14272</th>\n",
       "      <td>16</td>\n",
       "      <td>14158457</td>\n",
       "      <td>1415896</td>\n",
       "      <td>0</td>\n",
       "      <td>-1</td>\n",
       "      <td>-1</td>\n",
       "      <td>0</td>\n",
       "      <td>0</td>\n",
       "      <td>-1</td>\n",
       "      <td>-1</td>\n",
       "      <td>...</td>\n",
       "      <td>11409686</td>\n",
       "      <td>29196072</td>\n",
       "      <td>15513380</td>\n",
       "      <td>29196072</td>\n",
       "      <td>29196072</td>\n",
       "      <td>14158457_-1</td>\n",
       "      <td>0.000005</td>\n",
       "      <td>0.000000</td>\n",
       "      <td>[0.0, 1.0, 0.0, 0.0, 0.0, 0.0, 0.0, 0.0, 0.0, ...</td>\n",
       "      <td>[0.0, 0.0, 0.0, 0.0, 0.0, 0.0, 0.0, 0.0, 0.0, ...</td>\n",
       "    </tr>\n",
       "    <tr>\n",
       "      <th>78985</th>\n",
       "      <td>19</td>\n",
       "      <td>24850810</td>\n",
       "      <td>10810197</td>\n",
       "      <td>0</td>\n",
       "      <td>-1</td>\n",
       "      <td>-1</td>\n",
       "      <td>0</td>\n",
       "      <td>1</td>\n",
       "      <td>-1</td>\n",
       "      <td>-1</td>\n",
       "      <td>...</td>\n",
       "      <td>11409684</td>\n",
       "      <td>1973606</td>\n",
       "      <td>12856719</td>\n",
       "      <td>20754144</td>\n",
       "      <td>32145478</td>\n",
       "      <td>24850810_-1</td>\n",
       "      <td>0.000006</td>\n",
       "      <td>0.000698</td>\n",
       "      <td>[0.0, 0.0, 1.0, 0.0, 0.0, 0.0, 0.0, 0.0, 0.0, ...</td>\n",
       "      <td>[0.0, 0.0, 0.0, 0.0, 0.0, 0.0, 0.0, 0.0, 0.0, ...</td>\n",
       "    </tr>\n",
       "    <tr>\n",
       "      <th>22277</th>\n",
       "      <td>30</td>\n",
       "      <td>9451380</td>\n",
       "      <td>17321082</td>\n",
       "      <td>1</td>\n",
       "      <td>355909</td>\n",
       "      <td>4136014</td>\n",
       "      <td>0</td>\n",
       "      <td>1</td>\n",
       "      <td>1</td>\n",
       "      <td>3</td>\n",
       "      <td>...</td>\n",
       "      <td>5824237</td>\n",
       "      <td>30763035</td>\n",
       "      <td>7230114</td>\n",
       "      <td>29196072</td>\n",
       "      <td>21091111</td>\n",
       "      <td>9451380_4136014</td>\n",
       "      <td>0.000010</td>\n",
       "      <td>0.140297</td>\n",
       "      <td>[0.0, 0.0, 0.0, 0.0, 1.0, 0.0, 0.0, 0.0, 0.0, ...</td>\n",
       "      <td>[0.0, 0.0, 0.0, 0.0, 0.0, 0.0, 0.0, 0.0, 0.0, ...</td>\n",
       "    </tr>\n",
       "    <tr>\n",
       "      <th>21031</th>\n",
       "      <td>31</td>\n",
       "      <td>30607637</td>\n",
       "      <td>24045148</td>\n",
       "      <td>0</td>\n",
       "      <td>-1</td>\n",
       "      <td>-1</td>\n",
       "      <td>0</td>\n",
       "      <td>0</td>\n",
       "      <td>-1</td>\n",
       "      <td>-1</td>\n",
       "      <td>...</td>\n",
       "      <td>32440044</td>\n",
       "      <td>32440053</td>\n",
       "      <td>9312274</td>\n",
       "      <td>29196072</td>\n",
       "      <td>29196072</td>\n",
       "      <td>30607637_-1</td>\n",
       "      <td>0.000010</td>\n",
       "      <td>0.000000</td>\n",
       "      <td>[0.0, 0.0, 1.0, 0.0, 0.0, 0.0, 0.0, 0.0, 0.0, ...</td>\n",
       "      <td>[0.0, 0.0, 0.0, 0.0, 0.0, 0.0, 0.0, 0.0, 0.0, ...</td>\n",
       "    </tr>\n",
       "  </tbody>\n",
       "</table>\n",
       "<p>5 rows × 27 columns</p>\n",
       "</div>"
      ],
      "text/plain": [
       "      timestamp       uid  campaign conversion conversion_timestamp  \\\n",
       "81452        12  28883743  24267774          0                   -1   \n",
       "14272        16  14158457   1415896          0                   -1   \n",
       "78985        19  24850810  10810197          0                   -1   \n",
       "22277        30   9451380  17321082          1               355909   \n",
       "21031        31  30607637  24045148          0                   -1   \n",
       "\n",
       "      conversion_id attribution click click_pos click_nb  ...      cat5  \\\n",
       "81452            -1           0     1        -1       -1  ...   3808271   \n",
       "14272            -1           0     0        -1       -1  ...  11409686   \n",
       "78985            -1           0     1        -1       -1  ...  11409684   \n",
       "22277       4136014           0     1         1        3  ...   5824237   \n",
       "21031            -1           0     0        -1       -1  ...  32440044   \n",
       "\n",
       "           cat6      cat7      cat8      cat9              jid timestamp_norm  \\\n",
       "81452  28928366   9312274  29196072  29196072      28883743_-1       0.000003   \n",
       "14272  29196072  15513380  29196072  29196072      14158457_-1       0.000005   \n",
       "78985   1973606  12856719  20754144  32145478      24850810_-1       0.000006   \n",
       "22277  30763035   7230114  29196072  21091111  9451380_4136014       0.000010   \n",
       "21031  32440053   9312274  29196072  29196072      30607637_-1       0.000010   \n",
       "\n",
       "      time_since_last_click_norm  \\\n",
       "81452                   0.000000   \n",
       "14272                   0.000000   \n",
       "78985                   0.000698   \n",
       "22277                   0.140297   \n",
       "21031                   0.000000   \n",
       "\n",
       "                                                    cats  \\\n",
       "81452  [0.0, 0.0, 0.0, 0.0, 0.0, 1.0, 0.0, 0.0, 0.0, ...   \n",
       "14272  [0.0, 1.0, 0.0, 0.0, 0.0, 0.0, 0.0, 0.0, 0.0, ...   \n",
       "78985  [0.0, 0.0, 1.0, 0.0, 0.0, 0.0, 0.0, 0.0, 0.0, ...   \n",
       "22277  [0.0, 0.0, 0.0, 0.0, 1.0, 0.0, 0.0, 0.0, 0.0, ...   \n",
       "21031  [0.0, 0.0, 1.0, 0.0, 0.0, 0.0, 0.0, 0.0, 0.0, ...   \n",
       "\n",
       "                                               campaigns  \n",
       "81452  [0.0, 0.0, 0.0, 0.0, 0.0, 0.0, 0.0, 0.0, 0.0, ...  \n",
       "14272  [0.0, 0.0, 0.0, 0.0, 0.0, 0.0, 0.0, 0.0, 0.0, ...  \n",
       "78985  [0.0, 0.0, 0.0, 0.0, 0.0, 0.0, 0.0, 0.0, 0.0, ...  \n",
       "22277  [0.0, 0.0, 0.0, 0.0, 0.0, 0.0, 0.0, 0.0, 0.0, ...  \n",
       "21031  [0.0, 0.0, 0.0, 0.0, 0.0, 0.0, 0.0, 0.0, 0.0, ...  \n",
       "\n",
       "[5 rows x 27 columns]"
      ]
     },
     "execution_count": 50,
     "metadata": {},
     "output_type": "execute_result"
    }
   ],
   "source": [
    "df6.head()"
   ]
  },
  {
   "cell_type": "markdown",
   "metadata": {},
   "source": [
    "## Last Touch Attribution"
   ]
  },
  {
   "cell_type": "code",
   "execution_count": 63,
   "metadata": {},
   "outputs": [],
   "source": [
    "import numpy as np\n",
    "np.seterr(divide='ignore', invalid='ignore')\n",
    "def last_touch_attribution(df):\n",
    "    \n",
    "    def count_by_campaign(df):\n",
    "        counters = np.zeros(n_campaigns)\n",
    "        for campaign_one_hot in df['campaigns'].values:\n",
    "            campaign_id = np.argmax(campaign_one_hot)\n",
    "            counters[campaign_id] = counters[campaign_id] + 1\n",
    "        return counters\n",
    "        \n",
    "    campaign_impressions = count_by_campaign(df)\n",
    "    \n",
    "    df_converted = df[df['conversion'] == 1]\n",
    "    idx = df_converted.groupby(['jid'])['timestamp_norm'].transform(max) == df_converted['timestamp_norm']\n",
    "    campaign_conversions = count_by_campaign(df_converted[idx])\n",
    "        \n",
    "    return campaign_conversions / campaign_impressions\n",
    "    \n",
    "lta = last_touch_attribution(df6)"
   ]
  },
  {
   "cell_type": "code",
   "execution_count": 64,
   "metadata": {},
   "outputs": [
    {
     "data": {
      "image/png": "[encoded data removed]",
      "text/plain": [
       "<Figure size 1080x288 with 1 Axes>"
      ]
     },
     "metadata": {},
     "output_type": "display_data"
    }
   ],
   "source": [
    "# Visualization of the attribution scores\n",
    "\n",
    "campaign_idx = range(150,200)\n",
    "fig = plt.figure(figsize=(15,4))\n",
    "ax = fig.add_subplot(111)\n",
    "plt.bar( range(len(lta[campaign_idx])), lta[campaign_idx], label='LTA' )\n",
    "plt.xlabel('Campaign ID')\n",
    "plt.ylabel('Return per impression')\n",
    "plt.legend(loc='upper left')\n",
    "plt.show()"
   ]
  },
  {
   "cell_type": "markdown",
   "metadata": {},
   "source": [
    "# Linear Touch Attribution"
   ]
  },
  {
   "cell_type": "code",
   "execution_count": 121,
   "metadata": {},
   "outputs": [],
   "source": [
    "import numpy as np\n",
    "np.seterr(divide='ignore', invalid='ignore')\n",
    "def linear_attribution(df):\n",
    "    \n",
    "    def count_by_campaign(df):\n",
    "        counters = np.zeros(n_campaigns)\n",
    "        for campaign_one_hot in df['campaigns'].values:\n",
    "            campaign_id = np.argmax(campaign_one_hot)\n",
    "            counters[campaign_id] = counters[campaign_id] + 1\n",
    "        return counters\n",
    "        \n",
    "    campaign_impressions = count_by_campaign(df)\n",
    "    \n",
    "    df_converted = df[df['conversion'] == 1]\n",
    "    campaign_conversions = count_by_campaign(df_converted)        \n",
    "    return campaign_conversions / campaign_impressions\n",
    "    \n",
    "lin = linear_attribution(df6)"
   ]
  },
  {
   "cell_type": "code",
   "execution_count": 122,
   "metadata": {},
   "outputs": [
    {
     "data": {
      "image/png": "[encoded data removed]",
      "text/plain": [
       "<Figure size 1080x288 with 1 Axes>"
      ]
     },
     "metadata": {},
     "output_type": "display_data"
    }
   ],
   "source": [
    "campaign_idx = range(150, 200)\n",
    "fig = plt.figure(figsize=(15,4))\n",
    "ax = fig.add_subplot(111)\n",
    "plt.bar( range(len(lin[campaign_idx])), lin[campaign_idx], label='LA' )\n",
    "plt.xlabel('Campaign ID')\n",
    "plt.ylabel('Return per impression')\n",
    "plt.legend(loc='upper left')\n",
    "plt.show()"
   ]
  },
  {
   "cell_type": "code",
   "execution_count": 126,
   "metadata": {},
   "outputs": [
    {
     "data": {
      "text/plain": [
       "jid\n",
       "10000523_2559380     2\n",
       "10000953_28271511    2\n",
       "10002428_15268189    3\n",
       "10004152_2079042     2\n",
       "10005987_8337250     4\n",
       "                    ..\n",
       "9993298_11629840     2\n",
       "9995492_13092053     2\n",
       "999594_20785083      2\n",
       "9996537_6052325      2\n",
       "9999748_25873601     4\n",
       "Name: timestamp_norm, Length: 19469, dtype: int64"
      ]
     },
     "execution_count": 126,
     "metadata": {},
     "output_type": "execute_result"
    }
   ],
   "source": [
    "#Num of touchpoints per jid\n",
    "df_converted = df6[df6['conversion'] == 1]\n",
    "df_converted.groupby(['jid'])['timestamp_norm'].count()"
   ]
  },
  {
   "cell_type": "markdown",
   "metadata": {},
   "source": [
    "# Time Decay Attribution"
   ]
  },
  {
   "cell_type": "code",
   "execution_count": 123,
   "metadata": {},
   "outputs": [],
   "source": [
    "def timedecay_attribution(df):\n",
    "    \n",
    "    def count_by_campaign(df):\n",
    "        counters = np.zeros(n_campaigns)\n",
    "        for campaign_one_hot in df['campaigns'].values:\n",
    "            campaign_id = np.argmax(campaign_one_hot)\n",
    "            counters[campaign_id] = counters[campaign_id] + 1\n",
    "        return counters\n",
    "        \n",
    "    campaign_impressions = count_by_campaign(df)\n",
    "    \n",
    "    df_converted = df[df['conversion'] == 1]\n",
    "    desc_df=df_converted.sort_values(['jid','timestamp_norm'],ascending=False)\n",
    "    desc_df=desc_df.groupby(['jid']).apply(lambda x: x.iloc[:x.jid.size//2])\n",
    "    campaign_conversions = count_by_campaign(desc_df)        \n",
    "    return campaign_conversions / campaign_impressions\n",
    "    \n",
    "td = timedecay_attribution(df6)"
   ]
  },
  {
   "cell_type": "code",
   "execution_count": 124,
   "metadata": {},
   "outputs": [
    {
     "data": {
      "image/png": "[encoded data removed]",
      "text/plain": [
       "<Figure size 1080x288 with 1 Axes>"
      ]
     },
     "metadata": {},
     "output_type": "display_data"
    }
   ],
   "source": [
    "campaign_idx = range(150, 200)\n",
    "fig = plt.figure(figsize=(15,4))\n",
    "ax = fig.add_subplot(111)\n",
    "plt.bar( range(len(td[campaign_idx])), td[campaign_idx], label='TD' )\n",
    "plt.xlabel('Campaign ID')\n",
    "plt.ylabel('Return per impression')\n",
    "plt.legend(loc='upper left')\n",
    "plt.show()"
   ]
  },
  {
   "cell_type": "markdown",
   "metadata": {},
   "source": [
    "## Logistic Regression"
   ]
  },
  {
   "cell_type": "code",
   "execution_count": 201,
   "metadata": {},
   "outputs": [],
   "source": [
    "def features_for_logistic_regression(df):\n",
    "\n",
    "    def pairwise_max(series):\n",
    "        return np.max(series.tolist(), axis = 0).tolist()\n",
    "    \n",
    "    aggregation = {\n",
    "        'campaigns': pairwise_max,\n",
    "        'cats': pairwise_max,\n",
    "        'click': 'sum',\n",
    "        'cost': 'sum',\n",
    "        'conversion': 'max'\n",
    "    }\n",
    "    \n",
    "    df_agg = df.groupby(['jid']).agg(aggregation)\n",
    "    \n",
    "    df_agg['features'] = df_agg[['campaigns', 'cats', 'click', 'cost']].values.tolist()\n",
    "    \n",
    "    return (\n",
    "        np.stack(df_agg['features'].map(lambda x: np.hstack(x)).values),\n",
    "        df_agg['conversion'].values\n",
    "    )"
   ]
  },
  {
   "cell_type": "code",
   "execution_count": 202,
   "metadata": {},
   "outputs": [
    {
     "name": "stdout",
     "output_type": "stream",
     "text": [
      "(145440, 1561)\n"
     ]
    }
   ],
   "source": [
    "x, y = features_for_logistic_regression(df6)\n",
    "print(np.shape(x))"
   ]
  },
  {
   "cell_type": "code",
   "execution_count": 203,
   "metadata": {},
   "outputs": [],
   "source": [
    "from sklearn.model_selection import train_test_split\n",
    "\n",
    "x_train, x_test, y_train, y_test = train_test_split(x, y, test_size = 0.20, random_state = 1)\n",
    "x_train, x_val, y_train, y_val = train_test_split(x_train, y_train, test_size = 0.20, random_state = 1)"
   ]
  },
  {
   "cell_type": "code",
   "execution_count": 204,
   "metadata": {},
   "outputs": [
    {
     "name": "stdout",
     "output_type": "stream",
     "text": [
      "0.8653396589658966\n"
     ]
    }
   ],
   "source": [
    "# Quick sanity check\n",
    "from sklearn.linear_model import LogisticRegression\n",
    "\n",
    "logisticRegr = LogisticRegression()\n",
    "logisticRegr.fit(x_train, y_train)\n",
    "score = logisticRegr.score(x_test, y_test)\n",
    "print(score)"
   ]
  },
  {
   "cell_type": "markdown",
   "metadata": {},
   "source": [
    "## Simulation"
   ]
  },
  {
   "cell_type": "code",
   "execution_count": 226,
   "metadata": {},
   "outputs": [],
   "source": [
    "# Key assumption: If one of the campaigns in a journey runs out of budget, \n",
    "# then the conversion reward is fully lost for the entire journey\n",
    "# including both past and future campaigns\n",
    "\n",
    "def simulate_budget_roi(df, budget_total, attribution, verbose=False):\n",
    "    budgets = np.ceil(attribution * (budget_total / np.sum(attribution)))\n",
    "    \n",
    "    if(verbose):\n",
    "        print(budgets)\n",
    "    \n",
    "    blacklist = set()\n",
    "    conversions = set()\n",
    "    for i in range(df.shape[0]):\n",
    "        campaign_id = get_campaign_id(df.loc[i]['campaigns']) \n",
    "        jid = df.loc[i]['jid']\n",
    "        if jid not in blacklist:\n",
    "            if budgets[campaign_id] >= 1:\n",
    "                budgets[campaign_id] = budgets[campaign_id] - 1\n",
    "                if(df.loc[i]['conversion'] == 1):\n",
    "                    conversions.add(jid)\n",
    "            else:\n",
    "                blacklist.add(jid)\n",
    "        \n",
    "        if(verbose):\n",
    "            if(i % 10000 == 0):\n",
    "                print('{:.2%} : {:.2%} budget spent'.format(i/df.shape[0], 1.0 - np.sum(budgets)/budget_total ))\n",
    "        \n",
    "        if(np.sum(budgets) < budget_total * 0.02):\n",
    "            break\n",
    "            \n",
    "    return len(conversions.difference(blacklist))"
   ]
  },
  {
   "cell_type": "code",
   "execution_count": null,
   "metadata": {},
   "outputs": [],
   "source": [
    "pitches = [0.1, 0.25, 0.5, 1.0, 1.5, 2.0, 2.5, 3.0]\n",
    "attributions = [lta, keras_logreg, lstm_a]\n",
    "\n",
    "for i, pitch in enumerate(pitches):\n",
    "    for j, attribution in enumerate(attributions):\n",
    "        reward = simulate_budget_roi(df6, 10000, attribution**pitch)\n",
    "        print('{} {} : {}'.format(p, j, reward))"
   ]
  }
 ],
 "metadata": {
  "kernelspec": {
   "display_name": "Python 3",
   "language": "python",
   "name": "python3"
  },
  "language_info": {
   "codemirror_mode": {
    "name": "ipython",
    "version": 3
   },
   "file_extension": ".py",
   "mimetype": "text/x-python",
   "name": "python",
   "nbconvert_exporter": "python",
   "pygments_lexer": "ipython3",
   "version": "3.7.6"
  }
 },
 "nbformat": 4,
 "nbformat_minor": 4
}
