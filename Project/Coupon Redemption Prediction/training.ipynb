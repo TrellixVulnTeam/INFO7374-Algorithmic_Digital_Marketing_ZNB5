{
  "nbformat": 4,
  "nbformat_minor": 0,
  "metadata": {
    "colab": {
      "name": "training.ipynb",
      "provenance": []
    },
    "kernelspec": {
      "name": "python3",
      "display_name": "Python 3"
    }
  },
  "cells": [
    {
      "cell_type": "code",
      "metadata": {
        "colab": {
          "base_uri": "https://localhost:8080/"
        },
        "id": "pCleIOiNKtWR",
        "outputId": "79d9ce7b-b1b1-4eff-e724-689e7a3772d9"
      },
      "source": [
        "from google.colab import drive\r\n",
        "drive.mount(\"/content/drive\")"
      ],
      "execution_count": 1,
      "outputs": [
        {
          "output_type": "stream",
          "text": [
            "Mounted at /content/drive\n"
          ],
          "name": "stdout"
        }
      ]
    },
    {
      "cell_type": "code",
      "metadata": {
        "id": "kv3RvsudLH-t"
      },
      "source": [
        "import pandas as pd\r\n",
        "import numpy as np\r\n",
        "import seaborn as sns\r\n",
        "import matplotlib.pyplot as plt\r\n",
        "%matplotlib inline\r\n",
        "from sklearn.preprocessing import LabelEncoder\r\n",
        "from sklearn.preprocessing import OneHotEncoder,StandardScaler\r\n",
        "from sklearn.model_selection import train_test_split,cross_val_score,GridSearchCV,StratifiedKFold,cross_val_predict\r\n",
        "from sklearn.linear_model import LogisticRegression\r\n",
        "from sklearn.metrics import confusion_matrix,recall_score,precision_score\r\n",
        "from sklearn.tree import DecisionTreeClassifier\r\n",
        "from sklearn.ensemble import RandomForestClassifier,GradientBoostingClassifier\r\n",
        "from sklearn.pipeline import Pipeline\r\n",
        "import pickle"
      ],
      "execution_count": 55,
      "outputs": []
    },
    {
      "cell_type": "code",
      "metadata": {
        "id": "NR8e9kg-LKBx"
      },
      "source": [
        "df=pd.read_csv('/content/drive/MyDrive/data_pred.csv')"
      ],
      "execution_count": 3,
      "outputs": []
    },
    {
      "cell_type": "code",
      "metadata": {
        "id": "PsiR2vK_LKKW"
      },
      "source": [
        "x=df.drop(columns='redemp')"
      ],
      "execution_count": 4,
      "outputs": []
    },
    {
      "cell_type": "code",
      "metadata": {
        "colab": {
          "base_uri": "https://localhost:8080/",
          "height": 297
        },
        "id": "_tMPqbfhTZvY",
        "outputId": "5e1b8bd2-e97a-4302-abe7-2d6676606472"
      },
      "source": [
        "sns.histplot(df['total_visits'])"
      ],
      "execution_count": 5,
      "outputs": [
        {
          "output_type": "execute_result",
          "data": {
            "text/plain": [
              "<matplotlib.axes._subplots.AxesSubplot at 0x7fad76b20e10>"
            ]
          },
          "metadata": {
            "tags": []
          },
          "execution_count": 5
        },
        {
          "output_type": "display_data",
          "data": {
            "image/png": "[encoded data removed]",
            "text/plain": [
              "<Figure size 432x288 with 1 Axes>"
            ]
          },
          "metadata": {
            "tags": [],
            "needs_background": "light"
          }
        }
      ]
    },
    {
      "cell_type": "code",
      "metadata": {
        "colab": {
          "base_uri": "https://localhost:8080/",
          "height": 297
        },
        "id": "EGAi2DDqMYQB",
        "outputId": "8621a011-058a-4481-f9c1-8ea312a54ced"
      },
      "source": [
        "sns.histplot(df['sales_value'])"
      ],
      "execution_count": 6,
      "outputs": [
        {
          "output_type": "execute_result",
          "data": {
            "text/plain": [
              "<matplotlib.axes._subplots.AxesSubplot at 0x7fad76a6f710>"
            ]
          },
          "metadata": {
            "tags": []
          },
          "execution_count": 6
        },
        {
          "output_type": "display_data",
          "data": {
            "image/png": "[encoded data removed]",
            "text/plain": [
              "<Figure size 432x288 with 1 Axes>"
            ]
          },
          "metadata": {
            "tags": [],
            "needs_background": "light"
          }
        }
      ]
    },
    {
      "cell_type": "code",
      "metadata": {
        "id": "XcmcC4vWUUGB"
      },
      "source": [
        "x=df.drop(columns='redemp')\r\n",
        "y=df['redemp']"
      ],
      "execution_count": 7,
      "outputs": []
    },
    {
      "cell_type": "code",
      "metadata": {
        "colab": {
          "base_uri": "https://localhost:8080/"
        },
        "id": "zNAB99vDWfl5",
        "outputId": "f0e7607b-6a42-425e-c673-838952a1166c"
      },
      "source": [
        "x.shape"
      ],
      "execution_count": 8,
      "outputs": [
        {
          "output_type": "execute_result",
          "data": {
            "text/plain": [
              "(801, 19)"
            ]
          },
          "metadata": {
            "tags": []
          },
          "execution_count": 8
        }
      ]
    },
    {
      "cell_type": "code",
      "metadata": {
        "colab": {
          "base_uri": "https://localhost:8080/"
        },
        "id": "T4M5sfD6WqC7",
        "outputId": "ce9fe981-26f2-41ce-9f4f-e73421738397"
      },
      "source": [
        "y.shape"
      ],
      "execution_count": 9,
      "outputs": [
        {
          "output_type": "execute_result",
          "data": {
            "text/plain": [
              "(801,)"
            ]
          },
          "metadata": {
            "tags": []
          },
          "execution_count": 9
        }
      ]
    },
    {
      "cell_type": "code",
      "metadata": {
        "id": "Ho13HlJxWrUZ"
      },
      "source": [
        "X_train, X_test, y_train, y_test = train_test_split(x,y,random_state=100)"
      ],
      "execution_count": 10,
      "outputs": []
    },
    {
      "cell_type": "code",
      "metadata": {
        "id": "QRNG6w54XLTo",
        "colab": {
          "base_uri": "https://localhost:8080/"
        },
        "outputId": "6c0865d6-04e6-407e-f6c9-1a0972107ac8"
      },
      "source": [
        "mod=LogisticRegression(penalty='none').fit(X_train,y_train)"
      ],
      "execution_count": 11,
      "outputs": [
        {
          "output_type": "stream",
          "text": [
            "/usr/local/lib/python3.6/dist-packages/sklearn/linear_model/_logistic.py:940: ConvergenceWarning: lbfgs failed to converge (status=1):\n",
            "STOP: TOTAL NO. of ITERATIONS REACHED LIMIT.\n",
            "\n",
            "Increase the number of iterations (max_iter) or scale the data as shown in:\n",
            "    https://scikit-learn.org/stable/modules/preprocessing.html\n",
            "Please also refer to the documentation for alternative solver options:\n",
            "    https://scikit-learn.org/stable/modules/linear_model.html#logistic-regression\n",
            "  extra_warning_msg=_LOGISTIC_SOLVER_CONVERGENCE_MSG)\n"
          ],
          "name": "stderr"
        }
      ]
    },
    {
      "cell_type": "code",
      "metadata": {
        "id": "NG2ueWnOX1-6"
      },
      "source": [
        "y_pred=mod.predict(X_test)"
      ],
      "execution_count": 12,
      "outputs": []
    },
    {
      "cell_type": "code",
      "metadata": {
        "colab": {
          "base_uri": "https://localhost:8080/"
        },
        "id": "WNDGzTIsX8fc",
        "outputId": "6eb0174f-a581-4782-b03b-2f92c462eb60"
      },
      "source": [
        "y_test"
      ],
      "execution_count": 13,
      "outputs": [
        {
          "output_type": "execute_result",
          "data": {
            "text/plain": [
              "484    1\n",
              "218    0\n",
              "589    0\n",
              "724    1\n",
              "359    0\n",
              "      ..\n",
              "774    0\n",
              "279    1\n",
              "632    0\n",
              "534    0\n",
              "104    0\n",
              "Name: redemp, Length: 201, dtype: int64"
            ]
          },
          "metadata": {
            "tags": []
          },
          "execution_count": 13
        }
      ]
    },
    {
      "cell_type": "code",
      "metadata": {
        "colab": {
          "base_uri": "https://localhost:8080/"
        },
        "id": "-mDlPdgbYBp-",
        "outputId": "90f4f04a-4d54-43a7-ecd8-22f35658e8f6"
      },
      "source": [
        "confusion_matrix(y_test,y_pred)"
      ],
      "execution_count": 14,
      "outputs": [
        {
          "output_type": "execute_result",
          "data": {
            "text/plain": [
              "array([[105,   9],\n",
              "       [ 56,  31]])"
            ]
          },
          "metadata": {
            "tags": []
          },
          "execution_count": 14
        }
      ]
    },
    {
      "cell_type": "code",
      "metadata": {
        "colab": {
          "base_uri": "https://localhost:8080/"
        },
        "id": "DctcMAQDYZfs",
        "outputId": "c018dc59-2af5-4316-9945-f8e1528b3c03"
      },
      "source": [
        "recall_score(y_test,y_pred)"
      ],
      "execution_count": 15,
      "outputs": [
        {
          "output_type": "execute_result",
          "data": {
            "text/plain": [
              "0.3563218390804598"
            ]
          },
          "metadata": {
            "tags": []
          },
          "execution_count": 15
        }
      ]
    },
    {
      "cell_type": "code",
      "metadata": {
        "id": "wf_3EgX9iNDI",
        "colab": {
          "base_uri": "https://localhost:8080/"
        },
        "outputId": "447d35bc-cf85-4fe5-80d6-afeb121625d4"
      },
      "source": [
        "#Since the numerical data looks like a skewed gaussian distribution, scaling to mean 0 and Sd 0 makes sense\r\n",
        "\r\n",
        "sd=StandardScaler()\r\n",
        "\r\n",
        "X_train[['total_visits','sales_value','age_desc','income_desc','kid_category_desc']]=sd.fit_transform(X_train[['total_visits','sales_value','age_desc','income_desc','kid_category_desc']])\r\n",
        "X_test[['total_visits','sales_value','age_desc','income_desc','kid_category_desc']]=sd.fit_transform(X_test[['total_visits','sales_value','age_desc','income_desc','kid_category_desc']])"
      ],
      "execution_count": 16,
      "outputs": [
        {
          "output_type": "stream",
          "text": [
            "/usr/local/lib/python3.6/dist-packages/ipykernel_launcher.py:5: SettingWithCopyWarning: \n",
            "A value is trying to be set on a copy of a slice from a DataFrame.\n",
            "Try using .loc[row_indexer,col_indexer] = value instead\n",
            "\n",
            "See the caveats in the documentation: https://pandas.pydata.org/pandas-docs/stable/user_guide/indexing.html#returning-a-view-versus-a-copy\n",
            "  \"\"\"\n",
            "/usr/local/lib/python3.6/dist-packages/pandas/core/indexing.py:1734: SettingWithCopyWarning: \n",
            "A value is trying to be set on a copy of a slice from a DataFrame.\n",
            "Try using .loc[row_indexer,col_indexer] = value instead\n",
            "\n",
            "See the caveats in the documentation: https://pandas.pydata.org/pandas-docs/stable/user_guide/indexing.html#returning-a-view-versus-a-copy\n",
            "  isetter(loc, value[:, i].tolist())\n",
            "/usr/local/lib/python3.6/dist-packages/ipykernel_launcher.py:6: SettingWithCopyWarning: \n",
            "A value is trying to be set on a copy of a slice from a DataFrame.\n",
            "Try using .loc[row_indexer,col_indexer] = value instead\n",
            "\n",
            "See the caveats in the documentation: https://pandas.pydata.org/pandas-docs/stable/user_guide/indexing.html#returning-a-view-versus-a-copy\n",
            "  \n",
            "/usr/local/lib/python3.6/dist-packages/pandas/core/indexing.py:1734: SettingWithCopyWarning: \n",
            "A value is trying to be set on a copy of a slice from a DataFrame.\n",
            "Try using .loc[row_indexer,col_indexer] = value instead\n",
            "\n",
            "See the caveats in the documentation: https://pandas.pydata.org/pandas-docs/stable/user_guide/indexing.html#returning-a-view-versus-a-copy\n",
            "  isetter(loc, value[:, i].tolist())\n"
          ],
          "name": "stderr"
        }
      ]
    },
    {
      "cell_type": "code",
      "metadata": {
        "id": "tktnmaw4uvP4"
      },
      "source": [
        "sd=StandardScaler()\r\n",
        "pipeline = Pipeline([('transformera', sd), ('estimator', LogisticRegression())])\r\n",
        "estimator__solver = ['newton-cg', 'lbfgs', 'liblinear']\r\n",
        "estimator__penalty = ['l2']\r\n",
        "estimator__C = [100, 10, 1.0, 0.1, 0.01]\r\n",
        "grid = dict(estimator__solver=estimator__solver,estimator__penalty=estimator__penalty,estimator__C=estimator__C)"
      ],
      "execution_count": 68,
      "outputs": []
    },
    {
      "cell_type": "code",
      "metadata": {
        "colab": {
          "base_uri": "https://localhost:8080/"
        },
        "id": "yr_-x6YvyIWe",
        "outputId": "c1ad016f-93fc-4152-ce89-0320c74a8ea7"
      },
      "source": [
        "pipeline.get_params().keys()"
      ],
      "execution_count": 18,
      "outputs": [
        {
          "output_type": "execute_result",
          "data": {
            "text/plain": [
              "dict_keys(['memory', 'steps', 'verbose', 'transformera', 'estimator', 'transformera__copy', 'transformera__with_mean', 'transformera__with_std', 'estimator__C', 'estimator__class_weight', 'estimator__dual', 'estimator__fit_intercept', 'estimator__intercept_scaling', 'estimator__l1_ratio', 'estimator__max_iter', 'estimator__multi_class', 'estimator__n_jobs', 'estimator__penalty', 'estimator__random_state', 'estimator__solver', 'estimator__tol', 'estimator__verbose', 'estimator__warm_start'])"
            ]
          },
          "metadata": {
            "tags": []
          },
          "execution_count": 18
        }
      ]
    },
    {
      "cell_type": "code",
      "metadata": {
        "id": "1gZuU6q-u4_5"
      },
      "source": [
        "grid_search=GridSearchCV(estimator=pipeline, param_grid=grid, n_jobs=-1, cv=5, scoring='precision',error_score=0)\r\n",
        "grid_result = grid_search.fit(X_train, y_train)"
      ],
      "execution_count": 69,
      "outputs": []
    },
    {
      "cell_type": "code",
      "metadata": {
        "colab": {
          "base_uri": "https://localhost:8080/"
        },
        "id": "HRvLWzi6wvX6",
        "outputId": "9235c489-b04b-44e7-d997-8b8132c799a7"
      },
      "source": [
        "print(\"Best: %f using %s\" % (grid_result.best_score_, grid_result.best_params_))"
      ],
      "execution_count": 70,
      "outputs": [
        {
          "output_type": "stream",
          "text": [
            "Best: 0.583249 using {'estimator__C': 0.01, 'estimator__penalty': 'l2', 'estimator__solver': 'liblinear'}\n"
          ],
          "name": "stdout"
        }
      ]
    },
    {
      "cell_type": "code",
      "metadata": {
        "colab": {
          "base_uri": "https://localhost:8080/"
        },
        "id": "y2t7FJx9Bbn8",
        "outputId": "40c76f9d-c538-44a3-facd-f1ac04e67eb2"
      },
      "source": [
        "mod=LogisticRegression(penalty='l2',C=0.01,solver='liblinear').fit(X_train,y_train)\r\n",
        "ypred=mod.predict(X_test)\r\n",
        "precision_score(y_test,ypred)"
      ],
      "execution_count": 71,
      "outputs": [
        {
          "output_type": "execute_result",
          "data": {
            "text/plain": [
              "0.7419354838709677"
            ]
          },
          "metadata": {
            "tags": []
          },
          "execution_count": 71
        }
      ]
    },
    {
      "cell_type": "code",
      "metadata": {
        "id": "B1ioUzOK7pBj"
      },
      "source": [
        "def naturalNumbers(n):\r\n",
        "    return [i+1 for i in range(n)]"
      ],
      "execution_count": 22,
      "outputs": []
    },
    {
      "cell_type": "code",
      "metadata": {
        "id": "XRS9gINhrnaH"
      },
      "source": [
        "mod=DecisionTreeClassifier()\r\n",
        "criterion=['gini','entropy']\r\n",
        "splitter=['best','random']\r\n",
        "max_depth=naturalNumbers(10)\r\n",
        "min_samples_leaf=naturalNumbers(5)\r\n",
        "max_features=['auto','sqrt','None','log2']\r\n",
        "grid=dict(criterion=criterion,splitter=splitter,max_depth=max_depth,min_samples_leaf=min_samples_leaf,max_features=max_features)"
      ],
      "execution_count": 63,
      "outputs": []
    },
    {
      "cell_type": "code",
      "metadata": {
        "id": "Fsg6CqCI9Tx0"
      },
      "source": [
        "#cv=StratifiedKFold(n_splits=5)\r\n",
        "grid_search=GridSearchCV(estimator=mod, param_grid=grid, n_jobs=-1, cv=5, scoring='precision',error_score=0)\r\n",
        "grid_result = grid_search.fit(X_train, y_train)"
      ],
      "execution_count": 64,
      "outputs": []
    },
    {
      "cell_type": "code",
      "metadata": {
        "colab": {
          "base_uri": "https://localhost:8080/"
        },
        "id": "h31-Wzic8sfE",
        "outputId": "f7c32c3b-eed1-489d-f48a-11860d1483dc"
      },
      "source": [
        "print(\"Best: %f using %s\" % (grid_result.best_score_, grid_result.best_params_))"
      ],
      "execution_count": 65,
      "outputs": [
        {
          "output_type": "stream",
          "text": [
            "Best: 0.682456 using {'criterion': 'gini', 'max_depth': 3, 'max_features': 'sqrt', 'min_samples_leaf': 3, 'splitter': 'random'}\n"
          ],
          "name": "stdout"
        }
      ]
    },
    {
      "cell_type": "code",
      "metadata": {
        "colab": {
          "base_uri": "https://localhost:8080/"
        },
        "id": "j9QCtKLd-WoG",
        "outputId": "74c9f476-d155-41ee-9240-322dfff131ed"
      },
      "source": [
        "mod=DecisionTreeClassifier(criterion= 'gini', max_depth= 4, max_features= 'auto', min_samples_leaf= 4, splitter= 'random')#,random_state=100)\r\n",
        "mod.fit(X_train,y_train)\r\n",
        "ypred=mod.predict(X_test)\r\n",
        "precision_score(y_test,ypred)"
      ],
      "execution_count": 66,
      "outputs": [
        {
          "output_type": "execute_result",
          "data": {
            "text/plain": [
              "0.6923076923076923"
            ]
          },
          "metadata": {
            "tags": []
          },
          "execution_count": 66
        }
      ]
    },
    {
      "cell_type": "code",
      "metadata": {
        "id": "R5JXd_gDya0p"
      },
      "source": [
        "pkl_filename = \"decisiontree.pkl\"\r\n",
        "with open(pkl_filename, 'wb') as file:\r\n",
        "    pickle.dump(mod, file)"
      ],
      "execution_count": 67,
      "outputs": []
    },
    {
      "cell_type": "code",
      "metadata": {
        "id": "RLhSqherEpuq"
      },
      "source": [
        "mod=RandomForestClassifier()\r\n",
        "n_estimators = [10,25,50,75,100,200,250]\r\n",
        "max_features = ['sqrt', 'log2']\r\n",
        "criterion=['gini','entropy']\r\n",
        "max_depth=[3,5,7,9]\r\n",
        "#min_samples_leaf=naturalNumbers(15)\r\n",
        "grid=dict(criterion=criterion,max_depth=max_depth,min_samples_leaf=min_samples_leaf,max_features=max_features,n_estimators=n_estimators)"
      ],
      "execution_count": 47,
      "outputs": []
    },
    {
      "cell_type": "code",
      "metadata": {
        "id": "XjJSQB_MEp6Y"
      },
      "source": [
        "#cv=StratifiedKFold(n_splits=4)\r\n",
        "grid_search=GridSearchCV(estimator=mod, param_grid=grid, n_jobs=-1, cv=5, scoring='precision',error_score=0)\r\n",
        "grid_result = grid_search.fit(X_train, y_train)"
      ],
      "execution_count": 48,
      "outputs": []
    },
    {
      "cell_type": "code",
      "metadata": {
        "colab": {
          "base_uri": "https://localhost:8080/"
        },
        "id": "ZAtP5P8SZHJB",
        "outputId": "16d6646f-8a81-4499-8a98-f3a07e31e09c"
      },
      "source": [
        "print(\"Best: %f using %s\" % (grid_result.best_score_, grid_result.best_params_))"
      ],
      "execution_count": 49,
      "outputs": [
        {
          "output_type": "stream",
          "text": [
            "Best: 0.631220 using {'criterion': 'entropy', 'max_depth': 3, 'max_features': 'sqrt', 'min_samples_leaf': 2, 'n_estimators': 100}\n"
          ],
          "name": "stdout"
        }
      ]
    },
    {
      "cell_type": "code",
      "metadata": {
        "id": "oGKb6ZPQhEpN"
      },
      "source": [
        "mod=RandomForestClassifier(criterion=grid_result.best_params_['criterion'],max_depth=grid_result.best_params_['max_depth'],max_features=grid_result.best_params_['max_features'],\\\r\n",
        "                           min_samples_leaf=grid_result.best_params_['min_samples_leaf'] , n_estimators=grid_result.best_params_['n_estimators']).fit(X_train,y_train)\r\n",
        "mod.fit(X_train,y_train)\r\n",
        "ypred=mod.predict(X_test)\r\n",
        "precision_score(y_test,ypred)"
      ],
      "execution_count": null,
      "outputs": []
    },
    {
      "cell_type": "code",
      "metadata": {
        "id": "HyaEki90vgO_"
      },
      "source": [
        "pkl_filename = \"randomforest.pkl\"\r\n",
        "with open(pkl_filename, 'wb') as file:\r\n",
        "    pickle.dump(mod, file)"
      ],
      "execution_count": 56,
      "outputs": []
    },
    {
      "cell_type": "code",
      "metadata": {
        "id": "JDmn-ufqr392"
      },
      "source": [
        "#Gradient Boost"
      ],
      "execution_count": null,
      "outputs": []
    },
    {
      "cell_type": "code",
      "metadata": {
        "id": "ln_zyHfHmxMT"
      },
      "source": [
        "mod=GradientBoostingClassifier()\r\n",
        "learning_rate = [0, 0.25, 0.5, 0.7, 0.9, 1.0]\r\n",
        "max_depth = [3, 7, 9,11]\r\n",
        "subsample = [0.5, 0.7, 1.0]\r\n",
        "n_estimators = [10,25,50,75,100,150]\r\n",
        "grid = dict(learning_rate=learning_rate, n_estimators=n_estimators, subsample=subsample, max_depth=max_depth)"
      ],
      "execution_count": 57,
      "outputs": []
    },
    {
      "cell_type": "code",
      "metadata": {
        "id": "YxRuqDHLZVEn"
      },
      "source": [
        "#cv=StratifiedKFold(n_splits=4)\r\n",
        "grid_search=GridSearchCV(estimator=mod, param_grid=grid, n_jobs=-1, cv=5, scoring='precision',error_score=0)\r\n",
        "grid_result = grid_search.fit(X_train, y_train)"
      ],
      "execution_count": 58,
      "outputs": []
    },
    {
      "cell_type": "code",
      "metadata": {
        "colab": {
          "base_uri": "https://localhost:8080/"
        },
        "id": "Qd3ayLs6ZVHp",
        "outputId": "eb21cb64-5cb8-45f4-f142-5bb5b70a41e1"
      },
      "source": [
        "print(\"Best: %f using %s\" % (grid_result.best_score_, grid_result.best_params_))"
      ],
      "execution_count": 59,
      "outputs": [
        {
          "output_type": "stream",
          "text": [
            "Best: 0.575783 using {'learning_rate': 0.25, 'max_depth': 3, 'n_estimators': 25, 'subsample': 0.5}\n"
          ],
          "name": "stdout"
        }
      ]
    },
    {
      "cell_type": "code",
      "metadata": {
        "colab": {
          "base_uri": "https://localhost:8080/"
        },
        "id": "u0iJDKQoblpd",
        "outputId": "6ef68e6a-1183-4b4c-f35f-488fa5bf97a2"
      },
      "source": [
        "mod=GradientBoostingClassifier(learning_rate=grid_result.best_params_['learning_rate'],max_depth=grid_result.best_params_['max_depth'],\\\r\n",
        "                               n_estimators=grid_result.best_params_['n_estimators'],subsample=grid_result.best_params_['subsample']).fit(X_train,y_train)\r\n",
        "mod.fit(X_train,y_train)\r\n",
        "ypred=mod.predict(X_test)\r\n",
        "precision_score(y_test,ypred)"
      ],
      "execution_count": 60,
      "outputs": [
        {
          "output_type": "execute_result",
          "data": {
            "text/plain": [
              "0.6164383561643836"
            ]
          },
          "metadata": {
            "tags": []
          },
          "execution_count": 60
        }
      ]
    },
    {
      "cell_type": "code",
      "metadata": {
        "id": "tcoDuHVVyKnN"
      },
      "source": [
        "pkl_filename = \"gradientboost.pkl\"\r\n",
        "with open(pkl_filename, 'wb') as file:\r\n",
        "    pickle.dump(mod, file)"
      ],
      "execution_count": 61,
      "outputs": []
    }
  ]
}