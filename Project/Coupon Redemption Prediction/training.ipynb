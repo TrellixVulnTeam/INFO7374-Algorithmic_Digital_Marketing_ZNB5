{
  "nbformat": 4,
  "nbformat_minor": 0,
  "metadata": {
    "colab": {
      "name": "training.ipynb",
      "provenance": []
    },
    "kernelspec": {
      "name": "python3",
      "display_name": "Python 3"
    }
  },
  "cells": [
    {
      "cell_type": "code",
      "metadata": {
        "colab": {
          "base_uri": "https://localhost:8080/"
        },
        "id": "pCleIOiNKtWR",
        "outputId": "2aee861f-e3aa-4baa-bcf0-94e36bf4b2f2"
      },
      "source": [
        "from google.colab import drive\r\n",
        "drive.mount(\"/content/drive\")"
      ],
      "execution_count": 2,
      "outputs": [
        {
          "output_type": "stream",
          "text": [
            "Mounted at /content/drive\n"
          ],
          "name": "stdout"
        }
      ]
    },
    {
      "cell_type": "code",
      "metadata": {
        "id": "kv3RvsudLH-t"
      },
      "source": [
        "import pandas as pd\r\n",
        "import numpy as np\r\n",
        "import seaborn as sns\r\n",
        "import matplotlib.pyplot as plt\r\n",
        "%matplotlib inline\r\n",
        "from sklearn.preprocessing import LabelEncoder\r\n",
        "from sklearn.preprocessing import OneHotEncoder,StandardScaler\r\n",
        "from sklearn.model_selection import train_test_split,cross_val_score,GridSearchCV,StratifiedKFold,cross_val_predict\r\n",
        "from sklearn.linear_model import LogisticRegression\r\n",
        "from sklearn.metrics import confusion_matrix,recall_score,precision_score\r\n",
        "from sklearn.tree import DecisionTreeClassifier\r\n",
        "from sklearn.ensemble import RandomForestClassifier,GradientBoostingClassifier\r\n",
        "from sklearn.pipeline import Pipeline"
      ],
      "execution_count": 433,
      "outputs": []
    },
    {
      "cell_type": "code",
      "metadata": {
        "id": "NR8e9kg-LKBx"
      },
      "source": [
        "df=pd.read_csv('/content/drive/MyDrive/data_pred.csv')"
      ],
      "execution_count": 338,
      "outputs": []
    },
    {
      "cell_type": "code",
      "metadata": {
        "id": "PsiR2vK_LKKW"
      },
      "source": [
        "x=df.drop(columns='redemp')"
      ],
      "execution_count": 5,
      "outputs": []
    },
    {
      "cell_type": "code",
      "metadata": {
        "colab": {
          "base_uri": "https://localhost:8080/",
          "height": 297
        },
        "id": "_tMPqbfhTZvY",
        "outputId": "e99f3217-f958-4281-c06d-f088c5364c90"
      },
      "source": [
        "sns.histplot(df['total_visits'])"
      ],
      "execution_count": 6,
      "outputs": [
        {
          "output_type": "execute_result",
          "data": {
            "text/plain": [
              "<matplotlib.axes._subplots.AxesSubplot at 0x7fae8adcd5f8>"
            ]
          },
          "metadata": {
            "tags": []
          },
          "execution_count": 6
        },
        {
          "output_type": "display_data",
          "data": {
            "image/png": "[encoded data removed]",
            "text/plain": [
              "<Figure size 432x288 with 1 Axes>"
            ]
          },
          "metadata": {
            "tags": [],
            "needs_background": "light"
          }
        }
      ]
    },
    {
      "cell_type": "code",
      "metadata": {
        "colab": {
          "base_uri": "https://localhost:8080/",
          "height": 297
        },
        "id": "EGAi2DDqMYQB",
        "outputId": "528c2f72-7ae8-4822-c930-4f0f3d0e8e66"
      },
      "source": [
        "sns.histplot(df['sales_value'])"
      ],
      "execution_count": 7,
      "outputs": [
        {
          "output_type": "execute_result",
          "data": {
            "text/plain": [
              "<matplotlib.axes._subplots.AxesSubplot at 0x7fae89573518>"
            ]
          },
          "metadata": {
            "tags": []
          },
          "execution_count": 7
        },
        {
          "output_type": "display_data",
          "data": {
            "image/png": "[encoded data removed]",
            "text/plain": [
              "<Figure size 432x288 with 1 Axes>"
            ]
          },
          "metadata": {
            "tags": [],
            "needs_background": "light"
          }
        }
      ]
    },
    {
      "cell_type": "code",
      "metadata": {
        "id": "XcmcC4vWUUGB"
      },
      "source": [
        "x=df.drop(columns='redemp')\r\n",
        "y=df['redemp']"
      ],
      "execution_count": 12,
      "outputs": []
    },
    {
      "cell_type": "code",
      "metadata": {
        "colab": {
          "base_uri": "https://localhost:8080/"
        },
        "id": "zNAB99vDWfl5",
        "outputId": "40113fba-8da7-4800-f36e-ba56f4806d60"
      },
      "source": [
        "x.shape"
      ],
      "execution_count": 16,
      "outputs": [
        {
          "output_type": "execute_result",
          "data": {
            "text/plain": [
              "(801, 19)"
            ]
          },
          "metadata": {
            "tags": []
          },
          "execution_count": 16
        }
      ]
    },
    {
      "cell_type": "code",
      "metadata": {
        "colab": {
          "base_uri": "https://localhost:8080/"
        },
        "id": "T4M5sfD6WqC7",
        "outputId": "d7252bf0-6a64-4409-bf3c-2c92d6e0ce83"
      },
      "source": [
        "y.shape"
      ],
      "execution_count": 17,
      "outputs": [
        {
          "output_type": "execute_result",
          "data": {
            "text/plain": [
              "(801,)"
            ]
          },
          "metadata": {
            "tags": []
          },
          "execution_count": 17
        }
      ]
    },
    {
      "cell_type": "code",
      "metadata": {
        "id": "Ho13HlJxWrUZ"
      },
      "source": [
        "X_train, X_test, y_train, y_test = train_test_split(x,y,random_state=100)"
      ],
      "execution_count": 351,
      "outputs": []
    },
    {
      "cell_type": "code",
      "metadata": {
        "id": "QRNG6w54XLTo"
      },
      "source": [
        "mod=LogisticRegression(penalty='none').fit(X_train,y_train)"
      ],
      "execution_count": null,
      "outputs": []
    },
    {
      "cell_type": "code",
      "metadata": {
        "id": "NG2ueWnOX1-6"
      },
      "source": [
        "y_pred=mod.predict(X_test)"
      ],
      "execution_count": 34,
      "outputs": []
    },
    {
      "cell_type": "code",
      "metadata": {
        "colab": {
          "base_uri": "https://localhost:8080/"
        },
        "id": "WNDGzTIsX8fc",
        "outputId": "e3b2a7a3-ba2a-45f0-a876-948d18791cf8"
      },
      "source": [
        "y_test"
      ],
      "execution_count": 25,
      "outputs": [
        {
          "output_type": "execute_result",
          "data": {
            "text/plain": [
              "484    1\n",
              "218    0\n",
              "589    0\n",
              "724    1\n",
              "359    0\n",
              "      ..\n",
              "774    0\n",
              "279    1\n",
              "632    0\n",
              "534    0\n",
              "104    0\n",
              "Name: redemp, Length: 201, dtype: int64"
            ]
          },
          "metadata": {
            "tags": []
          },
          "execution_count": 25
        }
      ]
    },
    {
      "cell_type": "code",
      "metadata": {
        "colab": {
          "base_uri": "https://localhost:8080/"
        },
        "id": "-mDlPdgbYBp-",
        "outputId": "4455888c-b9e5-4e5e-967c-5b71f5990871"
      },
      "source": [
        "confusion_matrix(y_test,y_pred)"
      ],
      "execution_count": 35,
      "outputs": [
        {
          "output_type": "execute_result",
          "data": {
            "text/plain": [
              "array([[105,   9],\n",
              "       [ 56,  31]])"
            ]
          },
          "metadata": {
            "tags": []
          },
          "execution_count": 35
        }
      ]
    },
    {
      "cell_type": "code",
      "metadata": {
        "colab": {
          "base_uri": "https://localhost:8080/"
        },
        "id": "DctcMAQDYZfs",
        "outputId": "4011e946-1346-4505-9cd5-edd16babda5b"
      },
      "source": [
        "recall_score(y_test,y_pred)"
      ],
      "execution_count": 36,
      "outputs": [
        {
          "output_type": "execute_result",
          "data": {
            "text/plain": [
              "0.3563218390804598"
            ]
          },
          "metadata": {
            "tags": []
          },
          "execution_count": 36
        }
      ]
    },
    {
      "cell_type": "code",
      "metadata": {
        "id": "wf_3EgX9iNDI"
      },
      "source": [
        "#Since the numerical data looks like a skewed gaussian distribution, scaling to mean 0 and Sd 0 makes sense\r\n",
        "\r\n",
        "sd=StandardScaler()\r\n",
        "\r\n",
        "X_train[['total_visits','sales_value','age_desc','income_desc','kid_category_desc']]=sd.fit_transform(X_train[['total_visits','sales_value','age_desc','income_desc','kid_category_desc']])\r\n",
        "X_test[['total_visits','sales_value','age_desc','income_desc','kid_category_desc']]=sd.fit_transform(X_test[['total_visits','sales_value','age_desc','income_desc','kid_category_desc']])"
      ],
      "execution_count": null,
      "outputs": []
    },
    {
      "cell_type": "code",
      "metadata": {
        "id": "tktnmaw4uvP4"
      },
      "source": [
        "sd=StandardScaler()\r\n",
        "pipeline = Pipeline([('transformera', sd), ('estimator', LogisticRegression())])\r\n",
        "estimator__solver = ['newton-cg', 'lbfgs', 'liblinear']\r\n",
        "estimator__penalty = ['l2']\r\n",
        "estimator__C = [100, 10, 1.0, 0.1, 0.01]\r\n",
        "grid = dict(estimator__solver=estimator__solver,estimator__penalty=estimator__penalty,estimator__C=estimator__C)"
      ],
      "execution_count": 430,
      "outputs": []
    },
    {
      "cell_type": "code",
      "metadata": {
        "colab": {
          "base_uri": "https://localhost:8080/"
        },
        "id": "yr_-x6YvyIWe",
        "outputId": "60797190-38a4-431c-8354-591f70703045"
      },
      "source": [
        "pipeline.get_params().keys()"
      ],
      "execution_count": 215,
      "outputs": [
        {
          "output_type": "execute_result",
          "data": {
            "text/plain": [
              "dict_keys(['memory', 'steps', 'verbose', 'transformera', 'estimator', 'transformera__copy', 'transformera__with_mean', 'transformera__with_std', 'estimator__C', 'estimator__class_weight', 'estimator__dual', 'estimator__fit_intercept', 'estimator__intercept_scaling', 'estimator__l1_ratio', 'estimator__max_iter', 'estimator__multi_class', 'estimator__n_jobs', 'estimator__penalty', 'estimator__random_state', 'estimator__solver', 'estimator__tol', 'estimator__verbose', 'estimator__warm_start'])"
            ]
          },
          "metadata": {
            "tags": []
          },
          "execution_count": 215
        }
      ]
    },
    {
      "cell_type": "code",
      "metadata": {
        "id": "1gZuU6q-u4_5"
      },
      "source": [
        "grid_search=GridSearchCV(estimator=pipeline, param_grid=grid, n_jobs=-1, cv=5, scoring='precision',error_score=0)\r\n",
        "grid_result = grid_search.fit(X_train, y_train)"
      ],
      "execution_count": 431,
      "outputs": []
    },
    {
      "cell_type": "code",
      "metadata": {
        "colab": {
          "base_uri": "https://localhost:8080/"
        },
        "id": "HRvLWzi6wvX6",
        "outputId": "63f6cb47-362c-4291-a12c-c816f0e1784c"
      },
      "source": [
        "print(\"Best: %f using %s\" % (grid_result.best_score_, grid_result.best_params_))"
      ],
      "execution_count": 432,
      "outputs": [
        {
          "output_type": "stream",
          "text": [
            "Best: 0.583249 using {'estimator__C': 0.01, 'estimator__penalty': 'l2', 'estimator__solver': 'liblinear'}\n"
          ],
          "name": "stdout"
        }
      ]
    },
    {
      "cell_type": "code",
      "metadata": {
        "colab": {
          "base_uri": "https://localhost:8080/"
        },
        "id": "y2t7FJx9Bbn8",
        "outputId": "d30a6339-56dd-48f0-b570-c963c70a2965"
      },
      "source": [
        "mod=LogisticRegression(penalty='l2',C=0.01,solver='liblinear').fit(X_train,y_train)\r\n",
        "ypred=mod.predict(X_test)\r\n",
        "precision_score(y_test,ypred)"
      ],
      "execution_count": 439,
      "outputs": [
        {
          "output_type": "execute_result",
          "data": {
            "text/plain": [
              "0.6744186046511628"
            ]
          },
          "metadata": {
            "tags": []
          },
          "execution_count": 439
        }
      ]
    },
    {
      "cell_type": "code",
      "metadata": {
        "id": "B1ioUzOK7pBj"
      },
      "source": [
        "def naturalNumbers(n):\r\n",
        "    return [i+1 for i in range(n)]"
      ],
      "execution_count": 247,
      "outputs": []
    },
    {
      "cell_type": "code",
      "metadata": {
        "id": "XRS9gINhrnaH"
      },
      "source": [
        "mod=DecisionTreeClassifier()\r\n",
        "criterion=['gini','entropy']\r\n",
        "splitter=['best','random']\r\n",
        "max_depth=naturalNumbers(10)\r\n",
        "min_samples_leaf=naturalNumbers(5)\r\n",
        "max_features=['auto','sqrt','None','log2']\r\n",
        "grid=dict(criterion=criterion,splitter=splitter,max_depth=max_depth,min_samples_leaf=min_samples_leaf,max_features=max_features)"
      ],
      "execution_count": 440,
      "outputs": []
    },
    {
      "cell_type": "code",
      "metadata": {
        "id": "Fsg6CqCI9Tx0"
      },
      "source": [
        "#cv=StratifiedKFold(n_splits=5)\r\n",
        "grid_search=GridSearchCV(estimator=mod, param_grid=grid, n_jobs=-1, cv=5, scoring='precision',error_score=0)\r\n",
        "grid_result = grid_search.fit(X_train, y_train)"
      ],
      "execution_count": 448,
      "outputs": []
    },
    {
      "cell_type": "code",
      "metadata": {
        "colab": {
          "base_uri": "https://localhost:8080/"
        },
        "id": "h31-Wzic8sfE",
        "outputId": "95bcdfdd-f31b-445b-80fb-5ce15d93e980"
      },
      "source": [
        "print(\"Best: %f using %s\" % (grid_result.best_score_, grid_result.best_params_))"
      ],
      "execution_count": 442,
      "outputs": [
        {
          "output_type": "stream",
          "text": [
            "Best: 0.666667 using {'criterion': 'gini', 'max_depth': 2, 'max_features': 'auto', 'min_samples_leaf': 1, 'splitter': 'random'}\n"
          ],
          "name": "stdout"
        }
      ]
    },
    {
      "cell_type": "code",
      "metadata": {
        "colab": {
          "base_uri": "https://localhost:8080/"
        },
        "id": "j9QCtKLd-WoG",
        "outputId": "e6c06c09-28f3-465b-d37e-b4352ca8ba67"
      },
      "source": [
        "mod=DecisionTreeClassifier(criterion= 'gini', max_depth= 2, max_features= 'auto', min_samples_leaf= 1, splitter= 'random')#,random_state=100)\r\n",
        "mod.fit(X_train,y_train)\r\n",
        "ypred=mod.predict(X_test)\r\n",
        "precision_score(y_test,ypred)"
      ],
      "execution_count": 450,
      "outputs": [
        {
          "output_type": "execute_result",
          "data": {
            "text/plain": [
              "0.6"
            ]
          },
          "metadata": {
            "tags": []
          },
          "execution_count": 450
        }
      ]
    },
    {
      "cell_type": "code",
      "metadata": {
        "id": "RLhSqherEpuq"
      },
      "source": [
        "mod=RandomForestClassifier()\r\n",
        "n_estimators = [10,25,50,75,100,150,200,250]\r\n",
        "max_features = ['sqrt', 'log2']\r\n",
        "criterion=['gini','entropy']\r\n",
        "max_depth=[3,5,7,9]\r\n",
        "#min_samples_leaf=naturalNumbers(15)\r\n",
        "grid=dict(criterion=criterion,max_depth=max_depth,min_samples_leaf=min_samples_leaf,max_features=max_features,n_estimators=n_estimators)"
      ],
      "execution_count": 451,
      "outputs": []
    },
    {
      "cell_type": "code",
      "metadata": {
        "id": "XjJSQB_MEp6Y"
      },
      "source": [
        "#cv=StratifiedKFold(n_splits=4)\r\n",
        "grid_search=GridSearchCV(estimator=mod, param_grid=grid, n_jobs=-1, cv=5, scoring='accuracy',error_score=0)\r\n",
        "grid_result = grid_search.fit(X_train, y_train)"
      ],
      "execution_count": null,
      "outputs": []
    },
    {
      "cell_type": "code",
      "metadata": {
        "colab": {
          "base_uri": "https://localhost:8080/"
        },
        "id": "ZAtP5P8SZHJB",
        "outputId": "88c964de-88ac-45a7-ee60-1ce1ef3fb5f0"
      },
      "source": [
        "print(\"Best: %f using %s\" % (grid_result.best_score_, grid_result.best_params_))"
      ],
      "execution_count": 399,
      "outputs": [
        {
          "output_type": "stream",
          "text": [
            "Best: 0.695000 using {'criterion': 'entropy', 'max_depth': 7, 'max_features': 'log2', 'min_samples_leaf': 3, 'n_estimators': 20}\n"
          ],
          "name": "stdout"
        }
      ]
    },
    {
      "cell_type": "code",
      "metadata": {
        "colab": {
          "base_uri": "https://localhost:8080/"
        },
        "id": "oGKb6ZPQhEpN",
        "outputId": "b9fd3f1e-4da7-4a4a-9465-2f171d0e1f74"
      },
      "source": [
        "mod=RandomForestClassifier(criterion='entropy',max_depth=7,max_features='log2',min_samples_leaf= 3, n_estimators=20).fit(X_train,y_train)\r\n",
        "cross_val_score(mod,x,y,cv=cv,scoring='recall').mean()\r\n"
      ],
      "execution_count": 410,
      "outputs": [
        {
          "output_type": "execute_result",
          "data": {
            "text/plain": [
              "0.4855561105561106"
            ]
          },
          "metadata": {
            "tags": []
          },
          "execution_count": 410
        }
      ]
    },
    {
      "cell_type": "code",
      "metadata": {
        "id": "JDmn-ufqr392"
      },
      "source": [
        "#Gradient Boost"
      ],
      "execution_count": 410,
      "outputs": []
    },
    {
      "cell_type": "code",
      "metadata": {
        "id": "ln_zyHfHmxMT"
      },
      "source": [
        "mod=GradientBoostingClassifier()\r\n",
        "learning_rate = [0, 0.25, 0.5, 0.7, 0.9, 1.0]\r\n",
        "max_depth = [3, 7, 9,11]\r\n",
        "subsample = [0.5, 0.7, 1.0]\r\n",
        "n_estimators = [10,25,50,75,100]\r\n",
        "grid = dict(learning_rate=learning_rate, n_estimators=n_estimators, subsample=subsample, max_depth=max_depth)"
      ],
      "execution_count": 411,
      "outputs": []
    },
    {
      "cell_type": "code",
      "metadata": {
        "id": "YxRuqDHLZVEn"
      },
      "source": [
        "cv=StratifiedKFold(n_splits=4)\r\n",
        "grid_search=GridSearchCV(estimator=mod, param_grid=grid, n_jobs=-1, cv=cv, scoring='recall',error_score=0)\r\n",
        "grid_result = grid_search.fit(X_train, y_train)"
      ],
      "execution_count": 412,
      "outputs": []
    },
    {
      "cell_type": "code",
      "metadata": {
        "colab": {
          "base_uri": "https://localhost:8080/"
        },
        "id": "Qd3ayLs6ZVHp",
        "outputId": "40fce437-ae83-42d4-b85d-686e0cf4a70b"
      },
      "source": [
        "print(\"Best: %f using %s\" % (grid_result.best_score_, grid_result.best_params_))"
      ],
      "execution_count": 413,
      "outputs": [
        {
          "output_type": "stream",
          "text": [
            "Best: 0.647321 using {'learning_rate': 1.0, 'max_depth': 3, 'n_estimators': 100, 'subsample': 0.5}\n"
          ],
          "name": "stdout"
        }
      ]
    },
    {
      "cell_type": "code",
      "metadata": {
        "id": "u0iJDKQoblpd"
      },
      "source": [
        "mod=GradientBoostingClassifier(learning_rate=1,max_depth=3,n_estimators=100,subsample=.5).fit(X_train,y_train)"
      ],
      "execution_count": 426,
      "outputs": []
    },
    {
      "cell_type": "code",
      "metadata": {
        "colab": {
          "base_uri": "https://localhost:8080/"
        },
        "id": "fxtdiADLZVKb",
        "outputId": "4e8fe82f-2f10-4d48-f113-2350737538b6"
      },
      "source": [
        "cross_val_score(mod, X_test, y_test, cv = 4,scoring='recall')"
      ],
      "execution_count": 427,
      "outputs": [
        {
          "output_type": "execute_result",
          "data": {
            "text/plain": [
              "array([0.36363636, 0.36363636, 0.63636364, 0.47619048])"
            ]
          },
          "metadata": {
            "tags": []
          },
          "execution_count": 427
        }
      ]
    },
    {
      "cell_type": "code",
      "metadata": {
        "colab": {
          "base_uri": "https://localhost:8080/"
        },
        "id": "O633MTc8qiB7",
        "outputId": "0b597e2d-1cf3-42a5-8082-0bd24bc68feb"
      },
      "source": [
        "y_pred=mod.predict(X_test)\r\n",
        "recall_score(y_test,y_pred)"
      ],
      "execution_count": 429,
      "outputs": [
        {
          "output_type": "execute_result",
          "data": {
            "text/plain": [
              "0.3218390804597701"
            ]
          },
          "metadata": {
            "tags": []
          },
          "execution_count": 429
        }
      ]
    },
    {
      "cell_type": "code",
      "metadata": {
        "colab": {
          "base_uri": "https://localhost:8080/"
        },
        "id": "RLGJiN8CnV82",
        "outputId": "317a8410-07aa-4757-bf69-2e56067f3a1c"
      },
      "source": [
        "sd.mean_"
      ],
      "execution_count": 185,
      "outputs": [
        {
          "output_type": "execute_result",
          "data": {
            "text/plain": [
              "array([1000.,   34.,    2.])"
            ]
          },
          "metadata": {
            "tags": []
          },
          "execution_count": 185
        }
      ]
    },
    {
      "cell_type": "markdown",
      "metadata": {
        "id": "mdbVdNHfjJqi"
      },
      "source": [
        ""
      ]
    },
    {
      "cell_type": "code",
      "metadata": {
        "colab": {
          "base_uri": "https://localhost:8080/"
        },
        "id": "7KaqUDBriZoo",
        "outputId": "0ea43326-4952-4c0b-fd9b-e37c5511a6d6"
      },
      "source": [
        "mod=LogisticRegression(C=100,penalty='l2',solver='newton-cg').fit(X_train,y_train)\r\n",
        "y_pred=mod.predict(X_test)\r\n",
        "confusion_matrix(y_test,y_pred)"
      ],
      "execution_count": 238,
      "outputs": [
        {
          "output_type": "execute_result",
          "data": {
            "text/plain": [
              "array([[105,   9],\n",
              "       [ 55,  32]])"
            ]
          },
          "metadata": {
            "tags": []
          },
          "execution_count": 238
        }
      ]
    },
    {
      "cell_type": "code",
      "metadata": {
        "colab": {
          "base_uri": "https://localhost:8080/"
        },
        "id": "8ue2rG5-jWK6",
        "outputId": "5814a7a4-63f8-4b61-d6d6-58b907bfae04"
      },
      "source": [
        "recall_score(y_test,y_pred)"
      ],
      "execution_count": 239,
      "outputs": [
        {
          "output_type": "execute_result",
          "data": {
            "text/plain": [
              "0.367816091954023"
            ]
          },
          "metadata": {
            "tags": []
          },
          "execution_count": 239
        }
      ]
    },
    {
      "cell_type": "code",
      "metadata": {
        "colab": {
          "base_uri": "https://localhost:8080/",
          "height": 417
        },
        "id": "Zsqi9aBvko-a",
        "outputId": "8448dd83-e962-49c7-dc21-544ef548d686"
      },
      "source": [
        "X_train"
      ],
      "execution_count": 391,
      "outputs": [
        {
          "output_type": "execute_result",
          "data": {
            "text/html": [
              "<div>\n",
              "<style scoped>\n",
              "    .dataframe tbody tr th:only-of-type {\n",
              "        vertical-align: middle;\n",
              "    }\n",
              "\n",
              "    .dataframe tbody tr th {\n",
              "        vertical-align: top;\n",
              "    }\n",
              "\n",
              "    .dataframe thead th {\n",
              "        text-align: right;\n",
              "    }\n",
              "</style>\n",
              "<table border=\"1\" class=\"dataframe\">\n",
              "  <thead>\n",
              "    <tr style=\"text-align: right;\">\n",
              "      <th></th>\n",
              "      <th>age_desc</th>\n",
              "      <th>income_desc</th>\n",
              "      <th>kid_category_desc</th>\n",
              "      <th>sales_value</th>\n",
              "      <th>total_visits</th>\n",
              "      <th>mar_A</th>\n",
              "      <th>mar_B</th>\n",
              "      <th>mar_U</th>\n",
              "      <th>homeown</th>\n",
              "      <th>probown</th>\n",
              "      <th>probren</th>\n",
              "      <th>homren</th>\n",
              "      <th>homown</th>\n",
              "      <th>1ak</th>\n",
              "      <th>2ak</th>\n",
              "      <th>2a</th>\n",
              "      <th>1f</th>\n",
              "      <th>1m</th>\n",
              "      <th>unknown_hh</th>\n",
              "    </tr>\n",
              "  </thead>\n",
              "  <tbody>\n",
              "    <tr>\n",
              "      <th>254</th>\n",
              "      <td>1</td>\n",
              "      <td>7</td>\n",
              "      <td>3</td>\n",
              "      <td>9036.01</td>\n",
              "      <td>178</td>\n",
              "      <td>1</td>\n",
              "      <td>0</td>\n",
              "      <td>0</td>\n",
              "      <td>1</td>\n",
              "      <td>0</td>\n",
              "      <td>0</td>\n",
              "      <td>0</td>\n",
              "      <td>0</td>\n",
              "      <td>1</td>\n",
              "      <td>0</td>\n",
              "      <td>0</td>\n",
              "      <td>0</td>\n",
              "      <td>0</td>\n",
              "      <td>0</td>\n",
              "    </tr>\n",
              "    <tr>\n",
              "      <th>198</th>\n",
              "      <td>2</td>\n",
              "      <td>3</td>\n",
              "      <td>0</td>\n",
              "      <td>646.40</td>\n",
              "      <td>57</td>\n",
              "      <td>0</td>\n",
              "      <td>0</td>\n",
              "      <td>1</td>\n",
              "      <td>0</td>\n",
              "      <td>0</td>\n",
              "      <td>0</td>\n",
              "      <td>0</td>\n",
              "      <td>1</td>\n",
              "      <td>0</td>\n",
              "      <td>0</td>\n",
              "      <td>0</td>\n",
              "      <td>0</td>\n",
              "      <td>1</td>\n",
              "      <td>0</td>\n",
              "    </tr>\n",
              "    <tr>\n",
              "      <th>645</th>\n",
              "      <td>2</td>\n",
              "      <td>5</td>\n",
              "      <td>0</td>\n",
              "      <td>2628.10</td>\n",
              "      <td>90</td>\n",
              "      <td>0</td>\n",
              "      <td>1</td>\n",
              "      <td>0</td>\n",
              "      <td>1</td>\n",
              "      <td>0</td>\n",
              "      <td>0</td>\n",
              "      <td>0</td>\n",
              "      <td>0</td>\n",
              "      <td>0</td>\n",
              "      <td>0</td>\n",
              "      <td>0</td>\n",
              "      <td>1</td>\n",
              "      <td>0</td>\n",
              "      <td>0</td>\n",
              "    </tr>\n",
              "    <tr>\n",
              "      <th>3</th>\n",
              "      <td>1</td>\n",
              "      <td>5</td>\n",
              "      <td>2</td>\n",
              "      <td>13190.92</td>\n",
              "      <td>275</td>\n",
              "      <td>0</td>\n",
              "      <td>0</td>\n",
              "      <td>1</td>\n",
              "      <td>1</td>\n",
              "      <td>0</td>\n",
              "      <td>0</td>\n",
              "      <td>0</td>\n",
              "      <td>0</td>\n",
              "      <td>0</td>\n",
              "      <td>1</td>\n",
              "      <td>0</td>\n",
              "      <td>0</td>\n",
              "      <td>0</td>\n",
              "      <td>0</td>\n",
              "    </tr>\n",
              "    <tr>\n",
              "      <th>660</th>\n",
              "      <td>5</td>\n",
              "      <td>7</td>\n",
              "      <td>0</td>\n",
              "      <td>2937.95</td>\n",
              "      <td>132</td>\n",
              "      <td>1</td>\n",
              "      <td>0</td>\n",
              "      <td>0</td>\n",
              "      <td>1</td>\n",
              "      <td>0</td>\n",
              "      <td>0</td>\n",
              "      <td>0</td>\n",
              "      <td>0</td>\n",
              "      <td>0</td>\n",
              "      <td>0</td>\n",
              "      <td>1</td>\n",
              "      <td>0</td>\n",
              "      <td>0</td>\n",
              "      <td>0</td>\n",
              "    </tr>\n",
              "    <tr>\n",
              "      <th>...</th>\n",
              "      <td>...</td>\n",
              "      <td>...</td>\n",
              "      <td>...</td>\n",
              "      <td>...</td>\n",
              "      <td>...</td>\n",
              "      <td>...</td>\n",
              "      <td>...</td>\n",
              "      <td>...</td>\n",
              "      <td>...</td>\n",
              "      <td>...</td>\n",
              "      <td>...</td>\n",
              "      <td>...</td>\n",
              "      <td>...</td>\n",
              "      <td>...</td>\n",
              "      <td>...</td>\n",
              "      <td>...</td>\n",
              "      <td>...</td>\n",
              "      <td>...</td>\n",
              "      <td>...</td>\n",
              "    </tr>\n",
              "    <tr>\n",
              "      <th>53</th>\n",
              "      <td>3</td>\n",
              "      <td>3</td>\n",
              "      <td>0</td>\n",
              "      <td>11920.93</td>\n",
              "      <td>215</td>\n",
              "      <td>0</td>\n",
              "      <td>0</td>\n",
              "      <td>1</td>\n",
              "      <td>1</td>\n",
              "      <td>0</td>\n",
              "      <td>0</td>\n",
              "      <td>0</td>\n",
              "      <td>0</td>\n",
              "      <td>0</td>\n",
              "      <td>0</td>\n",
              "      <td>1</td>\n",
              "      <td>0</td>\n",
              "      <td>0</td>\n",
              "      <td>0</td>\n",
              "    </tr>\n",
              "    <tr>\n",
              "      <th>350</th>\n",
              "      <td>1</td>\n",
              "      <td>6</td>\n",
              "      <td>0</td>\n",
              "      <td>5664.74</td>\n",
              "      <td>229</td>\n",
              "      <td>0</td>\n",
              "      <td>1</td>\n",
              "      <td>0</td>\n",
              "      <td>0</td>\n",
              "      <td>0</td>\n",
              "      <td>0</td>\n",
              "      <td>0</td>\n",
              "      <td>1</td>\n",
              "      <td>0</td>\n",
              "      <td>0</td>\n",
              "      <td>0</td>\n",
              "      <td>0</td>\n",
              "      <td>1</td>\n",
              "      <td>0</td>\n",
              "    </tr>\n",
              "    <tr>\n",
              "      <th>79</th>\n",
              "      <td>2</td>\n",
              "      <td>3</td>\n",
              "      <td>0</td>\n",
              "      <td>5897.90</td>\n",
              "      <td>130</td>\n",
              "      <td>1</td>\n",
              "      <td>0</td>\n",
              "      <td>0</td>\n",
              "      <td>0</td>\n",
              "      <td>0</td>\n",
              "      <td>0</td>\n",
              "      <td>0</td>\n",
              "      <td>1</td>\n",
              "      <td>0</td>\n",
              "      <td>0</td>\n",
              "      <td>1</td>\n",
              "      <td>0</td>\n",
              "      <td>0</td>\n",
              "      <td>0</td>\n",
              "    </tr>\n",
              "    <tr>\n",
              "      <th>792</th>\n",
              "      <td>3</td>\n",
              "      <td>5</td>\n",
              "      <td>0</td>\n",
              "      <td>1770.91</td>\n",
              "      <td>83</td>\n",
              "      <td>0</td>\n",
              "      <td>1</td>\n",
              "      <td>0</td>\n",
              "      <td>1</td>\n",
              "      <td>0</td>\n",
              "      <td>0</td>\n",
              "      <td>0</td>\n",
              "      <td>0</td>\n",
              "      <td>0</td>\n",
              "      <td>0</td>\n",
              "      <td>0</td>\n",
              "      <td>0</td>\n",
              "      <td>1</td>\n",
              "      <td>0</td>\n",
              "    </tr>\n",
              "    <tr>\n",
              "      <th>520</th>\n",
              "      <td>0</td>\n",
              "      <td>0</td>\n",
              "      <td>3</td>\n",
              "      <td>10427.21</td>\n",
              "      <td>353</td>\n",
              "      <td>0</td>\n",
              "      <td>1</td>\n",
              "      <td>0</td>\n",
              "      <td>0</td>\n",
              "      <td>0</td>\n",
              "      <td>0</td>\n",
              "      <td>1</td>\n",
              "      <td>0</td>\n",
              "      <td>1</td>\n",
              "      <td>0</td>\n",
              "      <td>0</td>\n",
              "      <td>0</td>\n",
              "      <td>0</td>\n",
              "      <td>0</td>\n",
              "    </tr>\n",
              "  </tbody>\n",
              "</table>\n",
              "<p>600 rows × 19 columns</p>\n",
              "</div>"
            ],
            "text/plain": [
              "     age_desc  income_desc  kid_category_desc  ...  1f  1m  unknown_hh\n",
              "254         1            7                  3  ...   0   0           0\n",
              "198         2            3                  0  ...   0   1           0\n",
              "645         2            5                  0  ...   1   0           0\n",
              "3           1            5                  2  ...   0   0           0\n",
              "660         5            7                  0  ...   0   0           0\n",
              "..        ...          ...                ...  ...  ..  ..         ...\n",
              "53          3            3                  0  ...   0   0           0\n",
              "350         1            6                  0  ...   0   1           0\n",
              "79          2            3                  0  ...   0   0           0\n",
              "792         3            5                  0  ...   0   1           0\n",
              "520         0            0                  3  ...   0   0           0\n",
              "\n",
              "[600 rows x 19 columns]"
            ]
          },
          "metadata": {
            "tags": []
          },
          "execution_count": 391
        }
      ]
    },
    {
      "cell_type": "code",
      "metadata": {
        "id": "PeMWW3pXY8Sb"
      },
      "source": [
        "mod_t=DecisionTreeClassifier(max_depth=6,random_state=100).fit(X_train,y_train)"
      ],
      "execution_count": 81,
      "outputs": []
    },
    {
      "cell_type": "code",
      "metadata": {
        "colab": {
          "base_uri": "https://localhost:8080/"
        },
        "id": "yhhim_jncEuX",
        "outputId": "6558f21e-f5b6-4dbd-9150-f51c1c664f27"
      },
      "source": [
        "y_pred=mod_t.predict(X_test)\r\n",
        "confusion_matrix(y_test,y_pred)"
      ],
      "execution_count": 82,
      "outputs": [
        {
          "output_type": "execute_result",
          "data": {
            "text/plain": [
              "array([[73, 41],\n",
              "       [33, 54]])"
            ]
          },
          "metadata": {
            "tags": []
          },
          "execution_count": 82
        }
      ]
    },
    {
      "cell_type": "code",
      "metadata": {
        "colab": {
          "base_uri": "https://localhost:8080/"
        },
        "id": "u3CdNI2YcKYQ",
        "outputId": "f69663ea-7158-4ba6-baab-0adcc907e25a"
      },
      "source": [
        "recall_score(y_test,y_pred)"
      ],
      "execution_count": 83,
      "outputs": [
        {
          "output_type": "execute_result",
          "data": {
            "text/plain": [
              "0.6206896551724138"
            ]
          },
          "metadata": {
            "tags": []
          },
          "execution_count": 83
        }
      ]
    },
    {
      "cell_type": "code",
      "metadata": {
        "id": "IDptGWGrdesN"
      },
      "source": [
        "mod_t=RandomForestClassifier(max_depth=11,n_estimators=75,random_state=100).fit(X_train,y_train)"
      ],
      "execution_count": 122,
      "outputs": []
    },
    {
      "cell_type": "code",
      "metadata": {
        "colab": {
          "base_uri": "https://localhost:8080/"
        },
        "id": "pwLkP7UEe7Ej",
        "outputId": "7f86ede4-f01d-433d-c4a6-5fc9fff4fb73"
      },
      "source": [
        "y_pred=mod_t.predict(X_test)\r\n",
        "confusion_matrix(y_test,y_pred)"
      ],
      "execution_count": 123,
      "outputs": [
        {
          "output_type": "execute_result",
          "data": {
            "text/plain": [
              "array([[89, 25],\n",
              "       [41, 46]])"
            ]
          },
          "metadata": {
            "tags": []
          },
          "execution_count": 123
        }
      ]
    },
    {
      "cell_type": "code",
      "metadata": {
        "colab": {
          "base_uri": "https://localhost:8080/"
        },
        "id": "-mLulsINe-RC",
        "outputId": "c9b6eaa3-88d0-4f9f-e4cd-39dcc0d335b0"
      },
      "source": [
        "recall_score(y_test,y_pred)"
      ],
      "execution_count": 124,
      "outputs": [
        {
          "output_type": "execute_result",
          "data": {
            "text/plain": [
              "0.5287356321839081"
            ]
          },
          "metadata": {
            "tags": []
          },
          "execution_count": 124
        }
      ]
    },
    {
      "cell_type": "code",
      "metadata": {
        "colab": {
          "base_uri": "https://localhost:8080/"
        },
        "id": "b_IbwtIngDQA",
        "outputId": "58d8fd1a-d432-4403-ee08-bd94619ba453"
      },
      "source": [
        "cross_val_score(DecisionTreeClassifier(max_depth=4,random_state=100),X=x,y=y,scoring='recall').mean()"
      ],
      "execution_count": 165,
      "outputs": [
        {
          "output_type": "execute_result",
          "data": {
            "text/plain": [
              "0.6334869431643624"
            ]
          },
          "metadata": {
            "tags": []
          },
          "execution_count": 165
        }
      ]
    },
    {
      "cell_type": "code",
      "metadata": {
        "colab": {
          "base_uri": "https://localhost:8080/"
        },
        "id": "22lHAh6zg6t5",
        "outputId": "20d5a747-a97b-4142-adbf-1d546852079d"
      },
      "source": [
        "cross_val_score(RandomForestClassifier(max_depth=4,n_estimators=50,random_state=100),X=x,y=y,scoring='recall').mean()"
      ],
      "execution_count": 164,
      "outputs": [
        {
          "output_type": "execute_result",
          "data": {
            "text/plain": [
              "0.43435739887352787"
            ]
          },
          "metadata": {
            "tags": []
          },
          "execution_count": 164
        }
      ]
    }
  ]
}