{
  "nbformat": 4,
  "nbformat_minor": 0,
  "metadata": {
    "colab": {
      "name": "training.ipynb",
      "provenance": []
    },
    "kernelspec": {
      "name": "python3",
      "display_name": "Python 3"
    }
  },
  "cells": [
    {
      "cell_type": "code",
      "metadata": {
        "colab": {
          "base_uri": "https://localhost:8080/"
        },
        "id": "pCleIOiNKtWR",
        "outputId": "74034abc-6640-478e-9c39-e4d88e3ad12b"
      },
      "source": [
        "from google.colab import drive\r\n",
        "drive.mount(\"/content/drive\")"
      ],
      "execution_count": 1,
      "outputs": [
        {
          "output_type": "stream",
          "text": [
            "Mounted at /content/drive\n"
          ],
          "name": "stdout"
        }
      ]
    },
    {
      "cell_type": "code",
      "metadata": {
        "id": "kv3RvsudLH-t"
      },
      "source": [
        "import pandas as pd\r\n",
        "import numpy as np\r\n",
        "import seaborn as sns\r\n",
        "import matplotlib.pyplot as plt\r\n",
        "%matplotlib inline\r\n",
        "from sklearn.preprocessing import LabelEncoder\r\n",
        "from sklearn.preprocessing import OneHotEncoder,StandardScaler\r\n",
        "from sklearn.model_selection import train_test_split,cross_val_score,GridSearchCV,StratifiedKFold,cross_val_predict\r\n",
        "from sklearn.linear_model import LogisticRegression\r\n",
        "from sklearn.metrics import confusion_matrix,recall_score,precision_score,accuracy_score\r\n",
        "from sklearn.tree import DecisionTreeClassifier\r\n",
        "from sklearn.ensemble import RandomForestClassifier,GradientBoostingClassifier\r\n",
        "from sklearn.pipeline import Pipeline\r\n",
        "import pickle"
      ],
      "execution_count": 65,
      "outputs": []
    },
    {
      "cell_type": "code",
      "metadata": {
        "id": "NR8e9kg-LKBx"
      },
      "source": [
        "df=pd.read_csv('/content/drive/MyDrive/data_pred.csv')"
      ],
      "execution_count": 3,
      "outputs": []
    },
    {
      "cell_type": "code",
      "metadata": {
        "id": "PsiR2vK_LKKW"
      },
      "source": [
        "x=df.drop(columns='redemp')"
      ],
      "execution_count": 4,
      "outputs": []
    },
    {
      "cell_type": "code",
      "metadata": {
        "colab": {
          "base_uri": "https://localhost:8080/",
          "height": 297
        },
        "id": "_tMPqbfhTZvY",
        "outputId": "5e1b8bd2-e97a-4302-abe7-2d6676606472"
      },
      "source": [
        "sns.histplot(df['total_visits'])"
      ],
      "execution_count": null,
      "outputs": [
        {
          "output_type": "execute_result",
          "data": {
            "text/plain": [
              "<matplotlib.axes._subplots.AxesSubplot at 0x7fad76b20e10>"
            ]
          },
          "metadata": {
            "tags": []
          },
          "execution_count": 5
        },
        {
          "output_type": "display_data",
          "data": {
            "image/png": "[encoded data removed]",
            "text/plain": [
              "<Figure size 432x288 with 1 Axes>"
            ]
          },
          "metadata": {
            "tags": [],
            "needs_background": "light"
          }
        }
      ]
    },
    {
      "cell_type": "code",
      "metadata": {
        "colab": {
          "base_uri": "https://localhost:8080/",
          "height": 297
        },
        "id": "EGAi2DDqMYQB",
        "outputId": "8621a011-058a-4481-f9c1-8ea312a54ced"
      },
      "source": [
        "sns.histplot(df['sales_value'])"
      ],
      "execution_count": null,
      "outputs": [
        {
          "output_type": "execute_result",
          "data": {
            "text/plain": [
              "<matplotlib.axes._subplots.AxesSubplot at 0x7fad76a6f710>"
            ]
          },
          "metadata": {
            "tags": []
          },
          "execution_count": 6
        },
        {
          "output_type": "display_data",
          "data": {
            "image/png": "[encoded data removed]",
            "text/plain": [
              "<Figure size 432x288 with 1 Axes>"
            ]
          },
          "metadata": {
            "tags": [],
            "needs_background": "light"
          }
        }
      ]
    },
    {
      "cell_type": "code",
      "metadata": {
        "id": "XcmcC4vWUUGB"
      },
      "source": [
        "x=df.drop(columns='redemp')\r\n",
        "y=df['redemp']"
      ],
      "execution_count": 5,
      "outputs": []
    },
    {
      "cell_type": "code",
      "metadata": {
        "colab": {
          "base_uri": "https://localhost:8080/"
        },
        "id": "zNAB99vDWfl5",
        "outputId": "c7e8a671-b858-4752-8e95-1cd3d7069e94"
      },
      "source": [
        "x.shape"
      ],
      "execution_count": 6,
      "outputs": [
        {
          "output_type": "execute_result",
          "data": {
            "text/plain": [
              "(801, 19)"
            ]
          },
          "metadata": {
            "tags": []
          },
          "execution_count": 6
        }
      ]
    },
    {
      "cell_type": "code",
      "metadata": {
        "colab": {
          "base_uri": "https://localhost:8080/"
        },
        "id": "T4M5sfD6WqC7",
        "outputId": "53ba8585-3c42-4e3c-eb8e-25fa85562d46"
      },
      "source": [
        "y.shape"
      ],
      "execution_count": 7,
      "outputs": [
        {
          "output_type": "execute_result",
          "data": {
            "text/plain": [
              "(801,)"
            ]
          },
          "metadata": {
            "tags": []
          },
          "execution_count": 7
        }
      ]
    },
    {
      "cell_type": "code",
      "metadata": {
        "id": "Ho13HlJxWrUZ"
      },
      "source": [
        "X_train, X_test, y_train, y_test = train_test_split(x,y,random_state=100)"
      ],
      "execution_count": 37,
      "outputs": []
    },
    {
      "cell_type": "code",
      "metadata": {
        "colab": {
          "base_uri": "https://localhost:8080/",
          "height": 417
        },
        "id": "-NnsUP0w0xR6",
        "outputId": "69aa6ca0-ec74-4747-ad8f-e1a895ccb0ab"
      },
      "source": [
        "X_train"
      ],
      "execution_count": 40,
      "outputs": [
        {
          "output_type": "execute_result",
          "data": {
            "text/html": [
              "<div>\n",
              "<style scoped>\n",
              "    .dataframe tbody tr th:only-of-type {\n",
              "        vertical-align: middle;\n",
              "    }\n",
              "\n",
              "    .dataframe tbody tr th {\n",
              "        vertical-align: top;\n",
              "    }\n",
              "\n",
              "    .dataframe thead th {\n",
              "        text-align: right;\n",
              "    }\n",
              "</style>\n",
              "<table border=\"1\" class=\"dataframe\">\n",
              "  <thead>\n",
              "    <tr style=\"text-align: right;\">\n",
              "      <th></th>\n",
              "      <th>age_desc</th>\n",
              "      <th>income_desc</th>\n",
              "      <th>kid_category_desc</th>\n",
              "      <th>sales_value</th>\n",
              "      <th>total_visits</th>\n",
              "      <th>mar_A</th>\n",
              "      <th>mar_B</th>\n",
              "      <th>mar_U</th>\n",
              "      <th>homeown</th>\n",
              "      <th>probown</th>\n",
              "      <th>probren</th>\n",
              "      <th>homren</th>\n",
              "      <th>homown</th>\n",
              "      <th>1ak</th>\n",
              "      <th>2ak</th>\n",
              "      <th>2a</th>\n",
              "      <th>1f</th>\n",
              "      <th>1m</th>\n",
              "      <th>unknown_hh</th>\n",
              "    </tr>\n",
              "  </thead>\n",
              "  <tbody>\n",
              "    <tr>\n",
              "      <th>254</th>\n",
              "      <td>1</td>\n",
              "      <td>7</td>\n",
              "      <td>3</td>\n",
              "      <td>9036.01</td>\n",
              "      <td>178</td>\n",
              "      <td>1</td>\n",
              "      <td>0</td>\n",
              "      <td>0</td>\n",
              "      <td>1</td>\n",
              "      <td>0</td>\n",
              "      <td>0</td>\n",
              "      <td>0</td>\n",
              "      <td>0</td>\n",
              "      <td>1</td>\n",
              "      <td>0</td>\n",
              "      <td>0</td>\n",
              "      <td>0</td>\n",
              "      <td>0</td>\n",
              "      <td>0</td>\n",
              "    </tr>\n",
              "    <tr>\n",
              "      <th>198</th>\n",
              "      <td>2</td>\n",
              "      <td>3</td>\n",
              "      <td>0</td>\n",
              "      <td>646.40</td>\n",
              "      <td>57</td>\n",
              "      <td>0</td>\n",
              "      <td>0</td>\n",
              "      <td>1</td>\n",
              "      <td>0</td>\n",
              "      <td>0</td>\n",
              "      <td>0</td>\n",
              "      <td>0</td>\n",
              "      <td>1</td>\n",
              "      <td>0</td>\n",
              "      <td>0</td>\n",
              "      <td>0</td>\n",
              "      <td>0</td>\n",
              "      <td>1</td>\n",
              "      <td>0</td>\n",
              "    </tr>\n",
              "    <tr>\n",
              "      <th>645</th>\n",
              "      <td>2</td>\n",
              "      <td>5</td>\n",
              "      <td>0</td>\n",
              "      <td>2628.10</td>\n",
              "      <td>90</td>\n",
              "      <td>0</td>\n",
              "      <td>1</td>\n",
              "      <td>0</td>\n",
              "      <td>1</td>\n",
              "      <td>0</td>\n",
              "      <td>0</td>\n",
              "      <td>0</td>\n",
              "      <td>0</td>\n",
              "      <td>0</td>\n",
              "      <td>0</td>\n",
              "      <td>0</td>\n",
              "      <td>1</td>\n",
              "      <td>0</td>\n",
              "      <td>0</td>\n",
              "    </tr>\n",
              "    <tr>\n",
              "      <th>3</th>\n",
              "      <td>1</td>\n",
              "      <td>5</td>\n",
              "      <td>2</td>\n",
              "      <td>13190.92</td>\n",
              "      <td>275</td>\n",
              "      <td>0</td>\n",
              "      <td>0</td>\n",
              "      <td>1</td>\n",
              "      <td>1</td>\n",
              "      <td>0</td>\n",
              "      <td>0</td>\n",
              "      <td>0</td>\n",
              "      <td>0</td>\n",
              "      <td>0</td>\n",
              "      <td>1</td>\n",
              "      <td>0</td>\n",
              "      <td>0</td>\n",
              "      <td>0</td>\n",
              "      <td>0</td>\n",
              "    </tr>\n",
              "    <tr>\n",
              "      <th>660</th>\n",
              "      <td>5</td>\n",
              "      <td>7</td>\n",
              "      <td>0</td>\n",
              "      <td>2937.95</td>\n",
              "      <td>132</td>\n",
              "      <td>1</td>\n",
              "      <td>0</td>\n",
              "      <td>0</td>\n",
              "      <td>1</td>\n",
              "      <td>0</td>\n",
              "      <td>0</td>\n",
              "      <td>0</td>\n",
              "      <td>0</td>\n",
              "      <td>0</td>\n",
              "      <td>0</td>\n",
              "      <td>1</td>\n",
              "      <td>0</td>\n",
              "      <td>0</td>\n",
              "      <td>0</td>\n",
              "    </tr>\n",
              "    <tr>\n",
              "      <th>...</th>\n",
              "      <td>...</td>\n",
              "      <td>...</td>\n",
              "      <td>...</td>\n",
              "      <td>...</td>\n",
              "      <td>...</td>\n",
              "      <td>...</td>\n",
              "      <td>...</td>\n",
              "      <td>...</td>\n",
              "      <td>...</td>\n",
              "      <td>...</td>\n",
              "      <td>...</td>\n",
              "      <td>...</td>\n",
              "      <td>...</td>\n",
              "      <td>...</td>\n",
              "      <td>...</td>\n",
              "      <td>...</td>\n",
              "      <td>...</td>\n",
              "      <td>...</td>\n",
              "      <td>...</td>\n",
              "    </tr>\n",
              "    <tr>\n",
              "      <th>53</th>\n",
              "      <td>3</td>\n",
              "      <td>3</td>\n",
              "      <td>0</td>\n",
              "      <td>11920.93</td>\n",
              "      <td>215</td>\n",
              "      <td>0</td>\n",
              "      <td>0</td>\n",
              "      <td>1</td>\n",
              "      <td>1</td>\n",
              "      <td>0</td>\n",
              "      <td>0</td>\n",
              "      <td>0</td>\n",
              "      <td>0</td>\n",
              "      <td>0</td>\n",
              "      <td>0</td>\n",
              "      <td>1</td>\n",
              "      <td>0</td>\n",
              "      <td>0</td>\n",
              "      <td>0</td>\n",
              "    </tr>\n",
              "    <tr>\n",
              "      <th>350</th>\n",
              "      <td>1</td>\n",
              "      <td>6</td>\n",
              "      <td>0</td>\n",
              "      <td>5664.74</td>\n",
              "      <td>229</td>\n",
              "      <td>0</td>\n",
              "      <td>1</td>\n",
              "      <td>0</td>\n",
              "      <td>0</td>\n",
              "      <td>0</td>\n",
              "      <td>0</td>\n",
              "      <td>0</td>\n",
              "      <td>1</td>\n",
              "      <td>0</td>\n",
              "      <td>0</td>\n",
              "      <td>0</td>\n",
              "      <td>0</td>\n",
              "      <td>1</td>\n",
              "      <td>0</td>\n",
              "    </tr>\n",
              "    <tr>\n",
              "      <th>79</th>\n",
              "      <td>2</td>\n",
              "      <td>3</td>\n",
              "      <td>0</td>\n",
              "      <td>5897.90</td>\n",
              "      <td>130</td>\n",
              "      <td>1</td>\n",
              "      <td>0</td>\n",
              "      <td>0</td>\n",
              "      <td>0</td>\n",
              "      <td>0</td>\n",
              "      <td>0</td>\n",
              "      <td>0</td>\n",
              "      <td>1</td>\n",
              "      <td>0</td>\n",
              "      <td>0</td>\n",
              "      <td>1</td>\n",
              "      <td>0</td>\n",
              "      <td>0</td>\n",
              "      <td>0</td>\n",
              "    </tr>\n",
              "    <tr>\n",
              "      <th>792</th>\n",
              "      <td>3</td>\n",
              "      <td>5</td>\n",
              "      <td>0</td>\n",
              "      <td>1770.91</td>\n",
              "      <td>83</td>\n",
              "      <td>0</td>\n",
              "      <td>1</td>\n",
              "      <td>0</td>\n",
              "      <td>1</td>\n",
              "      <td>0</td>\n",
              "      <td>0</td>\n",
              "      <td>0</td>\n",
              "      <td>0</td>\n",
              "      <td>0</td>\n",
              "      <td>0</td>\n",
              "      <td>0</td>\n",
              "      <td>0</td>\n",
              "      <td>1</td>\n",
              "      <td>0</td>\n",
              "    </tr>\n",
              "    <tr>\n",
              "      <th>520</th>\n",
              "      <td>0</td>\n",
              "      <td>0</td>\n",
              "      <td>3</td>\n",
              "      <td>10427.21</td>\n",
              "      <td>353</td>\n",
              "      <td>0</td>\n",
              "      <td>1</td>\n",
              "      <td>0</td>\n",
              "      <td>0</td>\n",
              "      <td>0</td>\n",
              "      <td>0</td>\n",
              "      <td>1</td>\n",
              "      <td>0</td>\n",
              "      <td>1</td>\n",
              "      <td>0</td>\n",
              "      <td>0</td>\n",
              "      <td>0</td>\n",
              "      <td>0</td>\n",
              "      <td>0</td>\n",
              "    </tr>\n",
              "  </tbody>\n",
              "</table>\n",
              "<p>600 rows × 19 columns</p>\n",
              "</div>"
            ],
            "text/plain": [
              "     age_desc  income_desc  kid_category_desc  ...  1f  1m  unknown_hh\n",
              "254         1            7                  3  ...   0   0           0\n",
              "198         2            3                  0  ...   0   1           0\n",
              "645         2            5                  0  ...   1   0           0\n",
              "3           1            5                  2  ...   0   0           0\n",
              "660         5            7                  0  ...   0   0           0\n",
              "..        ...          ...                ...  ...  ..  ..         ...\n",
              "53          3            3                  0  ...   0   0           0\n",
              "350         1            6                  0  ...   0   1           0\n",
              "79          2            3                  0  ...   0   0           0\n",
              "792         3            5                  0  ...   0   1           0\n",
              "520         0            0                  3  ...   0   0           0\n",
              "\n",
              "[600 rows x 19 columns]"
            ]
          },
          "metadata": {
            "tags": []
          },
          "execution_count": 40
        }
      ]
    },
    {
      "cell_type": "code",
      "metadata": {
        "colab": {
          "base_uri": "https://localhost:8080/"
        },
        "id": "UPjr7e0C0n5K",
        "outputId": "33260db6-e7bf-4025-d3f6-431c37fd58c2"
      },
      "source": [
        "X_train.mean()[:5]"
      ],
      "execution_count": 44,
      "outputs": [
        {
          "output_type": "execute_result",
          "data": {
            "text/plain": [
              "age_desc                2.463333\n",
              "income_desc             3.668333\n",
              "kid_category_desc       0.535000\n",
              "sales_value          5671.358833\n",
              "total_visits          179.571667\n",
              "dtype: float64"
            ]
          },
          "metadata": {
            "tags": []
          },
          "execution_count": 44
        }
      ]
    },
    {
      "cell_type": "code",
      "metadata": {
        "colab": {
          "base_uri": "https://localhost:8080/"
        },
        "id": "rTAFDGud1qVs",
        "outputId": "f8927e60-03ba-4ffd-9baa-291ec8034f99"
      },
      "source": [
        "X_train.std(axis=0)[:5]"
      ],
      "execution_count": 51,
      "outputs": [
        {
          "output_type": "execute_result",
          "data": {
            "text/plain": [
              "age_desc                1.254836\n",
              "income_desc             2.225590\n",
              "kid_category_desc       0.948828\n",
              "sales_value          3777.630081\n",
              "total_visits          132.853911\n",
              "dtype: float64"
            ]
          },
          "metadata": {
            "tags": []
          },
          "execution_count": 51
        }
      ]
    },
    {
      "cell_type": "code",
      "metadata": {
        "id": "yLFrMglB1KEB"
      },
      "source": [
        "pd.DataFrame(X_train.mean()[:5]).to_csv('means.csv')\r\n",
        "pd.DataFrame(X_train.std(axis=0)[:5]).to_csv('stds.csv')"
      ],
      "execution_count": 52,
      "outputs": []
    },
    {
      "cell_type": "code",
      "metadata": {
        "id": "wf_3EgX9iNDI",
        "colab": {
          "base_uri": "https://localhost:8080/"
        },
        "outputId": "4143e011-66e7-44b0-8313-c0da92cf2e53"
      },
      "source": [
        "#Since the numerical data looks like a skewed gaussian distribution, scaling to mean 0 and Sd 0 makes sense\r\n",
        "\r\n",
        "sd=StandardScaler()\r\n",
        "\r\n",
        "X_train[['total_visits','sales_value','age_desc','income_desc','kid_category_desc']]=sd.fit_transform(X_train[['total_visits','sales_value','age_desc','income_desc','kid_category_desc']])\r\n",
        "X_test[['total_visits','sales_value','age_desc','income_desc','kid_category_desc']]=sd.fit_transform(X_test[['total_visits','sales_value','age_desc','income_desc','kid_category_desc']])"
      ],
      "execution_count": 85,
      "outputs": [
        {
          "output_type": "stream",
          "text": [
            "/usr/local/lib/python3.6/dist-packages/ipykernel_launcher.py:5: SettingWithCopyWarning: \n",
            "A value is trying to be set on a copy of a slice from a DataFrame.\n",
            "Try using .loc[row_indexer,col_indexer] = value instead\n",
            "\n",
            "See the caveats in the documentation: https://pandas.pydata.org/pandas-docs/stable/user_guide/indexing.html#returning-a-view-versus-a-copy\n",
            "  \"\"\"\n",
            "/usr/local/lib/python3.6/dist-packages/pandas/core/indexing.py:1734: SettingWithCopyWarning: \n",
            "A value is trying to be set on a copy of a slice from a DataFrame.\n",
            "Try using .loc[row_indexer,col_indexer] = value instead\n",
            "\n",
            "See the caveats in the documentation: https://pandas.pydata.org/pandas-docs/stable/user_guide/indexing.html#returning-a-view-versus-a-copy\n",
            "  isetter(loc, value[:, i].tolist())\n",
            "/usr/local/lib/python3.6/dist-packages/ipykernel_launcher.py:6: SettingWithCopyWarning: \n",
            "A value is trying to be set on a copy of a slice from a DataFrame.\n",
            "Try using .loc[row_indexer,col_indexer] = value instead\n",
            "\n",
            "See the caveats in the documentation: https://pandas.pydata.org/pandas-docs/stable/user_guide/indexing.html#returning-a-view-versus-a-copy\n",
            "  \n",
            "/usr/local/lib/python3.6/dist-packages/pandas/core/indexing.py:1734: SettingWithCopyWarning: \n",
            "A value is trying to be set on a copy of a slice from a DataFrame.\n",
            "Try using .loc[row_indexer,col_indexer] = value instead\n",
            "\n",
            "See the caveats in the documentation: https://pandas.pydata.org/pandas-docs/stable/user_guide/indexing.html#returning-a-view-versus-a-copy\n",
            "  isetter(loc, value[:, i].tolist())\n"
          ],
          "name": "stderr"
        }
      ]
    },
    {
      "cell_type": "code",
      "metadata": {
        "id": "tktnmaw4uvP4"
      },
      "source": [
        "#sd=StandardScaler()\r\n",
        "#pipeline = Pipeline([('transformera', sd), ('estimator', LogisticRegression())])\r\n",
        "estimator__solver = ['newton-cg', 'lbfgs', 'liblinear']\r\n",
        "estimator__penalty = ['l2']\r\n",
        "estimator__C = [100, 10, 1.0, 0.1, 0.01]\r\n",
        "grid = dict(solver=estimator__solver,penalty=estimator__penalty,C=estimator__C)"
      ],
      "execution_count": 86,
      "outputs": []
    },
    {
      "cell_type": "code",
      "metadata": {
        "id": "1gZuU6q-u4_5"
      },
      "source": [
        "grid_search=GridSearchCV(estimator=LogisticRegression(), param_grid=grid, n_jobs=-1, cv=5, scoring='precision',error_score=0)\r\n",
        "grid_result = grid_search.fit(X_train, y_train)"
      ],
      "execution_count": 87,
      "outputs": []
    },
    {
      "cell_type": "code",
      "metadata": {
        "colab": {
          "base_uri": "https://localhost:8080/"
        },
        "id": "HRvLWzi6wvX6",
        "outputId": "0e915f96-5440-4b53-bda7-34a5e140cd3e"
      },
      "source": [
        "print(\"Best: %f using %s\" % (grid_result.best_score_, grid_result.best_params_))"
      ],
      "execution_count": 88,
      "outputs": [
        {
          "output_type": "stream",
          "text": [
            "Best: 0.593856 using {'C': 0.01, 'penalty': 'l2', 'solver': 'newton-cg'}\n"
          ],
          "name": "stdout"
        }
      ]
    },
    {
      "cell_type": "code",
      "metadata": {
        "colab": {
          "base_uri": "https://localhost:8080/"
        },
        "id": "y2t7FJx9Bbn8",
        "outputId": "99ac31c4-a586-4664-df72-b143cabaf701"
      },
      "source": [
        "mod=LogisticRegression(penalty='l2',C=0.01,solver='newton-cg').fit(X_train,y_train)\r\n",
        "ypred=mod.predict(X_test)\r\n",
        "precision_score(y_test,ypred)"
      ],
      "execution_count": 89,
      "outputs": [
        {
          "output_type": "execute_result",
          "data": {
            "text/plain": [
              "0.7916666666666666"
            ]
          },
          "metadata": {
            "tags": []
          },
          "execution_count": 89
        }
      ]
    },
    {
      "cell_type": "code",
      "metadata": {
        "id": "n4tmCxRW6DYu"
      },
      "source": [
        "pkl_filename = \"logisticregression.pkl\"\r\n",
        "with open(pkl_filename, 'wb') as file:\r\n",
        "    pickle.dump(mod, file)"
      ],
      "execution_count": 90,
      "outputs": []
    },
    {
      "cell_type": "code",
      "metadata": {
        "id": "Be7qsYyB4gC_"
      },
      "source": [
        "p_log=precision_score(y_test,ypred)"
      ],
      "execution_count": 66,
      "outputs": []
    },
    {
      "cell_type": "code",
      "metadata": {
        "colab": {
          "base_uri": "https://localhost:8080/"
        },
        "id": "KxcRkOCM2yD5",
        "outputId": "733b64b4-39f8-4bd7-8406-345bbe9bc9b7"
      },
      "source": [
        "accuracy_score(y_test,ypred)"
      ],
      "execution_count": 67,
      "outputs": [
        {
          "output_type": "execute_result",
          "data": {
            "text/plain": [
              "0.6368159203980099"
            ]
          },
          "metadata": {
            "tags": []
          },
          "execution_count": 67
        }
      ]
    },
    {
      "cell_type": "code",
      "metadata": {
        "id": "sKuKHUGS4ny0"
      },
      "source": [
        "a_log=accuracy_score(y_test,ypred)"
      ],
      "execution_count": 68,
      "outputs": []
    },
    {
      "cell_type": "code",
      "metadata": {
        "id": "LqgsxRO15eCI"
      },
      "source": [
        "X_train, X_test, y_train, y_test = train_test_split(x,y,random_state=100)"
      ],
      "execution_count": 91,
      "outputs": []
    },
    {
      "cell_type": "code",
      "metadata": {
        "id": "B1ioUzOK7pBj"
      },
      "source": [
        "def naturalNumbers(n):\r\n",
        "    return [i+1 for i in range(n)]"
      ],
      "execution_count": 92,
      "outputs": []
    },
    {
      "cell_type": "code",
      "metadata": {
        "id": "XRS9gINhrnaH"
      },
      "source": [
        "mod=DecisionTreeClassifier()\r\n",
        "criterion=['gini','entropy']\r\n",
        "splitter=['best','random']\r\n",
        "max_depth=naturalNumbers(10)\r\n",
        "min_samples_leaf=naturalNumbers(5)\r\n",
        "max_features=['auto','sqrt','None','log2']\r\n",
        "grid=dict(criterion=criterion,splitter=splitter,max_depth=max_depth,min_samples_leaf=min_samples_leaf,max_features=max_features)"
      ],
      "execution_count": 93,
      "outputs": []
    },
    {
      "cell_type": "code",
      "metadata": {
        "id": "Fsg6CqCI9Tx0"
      },
      "source": [
        "#cv=StratifiedKFold(n_splits=5)\r\n",
        "grid_search=GridSearchCV(estimator=mod, param_grid=grid, n_jobs=-1, cv=5, scoring='precision',error_score=0)\r\n",
        "grid_result = grid_search.fit(X_train, y_train)"
      ],
      "execution_count": 94,
      "outputs": []
    },
    {
      "cell_type": "code",
      "metadata": {
        "colab": {
          "base_uri": "https://localhost:8080/"
        },
        "id": "h31-Wzic8sfE",
        "outputId": "b70bc678-0c5b-418c-8e7d-6aa177ee36d9"
      },
      "source": [
        "print(\"Best: %f using %s\" % (grid_result.best_score_, grid_result.best_params_))"
      ],
      "execution_count": 95,
      "outputs": [
        {
          "output_type": "stream",
          "text": [
            "Best: 0.658333 using {'criterion': 'entropy', 'max_depth': 4, 'max_features': 'log2', 'min_samples_leaf': 2, 'splitter': 'random'}\n"
          ],
          "name": "stdout"
        }
      ]
    },
    {
      "cell_type": "code",
      "metadata": {
        "colab": {
          "base_uri": "https://localhost:8080/"
        },
        "id": "j9QCtKLd-WoG",
        "outputId": "f645a820-80e1-4458-9024-64111af8e689"
      },
      "source": [
        "mod=DecisionTreeClassifier(criterion= 'gini', max_depth= 3, max_features= 'auto', min_samples_leaf= 3, splitter= 'random',random_state=100)\r\n",
        "mod.fit(X_train,y_train)\r\n",
        "ypred=mod.predict(X_test)\r\n",
        "precision_score(y_test,ypred)"
      ],
      "execution_count": 96,
      "outputs": [
        {
          "output_type": "execute_result",
          "data": {
            "text/plain": [
              "0.6666666666666666"
            ]
          },
          "metadata": {
            "tags": []
          },
          "execution_count": 96
        }
      ]
    },
    {
      "cell_type": "code",
      "metadata": {
        "colab": {
          "base_uri": "https://localhost:8080/"
        },
        "id": "E2HQ9JKR5Mkp",
        "outputId": "14754e74-5dbc-47e4-8e02-f117e04478d2"
      },
      "source": [
        "accuracy_score(y_test,ypred)"
      ],
      "execution_count": 97,
      "outputs": [
        {
          "output_type": "execute_result",
          "data": {
            "text/plain": [
              "0.572139303482587"
            ]
          },
          "metadata": {
            "tags": []
          },
          "execution_count": 97
        }
      ]
    },
    {
      "cell_type": "code",
      "metadata": {
        "id": "CqklgbGO5HrP"
      },
      "source": [
        "p_tree=precision_score(y_test,ypred)\r\n",
        "a_tree=accuracy_score(y_test,ypred)"
      ],
      "execution_count": 98,
      "outputs": []
    },
    {
      "cell_type": "code",
      "metadata": {
        "id": "R5JXd_gDya0p"
      },
      "source": [
        "pkl_filename = \"decisiontree.pkl\"\r\n",
        "with open(pkl_filename, 'wb') as file:\r\n",
        "    pickle.dump(mod, file)"
      ],
      "execution_count": 99,
      "outputs": []
    },
    {
      "cell_type": "code",
      "metadata": {
        "id": "RLhSqherEpuq"
      },
      "source": [
        "mod=RandomForestClassifier()\r\n",
        "n_estimators = [10,25,50,75,100,200,250]\r\n",
        "max_features = ['sqrt', 'log2']\r\n",
        "criterion=['gini','entropy']\r\n",
        "max_depth=[3,5,7,9]\r\n",
        "#min_samples_leaf=naturalNumbers(15)\r\n",
        "grid=dict(criterion=criterion,max_depth=max_depth,min_samples_leaf=min_samples_leaf,max_features=max_features,n_estimators=n_estimators)"
      ],
      "execution_count": 100,
      "outputs": []
    },
    {
      "cell_type": "code",
      "metadata": {
        "id": "XjJSQB_MEp6Y"
      },
      "source": [
        "#cv=StratifiedKFold(n_splits=4)\r\n",
        "grid_search=GridSearchCV(estimator=mod, param_grid=grid, n_jobs=-1, cv=5, scoring='precision',error_score=0)\r\n",
        "grid_result = grid_search.fit(X_train, y_train)"
      ],
      "execution_count": 101,
      "outputs": []
    },
    {
      "cell_type": "code",
      "metadata": {
        "colab": {
          "base_uri": "https://localhost:8080/"
        },
        "id": "ZAtP5P8SZHJB",
        "outputId": "3f9b3069-e9d1-4bfc-f8a7-bea142f38422"
      },
      "source": [
        "print(\"Best: %f using %s\" % (grid_result.best_score_, grid_result.best_params_))"
      ],
      "execution_count": 102,
      "outputs": [
        {
          "output_type": "stream",
          "text": [
            "Best: 0.663681 using {'criterion': 'gini', 'max_depth': 3, 'max_features': 'log2', 'min_samples_leaf': 5, 'n_estimators': 10}\n"
          ],
          "name": "stdout"
        }
      ]
    },
    {
      "cell_type": "code",
      "metadata": {
        "colab": {
          "base_uri": "https://localhost:8080/"
        },
        "id": "oGKb6ZPQhEpN",
        "outputId": "2369dfa7-7f1b-4b94-d018-376f7c003e29"
      },
      "source": [
        "mod=RandomForestClassifier(criterion=grid_result.best_params_['criterion'],max_depth=grid_result.best_params_['max_depth'],max_features=grid_result.best_params_['max_features'],\\\r\n",
        "                           min_samples_leaf=grid_result.best_params_['min_samples_leaf'] , n_estimators=grid_result.best_params_['n_estimators']).fit(X_train,y_train)\r\n",
        "mod.fit(X_train,y_train)\r\n",
        "ypred=mod.predict(X_test)\r\n",
        "precision_score(y_test,ypred)"
      ],
      "execution_count": 103,
      "outputs": [
        {
          "output_type": "execute_result",
          "data": {
            "text/plain": [
              "0.5636363636363636"
            ]
          },
          "metadata": {
            "tags": []
          },
          "execution_count": 103
        }
      ]
    },
    {
      "cell_type": "code",
      "metadata": {
        "colab": {
          "base_uri": "https://localhost:8080/"
        },
        "id": "lTTNCJOB8WaD",
        "outputId": "cbd46cae-f535-47ff-8a2e-3cfe5ebde7af"
      },
      "source": [
        "accuracy_score(y_test,ypred)"
      ],
      "execution_count": 104,
      "outputs": [
        {
          "output_type": "execute_result",
          "data": {
            "text/plain": [
              "0.6019900497512438"
            ]
          },
          "metadata": {
            "tags": []
          },
          "execution_count": 104
        }
      ]
    },
    {
      "cell_type": "code",
      "metadata": {
        "id": "VDDXvR7j8aAK"
      },
      "source": [
        "p_for=precision_score(y_test,ypred)\r\n",
        "a_for=accuracy_score(y_test,ypred)"
      ],
      "execution_count": 105,
      "outputs": []
    },
    {
      "cell_type": "code",
      "metadata": {
        "id": "HyaEki90vgO_"
      },
      "source": [
        "pkl_filename = \"randomforest.pkl\"\r\n",
        "with open(pkl_filename, 'wb') as file:\r\n",
        "    pickle.dump(mod, file)"
      ],
      "execution_count": 106,
      "outputs": []
    },
    {
      "cell_type": "code",
      "metadata": {
        "id": "JDmn-ufqr392"
      },
      "source": [
        "#Gradient Boost"
      ],
      "execution_count": null,
      "outputs": []
    },
    {
      "cell_type": "code",
      "metadata": {
        "id": "ln_zyHfHmxMT"
      },
      "source": [
        "mod=GradientBoostingClassifier()\r\n",
        "learning_rate = [0, 0.25, 0.5, 0.7, 0.9, 1.0]\r\n",
        "max_depth = [3, 7, 9,11]\r\n",
        "subsample = [0.5, 0.7, 1.0]\r\n",
        "n_estimators = [10,25,50,75,100,150]\r\n",
        "grid = dict(learning_rate=learning_rate, n_estimators=n_estimators, subsample=subsample, max_depth=max_depth)"
      ],
      "execution_count": 107,
      "outputs": []
    },
    {
      "cell_type": "code",
      "metadata": {
        "id": "YxRuqDHLZVEn"
      },
      "source": [
        "#cv=StratifiedKFold(n_splits=4)\r\n",
        "grid_search=GridSearchCV(estimator=mod, param_grid=grid, n_jobs=-1, cv=5, scoring='precision',error_score=0)\r\n",
        "grid_result = grid_search.fit(X_train, y_train)"
      ],
      "execution_count": 108,
      "outputs": []
    },
    {
      "cell_type": "code",
      "metadata": {
        "colab": {
          "base_uri": "https://localhost:8080/"
        },
        "id": "Qd3ayLs6ZVHp",
        "outputId": "07af04c4-aa93-49a3-dd59-f1e492373f47"
      },
      "source": [
        "print(\"Best: %f using %s  \" % (grid_result.best_score_, grid_result.best_params_))"
      ],
      "execution_count": 109,
      "outputs": [
        {
          "output_type": "stream",
          "text": [
            "Best: 0.566083 using {'learning_rate': 0.25, 'max_depth': 3, 'n_estimators': 10, 'subsample': 1.0}  \n"
          ],
          "name": "stdout"
        }
      ]
    },
    {
      "cell_type": "code",
      "metadata": {
        "colab": {
          "base_uri": "https://localhost:8080/"
        },
        "id": "u0iJDKQoblpd",
        "outputId": "5bdef89b-bee4-4f48-aed7-5080c5885981"
      },
      "source": [
        "mod=GradientBoostingClassifier(learning_rate=grid_result.best_params_['learning_rate'],max_depth=grid_result.best_params_['max_depth'],\\\r\n",
        "                               n_estimators=grid_result.best_params_['n_estimators'],subsample=grid_result.best_params_['subsample']).fit(X_train,y_train)\r\n",
        "mod.fit(X_train,y_train)\r\n",
        "ypred=mod.predict(X_test)\r\n",
        "precision_score(y_test,ypred)"
      ],
      "execution_count": 110,
      "outputs": [
        {
          "output_type": "execute_result",
          "data": {
            "text/plain": [
              "0.611764705882353"
            ]
          },
          "metadata": {
            "tags": []
          },
          "execution_count": 110
        }
      ]
    },
    {
      "cell_type": "code",
      "metadata": {
        "id": "L0sWV-iJEP9K"
      },
      "source": [
        "p_xg=precision_score(y_test,ypred)\r\n",
        "a_xg=accuracy_score(y_test,ypred)"
      ],
      "execution_count": 111,
      "outputs": []
    },
    {
      "cell_type": "code",
      "metadata": {
        "id": "tcoDuHVVyKnN"
      },
      "source": [
        "pkl_filename = \"gradientboost.pkl\"\r\n",
        "with open(pkl_filename, 'wb') as file:\r\n",
        "    pickle.dump(mod, file)"
      ],
      "execution_count": 112,
      "outputs": []
    },
    {
      "cell_type": "code",
      "metadata": {
        "id": "ZsrJ8A63EVQo"
      },
      "source": [
        "import seaborn as sns\r\n",
        "import matplotlib.pyplot as plt"
      ],
      "execution_count": 113,
      "outputs": []
    },
    {
      "cell_type": "code",
      "metadata": {
        "id": "dwZHepKGEZaX"
      },
      "source": [
        "p=[p_log,p_tree,p_for,p_xg]\r\n",
        "a=[a_log,a_tree,a_for,a_xg]\r\n",
        "mod=['Log Regression', 'Decision Tree', 'Random Forest','xGBoost']"
      ],
      "execution_count": 124,
      "outputs": []
    },
    {
      "cell_type": "code",
      "metadata": {
        "id": "icAz01rLHpX3"
      },
      "source": [
        "p.sort(reverse=True)\r\n",
        "a.sort(reverse=True)"
      ],
      "execution_count": 144,
      "outputs": []
    },
    {
      "cell_type": "code",
      "metadata": {
        "colab": {
          "base_uri": "https://localhost:8080/",
          "height": 582
        },
        "id": "hmRDfV8vHYXW",
        "outputId": "ef0edabb-e90b-42c5-fe94-982fbfb591cf"
      },
      "source": [
        "a4_dims = (9.8, 8.27)\r\n",
        "fig, ax = plt.subplots(figsize=a4_dims)\r\n",
        "ax=sns.barplot(p,mod,orient='h')\r\n",
        "ax.set(xlabel='Precision Score',ylabel='Algorithm')\r\n",
        "plt.title('Precision scores of different models')\r\n",
        "plt.show()"
      ],
      "execution_count": 143,
      "outputs": [
        {
          "output_type": "stream",
          "text": [
            "/usr/local/lib/python3.6/dist-packages/seaborn/_decorators.py:43: FutureWarning: Pass the following variables as keyword args: x, y. From version 0.12, the only valid positional argument will be `data`, and passing other arguments without an explicit keyword will result in an error or misinterpretation.\n",
            "  FutureWarning\n"
          ],
          "name": "stderr"
        },
        {
          "output_type": "display_data",
          "data": {
            "image/png": "[encoded data removed]",
            "text/plain": [
              "<Figure size 705.6x595.44 with 1 Axes>"
            ]
          },
          "metadata": {
            "tags": [],
            "needs_background": "light"
          }
        }
      ]
    },
    {
      "cell_type": "code",
      "metadata": {
        "colab": {
          "base_uri": "https://localhost:8080/",
          "height": 582
        },
        "id": "Efik_-TxI7v4",
        "outputId": "c8cbca83-0d27-4c08-9611-227ca380f225"
      },
      "source": [
        "a4_dims = (9.8, 8.27)\r\n",
        "fig, ax = plt.subplots(figsize=a4_dims)\r\n",
        "ax=sns.barplot(a,mod,orient='h')\r\n",
        "ax.set(xlabel='Accuracy Score',ylabel='Algorithm')\r\n",
        "plt.title('Accuracy scores of different models')\r\n",
        "plt.show()"
      ],
      "execution_count": 145,
      "outputs": [
        {
          "output_type": "stream",
          "text": [
            "/usr/local/lib/python3.6/dist-packages/seaborn/_decorators.py:43: FutureWarning: Pass the following variables as keyword args: x, y. From version 0.12, the only valid positional argument will be `data`, and passing other arguments without an explicit keyword will result in an error or misinterpretation.\n",
            "  FutureWarning\n"
          ],
          "name": "stderr"
        },
        {
          "output_type": "display_data",
          "data": {
            "image/png": "[encoded data removed]",
            "text/plain": [
              "<Figure size 705.6x595.44 with 1 Axes>"
            ]
          },
          "metadata": {
            "tags": [],
            "needs_background": "light"
          }
        }
      ]
    },
    {
      "cell_type": "code",
      "metadata": {
        "id": "wl2TLO_TJJHv"
      },
      "source": [
        "X_train, X_test, y_train, y_test = train_test_split(x,y,random_state=100)\r\n",
        "C = [100, 10, 1.0, 0.1, 0.01]\r\n",
        "#Since the numerical data looks like a skewed gaussian distribution, scaling to mean 0 and Sd 0 makes sense\r\n",
        "\r\n",
        "sd=StandardScaler()\r\n",
        "\r\n",
        "X_train[['total_visits','sales_value','age_desc','income_desc','kid_category_desc']]=sd.fit_transform(X_train[['total_visits','sales_value','age_desc','income_desc','kid_category_desc']])\r\n",
        "X_test[['total_visits','sales_value','age_desc','income_desc','kid_category_desc']]=sd.fit_transform(X_test[['total_visits','sales_value','age_desc','income_desc','kid_category_desc']])\r\n"
      ],
      "execution_count": null,
      "outputs": []
    },
    {
      "cell_type": "code",
      "metadata": {
        "id": "U3Gh6UiPJlQO"
      },
      "source": [
        "p=[]\r\n",
        "for i in range(len(C)):\r\n",
        "  mod=LogisticRegression(C=C[i]).fit(X_train,y_train)\r\n",
        "  mod.fit(X_train,y_train)\r\n",
        "  ypred=mod.predict(X_test)\r\n",
        "  p.append(precision_score(y_test,ypred))"
      ],
      "execution_count": 148,
      "outputs": []
    },
    {
      "cell_type": "code",
      "metadata": {
        "colab": {
          "base_uri": "https://localhost:8080/",
          "height": 527
        },
        "id": "xA5AfrelJ7pv",
        "outputId": "18e5cdd3-3101-462e-9d29-6248dccc6f3e"
      },
      "source": [
        "a4_dims = (9.8, 8.27)\r\n",
        "fig, ax = plt.subplots(figsize=a4_dims)\r\n",
        "ax=sns.lineplot(x=C,y=p)\r\n",
        "ax.set(xlabel='Regularization',ylabel='Precision')\r\n",
        "plt.title('Regularization vs Precision')\r\n",
        "plt.show()"
      ],
      "execution_count": 150,
      "outputs": [
        {
          "output_type": "display_data",
          "data": {
            "image/png": "[encoded data removed]",
            "text/plain": [
              "<Figure size 705.6x595.44 with 1 Axes>"
            ]
          },
          "metadata": {
            "tags": [],
            "needs_background": "light"
          }
        }
      ]
    },
    {
      "cell_type": "code",
      "metadata": {
        "id": "jGFkoMFUKgxS"
      },
      "source": [
        "a=[]\r\n",
        "for i in range(len(C)):\r\n",
        "  mod=LogisticRegression(C=C[i]).fit(X_train,y_train)\r\n",
        "  mod.fit(X_train,y_train)\r\n",
        "  ypred=mod.predict(X_test)\r\n",
        "  a.append(accuracy_score(y_test,ypred))"
      ],
      "execution_count": 151,
      "outputs": []
    },
    {
      "cell_type": "code",
      "metadata": {
        "colab": {
          "base_uri": "https://localhost:8080/",
          "height": 527
        },
        "id": "NgZsVhTuKvSp",
        "outputId": "96984ed7-1636-446e-de68-065e02722801"
      },
      "source": [
        "a4_dims = (9.8, 8.27)\r\n",
        "fig, ax = plt.subplots(figsize=a4_dims)\r\n",
        "ax=sns.lineplot(x=C,y=a)\r\n",
        "ax.set(xlabel='Regularization',ylabel='Accuracy')\r\n",
        "plt.title('Regularization vs Accuracy')\r\n",
        "plt.show()"
      ],
      "execution_count": 153,
      "outputs": [
        {
          "output_type": "display_data",
          "data": {
            "image/png": "[encoded data removed]",
            "text/plain": [
              "<Figure size 705.6x595.44 with 1 Axes>"
            ]
          },
          "metadata": {
            "tags": [],
            "needs_background": "light"
          }
        }
      ]
    }
  ]
}