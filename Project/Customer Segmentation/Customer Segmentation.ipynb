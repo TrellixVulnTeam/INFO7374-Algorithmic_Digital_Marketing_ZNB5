{
 "cells": [
  {
   "cell_type": "code",
   "execution_count": 1,
   "metadata": {},
   "outputs": [],
   "source": [
    "import pandas as pd\n",
    "import matplotlib.pyplot as plt\n",
    "import numpy as np\n",
    "import seaborn as sns\n",
    "import squarify"
   ]
  },
  {
   "cell_type": "code",
   "execution_count": 2,
   "metadata": {},
   "outputs": [],
   "source": [
    "# campaign_desc = pd.read_csv('Data/campaign_desc.csv')\n",
    "# campaign_table = pd.read_csv('Data/campaign_table.csv')\n",
    "# causal_data = pd.read_csv('Data/causal_data.csv')\n",
    "# coupon = pd.read_csv('Data/coupon.csv')\n",
    "# coupon_redempt = pd.read_csv('Data/coupon_redempt.csv')\n",
    "# hh_demographic = pd.read_csv('Data/hh_demographic.csv')\n",
    "# product = pd.read_csv('Data/product.csv')\n",
    "transaction_data = pd.read_csv('Data/transaction_data.csv')"
   ]
  },
  {
   "cell_type": "code",
   "execution_count": 3,
   "metadata": {},
   "outputs": [
    {
     "name": "stdout",
     "output_type": "stream",
     "text": [
      "   household_key    BASKET_ID  DAY  PRODUCT_ID  QUANTITY  SALES_VALUE  \\\n",
      "0           2375  26984851472    1     1004906         1         1.39   \n",
      "1           2375  26984851472    1     1033142         1         0.82   \n",
      "2           2375  26984851472    1     1036325         1         0.99   \n",
      "3           2375  26984851472    1     1082185         1         1.21   \n",
      "4           2375  26984851472    1     8160430         1         1.50   \n",
      "5           2375  26984851516    1      826249         2         1.98   \n",
      "6           2375  26984851516    1     1043142         1         1.57   \n",
      "7           2375  26984851516    1     1085983         1         2.99   \n",
      "8           2375  26984851516    1     1102651         1         1.89   \n",
      "9           2375  26984851516    1     6423775         1         2.00   \n",
      "\n",
      "   STORE_ID  RETAIL_DISC  TRANS_TIME  WEEK_NO  COUPON_DISC  COUPON_MATCH_DISC  \n",
      "0       364        -0.60        1631        1          0.0                0.0  \n",
      "1       364         0.00        1631        1          0.0                0.0  \n",
      "2       364        -0.30        1631        1          0.0                0.0  \n",
      "3       364         0.00        1631        1          0.0                0.0  \n",
      "4       364        -0.39        1631        1          0.0                0.0  \n",
      "5       364        -0.60        1642        1          0.0                0.0  \n",
      "6       364        -0.68        1642        1          0.0                0.0  \n",
      "7       364        -0.40        1642        1          0.0                0.0  \n",
      "8       364         0.00        1642        1          0.0                0.0  \n",
      "9       364        -0.79        1642        1          0.0                0.0  \n"
     ]
    }
   ],
   "source": [
    "td = transaction_data.head(10)\n",
    "print(td)"
   ]
  },
  {
   "cell_type": "code",
   "execution_count": 4,
   "metadata": {},
   "outputs": [],
   "source": [
    "max_date = transaction_data['DAY'].max()\n",
    "max_date = max_date + 1"
   ]
  },
  {
   "cell_type": "code",
   "execution_count": 5,
   "metadata": {},
   "outputs": [],
   "source": [
    "rfm_customers = transaction_data.groupby(['household_key']).agg({\n",
    "    'DAY': 'max',\n",
    "    'household_key': 'count',\n",
    "    'SALES_VALUE': 'sum'\n",
    "})"
   ]
  },
  {
   "cell_type": "code",
   "execution_count": 6,
   "metadata": {},
   "outputs": [],
   "source": [
    "rfm_customers['DAY'] = max_date - rfm_customers['DAY']"
   ]
  },
  {
   "cell_type": "code",
   "execution_count": 7,
   "metadata": {},
   "outputs": [
    {
     "data": {
      "text/html": [
       "<div>\n",
       "<style scoped>\n",
       "    .dataframe tbody tr th:only-of-type {\n",
       "        vertical-align: middle;\n",
       "    }\n",
       "\n",
       "    .dataframe tbody tr th {\n",
       "        vertical-align: top;\n",
       "    }\n",
       "\n",
       "    .dataframe thead th {\n",
       "        text-align: right;\n",
       "    }\n",
       "</style>\n",
       "<table border=\"1\" class=\"dataframe\">\n",
       "  <thead>\n",
       "    <tr style=\"text-align: right;\">\n",
       "      <th></th>\n",
       "      <th>DAY</th>\n",
       "      <th>household_key</th>\n",
       "      <th>SALES_VALUE</th>\n",
       "    </tr>\n",
       "    <tr>\n",
       "      <th>household_key</th>\n",
       "      <th></th>\n",
       "      <th></th>\n",
       "      <th></th>\n",
       "    </tr>\n",
       "  </thead>\n",
       "  <tbody>\n",
       "    <tr>\n",
       "      <th>1</th>\n",
       "      <td>6</td>\n",
       "      <td>1727</td>\n",
       "      <td>4330.16</td>\n",
       "    </tr>\n",
       "    <tr>\n",
       "      <th>2</th>\n",
       "      <td>44</td>\n",
       "      <td>714</td>\n",
       "      <td>1954.34</td>\n",
       "    </tr>\n",
       "    <tr>\n",
       "      <th>3</th>\n",
       "      <td>9</td>\n",
       "      <td>922</td>\n",
       "      <td>2653.21</td>\n",
       "    </tr>\n",
       "    <tr>\n",
       "      <th>4</th>\n",
       "      <td>85</td>\n",
       "      <td>301</td>\n",
       "      <td>1200.11</td>\n",
       "    </tr>\n",
       "    <tr>\n",
       "      <th>5</th>\n",
       "      <td>9</td>\n",
       "      <td>222</td>\n",
       "      <td>779.06</td>\n",
       "    </tr>\n",
       "    <tr>\n",
       "      <th>...</th>\n",
       "      <td>...</td>\n",
       "      <td>...</td>\n",
       "      <td>...</td>\n",
       "    </tr>\n",
       "    <tr>\n",
       "      <th>2496</th>\n",
       "      <td>29</td>\n",
       "      <td>1489</td>\n",
       "      <td>4339.66</td>\n",
       "    </tr>\n",
       "    <tr>\n",
       "      <th>2497</th>\n",
       "      <td>12</td>\n",
       "      <td>1962</td>\n",
       "      <td>7111.98</td>\n",
       "    </tr>\n",
       "    <tr>\n",
       "      <th>2498</th>\n",
       "      <td>2</td>\n",
       "      <td>859</td>\n",
       "      <td>2601.60</td>\n",
       "    </tr>\n",
       "    <tr>\n",
       "      <th>2499</th>\n",
       "      <td>3</td>\n",
       "      <td>1166</td>\n",
       "      <td>3394.07</td>\n",
       "    </tr>\n",
       "    <tr>\n",
       "      <th>2500</th>\n",
       "      <td>4</td>\n",
       "      <td>1503</td>\n",
       "      <td>5486.16</td>\n",
       "    </tr>\n",
       "  </tbody>\n",
       "</table>\n",
       "<p>2500 rows × 3 columns</p>\n",
       "</div>"
      ],
      "text/plain": [
       "               DAY  household_key  SALES_VALUE\n",
       "household_key                                 \n",
       "1                6           1727      4330.16\n",
       "2               44            714      1954.34\n",
       "3                9            922      2653.21\n",
       "4               85            301      1200.11\n",
       "5                9            222       779.06\n",
       "...            ...            ...          ...\n",
       "2496            29           1489      4339.66\n",
       "2497            12           1962      7111.98\n",
       "2498             2            859      2601.60\n",
       "2499             3           1166      3394.07\n",
       "2500             4           1503      5486.16\n",
       "\n",
       "[2500 rows x 3 columns]"
      ]
     },
     "execution_count": 7,
     "metadata": {},
     "output_type": "execute_result"
    }
   ],
   "source": [
    "rfm_customers"
   ]
  },
  {
   "cell_type": "code",
   "execution_count": 8,
   "metadata": {},
   "outputs": [],
   "source": [
    "rfm_customers.rename(columns = {'DAY': 'Recency',\n",
    "                                'household_key':'Frequency',\n",
    "                                'SALES_VALUE':'MonetaryValue'\n",
    "}, inplace = True)\n"
   ]
  },
  {
   "cell_type": "code",
   "execution_count": 9,
   "metadata": {},
   "outputs": [
    {
     "data": {
      "text/html": [
       "<div>\n",
       "<style scoped>\n",
       "    .dataframe tbody tr th:only-of-type {\n",
       "        vertical-align: middle;\n",
       "    }\n",
       "\n",
       "    .dataframe tbody tr th {\n",
       "        vertical-align: top;\n",
       "    }\n",
       "\n",
       "    .dataframe thead th {\n",
       "        text-align: right;\n",
       "    }\n",
       "</style>\n",
       "<table border=\"1\" class=\"dataframe\">\n",
       "  <thead>\n",
       "    <tr style=\"text-align: right;\">\n",
       "      <th></th>\n",
       "      <th>Recency</th>\n",
       "      <th>Frequency</th>\n",
       "      <th>MonetaryValue</th>\n",
       "    </tr>\n",
       "    <tr>\n",
       "      <th>household_key</th>\n",
       "      <th></th>\n",
       "      <th></th>\n",
       "      <th></th>\n",
       "    </tr>\n",
       "  </thead>\n",
       "  <tbody>\n",
       "    <tr>\n",
       "      <th>1</th>\n",
       "      <td>6</td>\n",
       "      <td>1727</td>\n",
       "      <td>4330.16</td>\n",
       "    </tr>\n",
       "    <tr>\n",
       "      <th>2</th>\n",
       "      <td>44</td>\n",
       "      <td>714</td>\n",
       "      <td>1954.34</td>\n",
       "    </tr>\n",
       "    <tr>\n",
       "      <th>3</th>\n",
       "      <td>9</td>\n",
       "      <td>922</td>\n",
       "      <td>2653.21</td>\n",
       "    </tr>\n",
       "    <tr>\n",
       "      <th>4</th>\n",
       "      <td>85</td>\n",
       "      <td>301</td>\n",
       "      <td>1200.11</td>\n",
       "    </tr>\n",
       "    <tr>\n",
       "      <th>5</th>\n",
       "      <td>9</td>\n",
       "      <td>222</td>\n",
       "      <td>779.06</td>\n",
       "    </tr>\n",
       "    <tr>\n",
       "      <th>...</th>\n",
       "      <td>...</td>\n",
       "      <td>...</td>\n",
       "      <td>...</td>\n",
       "    </tr>\n",
       "    <tr>\n",
       "      <th>2496</th>\n",
       "      <td>29</td>\n",
       "      <td>1489</td>\n",
       "      <td>4339.66</td>\n",
       "    </tr>\n",
       "    <tr>\n",
       "      <th>2497</th>\n",
       "      <td>12</td>\n",
       "      <td>1962</td>\n",
       "      <td>7111.98</td>\n",
       "    </tr>\n",
       "    <tr>\n",
       "      <th>2498</th>\n",
       "      <td>2</td>\n",
       "      <td>859</td>\n",
       "      <td>2601.60</td>\n",
       "    </tr>\n",
       "    <tr>\n",
       "      <th>2499</th>\n",
       "      <td>3</td>\n",
       "      <td>1166</td>\n",
       "      <td>3394.07</td>\n",
       "    </tr>\n",
       "    <tr>\n",
       "      <th>2500</th>\n",
       "      <td>4</td>\n",
       "      <td>1503</td>\n",
       "      <td>5486.16</td>\n",
       "    </tr>\n",
       "  </tbody>\n",
       "</table>\n",
       "<p>2500 rows × 3 columns</p>\n",
       "</div>"
      ],
      "text/plain": [
       "               Recency  Frequency  MonetaryValue\n",
       "household_key                                   \n",
       "1                    6       1727        4330.16\n",
       "2                   44        714        1954.34\n",
       "3                    9        922        2653.21\n",
       "4                   85        301        1200.11\n",
       "5                    9        222         779.06\n",
       "...                ...        ...            ...\n",
       "2496                29       1489        4339.66\n",
       "2497                12       1962        7111.98\n",
       "2498                 2        859        2601.60\n",
       "2499                 3       1166        3394.07\n",
       "2500                 4       1503        5486.16\n",
       "\n",
       "[2500 rows x 3 columns]"
      ]
     },
     "execution_count": 9,
     "metadata": {},
     "output_type": "execute_result"
    }
   ],
   "source": [
    "rfm_customers"
   ]
  },
  {
   "cell_type": "markdown",
   "metadata": {},
   "source": [
    "The data should meet assumptions where the variables are not skewed and have the same mean and variance. \n",
    "\n",
    "Here are the visualizations of each variable,"
   ]
  },
  {
   "cell_type": "code",
   "execution_count": 10,
   "metadata": {},
   "outputs": [
    {
     "data": {
      "image/png": "[encoded data removed]",
      "text/plain": [
       "<Figure size 1080x216 with 3 Axes>"
      ]
     },
     "metadata": {
      "needs_background": "light"
     },
     "output_type": "display_data"
    }
   ],
   "source": [
    "fig, ax = plt.subplots(1, 3, figsize=(15,3))\n",
    "sns.distplot(rfm_customers['Recency'], ax=ax[0])\n",
    "sns.distplot(rfm_customers['Frequency'], ax=ax[1])\n",
    "sns.distplot(rfm_customers['MonetaryValue'], ax=ax[2])\n",
    "plt.tight_layout()\n",
    "plt.show()"
   ]
  },
  {
   "cell_type": "code",
   "execution_count": 11,
   "metadata": {},
   "outputs": [
    {
     "data": {
      "text/html": [
       "<div>\n",
       "<style scoped>\n",
       "    .dataframe tbody tr th:only-of-type {\n",
       "        vertical-align: middle;\n",
       "    }\n",
       "\n",
       "    .dataframe tbody tr th {\n",
       "        vertical-align: top;\n",
       "    }\n",
       "\n",
       "    .dataframe thead th {\n",
       "        text-align: right;\n",
       "    }\n",
       "</style>\n",
       "<table border=\"1\" class=\"dataframe\">\n",
       "  <thead>\n",
       "    <tr style=\"text-align: right;\">\n",
       "      <th></th>\n",
       "      <th>Recency</th>\n",
       "      <th>Frequency</th>\n",
       "      <th>MonetaryValue</th>\n",
       "    </tr>\n",
       "  </thead>\n",
       "  <tbody>\n",
       "    <tr>\n",
       "      <th>0.25</th>\n",
       "      <td>2.0</td>\n",
       "      <td>325.0</td>\n",
       "      <td>970.74</td>\n",
       "    </tr>\n",
       "    <tr>\n",
       "      <th>0.50</th>\n",
       "      <td>7.0</td>\n",
       "      <td>734.0</td>\n",
       "      <td>2157.75</td>\n",
       "    </tr>\n",
       "    <tr>\n",
       "      <th>0.75</th>\n",
       "      <td>21.0</td>\n",
       "      <td>1454.5</td>\n",
       "      <td>4413.32</td>\n",
       "    </tr>\n",
       "  </tbody>\n",
       "</table>\n",
       "</div>"
      ],
      "text/plain": [
       "      Recency  Frequency  MonetaryValue\n",
       "0.25      2.0      325.0         970.74\n",
       "0.50      7.0      734.0        2157.75\n",
       "0.75     21.0     1454.5        4413.32"
      ]
     },
     "execution_count": 11,
     "metadata": {},
     "output_type": "execute_result"
    }
   ],
   "source": [
    "quantiles = rfm_customers.quantile(q=[0.25,0.5,0.75])\n",
    "quantiles"
   ]
  },
  {
   "cell_type": "code",
   "execution_count": 12,
   "metadata": {},
   "outputs": [],
   "source": [
    "# # Create labels for Recency and Frequency\n",
    "# r_labels = range(4, 0, -1); f_labels = range(1, 4)\n",
    "# # Assign these labels to 4 equal percentile groups \n",
    "# r_groups = pd.qcut(rfm_customers['Recency'], q=4, labels=r_labels)\n",
    "# # Assign these labels to 4 equal percentile groups \n",
    "# f_groups = pd.qcut(rfm_customers['Frequency'], q=4, labels=f_labels)\n",
    "# # Create new columns R and F \n",
    "# rfm_customers = rfm_customers.assign(R = r_groups.values, F = f_groups.values)\n",
    "# rfm_customers.head()"
   ]
  },
  {
   "cell_type": "code",
   "execution_count": 13,
   "metadata": {},
   "outputs": [],
   "source": [
    "# Converting quantiles to a dictionary, easier to use.\n",
    "#quantiles = quantiles.to_dict()\n",
    "##  RFM Segmentation ----\n",
    "RFM_Segment = rfm_customers.copy()\n",
    "# Arguments (x = value, p = recency, monetary_value, frequency, k = quartiles dict)\n",
    "def R_Class(x,p,d):\n",
    "    if x <= d[p][0.25]:\n",
    "        return 4\n",
    "    elif x <= d[p][0.50]:\n",
    "        return 3\n",
    "    elif x <= d[p][0.75]: \n",
    "        return 2\n",
    "    else:\n",
    "        return 1\n",
    "    \n",
    "# Arguments (x = value, p = recency, monetary_value, frequency, k = quartiles dict)\n",
    "def FM_Class(x,p,d):\n",
    "    if x <= d[p][0.25]:\n",
    "        return 1\n",
    "    elif x <= d[p][0.50]:\n",
    "        return 2\n",
    "    elif x <= d[p][0.75]: \n",
    "        return 3\n",
    "    else:\n",
    "        return 4\n",
    "RFM_Segment['R_Quartile'] = RFM_Segment['Recency'].apply(R_Class, args=('Recency',quantiles,))\n",
    "RFM_Segment['F_Quartile'] = RFM_Segment['Frequency'].apply(FM_Class, args=('Frequency',quantiles,))\n",
    "RFM_Segment['M_Quartile'] = RFM_Segment['MonetaryValue'].apply(FM_Class, args=('MonetaryValue',quantiles,))\n",
    "RFM_Segment['RFMClass'] = RFM_Segment.R_Quartile.map(str) \\\n",
    "                            + RFM_Segment.F_Quartile.map(str) \\\n",
    "                            + RFM_Segment.M_Quartile.map(str)"
   ]
  },
  {
   "cell_type": "code",
   "execution_count": 14,
   "metadata": {},
   "outputs": [
    {
     "data": {
      "text/html": [
       "<div>\n",
       "<style scoped>\n",
       "    .dataframe tbody tr th:only-of-type {\n",
       "        vertical-align: middle;\n",
       "    }\n",
       "\n",
       "    .dataframe tbody tr th {\n",
       "        vertical-align: top;\n",
       "    }\n",
       "\n",
       "    .dataframe thead th {\n",
       "        text-align: right;\n",
       "    }\n",
       "</style>\n",
       "<table border=\"1\" class=\"dataframe\">\n",
       "  <thead>\n",
       "    <tr style=\"text-align: right;\">\n",
       "      <th></th>\n",
       "      <th>Recency</th>\n",
       "      <th>Frequency</th>\n",
       "      <th>MonetaryValue</th>\n",
       "      <th>R_Quartile</th>\n",
       "      <th>F_Quartile</th>\n",
       "      <th>M_Quartile</th>\n",
       "      <th>RFMClass</th>\n",
       "    </tr>\n",
       "    <tr>\n",
       "      <th>household_key</th>\n",
       "      <th></th>\n",
       "      <th></th>\n",
       "      <th></th>\n",
       "      <th></th>\n",
       "      <th></th>\n",
       "      <th></th>\n",
       "      <th></th>\n",
       "    </tr>\n",
       "  </thead>\n",
       "  <tbody>\n",
       "    <tr>\n",
       "      <th>1</th>\n",
       "      <td>6</td>\n",
       "      <td>1727</td>\n",
       "      <td>4330.16</td>\n",
       "      <td>3</td>\n",
       "      <td>4</td>\n",
       "      <td>3</td>\n",
       "      <td>343</td>\n",
       "    </tr>\n",
       "    <tr>\n",
       "      <th>2</th>\n",
       "      <td>44</td>\n",
       "      <td>714</td>\n",
       "      <td>1954.34</td>\n",
       "      <td>1</td>\n",
       "      <td>2</td>\n",
       "      <td>2</td>\n",
       "      <td>122</td>\n",
       "    </tr>\n",
       "    <tr>\n",
       "      <th>3</th>\n",
       "      <td>9</td>\n",
       "      <td>922</td>\n",
       "      <td>2653.21</td>\n",
       "      <td>2</td>\n",
       "      <td>3</td>\n",
       "      <td>3</td>\n",
       "      <td>233</td>\n",
       "    </tr>\n",
       "    <tr>\n",
       "      <th>4</th>\n",
       "      <td>85</td>\n",
       "      <td>301</td>\n",
       "      <td>1200.11</td>\n",
       "      <td>1</td>\n",
       "      <td>1</td>\n",
       "      <td>2</td>\n",
       "      <td>112</td>\n",
       "    </tr>\n",
       "    <tr>\n",
       "      <th>5</th>\n",
       "      <td>9</td>\n",
       "      <td>222</td>\n",
       "      <td>779.06</td>\n",
       "      <td>2</td>\n",
       "      <td>1</td>\n",
       "      <td>1</td>\n",
       "      <td>211</td>\n",
       "    </tr>\n",
       "    <tr>\n",
       "      <th>...</th>\n",
       "      <td>...</td>\n",
       "      <td>...</td>\n",
       "      <td>...</td>\n",
       "      <td>...</td>\n",
       "      <td>...</td>\n",
       "      <td>...</td>\n",
       "      <td>...</td>\n",
       "    </tr>\n",
       "    <tr>\n",
       "      <th>2496</th>\n",
       "      <td>29</td>\n",
       "      <td>1489</td>\n",
       "      <td>4339.66</td>\n",
       "      <td>1</td>\n",
       "      <td>4</td>\n",
       "      <td>3</td>\n",
       "      <td>143</td>\n",
       "    </tr>\n",
       "    <tr>\n",
       "      <th>2497</th>\n",
       "      <td>12</td>\n",
       "      <td>1962</td>\n",
       "      <td>7111.98</td>\n",
       "      <td>2</td>\n",
       "      <td>4</td>\n",
       "      <td>4</td>\n",
       "      <td>244</td>\n",
       "    </tr>\n",
       "    <tr>\n",
       "      <th>2498</th>\n",
       "      <td>2</td>\n",
       "      <td>859</td>\n",
       "      <td>2601.60</td>\n",
       "      <td>4</td>\n",
       "      <td>3</td>\n",
       "      <td>3</td>\n",
       "      <td>433</td>\n",
       "    </tr>\n",
       "    <tr>\n",
       "      <th>2499</th>\n",
       "      <td>3</td>\n",
       "      <td>1166</td>\n",
       "      <td>3394.07</td>\n",
       "      <td>3</td>\n",
       "      <td>3</td>\n",
       "      <td>3</td>\n",
       "      <td>333</td>\n",
       "    </tr>\n",
       "    <tr>\n",
       "      <th>2500</th>\n",
       "      <td>4</td>\n",
       "      <td>1503</td>\n",
       "      <td>5486.16</td>\n",
       "      <td>3</td>\n",
       "      <td>4</td>\n",
       "      <td>4</td>\n",
       "      <td>344</td>\n",
       "    </tr>\n",
       "  </tbody>\n",
       "</table>\n",
       "<p>2500 rows × 7 columns</p>\n",
       "</div>"
      ],
      "text/plain": [
       "               Recency  Frequency  MonetaryValue  R_Quartile  F_Quartile  \\\n",
       "household_key                                                              \n",
       "1                    6       1727        4330.16           3           4   \n",
       "2                   44        714        1954.34           1           2   \n",
       "3                    9        922        2653.21           2           3   \n",
       "4                   85        301        1200.11           1           1   \n",
       "5                    9        222         779.06           2           1   \n",
       "...                ...        ...            ...         ...         ...   \n",
       "2496                29       1489        4339.66           1           4   \n",
       "2497                12       1962        7111.98           2           4   \n",
       "2498                 2        859        2601.60           4           3   \n",
       "2499                 3       1166        3394.07           3           3   \n",
       "2500                 4       1503        5486.16           3           4   \n",
       "\n",
       "               M_Quartile RFMClass  \n",
       "household_key                       \n",
       "1                       3      343  \n",
       "2                       2      122  \n",
       "3                       3      233  \n",
       "4                       2      112  \n",
       "5                       1      211  \n",
       "...                   ...      ...  \n",
       "2496                    3      143  \n",
       "2497                    4      244  \n",
       "2498                    3      433  \n",
       "2499                    3      333  \n",
       "2500                    4      344  \n",
       "\n",
       "[2500 rows x 7 columns]"
      ]
     },
     "execution_count": 14,
     "metadata": {},
     "output_type": "execute_result"
    }
   ],
   "source": [
    "RFM_Segment"
   ]
  },
  {
   "cell_type": "markdown",
   "metadata": {},
   "source": [
    "Now lets identify the number of unique segments"
   ]
  },
  {
   "cell_type": "code",
   "execution_count": 15,
   "metadata": {},
   "outputs": [
    {
     "name": "stdout",
     "output_type": "stream",
     "text": [
      "42\n"
     ]
    }
   ],
   "source": [
    "RFM_count_unique = RFM_Segment.groupby('RFMClass')['RFMClass'].nunique()\n",
    "print(RFM_count_unique.sum())"
   ]
  },
  {
   "cell_type": "markdown",
   "metadata": {},
   "source": [
    "Calculating the sum of the RFM values instead of the mean as the sum is much easier to segment"
   ]
  },
  {
   "cell_type": "code",
   "execution_count": 16,
   "metadata": {},
   "outputs": [
    {
     "name": "stdout",
     "output_type": "stream",
     "text": [
      "household_key\n",
      "1    10\n",
      "2     5\n",
      "3     8\n",
      "4     4\n",
      "5     4\n",
      "Name: RFM_Score, dtype: int64\n"
     ]
    }
   ],
   "source": [
    "RFM_Segment['RFM_Score'] = RFM_Segment[['R_Quartile','F_Quartile','M_Quartile']].sum(axis=1)\n",
    "print(RFM_Segment['RFM_Score'].head())"
   ]
  },
  {
   "cell_type": "markdown",
   "metadata": {},
   "source": [
    "# Segmentation Using the RFM Scores"
   ]
  },
  {
   "cell_type": "code",
   "execution_count": 53,
   "metadata": {},
   "outputs": [],
   "source": [
    "def customer_segment(df):\n",
    "    if (df['RFMClass'] >= 442 or (df['RFM_Score'] >= 9)) :\n",
    "        return 'Best Customers - Can\\'t Loose Them'\n",
    "    elif ((df['RFM_Score'] >= 7) and (df['M_Quartile'] == 4)):\n",
    "        return 'Champions Spenders'\n",
    "    elif ((df['RFM_Score'] >= 6) and (df['F_Quartile'] >= 2) and (df['R_Quartile'] >=2)):\n",
    "        return 'Loyal Customers'\n",
    "    elif ((df['RFMClass'] >= 221) or (df['RFM_Score'] >= 6)):\n",
    "        return 'Potential Loyalists'\n",
    "    elif (((df['RFMClass'] >= 121) and (df['R_Quartile'] == 1)) or df['RFM_Score'] == 5):\n",
    "        return 'Needs Attention'\n",
    "    elif ((df['RFM_Score'] >= 4) and (df['R_Quartile'] == 1)):\n",
    "        return 'Hibernating - Almost Lost'\n",
    "    else:\n",
    "        return 'Lost Customers'\n",
    "    \n",
    "    "
   ]
  },
  {
   "cell_type": "markdown",
   "metadata": {},
   "source": [
    "**Can't Loose Them** \n",
    "The customers who have been recent, frequent and have spend a decent amount in the retail store\n",
    "\n",
    "**Champions Spenders**\n",
    "The customers who have spend a huge amount of money and have a decent Frequency and Recency score\n",
    "\n",
    "**Loyal Customers**\n",
    "The customers who has an averge score in all the three parameters such as Frequency, Recency and Monetary Value\n",
    "\n",
    "**Potential Loyalists**\n",
    "The customers who might not have spend much on the retailer but but have an averge recency and frequency score\n",
    "\n",
    "**Needs Attention**\n",
    "The customers who have an average frequency score but their recency score has been pretty low\n",
    "\n",
    "**Almost Lost**\n",
    "Almost Lost are the customers who might have either a decent frequency score but their recency score is poor\n",
    "\n",
    "**Lost Customers**\n",
    "The customers who have a poor recency, frequency and Monetary Value score are the lost customers and there is no point in investing to trying to get them back"
   ]
  },
  {
   "cell_type": "code",
   "execution_count": 54,
   "metadata": {},
   "outputs": [],
   "source": [
    "RFM_Segment['RFMClass'] = RFM_Segment.RFMClass.apply(lambda x: int(x))\n",
    "RFM_Segment['Customer Segment'] = RFM_Segment.apply(customer_segment, axis=1)"
   ]
  },
  {
   "cell_type": "code",
   "execution_count": 55,
   "metadata": {},
   "outputs": [
    {
     "data": {
      "text/html": [
       "<div>\n",
       "<style scoped>\n",
       "    .dataframe tbody tr th:only-of-type {\n",
       "        vertical-align: middle;\n",
       "    }\n",
       "\n",
       "    .dataframe tbody tr th {\n",
       "        vertical-align: top;\n",
       "    }\n",
       "\n",
       "    .dataframe thead th {\n",
       "        text-align: right;\n",
       "    }\n",
       "</style>\n",
       "<table border=\"1\" class=\"dataframe\">\n",
       "  <thead>\n",
       "    <tr style=\"text-align: right;\">\n",
       "      <th></th>\n",
       "      <th>Recency</th>\n",
       "      <th>Frequency</th>\n",
       "      <th>MonetaryValue</th>\n",
       "      <th>R_Quartile</th>\n",
       "      <th>F_Quartile</th>\n",
       "      <th>M_Quartile</th>\n",
       "      <th>RFMClass</th>\n",
       "      <th>RFM_Score</th>\n",
       "      <th>Customer Segment</th>\n",
       "    </tr>\n",
       "    <tr>\n",
       "      <th>household_key</th>\n",
       "      <th></th>\n",
       "      <th></th>\n",
       "      <th></th>\n",
       "      <th></th>\n",
       "      <th></th>\n",
       "      <th></th>\n",
       "      <th></th>\n",
       "      <th></th>\n",
       "      <th></th>\n",
       "    </tr>\n",
       "  </thead>\n",
       "  <tbody>\n",
       "    <tr>\n",
       "      <th>1</th>\n",
       "      <td>6</td>\n",
       "      <td>1727</td>\n",
       "      <td>4330.16</td>\n",
       "      <td>3</td>\n",
       "      <td>4</td>\n",
       "      <td>3</td>\n",
       "      <td>343</td>\n",
       "      <td>10</td>\n",
       "      <td>Best Customers - Can't Loose Them</td>\n",
       "    </tr>\n",
       "    <tr>\n",
       "      <th>2</th>\n",
       "      <td>44</td>\n",
       "      <td>714</td>\n",
       "      <td>1954.34</td>\n",
       "      <td>1</td>\n",
       "      <td>2</td>\n",
       "      <td>2</td>\n",
       "      <td>122</td>\n",
       "      <td>5</td>\n",
       "      <td>Needs Attention</td>\n",
       "    </tr>\n",
       "    <tr>\n",
       "      <th>3</th>\n",
       "      <td>9</td>\n",
       "      <td>922</td>\n",
       "      <td>2653.21</td>\n",
       "      <td>2</td>\n",
       "      <td>3</td>\n",
       "      <td>3</td>\n",
       "      <td>233</td>\n",
       "      <td>8</td>\n",
       "      <td>Loyal Customers</td>\n",
       "    </tr>\n",
       "    <tr>\n",
       "      <th>4</th>\n",
       "      <td>85</td>\n",
       "      <td>301</td>\n",
       "      <td>1200.11</td>\n",
       "      <td>1</td>\n",
       "      <td>1</td>\n",
       "      <td>2</td>\n",
       "      <td>112</td>\n",
       "      <td>4</td>\n",
       "      <td>Hibernating - Almost Lost</td>\n",
       "    </tr>\n",
       "    <tr>\n",
       "      <th>5</th>\n",
       "      <td>9</td>\n",
       "      <td>222</td>\n",
       "      <td>779.06</td>\n",
       "      <td>2</td>\n",
       "      <td>1</td>\n",
       "      <td>1</td>\n",
       "      <td>211</td>\n",
       "      <td>4</td>\n",
       "      <td>Lost Customers</td>\n",
       "    </tr>\n",
       "    <tr>\n",
       "      <th>...</th>\n",
       "      <td>...</td>\n",
       "      <td>...</td>\n",
       "      <td>...</td>\n",
       "      <td>...</td>\n",
       "      <td>...</td>\n",
       "      <td>...</td>\n",
       "      <td>...</td>\n",
       "      <td>...</td>\n",
       "      <td>...</td>\n",
       "    </tr>\n",
       "    <tr>\n",
       "      <th>2496</th>\n",
       "      <td>29</td>\n",
       "      <td>1489</td>\n",
       "      <td>4339.66</td>\n",
       "      <td>1</td>\n",
       "      <td>4</td>\n",
       "      <td>3</td>\n",
       "      <td>143</td>\n",
       "      <td>8</td>\n",
       "      <td>Potential Loyalists</td>\n",
       "    </tr>\n",
       "    <tr>\n",
       "      <th>2497</th>\n",
       "      <td>12</td>\n",
       "      <td>1962</td>\n",
       "      <td>7111.98</td>\n",
       "      <td>2</td>\n",
       "      <td>4</td>\n",
       "      <td>4</td>\n",
       "      <td>244</td>\n",
       "      <td>10</td>\n",
       "      <td>Best Customers - Can't Loose Them</td>\n",
       "    </tr>\n",
       "    <tr>\n",
       "      <th>2498</th>\n",
       "      <td>2</td>\n",
       "      <td>859</td>\n",
       "      <td>2601.60</td>\n",
       "      <td>4</td>\n",
       "      <td>3</td>\n",
       "      <td>3</td>\n",
       "      <td>433</td>\n",
       "      <td>10</td>\n",
       "      <td>Best Customers - Can't Loose Them</td>\n",
       "    </tr>\n",
       "    <tr>\n",
       "      <th>2499</th>\n",
       "      <td>3</td>\n",
       "      <td>1166</td>\n",
       "      <td>3394.07</td>\n",
       "      <td>3</td>\n",
       "      <td>3</td>\n",
       "      <td>3</td>\n",
       "      <td>333</td>\n",
       "      <td>9</td>\n",
       "      <td>Best Customers - Can't Loose Them</td>\n",
       "    </tr>\n",
       "    <tr>\n",
       "      <th>2500</th>\n",
       "      <td>4</td>\n",
       "      <td>1503</td>\n",
       "      <td>5486.16</td>\n",
       "      <td>3</td>\n",
       "      <td>4</td>\n",
       "      <td>4</td>\n",
       "      <td>344</td>\n",
       "      <td>11</td>\n",
       "      <td>Best Customers - Can't Loose Them</td>\n",
       "    </tr>\n",
       "  </tbody>\n",
       "</table>\n",
       "<p>2500 rows × 9 columns</p>\n",
       "</div>"
      ],
      "text/plain": [
       "               Recency  Frequency  MonetaryValue  R_Quartile  F_Quartile  \\\n",
       "household_key                                                              \n",
       "1                    6       1727        4330.16           3           4   \n",
       "2                   44        714        1954.34           1           2   \n",
       "3                    9        922        2653.21           2           3   \n",
       "4                   85        301        1200.11           1           1   \n",
       "5                    9        222         779.06           2           1   \n",
       "...                ...        ...            ...         ...         ...   \n",
       "2496                29       1489        4339.66           1           4   \n",
       "2497                12       1962        7111.98           2           4   \n",
       "2498                 2        859        2601.60           4           3   \n",
       "2499                 3       1166        3394.07           3           3   \n",
       "2500                 4       1503        5486.16           3           4   \n",
       "\n",
       "               M_Quartile  RFMClass  RFM_Score  \\\n",
       "household_key                                    \n",
       "1                       3       343         10   \n",
       "2                       2       122          5   \n",
       "3                       3       233          8   \n",
       "4                       2       112          4   \n",
       "5                       1       211          4   \n",
       "...                   ...       ...        ...   \n",
       "2496                    3       143          8   \n",
       "2497                    4       244         10   \n",
       "2498                    3       433         10   \n",
       "2499                    3       333          9   \n",
       "2500                    4       344         11   \n",
       "\n",
       "                                Customer Segment  \n",
       "household_key                                     \n",
       "1              Best Customers - Can't Loose Them  \n",
       "2                                Needs Attention  \n",
       "3                                Loyal Customers  \n",
       "4                      Hibernating - Almost Lost  \n",
       "5                                 Lost Customers  \n",
       "...                                          ...  \n",
       "2496                         Potential Loyalists  \n",
       "2497           Best Customers - Can't Loose Them  \n",
       "2498           Best Customers - Can't Loose Them  \n",
       "2499           Best Customers - Can't Loose Them  \n",
       "2500           Best Customers - Can't Loose Them  \n",
       "\n",
       "[2500 rows x 9 columns]"
      ]
     },
     "execution_count": 55,
     "metadata": {},
     "output_type": "execute_result"
    }
   ],
   "source": [
    "RFM_Segment"
   ]
  },
  {
   "cell_type": "code",
   "execution_count": 56,
   "metadata": {},
   "outputs": [
    {
     "name": "stdout",
     "output_type": "stream",
     "text": [
      "                                  Recency Frequency MonetaryValue      \n",
      "                                     mean      mean          mean count\n",
      "Customer Segment                                                       \n",
      "Best Customers - Can't Loose Them    5.09   1898.63       5977.13  1014\n",
      "Champions Spenders                  69.80   1203.90       5317.15    10\n",
      "Hibernating - Almost Lost           57.60    269.20       1150.59    20\n",
      "Lost Customers                      88.21    143.60        430.95   437\n",
      "Loyal Customers                      8.87    658.92       1904.28   595\n",
      "Needs Attention                     60.16    460.98       1397.63   156\n",
      "Potential Loyalists                 23.20    471.55       1421.90   268\n"
     ]
    }
   ],
   "source": [
    "rfm_seg_agg = RFM_Segment.groupby('Customer Segment').agg({\n",
    "    'Recency': 'mean',\n",
    "    'Frequency': 'mean',\n",
    "    'MonetaryValue': ['mean', 'count'],\n",
    "}).round(2)\n",
    "# Print the aggregated dataset\n",
    "print(rfm_seg_agg)"
   ]
  },
  {
   "cell_type": "code",
   "execution_count": 57,
   "metadata": {},
   "outputs": [
    {
     "data": {
      "text/html": [
       "<div>\n",
       "<style scoped>\n",
       "    .dataframe tbody tr th:only-of-type {\n",
       "        vertical-align: middle;\n",
       "    }\n",
       "\n",
       "    .dataframe tbody tr th {\n",
       "        vertical-align: top;\n",
       "    }\n",
       "\n",
       "    .dataframe thead tr th {\n",
       "        text-align: left;\n",
       "    }\n",
       "</style>\n",
       "<table border=\"1\" class=\"dataframe\">\n",
       "  <thead>\n",
       "    <tr>\n",
       "      <th></th>\n",
       "      <th>Customer Segment</th>\n",
       "      <th>Recency</th>\n",
       "      <th>Frequency</th>\n",
       "      <th colspan=\"2\" halign=\"left\">MonetaryValue</th>\n",
       "    </tr>\n",
       "    <tr>\n",
       "      <th></th>\n",
       "      <th></th>\n",
       "      <th>mean</th>\n",
       "      <th>mean</th>\n",
       "      <th>mean</th>\n",
       "      <th>count</th>\n",
       "    </tr>\n",
       "  </thead>\n",
       "  <tbody>\n",
       "    <tr>\n",
       "      <th>0</th>\n",
       "      <td>Best Customers - Can't Loose Them</td>\n",
       "      <td>5.09</td>\n",
       "      <td>1898.63</td>\n",
       "      <td>5977.13</td>\n",
       "      <td>1014</td>\n",
       "    </tr>\n",
       "    <tr>\n",
       "      <th>1</th>\n",
       "      <td>Champions Spenders</td>\n",
       "      <td>69.80</td>\n",
       "      <td>1203.90</td>\n",
       "      <td>5317.15</td>\n",
       "      <td>10</td>\n",
       "    </tr>\n",
       "    <tr>\n",
       "      <th>2</th>\n",
       "      <td>Hibernating - Almost Lost</td>\n",
       "      <td>57.60</td>\n",
       "      <td>269.20</td>\n",
       "      <td>1150.59</td>\n",
       "      <td>20</td>\n",
       "    </tr>\n",
       "    <tr>\n",
       "      <th>3</th>\n",
       "      <td>Lost Customers</td>\n",
       "      <td>88.21</td>\n",
       "      <td>143.60</td>\n",
       "      <td>430.95</td>\n",
       "      <td>437</td>\n",
       "    </tr>\n",
       "    <tr>\n",
       "      <th>4</th>\n",
       "      <td>Loyal Customers</td>\n",
       "      <td>8.87</td>\n",
       "      <td>658.92</td>\n",
       "      <td>1904.28</td>\n",
       "      <td>595</td>\n",
       "    </tr>\n",
       "    <tr>\n",
       "      <th>5</th>\n",
       "      <td>Needs Attention</td>\n",
       "      <td>60.16</td>\n",
       "      <td>460.98</td>\n",
       "      <td>1397.63</td>\n",
       "      <td>156</td>\n",
       "    </tr>\n",
       "    <tr>\n",
       "      <th>6</th>\n",
       "      <td>Potential Loyalists</td>\n",
       "      <td>23.20</td>\n",
       "      <td>471.55</td>\n",
       "      <td>1421.90</td>\n",
       "      <td>268</td>\n",
       "    </tr>\n",
       "  </tbody>\n",
       "</table>\n",
       "</div>"
      ],
      "text/plain": [
       "                    Customer Segment Recency Frequency MonetaryValue      \n",
       "                                        mean      mean          mean count\n",
       "0  Best Customers - Can't Loose Them    5.09   1898.63       5977.13  1014\n",
       "1                 Champions Spenders   69.80   1203.90       5317.15    10\n",
       "2          Hibernating - Almost Lost   57.60    269.20       1150.59    20\n",
       "3                     Lost Customers   88.21    143.60        430.95   437\n",
       "4                    Loyal Customers    8.87    658.92       1904.28   595\n",
       "5                    Needs Attention   60.16    460.98       1397.63   156\n",
       "6                Potential Loyalists   23.20    471.55       1421.90   268"
      ]
     },
     "execution_count": 57,
     "metadata": {},
     "output_type": "execute_result"
    }
   ],
   "source": [
    "rfm_level_ag = pd.DataFrame(rfm_seg_agg)\n",
    "rfm_level_ag = rfm_level_ag.reset_index()\n",
    "rfm_level_ag"
   ]
  },
  {
   "cell_type": "code",
   "execution_count": 30,
   "metadata": {},
   "outputs": [
    {
     "data": {
      "image/png": "[encoded data removed]",
      "text/plain": [
       "<Figure size 1152x720 with 1 Axes>"
      ]
     },
     "metadata": {
      "needs_background": "light"
     },
     "output_type": "display_data"
    }
   ],
   "source": [
    "fig = plt.gcf()\n",
    "ax = fig.add_subplot()\n",
    "fig.set_size_inches(16, 10)\n",
    "squarify.plot(sizes=rfm_level_ag['MonetaryValue', 'count'], \n",
    "              label=rfm_level_ag['Customer Segment'], alpha=.6 )\n",
    "plt.title(\"RFM Segments\",fontsize=40,fontweight=\"bold\")\n",
    "plt.axis('on')\n",
    "plt.show()"
   ]
  },
  {
   "cell_type": "code",
   "execution_count": 41,
   "metadata": {},
   "outputs": [],
   "source": [
    "from scipy import stats\n",
    "def analyze_skewness(x):\n",
    "    fig, ax = plt.subplots(2, 2, figsize=(5,5))\n",
    "    sns.distplot(rfm_customers[x], ax=ax[0,0])\n",
    "    sns.distplot(np.log(rfm_customers[x]), ax=ax[0,1])\n",
    "    sns.distplot(np.sqrt(rfm_customers[x]), ax=ax[1,0])\n",
    "    sns.distplot(stats.boxcox(rfm_customers[x])[0], ax=ax[1,1])\n",
    "    plt.tight_layout()\n",
    "    plt.show()\n",
    "    \n",
    "#     print(rfm_customers[x].skew().round(2))\n",
    "#     print(np.log(rfm_customers[x]).skew().round(2))\n",
    "#     print(np.sqrt(rfm_customers[x]).skew().round(2))\n",
    "#     print(pd.Series(stats.boxcox(rfm_customers[x])[0]).skew().round(2))"
   ]
  },
  {
   "cell_type": "code",
   "execution_count": 42,
   "metadata": {},
   "outputs": [
    {
     "data": {
      "image/png": "[encoded data removed]",
      "text/plain": [
       "<Figure size 360x360 with 4 Axes>"
      ]
     },
     "metadata": {
      "needs_background": "light"
     },
     "output_type": "display_data"
    }
   ],
   "source": [
    "analyze_skewness('Recency')"
   ]
  },
  {
   "cell_type": "code",
   "execution_count": 43,
   "metadata": {},
   "outputs": [
    {
     "data": {
      "image/png": "[encoded data removed]",
      "text/plain": [
       "<Figure size 360x360 with 4 Axes>"
      ]
     },
     "metadata": {
      "needs_background": "light"
     },
     "output_type": "display_data"
    }
   ],
   "source": [
    "analyze_skewness('Frequency')"
   ]
  },
  {
   "cell_type": "code",
   "execution_count": 44,
   "metadata": {},
   "outputs": [
    {
     "data": {
      "image/png": "[encoded data removed]",
      "text/plain": [
       "<Figure size 360x360 with 4 Axes>"
      ]
     },
     "metadata": {
      "needs_background": "light"
     },
     "output_type": "display_data"
    }
   ],
   "source": [
    "analyze_skewness('MonetaryValue')"
   ]
  },
  {
   "cell_type": "markdown",
   "metadata": {},
   "source": [
    "Based on that visualization, it shows that the variables with box-cox transformation shows a more symmetrical form rather than the other transformations."
   ]
  },
  {
   "cell_type": "code",
   "execution_count": 45,
   "metadata": {},
   "outputs": [
    {
     "data": {
      "text/html": [
       "<div>\n",
       "<style scoped>\n",
       "    .dataframe tbody tr th:only-of-type {\n",
       "        vertical-align: middle;\n",
       "    }\n",
       "\n",
       "    .dataframe tbody tr th {\n",
       "        vertical-align: top;\n",
       "    }\n",
       "\n",
       "    .dataframe thead th {\n",
       "        text-align: right;\n",
       "    }\n",
       "</style>\n",
       "<table border=\"1\" class=\"dataframe\">\n",
       "  <thead>\n",
       "    <tr style=\"text-align: right;\">\n",
       "      <th></th>\n",
       "      <th>Recency</th>\n",
       "      <th>Frequency</th>\n",
       "      <th>MonetaryValue</th>\n",
       "    </tr>\n",
       "  </thead>\n",
       "  <tbody>\n",
       "    <tr>\n",
       "      <th>2495</th>\n",
       "      <td>2.655749</td>\n",
       "      <td>18.772310</td>\n",
       "      <td>20.389495</td>\n",
       "    </tr>\n",
       "    <tr>\n",
       "      <th>2496</th>\n",
       "      <td>2.081505</td>\n",
       "      <td>20.272997</td>\n",
       "      <td>22.893859</td>\n",
       "    </tr>\n",
       "    <tr>\n",
       "      <th>2497</th>\n",
       "      <td>0.658992</td>\n",
       "      <td>16.046837</td>\n",
       "      <td>18.029655</td>\n",
       "    </tr>\n",
       "    <tr>\n",
       "      <th>2498</th>\n",
       "      <td>1.014464</td>\n",
       "      <td>17.518589</td>\n",
       "      <td>19.227634</td>\n",
       "    </tr>\n",
       "    <tr>\n",
       "      <th>2499</th>\n",
       "      <td>1.254126</td>\n",
       "      <td>18.821692</td>\n",
       "      <td>21.548999</td>\n",
       "    </tr>\n",
       "  </tbody>\n",
       "</table>\n",
       "</div>"
      ],
      "text/plain": [
       "       Recency  Frequency  MonetaryValue\n",
       "2495  2.655749  18.772310      20.389495\n",
       "2496  2.081505  20.272997      22.893859\n",
       "2497  0.658992  16.046837      18.029655\n",
       "2498  1.014464  17.518589      19.227634\n",
       "2499  1.254126  18.821692      21.548999"
      ]
     },
     "execution_count": 45,
     "metadata": {},
     "output_type": "execute_result"
    }
   ],
   "source": [
    "# Set the Numbers\n",
    "customers = pd.DataFrame()\n",
    "customers[\"Recency\"] =  stats.boxcox(rfm_customers['Recency'])[0]\n",
    "customers[\"Frequency\"] = stats.boxcox(rfm_customers['Frequency'])[0]\n",
    "customers[\"MonetaryValue\"] = stats.boxcox(rfm_customers['MonetaryValue'])[0]\n",
    "customers.tail()"
   ]
  },
  {
   "cell_type": "code",
   "execution_count": 46,
   "metadata": {},
   "outputs": [
    {
     "name": "stdout",
     "output_type": "stream",
     "text": [
      "[ 23.41 217.04 698.07]\n",
      "[ 59.   211.92 729.11]\n"
     ]
    }
   ],
   "source": [
    "from sklearn.preprocessing import StandardScaler\n",
    "# Initialize the Object\n",
    "scaler = StandardScaler()\n",
    "# Fit and Transform The Data\n",
    "scaler.fit(customers)\n",
    "customers_normalized = scaler.transform(rfm_customers)\n",
    "# Assert that it has mean 0 and variance 1\n",
    "print(customers_normalized.mean(axis = 0).round(2)) # [0. -0. 0.]\n",
    "print(customers_normalized.std(axis = 0).round(2)) # [1. 1. 1.]"
   ]
  },
  {
   "cell_type": "code",
   "execution_count": 47,
   "metadata": {},
   "outputs": [
    {
     "name": "stdout",
     "output_type": "stream",
     "text": [
      "[[4.07286748e+00 3.63154033e+02 9.39156433e+02]\n",
      " [3.97888429e+01 1.48244517e+02 4.21819381e+02]\n",
      " [6.89254975e+00 1.92372039e+02 5.73998985e+02]\n",
      " ...\n",
      " [3.13291118e-01 1.79006491e+02 5.62760858e+02]\n",
      " [1.25318521e+00 2.44137016e+02 7.35321950e+02]\n",
      " [2.19307930e+00 3.15632087e+02 1.19087653e+03]]\n"
     ]
    }
   ],
   "source": [
    "print(customers_normalized)"
   ]
  },
  {
   "cell_type": "code",
   "execution_count": 48,
   "metadata": {},
   "outputs": [
    {
     "data": {
      "image/png": "[encoded data removed]",
      "text/plain": [
       "<Figure size 432x288 with 1 Axes>"
      ]
     },
     "metadata": {
      "needs_background": "light"
     },
     "output_type": "display_data"
    }
   ],
   "source": [
    "from sklearn.cluster import KMeans\n",
    "\n",
    "sse = {}\n",
    "for k in range(1, 11):\n",
    "    kmeans = KMeans(n_clusters=k, random_state=42)\n",
    "    kmeans.fit(customers_normalized)\n",
    "    sse[k] = kmeans.inertia_ # SSE to closest cluster centroid\n",
    "\n",
    "plt.title('The Elbow Method')\n",
    "plt.xlabel('k')\n",
    "plt.ylabel('SSE')\n",
    "sns.pointplot(x=list(sse.keys()), y=list(sse.values()))\n",
    "plt.show()"
   ]
  },
  {
   "cell_type": "code",
   "execution_count": 49,
   "metadata": {},
   "outputs": [
    {
     "data": {
      "text/plain": [
       "(2500,)"
      ]
     },
     "execution_count": 49,
     "metadata": {},
     "output_type": "execute_result"
    }
   ],
   "source": [
    "model = KMeans(n_clusters=3, random_state=42)\n",
    "model.fit(customers_normalized)\n",
    "model.labels_.shape"
   ]
  },
  {
   "cell_type": "code",
   "execution_count": 50,
   "metadata": {},
   "outputs": [
    {
     "data": {
      "text/html": [
       "<div>\n",
       "<style scoped>\n",
       "    .dataframe tbody tr th:only-of-type {\n",
       "        vertical-align: middle;\n",
       "    }\n",
       "\n",
       "    .dataframe tbody tr th {\n",
       "        vertical-align: top;\n",
       "    }\n",
       "\n",
       "    .dataframe thead tr th {\n",
       "        text-align: left;\n",
       "    }\n",
       "\n",
       "    .dataframe thead tr:last-of-type th {\n",
       "        text-align: right;\n",
       "    }\n",
       "</style>\n",
       "<table border=\"1\" class=\"dataframe\">\n",
       "  <thead>\n",
       "    <tr>\n",
       "      <th></th>\n",
       "      <th>Recency</th>\n",
       "      <th>Frequency</th>\n",
       "      <th colspan=\"2\" halign=\"left\">MonetaryValue</th>\n",
       "    </tr>\n",
       "    <tr>\n",
       "      <th></th>\n",
       "      <th>mean</th>\n",
       "      <th>mean</th>\n",
       "      <th>mean</th>\n",
       "      <th>count</th>\n",
       "    </tr>\n",
       "    <tr>\n",
       "      <th>Cluster</th>\n",
       "      <th></th>\n",
       "      <th></th>\n",
       "      <th></th>\n",
       "      <th></th>\n",
       "    </tr>\n",
       "  </thead>\n",
       "  <tbody>\n",
       "    <tr>\n",
       "      <th>0</th>\n",
       "      <td>0.75</td>\n",
       "      <td>24.18</td>\n",
       "      <td>26.30</td>\n",
       "      <td>132</td>\n",
       "    </tr>\n",
       "    <tr>\n",
       "      <th>1</th>\n",
       "      <td>1.93</td>\n",
       "      <td>12.85</td>\n",
       "      <td>14.80</td>\n",
       "      <td>1723</td>\n",
       "    </tr>\n",
       "    <tr>\n",
       "      <th>2</th>\n",
       "      <td>1.16</td>\n",
       "      <td>19.77</td>\n",
       "      <td>21.64</td>\n",
       "      <td>645</td>\n",
       "    </tr>\n",
       "  </tbody>\n",
       "</table>\n",
       "</div>"
      ],
      "text/plain": [
       "        Recency Frequency MonetaryValue      \n",
       "           mean      mean          mean count\n",
       "Cluster                                      \n",
       "0          0.75     24.18         26.30   132\n",
       "1          1.93     12.85         14.80  1723\n",
       "2          1.16     19.77         21.64   645"
      ]
     },
     "execution_count": 50,
     "metadata": {},
     "output_type": "execute_result"
    }
   ],
   "source": [
    "customers[\"Cluster\"] = model.labels_\n",
    "customers.groupby('Cluster').agg({\n",
    "    'Recency':'mean',\n",
    "    'Frequency':'mean',\n",
    "    'MonetaryValue':['mean', 'count']}).round(2)"
   ]
  },
  {
   "cell_type": "code",
   "execution_count": 51,
   "metadata": {},
   "outputs": [
    {
     "data": {
      "text/plain": [
       "<matplotlib.axes._subplots.AxesSubplot at 0x17e0b9a7490>"
      ]
     },
     "execution_count": 51,
     "metadata": {},
     "output_type": "execute_result"
    },
    {
     "data": {
      "image/png": "[encoded data removed]",
      "text/plain": [
       "<Figure size 432x288 with 1 Axes>"
      ]
     },
     "metadata": {
      "needs_background": "light"
     },
     "output_type": "display_data"
    }
   ],
   "source": [
    "df_normalized = pd.DataFrame(customers_normalized, columns=['Recency', 'Frequency', 'MonetaryValue'])\n",
    "df_normalized['ID'] = customers.index\n",
    "df_normalized['Cluster'] = model.labels_\n",
    "# Melt The Data\n",
    "df_nor_melt = pd.melt(df_normalized.reset_index(),\n",
    "                      id_vars=['ID', 'Cluster'],\n",
    "                      value_vars=['Recency','Frequency','MonetaryValue'],\n",
    "                      var_name='Attribute',\n",
    "                      value_name='Value')\n",
    "df_nor_melt.head()\n",
    "# Visualize it\n",
    "sns.lineplot('Attribute', 'Value', hue='Cluster', data=df_nor_melt)"
   ]
  },
  {
   "cell_type": "code",
   "execution_count": 52,
   "metadata": {},
   "outputs": [
    {
     "data": {
      "text/html": [
       "<div>\n",
       "<style scoped>\n",
       "    .dataframe tbody tr th:only-of-type {\n",
       "        vertical-align: middle;\n",
       "    }\n",
       "\n",
       "    .dataframe tbody tr th {\n",
       "        vertical-align: top;\n",
       "    }\n",
       "\n",
       "    .dataframe thead th {\n",
       "        text-align: right;\n",
       "    }\n",
       "</style>\n",
       "<table border=\"1\" class=\"dataframe\">\n",
       "  <thead>\n",
       "    <tr style=\"text-align: right;\">\n",
       "      <th></th>\n",
       "      <th>Cluster</th>\n",
       "      <th>Frequency</th>\n",
       "      <th>MonetaryValue</th>\n",
       "      <th>Recency</th>\n",
       "    </tr>\n",
       "    <tr>\n",
       "      <th>Cluster</th>\n",
       "      <th></th>\n",
       "      <th></th>\n",
       "      <th></th>\n",
       "      <th></th>\n",
       "    </tr>\n",
       "  </thead>\n",
       "  <tbody>\n",
       "    <tr>\n",
       "      <th>0</th>\n",
       "      <td>NaN</td>\n",
       "      <td>0.587310</td>\n",
       "      <td>0.531259</td>\n",
       "      <td>-0.552455</td>\n",
       "    </tr>\n",
       "    <tr>\n",
       "      <th>1</th>\n",
       "      <td>NaN</td>\n",
       "      <td>-0.156375</td>\n",
       "      <td>-0.138063</td>\n",
       "      <td>0.155490</td>\n",
       "    </tr>\n",
       "    <tr>\n",
       "      <th>2</th>\n",
       "      <td>NaN</td>\n",
       "      <td>0.297533</td>\n",
       "      <td>0.260088</td>\n",
       "      <td>-0.302302</td>\n",
       "    </tr>\n",
       "  </tbody>\n",
       "</table>\n",
       "</div>"
      ],
      "text/plain": [
       "         Cluster  Frequency  MonetaryValue   Recency\n",
       "Cluster                                             \n",
       "0            NaN   0.587310       0.531259 -0.552455\n",
       "1            NaN  -0.156375      -0.138063  0.155490\n",
       "2            NaN   0.297533       0.260088 -0.302302"
      ]
     },
     "execution_count": 52,
     "metadata": {},
     "output_type": "execute_result"
    }
   ],
   "source": [
    "cluster_avg = customers.groupby('Cluster').mean()\n",
    "population_avg = customers.mean()\n",
    "relative_imp = cluster_avg / population_avg - 1\n",
    "relative_imp"
   ]
  },
  {
   "cell_type": "code",
   "execution_count": null,
   "metadata": {},
   "outputs": [],
   "source": []
  }
 ],
 "metadata": {
  "kernelspec": {
   "display_name": "Python 3",
   "language": "python",
   "name": "python3"
  },
  "language_info": {
   "codemirror_mode": {
    "name": "ipython",
    "version": 3
   },
   "file_extension": ".py",
   "mimetype": "text/x-python",
   "name": "python",
   "nbconvert_exporter": "python",
   "pygments_lexer": "ipython3",
   "version": "3.8.3"
  }
 },
 "nbformat": 4,
 "nbformat_minor": 4
}
